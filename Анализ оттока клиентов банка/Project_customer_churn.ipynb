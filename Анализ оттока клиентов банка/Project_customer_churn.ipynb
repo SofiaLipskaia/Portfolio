{
 "cells": [
  {
   "cell_type": "markdown",
   "metadata": {},
   "source": [
    "# Анализ оттока клиентов банка"
   ]
  },
  {
   "cell_type": "markdown",
   "metadata": {},
   "source": [
    "# Оглавление\n",
    "\n",
    "**Для удобства можете воспользоваться ссылками для перемещения на основные части проекта**\n",
    "\n",
    "1. [Обзор данных](#start)\n",
    "2. [Предобработка данных](#preprocessing)\n",
    "\n",
    "    * [Работа с названиями столбцов](#name)\n",
    "    * [Обработка пропущенных значений](#null)\n",
    "    * [Обработка дубликатов](#duplicates)\n",
    "    * [Работа с типами данных](#type)\n",
    "    * [Кодирование](#cod)\n",
    "    \n",
    "    \n",
    "3. [Исследовательский анализ данных](#data_science)\n",
    "\n",
    "    * [Анализ распределений](#distributions)\n",
    "    * [Анализ портрета клиентов](#portrait)\n",
    "    * [Корреляционный анализ](#correlation_analysis)\n",
    "    * [Выводы из исследовательского анализа](#conclusions)\n",
    "    \n",
    "\n",
    "4. [Сегментация](#seg)\n",
    "5. [Статистический анализ данных](#stat)\n",
    "6. [Выводы и рекомендации](#recomendation)\n",
    "7. [Подготовка презентации и дашборда](#powerpoint)"
   ]
  },
  {
   "cell_type": "markdown",
   "metadata": {},
   "source": [
    "# Описание проекта"
   ]
  },
  {
   "cell_type": "markdown",
   "metadata": {},
   "source": [
    "**Цель исследования:**\n",
    "\n",
    "Необходимо выделить высокоотточные сегменты клиентов, чтобы они покрывали максимум проблемных зон и дать их описание и рекоммендации заказчику по мерам снижения отточности.\n",
    "\n",
    "**Задачи исследования:**\n",
    "\n",
    "Проанализировать клиентов регионального банка и выделить сегменты клиентов, которые склонны уходить из банка:\n",
    "- Провести исследовательский анализ данных, определить все значимые признаки отточности (интервалы значений характеристик, которые связаны с повышенным оттоком, сравнить портреты типичных клиентов, которые склонны и не склонны уходить из банка);\n",
    "- Сформулирувать и проверьте статистические гипотезы;\n",
    "- Объединяя признаки отточности, сформировать сегменты, выбрать из них лучшие и дать рекомендации.\n"
   ]
  },
  {
   "cell_type": "markdown",
   "metadata": {},
   "source": [
    "# Описание данных"
   ]
  },
  {
   "cell_type": "markdown",
   "metadata": {},
   "source": [
    "Датасет содержит данные о клиентах банка, банк базируется в\n",
    "Ярославле и областных городах: Ростов Великий и Рыбинск."
   ]
  },
  {
   "cell_type": "markdown",
   "metadata": {},
   "source": [
    "**Датасет:** bank_scrooge.csv\n",
    "\n",
    "- userid — идентификатор пользователя,\n",
    "- score — баллы кредитного скоринга,\n",
    "- City — город,\n",
    "- Gender — пол,\n",
    "- Age — возраст,\n",
    "- Objects — количество объектов в собственности / equity — количество баллов собственности\n",
    "- Balance — баланс на счёте,\n",
    "- Products — количество продуктов, которыми пользуется клиент,\n",
    "- CreditCard — есть ли кредитная карта,\n",
    "- Loyalty / last_activity — активный клиент,\n",
    "- estimated_salary — заработная плата клиента,\n",
    "- Churn — ушёл или нет."
   ]
  },
  {
   "cell_type": "markdown",
   "metadata": {},
   "source": [
    "# План работы"
   ]
  },
  {
   "cell_type": "markdown",
   "metadata": {},
   "source": [
    "### 1. Подготовка к исследованию\n",
    "- Загрузка данных;\n",
    "- Изучение общей информации.\n",
    "\n",
    "### 2. Предобработка данных\n",
    "- Работа с названиями столбцов (приведение названий столбцов к змеиному регистру);\n",
    "- Работа с типами данных (изменение типов данных, при необходимости);\n",
    "- Работа с пропусками (анализ природы пропусков и принятие решения о дальнейшей работе с ними (Удалить/Оставить/Заменить));\n",
    "- Работа с дубликатами (анализ природы дубликатов и принятие решения о дальнейшей работе с ними (Удалить/Оставить);\n",
    "- Кодирование (для использования в анализе корреляций).\n",
    "\n",
    "### 3. Исследовательский анализ данных\n",
    "- Анализ распределения признаков;\n",
    "- Анализ портретов клиентов и их сравнение (сравние портретов типичных клиентов, которые склонны и не склонны уходить из банка);\n",
    "- Корреляционный анализ;\n",
    "- Формулирование выводов.\n",
    "\n",
    "### 4. Сегментация\n",
    "Выделение сегментов по нескольким отточным признакам, выбор лучших.\n",
    "\n",
    "### 5. Статистический анализ данных\n",
    "Проверка статистических гипотез:\n",
    "\n",
    "- Гипотеза 1: Различие дохода между теми клиентами, которые ушли и теми, которые остались.\n",
    "- Гипотеза 2: Будет сформулирована в процессе работы над проектом.\n",
    "\n",
    "### 6. Выводы и рекомендации \n",
    "Краткая сводка о проделанной работе, конкретные рекомендации для заказчика.\n",
    "\n",
    "### 7. Подготовка презентации и дашборда"
   ]
  },
  {
   "cell_type": "markdown",
   "metadata": {},
   "source": [
    "<a id=\"start\"></a> "
   ]
  },
  {
   "cell_type": "markdown",
   "metadata": {},
   "source": [
    "# Обзор данных"
   ]
  },
  {
   "cell_type": "code",
   "execution_count": 1,
   "metadata": {},
   "outputs": [],
   "source": [
    "#импорт библиотек\n",
    "\n",
    "import pandas as pd\n",
    "import numpy as np\n",
    "import seaborn as sns\n",
    "import matplotlib.pyplot as plt\n",
    "from matplotlib.axis import Axis  \n",
    "import matplotlib.ticker as ticker\n",
    "import datetime as dt\n",
    "import math as mth\n",
    "from scipy.stats import ttest_ind\n",
    "import scipy.stats as st\n",
    "from datetime import datetime, timedelta\n",
    "\n",
    "!pip install phik\n",
    "from phik import report\n",
    "from phik.report import plot_correlation_matrix"
   ]
  },
  {
   "cell_type": "code",
   "execution_count": 2,
   "metadata": {},
   "outputs": [],
   "source": [
    "#установка цветовой палитры\n",
    "\n",
    "sns.set_palette('Set2')"
   ]
  },
  {
   "cell_type": "code",
   "execution_count": 3,
   "metadata": {},
   "outputs": [],
   "source": [
    "#чтение файла и сохранение его в переменную data\n",
    "\n",
    "try:\n",
    "    data = pd.read_csv('/datasets/bank_scrooge.csv')\n",
    "except:\n",
    "    data = pd.read_csv('https://code.s3.yandex.net/datasets/bank_scrooge.csv')"
   ]
  },
  {
   "cell_type": "markdown",
   "metadata": {},
   "source": [
    "Ознакомимся с данными"
   ]
  },
  {
   "cell_type": "code",
   "execution_count": 4,
   "metadata": {},
   "outputs": [
    {
     "data": {
      "text/html": [
       "<div>\n",
       "<style scoped>\n",
       "    .dataframe tbody tr th:only-of-type {\n",
       "        vertical-align: middle;\n",
       "    }\n",
       "\n",
       "    .dataframe tbody tr th {\n",
       "        vertical-align: top;\n",
       "    }\n",
       "\n",
       "    .dataframe thead th {\n",
       "        text-align: right;\n",
       "    }\n",
       "</style>\n",
       "<table border=\"1\" class=\"dataframe\">\n",
       "  <thead>\n",
       "    <tr style=\"text-align: right;\">\n",
       "      <th></th>\n",
       "      <th>USERID</th>\n",
       "      <th>score</th>\n",
       "      <th>city</th>\n",
       "      <th>gender</th>\n",
       "      <th>age</th>\n",
       "      <th>equity</th>\n",
       "      <th>balance</th>\n",
       "      <th>products</th>\n",
       "      <th>credit_card</th>\n",
       "      <th>last_activity</th>\n",
       "      <th>EST_SALARY</th>\n",
       "      <th>churn</th>\n",
       "    </tr>\n",
       "  </thead>\n",
       "  <tbody>\n",
       "    <tr>\n",
       "      <th>0</th>\n",
       "      <td>183012</td>\n",
       "      <td>850.0</td>\n",
       "      <td>Рыбинск</td>\n",
       "      <td>Ж</td>\n",
       "      <td>25.0</td>\n",
       "      <td>1</td>\n",
       "      <td>59214.82</td>\n",
       "      <td>2</td>\n",
       "      <td>0</td>\n",
       "      <td>1</td>\n",
       "      <td>75719.14</td>\n",
       "      <td>1</td>\n",
       "    </tr>\n",
       "    <tr>\n",
       "      <th>1</th>\n",
       "      <td>146556</td>\n",
       "      <td>861.0</td>\n",
       "      <td>Рыбинск</td>\n",
       "      <td>Ж</td>\n",
       "      <td>37.0</td>\n",
       "      <td>5</td>\n",
       "      <td>850594.33</td>\n",
       "      <td>3</td>\n",
       "      <td>1</td>\n",
       "      <td>0</td>\n",
       "      <td>86621.77</td>\n",
       "      <td>0</td>\n",
       "    </tr>\n",
       "    <tr>\n",
       "      <th>2</th>\n",
       "      <td>120722</td>\n",
       "      <td>892.0</td>\n",
       "      <td>Рыбинск</td>\n",
       "      <td>Ж</td>\n",
       "      <td>30.0</td>\n",
       "      <td>0</td>\n",
       "      <td>NaN</td>\n",
       "      <td>1</td>\n",
       "      <td>1</td>\n",
       "      <td>1</td>\n",
       "      <td>107683.34</td>\n",
       "      <td>0</td>\n",
       "    </tr>\n",
       "    <tr>\n",
       "      <th>3</th>\n",
       "      <td>225363</td>\n",
       "      <td>866.0</td>\n",
       "      <td>Ярославль</td>\n",
       "      <td>Ж</td>\n",
       "      <td>51.0</td>\n",
       "      <td>5</td>\n",
       "      <td>1524746.26</td>\n",
       "      <td>2</td>\n",
       "      <td>0</td>\n",
       "      <td>1</td>\n",
       "      <td>174423.53</td>\n",
       "      <td>1</td>\n",
       "    </tr>\n",
       "    <tr>\n",
       "      <th>4</th>\n",
       "      <td>157978</td>\n",
       "      <td>730.0</td>\n",
       "      <td>Ярославль</td>\n",
       "      <td>М</td>\n",
       "      <td>34.0</td>\n",
       "      <td>5</td>\n",
       "      <td>174.00</td>\n",
       "      <td>1</td>\n",
       "      <td>1</td>\n",
       "      <td>0</td>\n",
       "      <td>67353.16</td>\n",
       "      <td>1</td>\n",
       "    </tr>\n",
       "  </tbody>\n",
       "</table>\n",
       "</div>"
      ],
      "text/plain": [
       "   USERID  score       city gender   age  equity     balance  products  \\\n",
       "0  183012  850.0    Рыбинск      Ж  25.0       1    59214.82         2   \n",
       "1  146556  861.0    Рыбинск      Ж  37.0       5   850594.33         3   \n",
       "2  120722  892.0    Рыбинск      Ж  30.0       0         NaN         1   \n",
       "3  225363  866.0  Ярославль      Ж  51.0       5  1524746.26         2   \n",
       "4  157978  730.0  Ярославль      М  34.0       5      174.00         1   \n",
       "\n",
       "   credit_card  last_activity  EST_SALARY  churn  \n",
       "0            0              1    75719.14      1  \n",
       "1            1              0    86621.77      0  \n",
       "2            1              1   107683.34      0  \n",
       "3            0              1   174423.53      1  \n",
       "4            1              0    67353.16      1  "
      ]
     },
     "execution_count": 4,
     "metadata": {},
     "output_type": "execute_result"
    }
   ],
   "source": [
    "#просмотр первых 5ти строк \n",
    "\n",
    "data.head(5)"
   ]
  },
  {
   "cell_type": "markdown",
   "metadata": {},
   "source": [
    "Исследуем общую информацию"
   ]
  },
  {
   "cell_type": "code",
   "execution_count": 5,
   "metadata": {},
   "outputs": [
    {
     "name": "stdout",
     "output_type": "stream",
     "text": [
      "<class 'pandas.core.frame.DataFrame'>\n",
      "RangeIndex: 10000 entries, 0 to 9999\n",
      "Data columns (total 12 columns):\n",
      " #   Column         Non-Null Count  Dtype  \n",
      "---  ------         --------------  -----  \n",
      " 0   USERID         10000 non-null  int64  \n",
      " 1   score          10000 non-null  float64\n",
      " 2   city           10000 non-null  object \n",
      " 3   gender         10000 non-null  object \n",
      " 4   age            9974 non-null   float64\n",
      " 5   equity         10000 non-null  int64  \n",
      " 6   balance        7705 non-null   float64\n",
      " 7   products       10000 non-null  int64  \n",
      " 8   credit_card    10000 non-null  int64  \n",
      " 9   last_activity  10000 non-null  int64  \n",
      " 10  EST_SALARY     10000 non-null  float64\n",
      " 11  churn          10000 non-null  int64  \n",
      "dtypes: float64(4), int64(6), object(2)\n",
      "memory usage: 937.6+ KB\n"
     ]
    }
   ],
   "source": [
    "#просмотр основной информации о датасете \n",
    "\n",
    "data.info()"
   ]
  },
  {
   "cell_type": "markdown",
   "metadata": {},
   "source": [
    "Посмотрим распределение"
   ]
  },
  {
   "cell_type": "code",
   "execution_count": 6,
   "metadata": {},
   "outputs": [
    {
     "data": {
      "text/html": [
       "<div>\n",
       "<style scoped>\n",
       "    .dataframe tbody tr th:only-of-type {\n",
       "        vertical-align: middle;\n",
       "    }\n",
       "\n",
       "    .dataframe tbody tr th {\n",
       "        vertical-align: top;\n",
       "    }\n",
       "\n",
       "    .dataframe thead th {\n",
       "        text-align: right;\n",
       "    }\n",
       "</style>\n",
       "<table border=\"1\" class=\"dataframe\">\n",
       "  <thead>\n",
       "    <tr style=\"text-align: right;\">\n",
       "      <th></th>\n",
       "      <th>USERID</th>\n",
       "      <th>score</th>\n",
       "      <th>age</th>\n",
       "      <th>equity</th>\n",
       "      <th>balance</th>\n",
       "      <th>products</th>\n",
       "      <th>credit_card</th>\n",
       "      <th>last_activity</th>\n",
       "      <th>EST_SALARY</th>\n",
       "      <th>churn</th>\n",
       "    </tr>\n",
       "  </thead>\n",
       "  <tbody>\n",
       "    <tr>\n",
       "      <th>count</th>\n",
       "      <td>10000.00000</td>\n",
       "      <td>10000.000000</td>\n",
       "      <td>9974.000000</td>\n",
       "      <td>10000.000000</td>\n",
       "      <td>7.705000e+03</td>\n",
       "      <td>10000.000000</td>\n",
       "      <td>10000.000000</td>\n",
       "      <td>10000.000000</td>\n",
       "      <td>1.000000e+04</td>\n",
       "      <td>10000.000000</td>\n",
       "    </tr>\n",
       "    <tr>\n",
       "      <th>mean</th>\n",
       "      <td>171814.71260</td>\n",
       "      <td>848.699400</td>\n",
       "      <td>42.734409</td>\n",
       "      <td>2.627600</td>\n",
       "      <td>8.277943e+05</td>\n",
       "      <td>1.870100</td>\n",
       "      <td>0.680400</td>\n",
       "      <td>0.523500</td>\n",
       "      <td>1.478669e+05</td>\n",
       "      <td>0.182000</td>\n",
       "    </tr>\n",
       "    <tr>\n",
       "      <th>std</th>\n",
       "      <td>33708.23812</td>\n",
       "      <td>65.448519</td>\n",
       "      <td>12.179971</td>\n",
       "      <td>1.980836</td>\n",
       "      <td>1.980614e+06</td>\n",
       "      <td>0.792647</td>\n",
       "      <td>0.466345</td>\n",
       "      <td>0.499472</td>\n",
       "      <td>1.393885e+05</td>\n",
       "      <td>0.385864</td>\n",
       "    </tr>\n",
       "    <tr>\n",
       "      <th>min</th>\n",
       "      <td>94561.00000</td>\n",
       "      <td>642.000000</td>\n",
       "      <td>18.000000</td>\n",
       "      <td>0.000000</td>\n",
       "      <td>0.000000e+00</td>\n",
       "      <td>0.000000</td>\n",
       "      <td>0.000000</td>\n",
       "      <td>0.000000</td>\n",
       "      <td>2.546300e+03</td>\n",
       "      <td>0.000000</td>\n",
       "    </tr>\n",
       "    <tr>\n",
       "      <th>25%</th>\n",
       "      <td>142810.25000</td>\n",
       "      <td>802.000000</td>\n",
       "      <td>33.000000</td>\n",
       "      <td>0.000000</td>\n",
       "      <td>2.955542e+05</td>\n",
       "      <td>1.000000</td>\n",
       "      <td>0.000000</td>\n",
       "      <td>0.000000</td>\n",
       "      <td>7.525190e+04</td>\n",
       "      <td>0.000000</td>\n",
       "    </tr>\n",
       "    <tr>\n",
       "      <th>50%</th>\n",
       "      <td>172728.00000</td>\n",
       "      <td>853.000000</td>\n",
       "      <td>40.000000</td>\n",
       "      <td>3.000000</td>\n",
       "      <td>5.242722e+05</td>\n",
       "      <td>2.000000</td>\n",
       "      <td>1.000000</td>\n",
       "      <td>1.000000</td>\n",
       "      <td>1.196581e+05</td>\n",
       "      <td>0.000000</td>\n",
       "    </tr>\n",
       "    <tr>\n",
       "      <th>75%</th>\n",
       "      <td>201261.75000</td>\n",
       "      <td>900.000000</td>\n",
       "      <td>51.000000</td>\n",
       "      <td>4.000000</td>\n",
       "      <td>9.807058e+05</td>\n",
       "      <td>2.000000</td>\n",
       "      <td>1.000000</td>\n",
       "      <td>1.000000</td>\n",
       "      <td>1.745005e+05</td>\n",
       "      <td>0.000000</td>\n",
       "    </tr>\n",
       "    <tr>\n",
       "      <th>max</th>\n",
       "      <td>229145.00000</td>\n",
       "      <td>1000.000000</td>\n",
       "      <td>86.000000</td>\n",
       "      <td>9.000000</td>\n",
       "      <td>1.191136e+08</td>\n",
       "      <td>5.000000</td>\n",
       "      <td>1.000000</td>\n",
       "      <td>1.000000</td>\n",
       "      <td>1.395064e+06</td>\n",
       "      <td>1.000000</td>\n",
       "    </tr>\n",
       "  </tbody>\n",
       "</table>\n",
       "</div>"
      ],
      "text/plain": [
       "             USERID         score          age        equity       balance  \\\n",
       "count   10000.00000  10000.000000  9974.000000  10000.000000  7.705000e+03   \n",
       "mean   171814.71260    848.699400    42.734409      2.627600  8.277943e+05   \n",
       "std     33708.23812     65.448519    12.179971      1.980836  1.980614e+06   \n",
       "min     94561.00000    642.000000    18.000000      0.000000  0.000000e+00   \n",
       "25%    142810.25000    802.000000    33.000000      0.000000  2.955542e+05   \n",
       "50%    172728.00000    853.000000    40.000000      3.000000  5.242722e+05   \n",
       "75%    201261.75000    900.000000    51.000000      4.000000  9.807058e+05   \n",
       "max    229145.00000   1000.000000    86.000000      9.000000  1.191136e+08   \n",
       "\n",
       "           products   credit_card  last_activity    EST_SALARY         churn  \n",
       "count  10000.000000  10000.000000   10000.000000  1.000000e+04  10000.000000  \n",
       "mean       1.870100      0.680400       0.523500  1.478669e+05      0.182000  \n",
       "std        0.792647      0.466345       0.499472  1.393885e+05      0.385864  \n",
       "min        0.000000      0.000000       0.000000  2.546300e+03      0.000000  \n",
       "25%        1.000000      0.000000       0.000000  7.525190e+04      0.000000  \n",
       "50%        2.000000      1.000000       1.000000  1.196581e+05      0.000000  \n",
       "75%        2.000000      1.000000       1.000000  1.745005e+05      0.000000  \n",
       "max        5.000000      1.000000       1.000000  1.395064e+06      1.000000  "
      ]
     },
     "execution_count": 6,
     "metadata": {},
     "output_type": "execute_result"
    }
   ],
   "source": [
    "#просмотр основной информации о датасете \n",
    "\n",
    "data.describe()"
   ]
  },
  {
   "cell_type": "markdown",
   "metadata": {},
   "source": [
    "Теперь перед глазами краткая сводка о наших данных. Можно посмотреть, какие есть колонки, какой тип данных в них содержится и где есть пропуски."
   ]
  },
  {
   "cell_type": "markdown",
   "metadata": {},
   "source": [
    "Oбщая гистограмма для всех числовых столбцов таблицы:"
   ]
  },
  {
   "cell_type": "code",
   "execution_count": 7,
   "metadata": {},
   "outputs": [
    {
     "data": {
      "image/png": "[encoded data removed]",
      "text/plain": [
       "<Figure size 720x720 with 12 Axes>"
      ]
     },
     "metadata": {
      "needs_background": "light"
     },
     "output_type": "display_data"
    }
   ],
   "source": [
    "#построение гистограмм для числовых столбцов\n",
    "\n",
    "data.hist(figsize=(10, 10));"
   ]
  },
  {
   "cell_type": "code",
   "execution_count": 8,
   "metadata": {},
   "outputs": [
    {
     "data": {
      "text/plain": [
       "USERID              0\n",
       "score               0\n",
       "city                0\n",
       "gender              0\n",
       "age                26\n",
       "equity              0\n",
       "balance          2295\n",
       "products            0\n",
       "credit_card         0\n",
       "last_activity       0\n",
       "EST_SALARY          0\n",
       "churn               0\n",
       "dtype: int64"
      ]
     },
     "execution_count": 8,
     "metadata": {},
     "output_type": "execute_result"
    }
   ],
   "source": [
    "#проверка наличия пропусков\n",
    "\n",
    "data.isna().sum()"
   ]
  },
  {
   "cell_type": "markdown",
   "metadata": {},
   "source": [
    "Выводы из первичного анализа данных:\n",
    "\n",
    "* Всего в файле с данными 10000 строк;\n",
    "* Следует заменить названия столбцов;\n",
    "* Есть несоответствия в типах данных;\n",
    "* Обнаружены пропуски в столбцах \"age\" и \"balance\"."
   ]
  },
  {
   "cell_type": "markdown",
   "metadata": {},
   "source": [
    "<a id=\"preprocessing\"></a> "
   ]
  },
  {
   "cell_type": "markdown",
   "metadata": {},
   "source": [
    "# Предобработка данных"
   ]
  },
  {
   "cell_type": "markdown",
   "metadata": {},
   "source": [
    "Исследуем данные в различных аспектах:\n",
    "\n",
    "- Названия столбцов\n",
    "- Пропущенные значения\n",
    "- Дубликаты и аномалии\n",
    "- Типы данных"
   ]
  },
  {
   "cell_type": "markdown",
   "metadata": {},
   "source": [
    "<a id=\"name\"></a> "
   ]
  },
  {
   "cell_type": "markdown",
   "metadata": {},
   "source": [
    "### Работа с названиями столбцов"
   ]
  },
  {
   "cell_type": "markdown",
   "metadata": {},
   "source": [
    "Для начала приведем название столбцов к правильному формату"
   ]
  },
  {
   "cell_type": "code",
   "execution_count": 9,
   "metadata": {},
   "outputs": [],
   "source": [
    "#приведение названий столбцов к нижнему регистру\n",
    "\n",
    "data.columns = data.columns.str.lower()"
   ]
  },
  {
   "cell_type": "code",
   "execution_count": 10,
   "metadata": {},
   "outputs": [],
   "source": [
    "#переименование некоторых столбцов\n",
    "\n",
    "data.rename(columns={'userid':'user_id'}, inplace=True)"
   ]
  },
  {
   "cell_type": "code",
   "execution_count": 11,
   "metadata": {},
   "outputs": [
    {
     "data": {
      "text/html": [
       "<div>\n",
       "<style scoped>\n",
       "    .dataframe tbody tr th:only-of-type {\n",
       "        vertical-align: middle;\n",
       "    }\n",
       "\n",
       "    .dataframe tbody tr th {\n",
       "        vertical-align: top;\n",
       "    }\n",
       "\n",
       "    .dataframe thead th {\n",
       "        text-align: right;\n",
       "    }\n",
       "</style>\n",
       "<table border=\"1\" class=\"dataframe\">\n",
       "  <thead>\n",
       "    <tr style=\"text-align: right;\">\n",
       "      <th></th>\n",
       "      <th>user_id</th>\n",
       "      <th>score</th>\n",
       "      <th>city</th>\n",
       "      <th>gender</th>\n",
       "      <th>age</th>\n",
       "      <th>equity</th>\n",
       "      <th>balance</th>\n",
       "      <th>products</th>\n",
       "      <th>credit_card</th>\n",
       "      <th>last_activity</th>\n",
       "      <th>est_salary</th>\n",
       "      <th>churn</th>\n",
       "    </tr>\n",
       "  </thead>\n",
       "  <tbody>\n",
       "    <tr>\n",
       "      <th>0</th>\n",
       "      <td>183012</td>\n",
       "      <td>850.0</td>\n",
       "      <td>Рыбинск</td>\n",
       "      <td>Ж</td>\n",
       "      <td>25.0</td>\n",
       "      <td>1</td>\n",
       "      <td>59214.82</td>\n",
       "      <td>2</td>\n",
       "      <td>0</td>\n",
       "      <td>1</td>\n",
       "      <td>75719.14</td>\n",
       "      <td>1</td>\n",
       "    </tr>\n",
       "    <tr>\n",
       "      <th>1</th>\n",
       "      <td>146556</td>\n",
       "      <td>861.0</td>\n",
       "      <td>Рыбинск</td>\n",
       "      <td>Ж</td>\n",
       "      <td>37.0</td>\n",
       "      <td>5</td>\n",
       "      <td>850594.33</td>\n",
       "      <td>3</td>\n",
       "      <td>1</td>\n",
       "      <td>0</td>\n",
       "      <td>86621.77</td>\n",
       "      <td>0</td>\n",
       "    </tr>\n",
       "  </tbody>\n",
       "</table>\n",
       "</div>"
      ],
      "text/plain": [
       "   user_id  score     city gender   age  equity    balance  products  \\\n",
       "0   183012  850.0  Рыбинск      Ж  25.0       1   59214.82         2   \n",
       "1   146556  861.0  Рыбинск      Ж  37.0       5  850594.33         3   \n",
       "\n",
       "   credit_card  last_activity  est_salary  churn  \n",
       "0            0              1    75719.14      1  \n",
       "1            1              0    86621.77      0  "
      ]
     },
     "execution_count": 11,
     "metadata": {},
     "output_type": "execute_result"
    }
   ],
   "source": [
    "#проверка после переименования\n",
    "\n",
    "data.head(2)"
   ]
  },
  {
   "cell_type": "markdown",
   "metadata": {},
   "source": [
    "Теперь названия столбцов в правильном формате"
   ]
  },
  {
   "cell_type": "markdown",
   "metadata": {},
   "source": [
    "<a id=\"null\"></a> "
   ]
  },
  {
   "cell_type": "markdown",
   "metadata": {},
   "source": [
    "### Обработка пропущенных значений"
   ]
  },
  {
   "cell_type": "code",
   "execution_count": 12,
   "metadata": {},
   "outputs": [
    {
     "data": {
      "text/plain": [
       "user_id             0\n",
       "score               0\n",
       "city                0\n",
       "gender              0\n",
       "age                26\n",
       "equity              0\n",
       "balance          2295\n",
       "products            0\n",
       "credit_card         0\n",
       "last_activity       0\n",
       "est_salary          0\n",
       "churn               0\n",
       "dtype: int64"
      ]
     },
     "execution_count": 12,
     "metadata": {},
     "output_type": "execute_result"
    }
   ],
   "source": [
    "#проверка наличия пропусков\n",
    "\n",
    "data.isna().sum()"
   ]
  },
  {
   "cell_type": "markdown",
   "metadata": {},
   "source": [
    "Визуализируем наши пропуски в виде диаграммы"
   ]
  },
  {
   "cell_type": "code",
   "execution_count": 13,
   "metadata": {},
   "outputs": [],
   "source": [
    "def pass_value_barh(data):\n",
    "    try:\n",
    "        (\n",
    "            (data.isna().mean()*100)\n",
    "            .to_frame()\n",
    "            .rename(columns = {0:'space'})\n",
    "            .query('space > 0')\n",
    "            .sort_values(by = 'space', ascending = True)\n",
    "            .plot(kind = 'barh', legend = False, figsize = (8,3))\n",
    "            .set_title('Пропущенные значения')\n",
    "        );    \n",
    "    except:\n",
    "        print('Пропусков нет')"
   ]
  },
  {
   "cell_type": "code",
   "execution_count": 14,
   "metadata": {},
   "outputs": [
    {
     "data": {
      "image/png": "[encoded data removed]",
      "text/plain": [
       "<Figure size 576x216 with 1 Axes>"
      ]
     },
     "metadata": {
      "needs_background": "light"
     },
     "output_type": "display_data"
    }
   ],
   "source": [
    "pass_value_barh(data)"
   ]
  },
  {
   "cell_type": "markdown",
   "metadata": {},
   "source": [
    "В данных имеются пропуски в следующих столбцах:\n",
    "\n",
    "* age — возраст;\n",
    "* balance — баланс на счёте.\n",
    "\n",
    "Пропуски в столбце \"age\" можно просто удалить, их незначительное количество и на последующем анализе это не скажется.\n",
    "\n",
    "Пропуски в столбце \"balance\" будем исследовать."
   ]
  },
  {
   "cell_type": "code",
   "execution_count": 15,
   "metadata": {},
   "outputs": [
    {
     "data": {
      "text/plain": [
       "0"
      ]
     },
     "execution_count": 15,
     "metadata": {},
     "output_type": "execute_result"
    }
   ],
   "source": [
    "#удаление пропусков в столбце age\n",
    "\n",
    "data.dropna(subset=['age'], inplace=True)\n",
    "data['age'].isna().sum() "
   ]
  },
  {
   "cell_type": "markdown",
   "metadata": {},
   "source": [
    "Исследуем пропуски в столбце balance"
   ]
  },
  {
   "cell_type": "code",
   "execution_count": 16,
   "metadata": {},
   "outputs": [
    {
     "data": {
      "text/html": [
       "<div>\n",
       "<style scoped>\n",
       "    .dataframe tbody tr th:only-of-type {\n",
       "        vertical-align: middle;\n",
       "    }\n",
       "\n",
       "    .dataframe tbody tr th {\n",
       "        vertical-align: top;\n",
       "    }\n",
       "\n",
       "    .dataframe thead th {\n",
       "        text-align: right;\n",
       "    }\n",
       "</style>\n",
       "<table border=\"1\" class=\"dataframe\">\n",
       "  <thead>\n",
       "    <tr style=\"text-align: right;\">\n",
       "      <th></th>\n",
       "      <th>user_id</th>\n",
       "      <th>score</th>\n",
       "      <th>city</th>\n",
       "      <th>gender</th>\n",
       "      <th>age</th>\n",
       "      <th>equity</th>\n",
       "      <th>balance</th>\n",
       "      <th>products</th>\n",
       "      <th>credit_card</th>\n",
       "      <th>last_activity</th>\n",
       "      <th>est_salary</th>\n",
       "      <th>churn</th>\n",
       "    </tr>\n",
       "  </thead>\n",
       "  <tbody>\n",
       "    <tr>\n",
       "      <th>2</th>\n",
       "      <td>120722</td>\n",
       "      <td>892.0</td>\n",
       "      <td>Рыбинск</td>\n",
       "      <td>Ж</td>\n",
       "      <td>30.0</td>\n",
       "      <td>0</td>\n",
       "      <td>NaN</td>\n",
       "      <td>1</td>\n",
       "      <td>1</td>\n",
       "      <td>1</td>\n",
       "      <td>107683.34</td>\n",
       "      <td>0</td>\n",
       "    </tr>\n",
       "    <tr>\n",
       "      <th>9</th>\n",
       "      <td>133130</td>\n",
       "      <td>906.0</td>\n",
       "      <td>Ярославль</td>\n",
       "      <td>Ж</td>\n",
       "      <td>67.0</td>\n",
       "      <td>0</td>\n",
       "      <td>NaN</td>\n",
       "      <td>1</td>\n",
       "      <td>0</td>\n",
       "      <td>1</td>\n",
       "      <td>238055.53</td>\n",
       "      <td>0</td>\n",
       "    </tr>\n",
       "    <tr>\n",
       "      <th>10</th>\n",
       "      <td>148929</td>\n",
       "      <td>927.0</td>\n",
       "      <td>Ростов</td>\n",
       "      <td>М</td>\n",
       "      <td>52.0</td>\n",
       "      <td>0</td>\n",
       "      <td>NaN</td>\n",
       "      <td>1</td>\n",
       "      <td>1</td>\n",
       "      <td>1</td>\n",
       "      <td>196820.07</td>\n",
       "      <td>0</td>\n",
       "    </tr>\n",
       "    <tr>\n",
       "      <th>11</th>\n",
       "      <td>172184</td>\n",
       "      <td>921.0</td>\n",
       "      <td>Ростов</td>\n",
       "      <td>М</td>\n",
       "      <td>41.0</td>\n",
       "      <td>0</td>\n",
       "      <td>NaN</td>\n",
       "      <td>1</td>\n",
       "      <td>1</td>\n",
       "      <td>1</td>\n",
       "      <td>217469.48</td>\n",
       "      <td>0</td>\n",
       "    </tr>\n",
       "    <tr>\n",
       "      <th>19</th>\n",
       "      <td>127034</td>\n",
       "      <td>922.0</td>\n",
       "      <td>Рыбинск</td>\n",
       "      <td>Ж</td>\n",
       "      <td>53.0</td>\n",
       "      <td>0</td>\n",
       "      <td>NaN</td>\n",
       "      <td>1</td>\n",
       "      <td>0</td>\n",
       "      <td>0</td>\n",
       "      <td>147094.82</td>\n",
       "      <td>0</td>\n",
       "    </tr>\n",
       "    <tr>\n",
       "      <th>21</th>\n",
       "      <td>177415</td>\n",
       "      <td>896.0</td>\n",
       "      <td>Рыбинск</td>\n",
       "      <td>Ж</td>\n",
       "      <td>47.0</td>\n",
       "      <td>0</td>\n",
       "      <td>NaN</td>\n",
       "      <td>1</td>\n",
       "      <td>0</td>\n",
       "      <td>0</td>\n",
       "      <td>225060.35</td>\n",
       "      <td>0</td>\n",
       "    </tr>\n",
       "    <tr>\n",
       "      <th>30</th>\n",
       "      <td>155730</td>\n",
       "      <td>946.0</td>\n",
       "      <td>Ярославль</td>\n",
       "      <td>Ж</td>\n",
       "      <td>47.0</td>\n",
       "      <td>0</td>\n",
       "      <td>NaN</td>\n",
       "      <td>2</td>\n",
       "      <td>1</td>\n",
       "      <td>1</td>\n",
       "      <td>660015.85</td>\n",
       "      <td>0</td>\n",
       "    </tr>\n",
       "    <tr>\n",
       "      <th>34</th>\n",
       "      <td>205226</td>\n",
       "      <td>944.0</td>\n",
       "      <td>Ярославль</td>\n",
       "      <td>М</td>\n",
       "      <td>35.0</td>\n",
       "      <td>0</td>\n",
       "      <td>NaN</td>\n",
       "      <td>2</td>\n",
       "      <td>1</td>\n",
       "      <td>1</td>\n",
       "      <td>239843.39</td>\n",
       "      <td>0</td>\n",
       "    </tr>\n",
       "    <tr>\n",
       "      <th>39</th>\n",
       "      <td>173175</td>\n",
       "      <td>924.0</td>\n",
       "      <td>Рыбинск</td>\n",
       "      <td>Ж</td>\n",
       "      <td>51.0</td>\n",
       "      <td>0</td>\n",
       "      <td>NaN</td>\n",
       "      <td>1</td>\n",
       "      <td>1</td>\n",
       "      <td>1</td>\n",
       "      <td>248844.47</td>\n",
       "      <td>0</td>\n",
       "    </tr>\n",
       "    <tr>\n",
       "      <th>43</th>\n",
       "      <td>228585</td>\n",
       "      <td>956.0</td>\n",
       "      <td>Ростов</td>\n",
       "      <td>М</td>\n",
       "      <td>41.0</td>\n",
       "      <td>0</td>\n",
       "      <td>NaN</td>\n",
       "      <td>1</td>\n",
       "      <td>1</td>\n",
       "      <td>0</td>\n",
       "      <td>115117.10</td>\n",
       "      <td>0</td>\n",
       "    </tr>\n",
       "    <tr>\n",
       "      <th>46</th>\n",
       "      <td>118927</td>\n",
       "      <td>921.0</td>\n",
       "      <td>Ярославль</td>\n",
       "      <td>Ж</td>\n",
       "      <td>72.0</td>\n",
       "      <td>1</td>\n",
       "      <td>NaN</td>\n",
       "      <td>1</td>\n",
       "      <td>1</td>\n",
       "      <td>0</td>\n",
       "      <td>253494.70</td>\n",
       "      <td>0</td>\n",
       "    </tr>\n",
       "    <tr>\n",
       "      <th>52</th>\n",
       "      <td>214266</td>\n",
       "      <td>888.0</td>\n",
       "      <td>Ярославль</td>\n",
       "      <td>Ж</td>\n",
       "      <td>37.0</td>\n",
       "      <td>0</td>\n",
       "      <td>NaN</td>\n",
       "      <td>2</td>\n",
       "      <td>0</td>\n",
       "      <td>0</td>\n",
       "      <td>149164.44</td>\n",
       "      <td>0</td>\n",
       "    </tr>\n",
       "    <tr>\n",
       "      <th>57</th>\n",
       "      <td>167752</td>\n",
       "      <td>914.0</td>\n",
       "      <td>Ростов</td>\n",
       "      <td>Ж</td>\n",
       "      <td>58.0</td>\n",
       "      <td>0</td>\n",
       "      <td>NaN</td>\n",
       "      <td>2</td>\n",
       "      <td>1</td>\n",
       "      <td>0</td>\n",
       "      <td>116651.71</td>\n",
       "      <td>0</td>\n",
       "    </tr>\n",
       "    <tr>\n",
       "      <th>59</th>\n",
       "      <td>227642</td>\n",
       "      <td>930.0</td>\n",
       "      <td>Ярославль</td>\n",
       "      <td>Ж</td>\n",
       "      <td>36.0</td>\n",
       "      <td>0</td>\n",
       "      <td>NaN</td>\n",
       "      <td>2</td>\n",
       "      <td>1</td>\n",
       "      <td>0</td>\n",
       "      <td>359081.73</td>\n",
       "      <td>0</td>\n",
       "    </tr>\n",
       "    <tr>\n",
       "      <th>60</th>\n",
       "      <td>191602</td>\n",
       "      <td>944.0</td>\n",
       "      <td>Ярославль</td>\n",
       "      <td>Ж</td>\n",
       "      <td>71.0</td>\n",
       "      <td>0</td>\n",
       "      <td>NaN</td>\n",
       "      <td>2</td>\n",
       "      <td>0</td>\n",
       "      <td>1</td>\n",
       "      <td>107801.19</td>\n",
       "      <td>0</td>\n",
       "    </tr>\n",
       "    <tr>\n",
       "      <th>62</th>\n",
       "      <td>128486</td>\n",
       "      <td>922.0</td>\n",
       "      <td>Рыбинск</td>\n",
       "      <td>Ж</td>\n",
       "      <td>55.0</td>\n",
       "      <td>0</td>\n",
       "      <td>NaN</td>\n",
       "      <td>2</td>\n",
       "      <td>1</td>\n",
       "      <td>0</td>\n",
       "      <td>146005.18</td>\n",
       "      <td>0</td>\n",
       "    </tr>\n",
       "    <tr>\n",
       "      <th>66</th>\n",
       "      <td>224917</td>\n",
       "      <td>737.0</td>\n",
       "      <td>Ярославль</td>\n",
       "      <td>Ж</td>\n",
       "      <td>54.0</td>\n",
       "      <td>1</td>\n",
       "      <td>NaN</td>\n",
       "      <td>1</td>\n",
       "      <td>1</td>\n",
       "      <td>0</td>\n",
       "      <td>113173.05</td>\n",
       "      <td>0</td>\n",
       "    </tr>\n",
       "    <tr>\n",
       "      <th>68</th>\n",
       "      <td>216960</td>\n",
       "      <td>933.0</td>\n",
       "      <td>Ярославль</td>\n",
       "      <td>М</td>\n",
       "      <td>49.0</td>\n",
       "      <td>1</td>\n",
       "      <td>NaN</td>\n",
       "      <td>1</td>\n",
       "      <td>1</td>\n",
       "      <td>1</td>\n",
       "      <td>130281.88</td>\n",
       "      <td>0</td>\n",
       "    </tr>\n",
       "    <tr>\n",
       "      <th>86</th>\n",
       "      <td>153632</td>\n",
       "      <td>750.0</td>\n",
       "      <td>Ростов</td>\n",
       "      <td>М</td>\n",
       "      <td>45.0</td>\n",
       "      <td>0</td>\n",
       "      <td>NaN</td>\n",
       "      <td>1</td>\n",
       "      <td>1</td>\n",
       "      <td>0</td>\n",
       "      <td>296397.19</td>\n",
       "      <td>0</td>\n",
       "    </tr>\n",
       "    <tr>\n",
       "      <th>101</th>\n",
       "      <td>184435</td>\n",
       "      <td>921.0</td>\n",
       "      <td>Ростов</td>\n",
       "      <td>Ж</td>\n",
       "      <td>42.0</td>\n",
       "      <td>0</td>\n",
       "      <td>NaN</td>\n",
       "      <td>1</td>\n",
       "      <td>1</td>\n",
       "      <td>0</td>\n",
       "      <td>232353.50</td>\n",
       "      <td>0</td>\n",
       "    </tr>\n",
       "    <tr>\n",
       "      <th>104</th>\n",
       "      <td>146867</td>\n",
       "      <td>915.0</td>\n",
       "      <td>Рыбинск</td>\n",
       "      <td>Ж</td>\n",
       "      <td>35.0</td>\n",
       "      <td>0</td>\n",
       "      <td>NaN</td>\n",
       "      <td>1</td>\n",
       "      <td>1</td>\n",
       "      <td>0</td>\n",
       "      <td>156565.52</td>\n",
       "      <td>0</td>\n",
       "    </tr>\n",
       "    <tr>\n",
       "      <th>109</th>\n",
       "      <td>190714</td>\n",
       "      <td>894.0</td>\n",
       "      <td>Ярославль</td>\n",
       "      <td>Ж</td>\n",
       "      <td>48.0</td>\n",
       "      <td>1</td>\n",
       "      <td>NaN</td>\n",
       "      <td>1</td>\n",
       "      <td>1</td>\n",
       "      <td>1</td>\n",
       "      <td>231073.35</td>\n",
       "      <td>0</td>\n",
       "    </tr>\n",
       "    <tr>\n",
       "      <th>110</th>\n",
       "      <td>206691</td>\n",
       "      <td>948.0</td>\n",
       "      <td>Ярославль</td>\n",
       "      <td>М</td>\n",
       "      <td>27.0</td>\n",
       "      <td>0</td>\n",
       "      <td>NaN</td>\n",
       "      <td>2</td>\n",
       "      <td>1</td>\n",
       "      <td>0</td>\n",
       "      <td>104081.58</td>\n",
       "      <td>0</td>\n",
       "    </tr>\n",
       "    <tr>\n",
       "      <th>120</th>\n",
       "      <td>135127</td>\n",
       "      <td>737.0</td>\n",
       "      <td>Ярославль</td>\n",
       "      <td>Ж</td>\n",
       "      <td>34.0</td>\n",
       "      <td>0</td>\n",
       "      <td>NaN</td>\n",
       "      <td>2</td>\n",
       "      <td>1</td>\n",
       "      <td>1</td>\n",
       "      <td>148157.43</td>\n",
       "      <td>0</td>\n",
       "    </tr>\n",
       "    <tr>\n",
       "      <th>123</th>\n",
       "      <td>140853</td>\n",
       "      <td>930.0</td>\n",
       "      <td>Рыбинск</td>\n",
       "      <td>М</td>\n",
       "      <td>46.0</td>\n",
       "      <td>0</td>\n",
       "      <td>NaN</td>\n",
       "      <td>1</td>\n",
       "      <td>1</td>\n",
       "      <td>0</td>\n",
       "      <td>287193.28</td>\n",
       "      <td>0</td>\n",
       "    </tr>\n",
       "    <tr>\n",
       "      <th>124</th>\n",
       "      <td>192966</td>\n",
       "      <td>686.0</td>\n",
       "      <td>Рыбинск</td>\n",
       "      <td>Ж</td>\n",
       "      <td>33.0</td>\n",
       "      <td>0</td>\n",
       "      <td>NaN</td>\n",
       "      <td>1</td>\n",
       "      <td>1</td>\n",
       "      <td>1</td>\n",
       "      <td>518488.59</td>\n",
       "      <td>0</td>\n",
       "    </tr>\n",
       "    <tr>\n",
       "      <th>126</th>\n",
       "      <td>118178</td>\n",
       "      <td>875.0</td>\n",
       "      <td>Ярославль</td>\n",
       "      <td>М</td>\n",
       "      <td>35.0</td>\n",
       "      <td>0</td>\n",
       "      <td>NaN</td>\n",
       "      <td>1</td>\n",
       "      <td>1</td>\n",
       "      <td>0</td>\n",
       "      <td>142326.67</td>\n",
       "      <td>0</td>\n",
       "    </tr>\n",
       "    <tr>\n",
       "      <th>127</th>\n",
       "      <td>139353</td>\n",
       "      <td>893.0</td>\n",
       "      <td>Ярославль</td>\n",
       "      <td>М</td>\n",
       "      <td>27.0</td>\n",
       "      <td>0</td>\n",
       "      <td>NaN</td>\n",
       "      <td>1</td>\n",
       "      <td>1</td>\n",
       "      <td>1</td>\n",
       "      <td>104243.04</td>\n",
       "      <td>0</td>\n",
       "    </tr>\n",
       "    <tr>\n",
       "      <th>136</th>\n",
       "      <td>208732</td>\n",
       "      <td>927.0</td>\n",
       "      <td>Ярославль</td>\n",
       "      <td>М</td>\n",
       "      <td>48.0</td>\n",
       "      <td>0</td>\n",
       "      <td>NaN</td>\n",
       "      <td>1</td>\n",
       "      <td>1</td>\n",
       "      <td>1</td>\n",
       "      <td>194820.08</td>\n",
       "      <td>0</td>\n",
       "    </tr>\n",
       "    <tr>\n",
       "      <th>137</th>\n",
       "      <td>163907</td>\n",
       "      <td>761.0</td>\n",
       "      <td>Ярославль</td>\n",
       "      <td>М</td>\n",
       "      <td>31.0</td>\n",
       "      <td>0</td>\n",
       "      <td>NaN</td>\n",
       "      <td>1</td>\n",
       "      <td>1</td>\n",
       "      <td>0</td>\n",
       "      <td>999177.17</td>\n",
       "      <td>0</td>\n",
       "    </tr>\n",
       "  </tbody>\n",
       "</table>\n",
       "</div>"
      ],
      "text/plain": [
       "     user_id  score       city gender   age  equity  balance  products  \\\n",
       "2     120722  892.0    Рыбинск      Ж  30.0       0      NaN         1   \n",
       "9     133130  906.0  Ярославль      Ж  67.0       0      NaN         1   \n",
       "10    148929  927.0     Ростов      М  52.0       0      NaN         1   \n",
       "11    172184  921.0     Ростов      М  41.0       0      NaN         1   \n",
       "19    127034  922.0    Рыбинск      Ж  53.0       0      NaN         1   \n",
       "21    177415  896.0    Рыбинск      Ж  47.0       0      NaN         1   \n",
       "30    155730  946.0  Ярославль      Ж  47.0       0      NaN         2   \n",
       "34    205226  944.0  Ярославль      М  35.0       0      NaN         2   \n",
       "39    173175  924.0    Рыбинск      Ж  51.0       0      NaN         1   \n",
       "43    228585  956.0     Ростов      М  41.0       0      NaN         1   \n",
       "46    118927  921.0  Ярославль      Ж  72.0       1      NaN         1   \n",
       "52    214266  888.0  Ярославль      Ж  37.0       0      NaN         2   \n",
       "57    167752  914.0     Ростов      Ж  58.0       0      NaN         2   \n",
       "59    227642  930.0  Ярославль      Ж  36.0       0      NaN         2   \n",
       "60    191602  944.0  Ярославль      Ж  71.0       0      NaN         2   \n",
       "62    128486  922.0    Рыбинск      Ж  55.0       0      NaN         2   \n",
       "66    224917  737.0  Ярославль      Ж  54.0       1      NaN         1   \n",
       "68    216960  933.0  Ярославль      М  49.0       1      NaN         1   \n",
       "86    153632  750.0     Ростов      М  45.0       0      NaN         1   \n",
       "101   184435  921.0     Ростов      Ж  42.0       0      NaN         1   \n",
       "104   146867  915.0    Рыбинск      Ж  35.0       0      NaN         1   \n",
       "109   190714  894.0  Ярославль      Ж  48.0       1      NaN         1   \n",
       "110   206691  948.0  Ярославль      М  27.0       0      NaN         2   \n",
       "120   135127  737.0  Ярославль      Ж  34.0       0      NaN         2   \n",
       "123   140853  930.0    Рыбинск      М  46.0       0      NaN         1   \n",
       "124   192966  686.0    Рыбинск      Ж  33.0       0      NaN         1   \n",
       "126   118178  875.0  Ярославль      М  35.0       0      NaN         1   \n",
       "127   139353  893.0  Ярославль      М  27.0       0      NaN         1   \n",
       "136   208732  927.0  Ярославль      М  48.0       0      NaN         1   \n",
       "137   163907  761.0  Ярославль      М  31.0       0      NaN         1   \n",
       "\n",
       "     credit_card  last_activity  est_salary  churn  \n",
       "2              1              1   107683.34      0  \n",
       "9              0              1   238055.53      0  \n",
       "10             1              1   196820.07      0  \n",
       "11             1              1   217469.48      0  \n",
       "19             0              0   147094.82      0  \n",
       "21             0              0   225060.35      0  \n",
       "30             1              1   660015.85      0  \n",
       "34             1              1   239843.39      0  \n",
       "39             1              1   248844.47      0  \n",
       "43             1              0   115117.10      0  \n",
       "46             1              0   253494.70      0  \n",
       "52             0              0   149164.44      0  \n",
       "57             1              0   116651.71      0  \n",
       "59             1              0   359081.73      0  \n",
       "60             0              1   107801.19      0  \n",
       "62             1              0   146005.18      0  \n",
       "66             1              0   113173.05      0  \n",
       "68             1              1   130281.88      0  \n",
       "86             1              0   296397.19      0  \n",
       "101            1              0   232353.50      0  \n",
       "104            1              0   156565.52      0  \n",
       "109            1              1   231073.35      0  \n",
       "110            1              0   104081.58      0  \n",
       "120            1              1   148157.43      0  \n",
       "123            1              0   287193.28      0  \n",
       "124            1              1   518488.59      0  \n",
       "126            1              0   142326.67      0  \n",
       "127            1              1   104243.04      0  \n",
       "136            1              1   194820.08      0  \n",
       "137            1              0   999177.17      0  "
      ]
     },
     "execution_count": 16,
     "metadata": {},
     "output_type": "execute_result"
    }
   ],
   "source": [
    "data[data['balance'].isna()].head(30)"
   ]
  },
  {
   "cell_type": "markdown",
   "metadata": {},
   "source": [
    "Скорее всего пользователи, у которых пропущено поле \"balance\" это новые пользователи, которые еще не успели ничего сделать со своим счетом, так как только начали обслуживаться в нашем банке, у них, как правило, всего 0-2 продукта, они не расторгли договор и количество баллов собственности у них 0-1. Пропуски в данном случае нельзя считать технической ошибкой или загулшкой. Оставим их, как есть."
   ]
  },
  {
   "cell_type": "markdown",
   "metadata": {},
   "source": [
    "<a id=\"duplicates\"></a> "
   ]
  },
  {
   "cell_type": "markdown",
   "metadata": {},
   "source": [
    "### Обработка дубликатов"
   ]
  },
  {
   "cell_type": "markdown",
   "metadata": {},
   "source": [
    "Проверим данные на наличие дубликатов и аномалий, для этого рассмотрим уникальные значения в данных"
   ]
  },
  {
   "cell_type": "code",
   "execution_count": 17,
   "metadata": {},
   "outputs": [
    {
     "name": "stdout",
     "output_type": "stream",
     "text": [
      "0\n"
     ]
    }
   ],
   "source": [
    "#проверка явных дубликатов\n",
    "\n",
    "data.duplicated().sum()"
   ]
  },
  {
   "cell_type": "markdown",
   "metadata": {},
   "source": [
    "Явные дубликаты не обнаружены"
   ]
  },
  {
   "cell_type": "markdown",
   "metadata": {},
   "source": [
    "Проверим наличие неявных дубликатов и аномалий"
   ]
  },
  {
   "cell_type": "code",
   "execution_count": 18,
   "metadata": {},
   "outputs": [
    {
     "data": {
      "text/plain": [
       "array(['Ростов', 'Рыбинск', 'Ярославль'], dtype=object)"
      ]
     },
     "execution_count": 18,
     "metadata": {},
     "output_type": "execute_result"
    }
   ],
   "source": [
    "#просмотр уникальных значений в столбце 'city'\n",
    "\n",
    "data['city'].sort_values().unique()"
   ]
  },
  {
   "cell_type": "code",
   "execution_count": 19,
   "metadata": {},
   "outputs": [
    {
     "data": {
      "text/plain": [
       "array(['Ж', 'М'], dtype=object)"
      ]
     },
     "execution_count": 19,
     "metadata": {},
     "output_type": "execute_result"
    }
   ],
   "source": [
    "#просмотр уникальных значений в столбце 'gender'\n",
    "\n",
    "data['gender'].sort_values().unique()"
   ]
  },
  {
   "cell_type": "code",
   "execution_count": 20,
   "metadata": {},
   "outputs": [
    {
     "data": {
      "text/html": [
       "<div>\n",
       "<style scoped>\n",
       "    .dataframe tbody tr th:only-of-type {\n",
       "        vertical-align: middle;\n",
       "    }\n",
       "\n",
       "    .dataframe tbody tr th {\n",
       "        vertical-align: top;\n",
       "    }\n",
       "\n",
       "    .dataframe thead th {\n",
       "        text-align: right;\n",
       "    }\n",
       "</style>\n",
       "<table border=\"1\" class=\"dataframe\">\n",
       "  <thead>\n",
       "    <tr style=\"text-align: right;\">\n",
       "      <th></th>\n",
       "      <th>user_id</th>\n",
       "      <th>score</th>\n",
       "      <th>city</th>\n",
       "      <th>gender</th>\n",
       "      <th>age</th>\n",
       "      <th>equity</th>\n",
       "      <th>balance</th>\n",
       "      <th>products</th>\n",
       "      <th>credit_card</th>\n",
       "      <th>last_activity</th>\n",
       "      <th>est_salary</th>\n",
       "      <th>churn</th>\n",
       "    </tr>\n",
       "  </thead>\n",
       "  <tbody>\n",
       "    <tr>\n",
       "      <th>1359</th>\n",
       "      <td>211130</td>\n",
       "      <td>833.0</td>\n",
       "      <td>Ярославль</td>\n",
       "      <td>М</td>\n",
       "      <td>55.0</td>\n",
       "      <td>3</td>\n",
       "      <td>1231184.90</td>\n",
       "      <td>4</td>\n",
       "      <td>0</td>\n",
       "      <td>1</td>\n",
       "      <td>187758.38</td>\n",
       "      <td>1</td>\n",
       "    </tr>\n",
       "    <tr>\n",
       "      <th>3274</th>\n",
       "      <td>155765</td>\n",
       "      <td>863.0</td>\n",
       "      <td>Ярославль</td>\n",
       "      <td>М</td>\n",
       "      <td>30.0</td>\n",
       "      <td>5</td>\n",
       "      <td>1036114.50</td>\n",
       "      <td>5</td>\n",
       "      <td>1</td>\n",
       "      <td>1</td>\n",
       "      <td>150744.50</td>\n",
       "      <td>1</td>\n",
       "    </tr>\n",
       "    <tr>\n",
       "      <th>3564</th>\n",
       "      <td>163207</td>\n",
       "      <td>853.0</td>\n",
       "      <td>Рыбинск</td>\n",
       "      <td>М</td>\n",
       "      <td>42.0</td>\n",
       "      <td>4</td>\n",
       "      <td>543839.62</td>\n",
       "      <td>1</td>\n",
       "      <td>1</td>\n",
       "      <td>1</td>\n",
       "      <td>105281.97</td>\n",
       "      <td>1</td>\n",
       "    </tr>\n",
       "    <tr>\n",
       "      <th>3817</th>\n",
       "      <td>211130</td>\n",
       "      <td>918.0</td>\n",
       "      <td>Рыбинск</td>\n",
       "      <td>Ж</td>\n",
       "      <td>55.0</td>\n",
       "      <td>0</td>\n",
       "      <td>NaN</td>\n",
       "      <td>2</td>\n",
       "      <td>1</td>\n",
       "      <td>1</td>\n",
       "      <td>244202.04</td>\n",
       "      <td>0</td>\n",
       "    </tr>\n",
       "    <tr>\n",
       "      <th>5197</th>\n",
       "      <td>155765</td>\n",
       "      <td>923.0</td>\n",
       "      <td>Рыбинск</td>\n",
       "      <td>М</td>\n",
       "      <td>30.0</td>\n",
       "      <td>0</td>\n",
       "      <td>NaN</td>\n",
       "      <td>1</td>\n",
       "      <td>1</td>\n",
       "      <td>1</td>\n",
       "      <td>120296.60</td>\n",
       "      <td>0</td>\n",
       "    </tr>\n",
       "    <tr>\n",
       "      <th>5252</th>\n",
       "      <td>148826</td>\n",
       "      <td>895.0</td>\n",
       "      <td>Ярославль</td>\n",
       "      <td>М</td>\n",
       "      <td>32.0</td>\n",
       "      <td>5</td>\n",
       "      <td>1470273.14</td>\n",
       "      <td>2</td>\n",
       "      <td>0</td>\n",
       "      <td>0</td>\n",
       "      <td>118058.52</td>\n",
       "      <td>1</td>\n",
       "    </tr>\n",
       "    <tr>\n",
       "      <th>6786</th>\n",
       "      <td>163207</td>\n",
       "      <td>838.0</td>\n",
       "      <td>Ярославль</td>\n",
       "      <td>Ж</td>\n",
       "      <td>42.0</td>\n",
       "      <td>4</td>\n",
       "      <td>652776.60</td>\n",
       "      <td>2</td>\n",
       "      <td>1</td>\n",
       "      <td>1</td>\n",
       "      <td>97545.36</td>\n",
       "      <td>0</td>\n",
       "    </tr>\n",
       "    <tr>\n",
       "      <th>8205</th>\n",
       "      <td>227795</td>\n",
       "      <td>840.0</td>\n",
       "      <td>Рыбинск</td>\n",
       "      <td>М</td>\n",
       "      <td>34.0</td>\n",
       "      <td>2</td>\n",
       "      <td>350768.03</td>\n",
       "      <td>1</td>\n",
       "      <td>1</td>\n",
       "      <td>0</td>\n",
       "      <td>102036.14</td>\n",
       "      <td>1</td>\n",
       "    </tr>\n",
       "    <tr>\n",
       "      <th>8364</th>\n",
       "      <td>148826</td>\n",
       "      <td>909.0</td>\n",
       "      <td>Рыбинск</td>\n",
       "      <td>Ж</td>\n",
       "      <td>32.0</td>\n",
       "      <td>0</td>\n",
       "      <td>NaN</td>\n",
       "      <td>3</td>\n",
       "      <td>1</td>\n",
       "      <td>0</td>\n",
       "      <td>28843.54</td>\n",
       "      <td>0</td>\n",
       "    </tr>\n",
       "    <tr>\n",
       "      <th>8497</th>\n",
       "      <td>227795</td>\n",
       "      <td>839.0</td>\n",
       "      <td>Ярославль</td>\n",
       "      <td>М</td>\n",
       "      <td>34.0</td>\n",
       "      <td>2</td>\n",
       "      <td>326593.14</td>\n",
       "      <td>2</td>\n",
       "      <td>1</td>\n",
       "      <td>0</td>\n",
       "      <td>103314.92</td>\n",
       "      <td>0</td>\n",
       "    </tr>\n",
       "  </tbody>\n",
       "</table>\n",
       "</div>"
      ],
      "text/plain": [
       "      user_id  score       city gender   age  equity     balance  products  \\\n",
       "1359   211130  833.0  Ярославль      М  55.0       3  1231184.90         4   \n",
       "3274   155765  863.0  Ярославль      М  30.0       5  1036114.50         5   \n",
       "3564   163207  853.0    Рыбинск      М  42.0       4   543839.62         1   \n",
       "3817   211130  918.0    Рыбинск      Ж  55.0       0         NaN         2   \n",
       "5197   155765  923.0    Рыбинск      М  30.0       0         NaN         1   \n",
       "5252   148826  895.0  Ярославль      М  32.0       5  1470273.14         2   \n",
       "6786   163207  838.0  Ярославль      Ж  42.0       4   652776.60         2   \n",
       "8205   227795  840.0    Рыбинск      М  34.0       2   350768.03         1   \n",
       "8364   148826  909.0    Рыбинск      Ж  32.0       0         NaN         3   \n",
       "8497   227795  839.0  Ярославль      М  34.0       2   326593.14         2   \n",
       "\n",
       "      credit_card  last_activity  est_salary  churn  \n",
       "1359            0              1   187758.38      1  \n",
       "3274            1              1   150744.50      1  \n",
       "3564            1              1   105281.97      1  \n",
       "3817            1              1   244202.04      0  \n",
       "5197            1              1   120296.60      0  \n",
       "5252            0              0   118058.52      1  \n",
       "6786            1              1    97545.36      0  \n",
       "8205            1              0   102036.14      1  \n",
       "8364            1              0    28843.54      0  \n",
       "8497            1              0   103314.92      0  "
      ]
     },
     "execution_count": 20,
     "metadata": {},
     "output_type": "execute_result"
    }
   ],
   "source": [
    "#проверка неявных дубликатов\n",
    "\n",
    "data[data.duplicated(subset=['user_id', 'age'], keep=False)]"
   ]
  },
  {
   "cell_type": "markdown",
   "metadata": {},
   "source": [
    "В нашем датасете присутствуют пользователи с одинаковыми айдишниками, но это вовсе не дубликаты, пользователи имеют разный пол/возраст/проживают в разных городах. Скорее всего тут дело в технической ошибке, люди, получившие одинаковые айдишники имеют общие параметры, возраст всегда совпадает."
   ]
  },
  {
   "cell_type": "markdown",
   "metadata": {},
   "source": [
    "<a id=\"type\"></a> "
   ]
  },
  {
   "cell_type": "markdown",
   "metadata": {},
   "source": [
    "### Работа с типами данных"
   ]
  },
  {
   "cell_type": "markdown",
   "metadata": {},
   "source": [
    "Преобразуем данные в нужные типы"
   ]
  },
  {
   "cell_type": "code",
   "execution_count": 21,
   "metadata": {},
   "outputs": [
    {
     "name": "stdout",
     "output_type": "stream",
     "text": [
      "<class 'pandas.core.frame.DataFrame'>\n",
      "Int64Index: 9974 entries, 0 to 9999\n",
      "Data columns (total 12 columns):\n",
      " #   Column         Non-Null Count  Dtype  \n",
      "---  ------         --------------  -----  \n",
      " 0   user_id        9974 non-null   int64  \n",
      " 1   score          9974 non-null   float64\n",
      " 2   city           9974 non-null   object \n",
      " 3   gender         9974 non-null   object \n",
      " 4   age            9974 non-null   float64\n",
      " 5   equity         9974 non-null   int64  \n",
      " 6   balance        7695 non-null   float64\n",
      " 7   products       9974 non-null   int64  \n",
      " 8   credit_card    9974 non-null   int64  \n",
      " 9   last_activity  9974 non-null   int64  \n",
      " 10  est_salary     9974 non-null   float64\n",
      " 11  churn          9974 non-null   int64  \n",
      "dtypes: float64(4), int64(6), object(2)\n",
      "memory usage: 1013.0+ KB\n"
     ]
    }
   ],
   "source": [
    "#основная информация о нашем датасете\n",
    "\n",
    "data.info()"
   ]
  },
  {
   "cell_type": "code",
   "execution_count": 22,
   "metadata": {},
   "outputs": [
    {
     "data": {
      "text/html": [
       "<div>\n",
       "<style scoped>\n",
       "    .dataframe tbody tr th:only-of-type {\n",
       "        vertical-align: middle;\n",
       "    }\n",
       "\n",
       "    .dataframe tbody tr th {\n",
       "        vertical-align: top;\n",
       "    }\n",
       "\n",
       "    .dataframe thead th {\n",
       "        text-align: right;\n",
       "    }\n",
       "</style>\n",
       "<table border=\"1\" class=\"dataframe\">\n",
       "  <thead>\n",
       "    <tr style=\"text-align: right;\">\n",
       "      <th></th>\n",
       "      <th>user_id</th>\n",
       "      <th>score</th>\n",
       "      <th>city</th>\n",
       "      <th>gender</th>\n",
       "      <th>age</th>\n",
       "      <th>equity</th>\n",
       "      <th>balance</th>\n",
       "      <th>products</th>\n",
       "      <th>credit_card</th>\n",
       "      <th>last_activity</th>\n",
       "      <th>est_salary</th>\n",
       "      <th>churn</th>\n",
       "    </tr>\n",
       "  </thead>\n",
       "  <tbody>\n",
       "    <tr>\n",
       "      <th>0</th>\n",
       "      <td>183012</td>\n",
       "      <td>850.0</td>\n",
       "      <td>Рыбинск</td>\n",
       "      <td>Ж</td>\n",
       "      <td>25.0</td>\n",
       "      <td>1</td>\n",
       "      <td>59214.82</td>\n",
       "      <td>2</td>\n",
       "      <td>0</td>\n",
       "      <td>1</td>\n",
       "      <td>75719.14</td>\n",
       "      <td>1</td>\n",
       "    </tr>\n",
       "    <tr>\n",
       "      <th>1</th>\n",
       "      <td>146556</td>\n",
       "      <td>861.0</td>\n",
       "      <td>Рыбинск</td>\n",
       "      <td>Ж</td>\n",
       "      <td>37.0</td>\n",
       "      <td>5</td>\n",
       "      <td>850594.33</td>\n",
       "      <td>3</td>\n",
       "      <td>1</td>\n",
       "      <td>0</td>\n",
       "      <td>86621.77</td>\n",
       "      <td>0</td>\n",
       "    </tr>\n",
       "    <tr>\n",
       "      <th>2</th>\n",
       "      <td>120722</td>\n",
       "      <td>892.0</td>\n",
       "      <td>Рыбинск</td>\n",
       "      <td>Ж</td>\n",
       "      <td>30.0</td>\n",
       "      <td>0</td>\n",
       "      <td>NaN</td>\n",
       "      <td>1</td>\n",
       "      <td>1</td>\n",
       "      <td>1</td>\n",
       "      <td>107683.34</td>\n",
       "      <td>0</td>\n",
       "    </tr>\n",
       "  </tbody>\n",
       "</table>\n",
       "</div>"
      ],
      "text/plain": [
       "   user_id  score     city gender   age  equity    balance  products  \\\n",
       "0   183012  850.0  Рыбинск      Ж  25.0       1   59214.82         2   \n",
       "1   146556  861.0  Рыбинск      Ж  37.0       5  850594.33         3   \n",
       "2   120722  892.0  Рыбинск      Ж  30.0       0        NaN         1   \n",
       "\n",
       "   credit_card  last_activity  est_salary  churn  \n",
       "0            0              1    75719.14      1  \n",
       "1            1              0    86621.77      0  \n",
       "2            1              1   107683.34      0  "
      ]
     },
     "execution_count": 22,
     "metadata": {},
     "output_type": "execute_result"
    }
   ],
   "source": [
    "data.head(3)"
   ]
  },
  {
   "cell_type": "markdown",
   "metadata": {},
   "source": [
    "Изменим тип данных в столбцах:\n",
    "\n",
    "- \"age\" — c float64 на int64 (все таки возраст целое число);\n",
    "- \"score\" — c float64 на int64 (рейтинг приведен в целых числах от 0-1000)."
   ]
  },
  {
   "cell_type": "code",
   "execution_count": 23,
   "metadata": {},
   "outputs": [],
   "source": [
    "#изменение типа данных\n",
    "\n",
    "data['age'] = data['age'].astype('Int64')"
   ]
  },
  {
   "cell_type": "code",
   "execution_count": 24,
   "metadata": {},
   "outputs": [
    {
     "data": {
      "text/plain": [
       "<IntegerArray>\n",
       "[25, 37, 30, 51, 34, 56, 39, 38, 54, 67, 52, 41, 31, 28, 35, 42, 45, 53, 40,\n",
       " 43, 47, 48, 61, 62, 36, 26, 27, 60, 72, 50, 46, 55, 58, 71, 44, 49, 33, 32,\n",
       " 66, 29, 68, 73, 69, 59, 21, 65, 57, 63, 80, 24, 70, 77, 64, 23, 20, 18, 19,\n",
       " 78, 74, 76, 22, 75, 83, 82, 81, 84, 79, 86]\n",
       "Length: 68, dtype: Int64"
      ]
     },
     "execution_count": 24,
     "metadata": {},
     "output_type": "execute_result"
    }
   ],
   "source": [
    "#проверка данных после изменения типа\n",
    "\n",
    "data['age'].unique()"
   ]
  },
  {
   "cell_type": "code",
   "execution_count": 25,
   "metadata": {},
   "outputs": [],
   "source": [
    "#изменение типа данных\n",
    "\n",
    "data['score'] = data['score'].astype('Int64')"
   ]
  },
  {
   "cell_type": "code",
   "execution_count": 26,
   "metadata": {},
   "outputs": [
    {
     "data": {
      "text/plain": [
       "<IntegerArray>\n",
       "[850, 861, 892, 866, 730, 856, 807, 825, 923, 906,\n",
       " ...\n",
       " 654, 680, 998, 660, 670, 656, 665, 662, 704, 995]\n",
       "Length: 348, dtype: Int64"
      ]
     },
     "execution_count": 26,
     "metadata": {},
     "output_type": "execute_result"
    }
   ],
   "source": [
    "#проверка данных после изменения типа\n",
    "\n",
    "data['score'].unique()"
   ]
  },
  {
   "cell_type": "markdown",
   "metadata": {},
   "source": [
    "На этом работа с типами данных заканчивается"
   ]
  },
  {
   "cell_type": "markdown",
   "metadata": {},
   "source": [
    "<a id=\"cod\"></a> "
   ]
  },
  {
   "cell_type": "markdown",
   "metadata": {},
   "source": [
    "### Кодирование"
   ]
  },
  {
   "cell_type": "markdown",
   "metadata": {},
   "source": [
    "Для дальнейшей работы добавим новые столбцы 'gender_int' и 'city_ростов', 'city_рыбинск', 'city_ярославль' с изменением значений 'М' на 1, 'Ж' на 0."
   ]
  },
  {
   "cell_type": "code",
   "execution_count": 27,
   "metadata": {},
   "outputs": [],
   "source": [
    "#создание столбца \"gender_int\"\n",
    "\n",
    "data['gender_int'] = data['gender'].map({'М':1, 'Ж':0})"
   ]
  },
  {
   "cell_type": "code",
   "execution_count": 28,
   "metadata": {},
   "outputs": [],
   "source": [
    "#создание новых столбцов для разных городов\n",
    "\n",
    "data = pd.get_dummies(data, columns=['city'])"
   ]
  },
  {
   "cell_type": "code",
   "execution_count": 29,
   "metadata": {},
   "outputs": [],
   "source": [
    "data.columns = data.columns.str.lower()"
   ]
  },
  {
   "cell_type": "code",
   "execution_count": 30,
   "metadata": {},
   "outputs": [
    {
     "data": {
      "text/html": [
       "<div>\n",
       "<style scoped>\n",
       "    .dataframe tbody tr th:only-of-type {\n",
       "        vertical-align: middle;\n",
       "    }\n",
       "\n",
       "    .dataframe tbody tr th {\n",
       "        vertical-align: top;\n",
       "    }\n",
       "\n",
       "    .dataframe thead th {\n",
       "        text-align: right;\n",
       "    }\n",
       "</style>\n",
       "<table border=\"1\" class=\"dataframe\">\n",
       "  <thead>\n",
       "    <tr style=\"text-align: right;\">\n",
       "      <th></th>\n",
       "      <th>user_id</th>\n",
       "      <th>score</th>\n",
       "      <th>gender</th>\n",
       "      <th>age</th>\n",
       "      <th>equity</th>\n",
       "      <th>balance</th>\n",
       "      <th>products</th>\n",
       "      <th>credit_card</th>\n",
       "      <th>last_activity</th>\n",
       "      <th>est_salary</th>\n",
       "      <th>churn</th>\n",
       "      <th>gender_int</th>\n",
       "      <th>city_ростов</th>\n",
       "      <th>city_рыбинск</th>\n",
       "      <th>city_ярославль</th>\n",
       "    </tr>\n",
       "  </thead>\n",
       "  <tbody>\n",
       "    <tr>\n",
       "      <th>0</th>\n",
       "      <td>183012</td>\n",
       "      <td>850</td>\n",
       "      <td>Ж</td>\n",
       "      <td>25</td>\n",
       "      <td>1</td>\n",
       "      <td>59214.82</td>\n",
       "      <td>2</td>\n",
       "      <td>0</td>\n",
       "      <td>1</td>\n",
       "      <td>75719.14</td>\n",
       "      <td>1</td>\n",
       "      <td>0</td>\n",
       "      <td>0</td>\n",
       "      <td>1</td>\n",
       "      <td>0</td>\n",
       "    </tr>\n",
       "    <tr>\n",
       "      <th>1</th>\n",
       "      <td>146556</td>\n",
       "      <td>861</td>\n",
       "      <td>Ж</td>\n",
       "      <td>37</td>\n",
       "      <td>5</td>\n",
       "      <td>850594.33</td>\n",
       "      <td>3</td>\n",
       "      <td>1</td>\n",
       "      <td>0</td>\n",
       "      <td>86621.77</td>\n",
       "      <td>0</td>\n",
       "      <td>0</td>\n",
       "      <td>0</td>\n",
       "      <td>1</td>\n",
       "      <td>0</td>\n",
       "    </tr>\n",
       "    <tr>\n",
       "      <th>2</th>\n",
       "      <td>120722</td>\n",
       "      <td>892</td>\n",
       "      <td>Ж</td>\n",
       "      <td>30</td>\n",
       "      <td>0</td>\n",
       "      <td>NaN</td>\n",
       "      <td>1</td>\n",
       "      <td>1</td>\n",
       "      <td>1</td>\n",
       "      <td>107683.34</td>\n",
       "      <td>0</td>\n",
       "      <td>0</td>\n",
       "      <td>0</td>\n",
       "      <td>1</td>\n",
       "      <td>0</td>\n",
       "    </tr>\n",
       "    <tr>\n",
       "      <th>3</th>\n",
       "      <td>225363</td>\n",
       "      <td>866</td>\n",
       "      <td>Ж</td>\n",
       "      <td>51</td>\n",
       "      <td>5</td>\n",
       "      <td>1524746.26</td>\n",
       "      <td>2</td>\n",
       "      <td>0</td>\n",
       "      <td>1</td>\n",
       "      <td>174423.53</td>\n",
       "      <td>1</td>\n",
       "      <td>0</td>\n",
       "      <td>0</td>\n",
       "      <td>0</td>\n",
       "      <td>1</td>\n",
       "    </tr>\n",
       "    <tr>\n",
       "      <th>4</th>\n",
       "      <td>157978</td>\n",
       "      <td>730</td>\n",
       "      <td>М</td>\n",
       "      <td>34</td>\n",
       "      <td>5</td>\n",
       "      <td>174.00</td>\n",
       "      <td>1</td>\n",
       "      <td>1</td>\n",
       "      <td>0</td>\n",
       "      <td>67353.16</td>\n",
       "      <td>1</td>\n",
       "      <td>1</td>\n",
       "      <td>0</td>\n",
       "      <td>0</td>\n",
       "      <td>1</td>\n",
       "    </tr>\n",
       "  </tbody>\n",
       "</table>\n",
       "</div>"
      ],
      "text/plain": [
       "   user_id  score gender  age  equity     balance  products  credit_card  \\\n",
       "0   183012    850      Ж   25       1    59214.82         2            0   \n",
       "1   146556    861      Ж   37       5   850594.33         3            1   \n",
       "2   120722    892      Ж   30       0         NaN         1            1   \n",
       "3   225363    866      Ж   51       5  1524746.26         2            0   \n",
       "4   157978    730      М   34       5      174.00         1            1   \n",
       "\n",
       "   last_activity  est_salary  churn  gender_int  city_ростов  city_рыбинск  \\\n",
       "0              1    75719.14      1           0            0             1   \n",
       "1              0    86621.77      0           0            0             1   \n",
       "2              1   107683.34      0           0            0             1   \n",
       "3              1   174423.53      1           0            0             0   \n",
       "4              0    67353.16      1           1            0             0   \n",
       "\n",
       "   city_ярославль  \n",
       "0               0  \n",
       "1               0  \n",
       "2               0  \n",
       "3               1  \n",
       "4               1  "
      ]
     },
     "execution_count": 30,
     "metadata": {},
     "output_type": "execute_result"
    }
   ],
   "source": [
    "#проверка наличия новых столбцов\n",
    "\n",
    "data.head(5)"
   ]
  },
  {
   "cell_type": "markdown",
   "metadata": {},
   "source": [
    "На данном этапе предобработка данных завершается"
   ]
  },
  {
   "cell_type": "markdown",
   "metadata": {},
   "source": [
    "**В ходе предобработки данных:**\n",
    "\n",
    "- Названия столбцов приведены к правильному формату;\n",
    "- Проверено наличие пропусков и удалены пропуски в столбце \"age\";\n",
    "- Проверено наличие явных и неявных дубликатов;\n",
    "- Заменены типы данных в стобцах: age, score;\n",
    "- Проведено кодирование столбцов 'gender' и 'city'."
   ]
  },
  {
   "cell_type": "markdown",
   "metadata": {},
   "source": [
    "<a id=\"data_science\"></a> "
   ]
  },
  {
   "cell_type": "markdown",
   "metadata": {},
   "source": [
    "# Исследовательский анализ данных"
   ]
  },
  {
   "cell_type": "markdown",
   "metadata": {},
   "source": [
    "<a id=\"distributions\"></a> "
   ]
  },
  {
   "cell_type": "markdown",
   "metadata": {},
   "source": [
    "### Анализ распределений"
   ]
  },
  {
   "cell_type": "markdown",
   "metadata": {},
   "source": [
    "Для начала посмотрим на распределения категориальных данных"
   ]
  },
  {
   "cell_type": "code",
   "execution_count": 31,
   "metadata": {},
   "outputs": [
    {
     "data": {
      "image/png": "[encoded data removed]",
      "text/plain": [
       "<Figure size 1152x504 with 8 Axes>"
      ]
     },
     "metadata": {
      "needs_background": "light"
     },
     "output_type": "display_data"
    }
   ],
   "source": [
    "#построение графика распределения клиентов\n",
    "\n",
    "values = ['gender_int', 'equity', 'products', 'credit_card', 'last_activity', 'city_ростов', 'city_рыбинск', 'city_ярославль']\n",
    "\n",
    "fig, ax = plt.subplots(2, 4)\n",
    "fig.set_size_inches(16, 7)\n",
    "fig.suptitle('Распределение клиентов по различным признакам', fontsize=15)\n",
    "\n",
    "for value, subplot in zip(values, ax.flatten()):\n",
    "    if value in ['gender', 'credit_card', 'last_activity', 'city_int']:\n",
    "        subplot.set_xticks([0,1])\n",
    "    sns.histplot(data=data, x=value, ax=subplot);"
   ]
  },
  {
   "cell_type": "markdown",
   "metadata": {},
   "source": [
    "**Выводы:**\n",
    "\n",
    "- Соотношение мужчин и женщин в выборке примерно одинаковое;\n",
    "- Наибольшее количество клиентов имеют 0 баллов собственности, второе и третье место занимают 4 и 5 баллов соответственно;\n",
    "- Большинство клиентов банка оформили два продукта, на втором месте клиенты с одним продуктом;\n",
    "- Клиентов, оформивших кредитную карту больше больше;\n",
    "- Количество активных клиентов чуть больше;\n",
    "- Большая часть клиентов из Ярославля;\n",
    "- Меньше всего людей из Ростова."
   ]
  },
  {
   "cell_type": "code",
   "execution_count": 32,
   "metadata": {},
   "outputs": [
    {
     "data": {
      "image/png": "[encoded data removed]",
      "text/plain": [
       "<Figure size 1152x504 with 8 Axes>"
      ]
     },
     "metadata": {
      "needs_background": "light"
     },
     "output_type": "display_data"
    }
   ],
   "source": [
    "#построение графика распределения клиентов в разрезе оттока\n",
    "\n",
    "fig, ax = plt.subplots(2, 4)\n",
    "fig.set_size_inches(16, 7)\n",
    "fig.suptitle('Распределение клиентов по различным признакам в разрезе оттока', fontsize=15)\n",
    "\n",
    "for value, subplot in zip(values, ax.flatten()):\n",
    "    sns.countplot(x=value, data=data,  hue='churn', ax=subplot);"
   ]
  },
  {
   "cell_type": "markdown",
   "metadata": {},
   "source": [
    "**Выводы:**\n",
    "\n",
    "К расторжению договора с банком больше склонен следующий тип клиентов:\n",
    "- мужчина;\n",
    "- имеет 5 баллов собственности;\n",
    "- имеет 2 продукта;\n",
    "- имеет кредитную карту;\n",
    "- является активным клиентом;\n",
    "- из города Ярославль."
   ]
  },
  {
   "cell_type": "markdown",
   "metadata": {},
   "source": [
    "А теперь посмотрим на количественные данные"
   ]
  },
  {
   "cell_type": "markdown",
   "metadata": {},
   "source": [
    "Построим графики распределения числовых столбцов, чтобы посмотреть для каких признаков характерен отток клиентов"
   ]
  },
  {
   "cell_type": "markdown",
   "metadata": {},
   "source": [
    "**Признак - кредитный скоринг**"
   ]
  },
  {
   "cell_type": "code",
   "execution_count": 33,
   "metadata": {},
   "outputs": [
    {
     "data": {
      "image/png": "[encoded data removed]",
      "text/plain": [
       "<Figure size 720x360 with 1 Axes>"
      ]
     },
     "metadata": {
      "needs_background": "light"
     },
     "output_type": "display_data"
    }
   ],
   "source": [
    "#построение графика распределения клиентов по баллам кредитного скоринга в разрезе оттока\n",
    "\n",
    "fig, ax = plt.subplots(figsize=(10, 5))\n",
    "ax = sns.histplot(data=data, hue='churn', x='score', stat='density', common_norm=False)\n",
    "plt.title('Распределение клиентов по баллам кредитного скоринга в разрезе оттока', fontsize = 14)\n",
    "plt.xlabel('Баллы кредитного скоринга')\n",
    "plt.ylabel('Количество клиентов')\n",
    "plt.show;"
   ]
  },
  {
   "cell_type": "markdown",
   "metadata": {},
   "source": [
    "Один из признаков отточности клиентов - баллы кредитного скоринга от 840 до 910"
   ]
  },
  {
   "cell_type": "markdown",
   "metadata": {},
   "source": [
    "**Признак - возраст**"
   ]
  },
  {
   "cell_type": "code",
   "execution_count": 34,
   "metadata": {},
   "outputs": [
    {
     "data": {
      "image/png": "[encoded data removed]",
      "text/plain": [
       "<Figure size 720x360 with 1 Axes>"
      ]
     },
     "metadata": {
      "needs_background": "light"
     },
     "output_type": "display_data"
    }
   ],
   "source": [
    "#построение графика распределения клиентов по возрасту в разрезе оттока\n",
    "\n",
    "fig, ax = plt.subplots(figsize=(10, 5))\n",
    "ax = sns.histplot(data=data, hue='churn', x='age', stat='density', common_norm=False, bins=50)\n",
    "plt.title('Распределение клиентов по возрасту в разрезе оттока', fontsize = 14)\n",
    "plt.xlabel('Количество лет')\n",
    "plt.ylabel('Количество клиентов')\n",
    "plt.show;"
   ]
  },
  {
   "cell_type": "markdown",
   "metadata": {},
   "source": [
    "Еще один признак отточности клиентов - возраст от 25 до 35 лет и от 50 до 60 лет"
   ]
  },
  {
   "cell_type": "markdown",
   "metadata": {},
   "source": [
    "**Признак - баланас клиента**"
   ]
  },
  {
   "cell_type": "code",
   "execution_count": 35,
   "metadata": {},
   "outputs": [
    {
     "data": {
      "image/png": "[encoded data removed]",
      "text/plain": [
       "<Figure size 720x360 with 1 Axes>"
      ]
     },
     "metadata": {
      "needs_background": "light"
     },
     "output_type": "display_data"
    }
   ],
   "source": [
    "#построение графика распределения клиентов по балансу в разрезе оттока\n",
    "\n",
    "fig, ax = plt.subplots(figsize=(10, 5))\n",
    "ax = sns.histplot(data=data, hue='churn', x='balance', stat='density', common_norm=False)\n",
    "plt.title('Распределение клиентов по размеру баланса в разрезе оттока', fontsize = 14)\n",
    "plt.xlabel('Баланс')\n",
    "plt.ylabel('Количество клиентов')\n",
    "plt.xlim(0, 3000000)\n",
    "plt.show;"
   ]
  },
  {
   "cell_type": "markdown",
   "metadata": {},
   "source": [
    "Следующий признаков - балансом выше 800 тыс"
   ]
  },
  {
   "cell_type": "markdown",
   "metadata": {},
   "source": [
    "**Признак - заработная плата**"
   ]
  },
  {
   "cell_type": "code",
   "execution_count": 36,
   "metadata": {},
   "outputs": [
    {
     "data": {
      "image/png": "[encoded data removed]",
      "text/plain": [
       "<Figure size 720x360 with 1 Axes>"
      ]
     },
     "metadata": {
      "needs_background": "light"
     },
     "output_type": "display_data"
    }
   ],
   "source": [
    "#построение графика распределения клиентов по зарплате в разрезе оттока\n",
    "\n",
    "fig, ax = plt.subplots(figsize=(10, 5))\n",
    "ax = sns.histplot(data=data, hue='churn', x='est_salary', stat='density', common_norm=False)\n",
    "plt.title('Распределение клиентов по размеру заработной платы в разрезе оттока', fontsize = 14)\n",
    "plt.xlabel('Заработная плата')\n",
    "plt.ylabel('Количество клиентов')\n",
    "plt.xlim(0, 500000)\n",
    "plt.show;"
   ]
  },
  {
   "cell_type": "markdown",
   "metadata": {},
   "source": [
    "И последний признак - заработной плата выше 90 тыс"
   ]
  },
  {
   "cell_type": "markdown",
   "metadata": {},
   "source": [
    "**Выводы:**\n",
    "\n",
    "- Наибольшую вероятность оттока имеют клиенты с:\n",
    "  * баллами кредитного скоринга 840-910;\n",
    "  * возрастом от 25 до 35 лет и от 50 до 60 лет;\n",
    "  * балансом выше 800 тыс;\n",
    "  * заработной платой выше 90 тыс.\n",
    "- Распределения баланса и заработной платы имеют хвост в правой части, который состоит из клиентов с высокими значениями баланса и зарплаты соотвественно, наиболее обеспеченные клиенты банка."
   ]
  },
  {
   "cell_type": "markdown",
   "metadata": {},
   "source": [
    "<a id=\"portrait\"></a> "
   ]
  },
  {
   "cell_type": "markdown",
   "metadata": {},
   "source": [
    "### Анализ портретов клиентов"
   ]
  },
  {
   "cell_type": "markdown",
   "metadata": {},
   "source": [
    "Познакомимся с отточными клиентами поближе:)"
   ]
  },
  {
   "cell_type": "markdown",
   "metadata": {},
   "source": [
    "Для начала удалим столбец \"user_id\", так как не является информативным"
   ]
  },
  {
   "cell_type": "code",
   "execution_count": 37,
   "metadata": {},
   "outputs": [],
   "source": [
    "#удаление столбца \"user_id\"\n",
    "\n",
    "data = data.drop(columns=['user_id'])"
   ]
  },
  {
   "cell_type": "code",
   "execution_count": 38,
   "metadata": {
    "scrolled": true
   },
   "outputs": [
    {
     "data": {
      "text/html": [
       "<div>\n",
       "<style scoped>\n",
       "    .dataframe tbody tr th:only-of-type {\n",
       "        vertical-align: middle;\n",
       "    }\n",
       "\n",
       "    .dataframe tbody tr th {\n",
       "        vertical-align: top;\n",
       "    }\n",
       "\n",
       "    .dataframe thead th {\n",
       "        text-align: right;\n",
       "    }\n",
       "</style>\n",
       "<table border=\"1\" class=\"dataframe\">\n",
       "  <thead>\n",
       "    <tr style=\"text-align: right;\">\n",
       "      <th></th>\n",
       "      <th>score</th>\n",
       "      <th>age</th>\n",
       "      <th>equity</th>\n",
       "      <th>balance</th>\n",
       "      <th>products</th>\n",
       "      <th>credit_card</th>\n",
       "      <th>last_activity</th>\n",
       "      <th>est_salary</th>\n",
       "      <th>gender_int</th>\n",
       "      <th>city_ростов</th>\n",
       "      <th>city_рыбинск</th>\n",
       "      <th>city_ярославль</th>\n",
       "    </tr>\n",
       "    <tr>\n",
       "      <th>churn</th>\n",
       "      <th></th>\n",
       "      <th></th>\n",
       "      <th></th>\n",
       "      <th></th>\n",
       "      <th></th>\n",
       "      <th></th>\n",
       "      <th></th>\n",
       "      <th></th>\n",
       "      <th></th>\n",
       "      <th></th>\n",
       "      <th></th>\n",
       "      <th></th>\n",
       "    </tr>\n",
       "  </thead>\n",
       "  <tbody>\n",
       "    <tr>\n",
       "      <th>0</th>\n",
       "      <td>845.396199</td>\n",
       "      <td>43.020846</td>\n",
       "      <td>2.378296</td>\n",
       "      <td>7.330316e+05</td>\n",
       "      <td>1.758921</td>\n",
       "      <td>0.708890</td>\n",
       "      <td>0.482894</td>\n",
       "      <td>147674.637881</td>\n",
       "      <td>0.466953</td>\n",
       "      <td>0.141140</td>\n",
       "      <td>0.275414</td>\n",
       "      <td>0.583446</td>\n",
       "    </tr>\n",
       "    <tr>\n",
       "      <th>1</th>\n",
       "      <td>863.416163</td>\n",
       "      <td>41.450247</td>\n",
       "      <td>3.763057</td>\n",
       "      <td>1.134458e+06</td>\n",
       "      <td>2.376031</td>\n",
       "      <td>0.551402</td>\n",
       "      <td>0.702034</td>\n",
       "      <td>148289.702221</td>\n",
       "      <td>0.650357</td>\n",
       "      <td>0.145684</td>\n",
       "      <td>0.240242</td>\n",
       "      <td>0.614074</td>\n",
       "    </tr>\n",
       "  </tbody>\n",
       "</table>\n",
       "</div>"
      ],
      "text/plain": [
       "            score        age    equity       balance  products  credit_card  \\\n",
       "churn                                                                         \n",
       "0      845.396199  43.020846  2.378296  7.330316e+05  1.758921     0.708890   \n",
       "1      863.416163  41.450247  3.763057  1.134458e+06  2.376031     0.551402   \n",
       "\n",
       "       last_activity     est_salary  gender_int  city_ростов  city_рыбинск  \\\n",
       "churn                                                                        \n",
       "0           0.482894  147674.637881    0.466953     0.141140      0.275414   \n",
       "1           0.702034  148289.702221    0.650357     0.145684      0.240242   \n",
       "\n",
       "       city_ярославль  \n",
       "churn                  \n",
       "0            0.583446  \n",
       "1            0.614074  "
      ]
     },
     "execution_count": 38,
     "metadata": {},
     "output_type": "execute_result"
    }
   ],
   "source": [
    "#рассчет средних значений признаков для отточных и неотточных клиентов по средним значениям\n",
    "\n",
    "data.groupby('churn').agg('mean')"
   ]
  },
  {
   "cell_type": "markdown",
   "metadata": {},
   "source": [
    "Посмотрим на значения зарплаты и баланса по медианным значениям, так как ранее мы видели большие хвосты в сторону обеспеченных людей"
   ]
  },
  {
   "cell_type": "code",
   "execution_count": 39,
   "metadata": {},
   "outputs": [
    {
     "data": {
      "text/html": [
       "<div>\n",
       "<style scoped>\n",
       "    .dataframe tbody tr th:only-of-type {\n",
       "        vertical-align: middle;\n",
       "    }\n",
       "\n",
       "    .dataframe tbody tr th {\n",
       "        vertical-align: top;\n",
       "    }\n",
       "\n",
       "    .dataframe thead th {\n",
       "        text-align: right;\n",
       "    }\n",
       "</style>\n",
       "<table border=\"1\" class=\"dataframe\">\n",
       "  <thead>\n",
       "    <tr style=\"text-align: right;\">\n",
       "      <th></th>\n",
       "      <th>est_salary</th>\n",
       "      <th>balance</th>\n",
       "    </tr>\n",
       "    <tr>\n",
       "      <th>churn</th>\n",
       "      <th></th>\n",
       "      <th></th>\n",
       "    </tr>\n",
       "  </thead>\n",
       "  <tbody>\n",
       "    <tr>\n",
       "      <th>0</th>\n",
       "      <td>118227.60</td>\n",
       "      <td>475410.09</td>\n",
       "    </tr>\n",
       "    <tr>\n",
       "      <th>1</th>\n",
       "      <td>125395.22</td>\n",
       "      <td>783908.90</td>\n",
       "    </tr>\n",
       "  </tbody>\n",
       "</table>\n",
       "</div>"
      ],
      "text/plain": [
       "       est_salary    balance\n",
       "churn                       \n",
       "0       118227.60  475410.09\n",
       "1       125395.22  783908.90"
      ]
     },
     "execution_count": 39,
     "metadata": {},
     "output_type": "execute_result"
    }
   ],
   "source": [
    "#расчет средних значений признаков для отточных и неотточных клиентов по медианным значениям\n",
    "\n",
    "data.groupby('churn').agg('median')[['est_salary', 'balance']]"
   ]
  },
  {
   "cell_type": "markdown",
   "metadata": {},
   "source": [
    "Портреты типичных клиентов, которые склонны и не склонны уходить из банка:\n",
    "\n",
    "- Среднестатистический пользователь, имеющий маленький процент вероятности оттока - женщина, имеющая баллы скоринга 845, 43 года, оценка собственности 2, баланс 475410, 2 продукта, в том числе, кредитная карта, не является активным пользователем и имеет зарплату в 118 227.\n",
    "- Среднестатистический пользователь имеющий большой процент вероятности оттока - мужчина, имеющий баллы скоринга 863, 41 год, оценка собственности 4, баланс 783908, 2 продукта, в том числе, кредитная карта, является активным пользователем и имеет зарплату в 125 395. "
   ]
  },
  {
   "cell_type": "markdown",
   "metadata": {},
   "source": [
    "<a id=\"correlation_analysis\"></a> "
   ]
  },
  {
   "cell_type": "markdown",
   "metadata": {},
   "source": [
    "### Корреляционные анализ"
   ]
  },
  {
   "cell_type": "markdown",
   "metadata": {},
   "source": [
    "Перейдем к корреляционному анализу"
   ]
  },
  {
   "cell_type": "code",
   "execution_count": 40,
   "metadata": {},
   "outputs": [
    {
     "data": {
      "image/png": "[encoded data removed]",
      "text/plain": [
       "<Figure size 720x720 with 2 Axes>"
      ]
     },
     "metadata": {
      "needs_background": "light"
     },
     "output_type": "display_data"
    }
   ],
   "source": [
    "#построение матрицы коэффициентов корреляций\n",
    "\n",
    "plt.figure(figsize=(10,10))\n",
    "sns.heatmap(data.corr(), annot=True, fmt='.2f');"
   ]
  },
  {
   "cell_type": "markdown",
   "metadata": {},
   "source": [
    "Отдельно реализуем корреляцию phik по категориальным данным, так как для них корреляция Пирсона не подходит"
   ]
  },
  {
   "cell_type": "code",
   "execution_count": 42,
   "metadata": {},
   "outputs": [
    {
     "name": "stdout",
     "output_type": "stream",
     "text": [
      "interval columns not set, guessing: ['score', 'age', 'equity', 'balance', 'products', 'credit_card', 'last_activity', 'est_salary', 'churn', 'gender_int', 'city_ростов', 'city_рыбинск', 'city_ярославль']\n"
     ]
    },
    {
     "data": {
      "text/html": [
       "<div>\n",
       "<style scoped>\n",
       "    .dataframe tbody tr th:only-of-type {\n",
       "        vertical-align: middle;\n",
       "    }\n",
       "\n",
       "    .dataframe tbody tr th {\n",
       "        vertical-align: top;\n",
       "    }\n",
       "\n",
       "    .dataframe thead th {\n",
       "        text-align: right;\n",
       "    }\n",
       "</style>\n",
       "<table border=\"1\" class=\"dataframe\">\n",
       "  <thead>\n",
       "    <tr style=\"text-align: right;\">\n",
       "      <th></th>\n",
       "      <th>score</th>\n",
       "      <th>gender</th>\n",
       "      <th>age</th>\n",
       "      <th>equity</th>\n",
       "      <th>balance</th>\n",
       "      <th>products</th>\n",
       "      <th>credit_card</th>\n",
       "      <th>last_activity</th>\n",
       "      <th>est_salary</th>\n",
       "      <th>churn</th>\n",
       "      <th>gender_int</th>\n",
       "      <th>city_ростов</th>\n",
       "      <th>city_рыбинск</th>\n",
       "      <th>city_ярославль</th>\n",
       "    </tr>\n",
       "  </thead>\n",
       "  <tbody>\n",
       "    <tr>\n",
       "      <th>score</th>\n",
       "      <td>1.00</td>\n",
       "      <td>0.07</td>\n",
       "      <td>0.04</td>\n",
       "      <td>0.53</td>\n",
       "      <td>0.17</td>\n",
       "      <td>0.31</td>\n",
       "      <td>0.21</td>\n",
       "      <td>0.05</td>\n",
       "      <td>0.40</td>\n",
       "      <td>0.23</td>\n",
       "      <td>0.07</td>\n",
       "      <td>0.09</td>\n",
       "      <td>0.03</td>\n",
       "      <td>0.08</td>\n",
       "    </tr>\n",
       "    <tr>\n",
       "      <th>gender</th>\n",
       "      <td>0.07</td>\n",
       "      <td>1.00</td>\n",
       "      <td>0.29</td>\n",
       "      <td>0.06</td>\n",
       "      <td>0.05</td>\n",
       "      <td>0.12</td>\n",
       "      <td>0.20</td>\n",
       "      <td>0.01</td>\n",
       "      <td>0.14</td>\n",
       "      <td>0.22</td>\n",
       "      <td>1.00</td>\n",
       "      <td>0.02</td>\n",
       "      <td>0.02</td>\n",
       "      <td>0.03</td>\n",
       "    </tr>\n",
       "    <tr>\n",
       "      <th>age</th>\n",
       "      <td>0.04</td>\n",
       "      <td>0.29</td>\n",
       "      <td>1.00</td>\n",
       "      <td>0.04</td>\n",
       "      <td>0.02</td>\n",
       "      <td>0.13</td>\n",
       "      <td>0.16</td>\n",
       "      <td>0.09</td>\n",
       "      <td>0.36</td>\n",
       "      <td>0.18</td>\n",
       "      <td>0.29</td>\n",
       "      <td>0.07</td>\n",
       "      <td>0.06</td>\n",
       "      <td>0.10</td>\n",
       "    </tr>\n",
       "    <tr>\n",
       "      <th>equity</th>\n",
       "      <td>0.53</td>\n",
       "      <td>0.06</td>\n",
       "      <td>0.04</td>\n",
       "      <td>1.00</td>\n",
       "      <td>0.00</td>\n",
       "      <td>0.44</td>\n",
       "      <td>0.22</td>\n",
       "      <td>0.05</td>\n",
       "      <td>0.29</td>\n",
       "      <td>0.35</td>\n",
       "      <td>0.06</td>\n",
       "      <td>0.06</td>\n",
       "      <td>0.00</td>\n",
       "      <td>0.06</td>\n",
       "    </tr>\n",
       "    <tr>\n",
       "      <th>balance</th>\n",
       "      <td>0.17</td>\n",
       "      <td>0.05</td>\n",
       "      <td>0.02</td>\n",
       "      <td>0.00</td>\n",
       "      <td>1.00</td>\n",
       "      <td>0.00</td>\n",
       "      <td>0.00</td>\n",
       "      <td>0.00</td>\n",
       "      <td>0.37</td>\n",
       "      <td>0.02</td>\n",
       "      <td>0.05</td>\n",
       "      <td>0.00</td>\n",
       "      <td>0.02</td>\n",
       "      <td>0.05</td>\n",
       "    </tr>\n",
       "    <tr>\n",
       "      <th>products</th>\n",
       "      <td>0.31</td>\n",
       "      <td>0.12</td>\n",
       "      <td>0.13</td>\n",
       "      <td>0.44</td>\n",
       "      <td>0.00</td>\n",
       "      <td>1.00</td>\n",
       "      <td>0.46</td>\n",
       "      <td>0.19</td>\n",
       "      <td>0.16</td>\n",
       "      <td>0.44</td>\n",
       "      <td>0.12</td>\n",
       "      <td>0.08</td>\n",
       "      <td>0.15</td>\n",
       "      <td>0.18</td>\n",
       "    </tr>\n",
       "    <tr>\n",
       "      <th>credit_card</th>\n",
       "      <td>0.21</td>\n",
       "      <td>0.20</td>\n",
       "      <td>0.16</td>\n",
       "      <td>0.22</td>\n",
       "      <td>0.00</td>\n",
       "      <td>0.46</td>\n",
       "      <td>1.00</td>\n",
       "      <td>0.05</td>\n",
       "      <td>0.04</td>\n",
       "      <td>0.20</td>\n",
       "      <td>0.20</td>\n",
       "      <td>0.15</td>\n",
       "      <td>0.08</td>\n",
       "      <td>0.18</td>\n",
       "    </tr>\n",
       "    <tr>\n",
       "      <th>last_activity</th>\n",
       "      <td>0.05</td>\n",
       "      <td>0.01</td>\n",
       "      <td>0.09</td>\n",
       "      <td>0.05</td>\n",
       "      <td>0.00</td>\n",
       "      <td>0.19</td>\n",
       "      <td>0.05</td>\n",
       "      <td>1.00</td>\n",
       "      <td>0.04</td>\n",
       "      <td>0.26</td>\n",
       "      <td>0.01</td>\n",
       "      <td>0.00</td>\n",
       "      <td>0.07</td>\n",
       "      <td>0.07</td>\n",
       "    </tr>\n",
       "    <tr>\n",
       "      <th>est_salary</th>\n",
       "      <td>0.40</td>\n",
       "      <td>0.14</td>\n",
       "      <td>0.36</td>\n",
       "      <td>0.29</td>\n",
       "      <td>0.37</td>\n",
       "      <td>0.16</td>\n",
       "      <td>0.04</td>\n",
       "      <td>0.04</td>\n",
       "      <td>1.00</td>\n",
       "      <td>0.05</td>\n",
       "      <td>0.14</td>\n",
       "      <td>0.14</td>\n",
       "      <td>0.10</td>\n",
       "      <td>0.18</td>\n",
       "    </tr>\n",
       "    <tr>\n",
       "      <th>churn</th>\n",
       "      <td>0.23</td>\n",
       "      <td>0.22</td>\n",
       "      <td>0.18</td>\n",
       "      <td>0.35</td>\n",
       "      <td>0.02</td>\n",
       "      <td>0.44</td>\n",
       "      <td>0.20</td>\n",
       "      <td>0.26</td>\n",
       "      <td>0.05</td>\n",
       "      <td>1.00</td>\n",
       "      <td>0.22</td>\n",
       "      <td>0.00</td>\n",
       "      <td>0.04</td>\n",
       "      <td>0.03</td>\n",
       "    </tr>\n",
       "    <tr>\n",
       "      <th>gender_int</th>\n",
       "      <td>0.07</td>\n",
       "      <td>1.00</td>\n",
       "      <td>0.29</td>\n",
       "      <td>0.06</td>\n",
       "      <td>0.05</td>\n",
       "      <td>0.12</td>\n",
       "      <td>0.20</td>\n",
       "      <td>0.01</td>\n",
       "      <td>0.14</td>\n",
       "      <td>0.22</td>\n",
       "      <td>1.00</td>\n",
       "      <td>0.02</td>\n",
       "      <td>0.02</td>\n",
       "      <td>0.03</td>\n",
       "    </tr>\n",
       "    <tr>\n",
       "      <th>city_ростов</th>\n",
       "      <td>0.09</td>\n",
       "      <td>0.02</td>\n",
       "      <td>0.07</td>\n",
       "      <td>0.06</td>\n",
       "      <td>0.00</td>\n",
       "      <td>0.08</td>\n",
       "      <td>0.15</td>\n",
       "      <td>0.00</td>\n",
       "      <td>0.14</td>\n",
       "      <td>0.00</td>\n",
       "      <td>0.02</td>\n",
       "      <td>1.00</td>\n",
       "      <td>0.38</td>\n",
       "      <td>0.69</td>\n",
       "    </tr>\n",
       "    <tr>\n",
       "      <th>city_рыбинск</th>\n",
       "      <td>0.03</td>\n",
       "      <td>0.02</td>\n",
       "      <td>0.06</td>\n",
       "      <td>0.00</td>\n",
       "      <td>0.02</td>\n",
       "      <td>0.15</td>\n",
       "      <td>0.08</td>\n",
       "      <td>0.07</td>\n",
       "      <td>0.10</td>\n",
       "      <td>0.04</td>\n",
       "      <td>0.02</td>\n",
       "      <td>0.38</td>\n",
       "      <td>1.00</td>\n",
       "      <td>0.91</td>\n",
       "    </tr>\n",
       "    <tr>\n",
       "      <th>city_ярославль</th>\n",
       "      <td>0.08</td>\n",
       "      <td>0.03</td>\n",
       "      <td>0.10</td>\n",
       "      <td>0.06</td>\n",
       "      <td>0.05</td>\n",
       "      <td>0.18</td>\n",
       "      <td>0.18</td>\n",
       "      <td>0.07</td>\n",
       "      <td>0.18</td>\n",
       "      <td>0.03</td>\n",
       "      <td>0.03</td>\n",
       "      <td>0.69</td>\n",
       "      <td>0.91</td>\n",
       "      <td>1.00</td>\n",
       "    </tr>\n",
       "  </tbody>\n",
       "</table>\n",
       "</div>"
      ],
      "text/plain": [
       "                score  gender   age  equity  balance  products  credit_card  \\\n",
       "score            1.00    0.07  0.04    0.53     0.17      0.31         0.21   \n",
       "gender           0.07    1.00  0.29    0.06     0.05      0.12         0.20   \n",
       "age              0.04    0.29  1.00    0.04     0.02      0.13         0.16   \n",
       "equity           0.53    0.06  0.04    1.00     0.00      0.44         0.22   \n",
       "balance          0.17    0.05  0.02    0.00     1.00      0.00         0.00   \n",
       "products         0.31    0.12  0.13    0.44     0.00      1.00         0.46   \n",
       "credit_card      0.21    0.20  0.16    0.22     0.00      0.46         1.00   \n",
       "last_activity    0.05    0.01  0.09    0.05     0.00      0.19         0.05   \n",
       "est_salary       0.40    0.14  0.36    0.29     0.37      0.16         0.04   \n",
       "churn            0.23    0.22  0.18    0.35     0.02      0.44         0.20   \n",
       "gender_int       0.07    1.00  0.29    0.06     0.05      0.12         0.20   \n",
       "city_ростов      0.09    0.02  0.07    0.06     0.00      0.08         0.15   \n",
       "city_рыбинск     0.03    0.02  0.06    0.00     0.02      0.15         0.08   \n",
       "city_ярославль   0.08    0.03  0.10    0.06     0.05      0.18         0.18   \n",
       "\n",
       "                last_activity  est_salary  churn  gender_int  city_ростов  \\\n",
       "score                    0.05        0.40   0.23        0.07         0.09   \n",
       "gender                   0.01        0.14   0.22        1.00         0.02   \n",
       "age                      0.09        0.36   0.18        0.29         0.07   \n",
       "equity                   0.05        0.29   0.35        0.06         0.06   \n",
       "balance                  0.00        0.37   0.02        0.05         0.00   \n",
       "products                 0.19        0.16   0.44        0.12         0.08   \n",
       "credit_card              0.05        0.04   0.20        0.20         0.15   \n",
       "last_activity            1.00        0.04   0.26        0.01         0.00   \n",
       "est_salary               0.04        1.00   0.05        0.14         0.14   \n",
       "churn                    0.26        0.05   1.00        0.22         0.00   \n",
       "gender_int               0.01        0.14   0.22        1.00         0.02   \n",
       "city_ростов              0.00        0.14   0.00        0.02         1.00   \n",
       "city_рыбинск             0.07        0.10   0.04        0.02         0.38   \n",
       "city_ярославль           0.07        0.18   0.03        0.03         0.69   \n",
       "\n",
       "                city_рыбинск  city_ярославль  \n",
       "score                   0.03            0.08  \n",
       "gender                  0.02            0.03  \n",
       "age                     0.06            0.10  \n",
       "equity                  0.00            0.06  \n",
       "balance                 0.02            0.05  \n",
       "products                0.15            0.18  \n",
       "credit_card             0.08            0.18  \n",
       "last_activity           0.07            0.07  \n",
       "est_salary              0.10            0.18  \n",
       "churn                   0.04            0.03  \n",
       "gender_int              0.02            0.03  \n",
       "city_ростов             0.38            0.69  \n",
       "city_рыбинск            1.00            0.91  \n",
       "city_ярославль          0.91            1.00  "
      ]
     },
     "execution_count": 42,
     "metadata": {},
     "output_type": "execute_result"
    }
   ],
   "source": [
    "phik_overview = data.phik_matrix()\n",
    "phik_overview.round(2)"
   ]
  },
  {
   "cell_type": "code",
   "execution_count": 43,
   "metadata": {},
   "outputs": [],
   "source": [
    "interval_cols = ['age','score', 'balance', 'est_salary']\n",
    "phik_overview = data.phik_matrix(interval_cols=interval_cols)"
   ]
  },
  {
   "cell_type": "code",
   "execution_count": 44,
   "metadata": {},
   "outputs": [
    {
     "data": {
      "image/png": "[encoded data removed]",
      "text/plain": [
       "<Figure size 720x720 with 2 Axes>"
      ]
     },
     "metadata": {
      "needs_background": "light"
     },
     "output_type": "display_data"
    }
   ],
   "source": [
    "plot_correlation_matrix(phik_overview.values,\n",
    "x_labels=phik_overview.columns,\n",
    "y_labels=phik_overview.index,\n",
    "vmin=0, vmax=1, color_map=\"Greens\",\n",
    "fontsize_factor=1,\n",
    "figsize=(10, 10))\n",
    "plt.tight_layout()"
   ]
  },
  {
   "cell_type": "markdown",
   "metadata": {},
   "source": [
    "Наблюдаем взаимосвязь между (0.44-0.53):\n",
    "- баллами кредитного скоринга и количеством баллов собственности;\n",
    "- количеством продуктов и оценкой собственности;\n",
    "- количеством продуктов и оттоком;\n",
    "- количеством продуктов и владением кредитной картой;\n",
    "\n",
    "Небольшая взаимосвязь (0.37) имеется между заработной платой клиента и его балансом."
   ]
  },
  {
   "cell_type": "code",
   "execution_count": 45,
   "metadata": {},
   "outputs": [
    {
     "name": "stderr",
     "output_type": "stream",
     "text": [
      "/opt/conda/lib/python3.9/site-packages/phik/phik.py:319: RuntimeWarning: invalid value encountered in sqrt\n",
      "  global_correlations = np.sqrt(\n"
     ]
    },
    {
     "data": {
      "image/png": "[encoded data removed]",
      "text/plain": [
       "<Figure size 252x288 with 2 Axes>"
      ]
     },
     "metadata": {
      "needs_background": "light"
     },
     "output_type": "display_data"
    }
   ],
   "source": [
    "global_correlation, global_labels = data.global_phik(interval_cols=interval_cols)\n",
    "\n",
    "plot_correlation_matrix(global_correlation,\n",
    "x_labels=[''], y_labels=global_labels,\n",
    "vmin=0, vmax=1, figsize=(3.5,4),\n",
    "color_map=\"Greens\", title=r\"$g_k$\",\n",
    "fontsize_factor=1)\n",
    "plt.tight_layout()"
   ]
  },
  {
   "cell_type": "markdown",
   "metadata": {},
   "source": [
    "Наибольшее влияние на отточность оказывают баллы кредитного скоринга и владение кредитной картой"
   ]
  },
  {
   "cell_type": "code",
   "execution_count": 46,
   "metadata": {},
   "outputs": [
    {
     "data": {
      "image/png": "[encoded data removed]",
      "text/plain": [
       "<Figure size 432x288 with 2 Axes>"
      ]
     },
     "metadata": {
      "needs_background": "light"
     },
     "output_type": "display_data"
    }
   ],
   "source": [
    "sns.heatmap(\n",
    "    data.corr().loc[:,['churn']]\n",
    "    .drop('churn').sort_values('churn'), \n",
    "    annot=True, fmt='.0%');"
   ]
  },
  {
   "cell_type": "markdown",
   "metadata": {},
   "source": [
    "<a id=\"conclusions\"></a> "
   ]
  },
  {
   "cell_type": "markdown",
   "metadata": {},
   "source": [
    "### Выводы из исследовательского анализа"
   ]
  },
  {
   "cell_type": "markdown",
   "metadata": {},
   "source": [
    "**Основные выводы:**\n",
    "\n",
    "- Соотношение мужчин и женщин в выборке примерно одинаковое;\n",
    "- Наибольшее количество клиентов имеют 0 баллов собственности;\n",
    "- Большинство клиентов банка оформили два продукта;\n",
    "- Клиентов, оформивших кредитную карту больше;\n",
    "- Наибольшее количество клиентов из Ярославля, наименьшее количество людей из Ростова;\n",
    "- К расторжению договора с банком больше склонен следующий тип клиентов: мужчина, 5 баллов собственности, 2 продукта, имеет кредитную карту, активный клиент, скорее всего из Ярославля;\n",
    "- Наибольшую вероятность оттока имеют клиенты с: баллами кредитного скоринга 840-910; возрастом от 25 до 35 лет и от 50 до 60 лет; балансом выше 800 тыс; зарплатой выше 90 тыс.\n",
    "- Портреты типичных клиентов, которые склонны и не склонны уходить из банка:\n",
    "  - Среднестатистический пользователь, имеющий маленький процент вероятности оттока - женщина, имеющая баллы скоринга 845, 43 года, оценка собственности 2, баланс 475410, 2 продукта, в том числе, кредитная карта, не является активным пользователем и имеет зарплату в 118 227.\n",
    "  - Среднестатистический пользователь имеющий большой процент вероятности оттока - мужчина, имеющий баллы скоринга 863, 41 год, оценка собственности 4, баланс 783908, 2 продукта, в том числе, кредитная карта, является активным пользователем и имеет зарплату в 125 395.\n",
    "- Есть взаимосвязь между баллами кредитного скоринга и количеством баллов собственности, количеством продуктов и владением кредитной картой;\n",
    "- Наибольшее влияние на отточность оказывают баллы кредитного скоринга и владение кредитной картой."
   ]
  },
  {
   "cell_type": "markdown",
   "metadata": {},
   "source": [
    "<a id=\"seg\"></a> "
   ]
  },
  {
   "cell_type": "markdown",
   "metadata": {},
   "source": [
    "# Сегментация"
   ]
  },
  {
   "cell_type": "markdown",
   "metadata": {},
   "source": [
    "Перейдем к сегментации, объединяя по 2 признака отточности, сформируем высокоотточные сегменты, из них выберем наиболее многочисленные"
   ]
  },
  {
   "cell_type": "markdown",
   "metadata": {},
   "source": [
    "**1 сегмент - Клиенты, имеющие баллы кредитного скоринга 840-910 и баланс выше 800 тыс**"
   ]
  },
  {
   "cell_type": "code",
   "execution_count": 47,
   "metadata": {},
   "outputs": [
    {
     "name": "stdout",
     "output_type": "stream",
     "text": [
      "Количество активных клиентов: 1131\n",
      "Из них являются отточными: 479\n"
     ]
    },
    {
     "data": {
      "image/png": "[encoded data removed]",
      "text/plain": [
       "<Figure size 360x360 with 1 Axes>"
      ]
     },
     "metadata": {},
     "output_type": "display_data"
    }
   ],
   "source": [
    "data.query('score >= 840 and score <= 910 and balance >= 800000').groupby('churn')['churn'].count().plot(\n",
    "    kind='pie',\n",
    "    figsize=(5,5),\n",
    "    y='churn',\n",
    "    autopct='%1.1f%%')\n",
    "\n",
    "plt.legend(labels = ['Остался', 'Ушел'])\n",
    "\n",
    "plt.title('Процент оттока клиентов, имеющих баллы кредитного скоринга 840-910 и баланс выше 800 тыс');\n",
    "\n",
    "print(f'Количество активных клиентов: {len(data.query(\"score >= 840 and score <= 910 and balance >= 800000\"))}')\n",
    "print(f'Из них являются отточными: {len(data.query(\"score >= 840 and score <= 910 and balance >= 800000 and churn==1\"))}')"
   ]
  },
  {
   "cell_type": "markdown",
   "metadata": {},
   "source": [
    "Слишком маленький сегмент"
   ]
  },
  {
   "cell_type": "markdown",
   "metadata": {},
   "source": [
    "**2 сегмент - активные клиенты, имеющие баллы кредитного скоринга 840-910**"
   ]
  },
  {
   "cell_type": "code",
   "execution_count": 48,
   "metadata": {},
   "outputs": [
    {
     "name": "stdout",
     "output_type": "stream",
     "text": [
      "Количество активных клиентов: 1887\n",
      "Из них являются отточными: 575\n"
     ]
    },
    {
     "data": {
      "image/png": "[encoded data removed]",
      "text/plain": [
       "<Figure size 360x360 with 1 Axes>"
      ]
     },
     "metadata": {},
     "output_type": "display_data"
    }
   ],
   "source": [
    "data.query('score >= 840 and score <= 910 and last_activity == 1').groupby('churn')['churn'].count().plot(\n",
    "    kind='pie',\n",
    "    figsize=(5,5),\n",
    "    y='churn',\n",
    "    autopct='%1.1f%%')\n",
    "\n",
    "plt.legend(labels = ['Остался', 'Ушел'])\n",
    "\n",
    "plt.title('Процент оттока активных клиентов, имеющих баллы кредитного скоринга 840-910');\n",
    "\n",
    "print(f'Количество активных клиентов: {len(data.query(\"score >= 840 and score <= 910 and last_activity == 1\"))}')\n",
    "print(f'Из них являются отточными: {len(data.query(\"score >= 850 and score <= 900 and last_activity==1 and churn==1\"))}')"
   ]
  },
  {
   "cell_type": "markdown",
   "metadata": {},
   "source": [
    "**3 сегмент - клиенты мужского пола, имеющие более 2х продуктов**"
   ]
  },
  {
   "cell_type": "code",
   "execution_count": 49,
   "metadata": {},
   "outputs": [
    {
     "name": "stdout",
     "output_type": "stream",
     "text": [
      "Количество активных клиентов: 3462\n",
      "Из них являются отточными: 1122\n"
     ]
    },
    {
     "data": {
      "image/png": "[encoded data removed]",
      "text/plain": [
       "<Figure size 360x360 with 1 Axes>"
      ]
     },
     "metadata": {},
     "output_type": "display_data"
    }
   ],
   "source": [
    "data.query('products >= 2 and last_activity == 1').groupby('churn')['churn'].count().plot(\n",
    "    kind='pie',\n",
    "    figsize=(5,5),\n",
    "    y='churn',\n",
    "    autopct='%1.1f%%')\n",
    "\n",
    "plt.legend(labels = ['Остался', 'Ушел'])\n",
    "\n",
    "plt.title('Процент оттока клиентов мужского пола, имеющих более 2х продуктов');\n",
    "\n",
    "print(f'Количество активных клиентов: {len(data.query(\"products >= 2 and last_activity == 1\"))}')\n",
    "print(f'Из них являются отточными: {len(data.query(\"products >= 2 and last_activity == 1 and churn==1\"))}')"
   ]
  },
  {
   "cell_type": "markdown",
   "metadata": {},
   "source": [
    "**4 сегмент - клиенты, не имеющие кредитную карту и оценку собственности 4 и выше**"
   ]
  },
  {
   "cell_type": "code",
   "execution_count": 50,
   "metadata": {},
   "outputs": [
    {
     "name": "stdout",
     "output_type": "stream",
     "text": [
      "Количество активных клиентов: 1586\n",
      "Из них являются отточными: 577\n"
     ]
    },
    {
     "data": {
      "image/png": "[encoded data removed]",
      "text/plain": [
       "<Figure size 360x360 with 1 Axes>"
      ]
     },
     "metadata": {},
     "output_type": "display_data"
    }
   ],
   "source": [
    "data.query('equity >= 4 and credit_card==0').groupby('churn')['churn'].count().plot(\n",
    "    kind='pie',\n",
    "    figsize=(5,5),\n",
    "    y='churn',\n",
    "    autopct='%1.1f%%')\n",
    "\n",
    "plt.legend(labels = ['Остался', 'Ушел'])\n",
    "\n",
    "plt.title('Процент оттока клиентов, не имеющих кредитную карту и оценку собственности 4 и выше');\n",
    "\n",
    "print(f'Количество активных клиентов: {len(data.query(\"equity >= 4 and credit_card==0\"))}')\n",
    "print(f'Из них являются отточными: {len(data.query(\"equity >= 4 and credit_card==0 and churn==1\"))}')"
   ]
  },
  {
   "cell_type": "markdown",
   "metadata": {},
   "source": [
    "**5 сегмент - клиенты, имеющие баллы кредитного скоринга 840-910 и баланс выше 800 тыс**"
   ]
  },
  {
   "cell_type": "code",
   "execution_count": 51,
   "metadata": {},
   "outputs": [
    {
     "name": "stdout",
     "output_type": "stream",
     "text": [
      "Количество активных клиентов: 1428\n",
      "Из них являются отточными: 483\n"
     ]
    },
    {
     "data": {
      "image/png": "[encoded data removed]",
      "text/plain": [
       "<Figure size 360x360 with 1 Axes>"
      ]
     },
     "metadata": {},
     "output_type": "display_data"
    }
   ],
   "source": [
    "data.query('score >= 840 and score <= 910 and credit_card==0').groupby('churn')['churn'].count().plot(\n",
    "    kind='pie',\n",
    "    figsize=(5,5),\n",
    "    y='churn',\n",
    "    autopct='%1.1f%%')\n",
    "\n",
    "plt.legend(labels = ['Остался', 'Ушел'])\n",
    "\n",
    "plt.title('Процент оттока клиентов, имеющих баллы кредитного скоринга 840-910 и баланс выше 800 тыс');\n",
    "\n",
    "print(f'Количество активных клиентов: {len(data.query(\"score >= 840 and score <= 910 and credit_card==0\"))}')\n",
    "print(f'Из них являются отточными: {len(data.query(\"score >= 840 and score <= 910 and credit_card==0 and churn==1\"))}')"
   ]
  },
  {
   "cell_type": "markdown",
   "metadata": {},
   "source": [
    "Слишком маленький сегмент"
   ]
  },
  {
   "cell_type": "markdown",
   "metadata": {},
   "source": [
    "Таким образом выделены 3 наиболее многочисленные отточные сегменты клиентов на основе признаков, имеющих наибольшее влияние на зависимую переменнную.\n",
    "\n",
    "Сюда вошли такие сегменты, как:\n",
    "- клиенты, не имеющие кредитную карту и оценку собственности 4 и выше;\n",
    "- активные клиенты, имеющие баллы кредитного скоринга 840-910;\n",
    "- клиенты мужского пола, имеющие более 2х продуктов."
   ]
  },
  {
   "cell_type": "markdown",
   "metadata": {},
   "source": [
    "<a id=\"stat\"></a> "
   ]
  },
  {
   "cell_type": "markdown",
   "metadata": {},
   "source": [
    "# Статистический анализ данных"
   ]
  },
  {
   "cell_type": "markdown",
   "metadata": {},
   "source": [
    "**Гипотеза №1**\n",
    "\n",
    "Проверим гипотезу различия дохода между теми клиентами, которые ушли и теми, которые остались."
   ]
  },
  {
   "cell_type": "markdown",
   "metadata": {},
   "source": [
    "Сформулируем гипотезы:\n",
    "\n",
    "H_0: Средняя заработная плата отточных клиентов равна средней заработной плате неотточных клиентов\n",
    "\n",
    "Н_1: Средняя заработная плата отточных клиентов не равна средней заработной плате неотточных клиентов"
   ]
  },
  {
   "cell_type": "code",
   "execution_count": 52,
   "metadata": {},
   "outputs": [
    {
     "name": "stdout",
     "output_type": "stream",
     "text": [
      "p-значение: 0.8647861589211189\n",
      "Не получилось отвергнуть нулевую гипотезу\n"
     ]
    }
   ],
   "source": [
    "results = st.ttest_ind(\n",
    "    data.query('churn == 1')['est_salary'], \n",
    "    data.query('churn == 0')['est_salary'])\n",
    "\n",
    "alpha = 0.05 #критический уровень статистической значимости\n",
    "\n",
    "print('p-значение:', results.pvalue)\n",
    "\n",
    "if results.pvalue < alpha:\n",
    "    print('Отвергаем нулевую гипотезу')\n",
    "else:\n",
    "    print('Не получилось отвергнуть нулевую гипотезу')"
   ]
  },
  {
   "cell_type": "markdown",
   "metadata": {},
   "source": [
    "Нулевую гипотезу отвергнуть мы не можем => средняя заработная плата у отточных и неотточных клиентов равна."
   ]
  },
  {
   "cell_type": "markdown",
   "metadata": {},
   "source": [
    "**Гипотеза №2**\n",
    "\n",
    "Сформулируем вторую гипотезу: \n",
    "\n",
    "Проверим гипотезу различия количества баллов собственности между теми клиентами, которые ушли и теми, которые остались."
   ]
  },
  {
   "cell_type": "markdown",
   "metadata": {},
   "source": [
    "H_0: Среднее количество баллов собственности у отточных клиентов равно среднему количеству баллов собственности у неотточных клиентов\n",
    "\n",
    "Н_1: Среднее количество баллов собственности у отточных клиентов не равно среднему количеству баллов собственности у неотточных клиентов"
   ]
  },
  {
   "cell_type": "code",
   "execution_count": 53,
   "metadata": {},
   "outputs": [
    {
     "name": "stdout",
     "output_type": "stream",
     "text": [
      "p-значение: 2.872142636918415e-166\n",
      "Отвергаем нулевую гипотезу\n"
     ]
    }
   ],
   "source": [
    "results = st.ttest_ind(\n",
    "    data.query('churn == 1')['equity'], \n",
    "    data.query('churn == 0')['equity'])\n",
    "\n",
    "alpha = 0.05 #критический уровень статистической значимости\n",
    "\n",
    "print('p-значение:', results.pvalue)\n",
    "\n",
    "if results.pvalue < alpha:\n",
    "    print('Отвергаем нулевую гипотезу')\n",
    "else:\n",
    "    print('Не получилось отвергнуть нулевую гипотезу')"
   ]
  },
  {
   "cell_type": "markdown",
   "metadata": {},
   "source": [
    "Отвергаем нулевую гипотезу => среднее количество баллов собственности у отточных и неотточных клиентов различается."
   ]
  },
  {
   "cell_type": "markdown",
   "metadata": {},
   "source": [
    "**Гипотеза №3**\n",
    "\n",
    "Проверим еще одну гипотезу\n",
    "\n",
    "Проверим гипотезу различия количества продуктов между теми клиентами, которые ушли и теми, которые остались."
   ]
  },
  {
   "cell_type": "markdown",
   "metadata": {},
   "source": [
    "H_0: Среднее количество продуктов у отточных клиентов равно среднему количеству продуктов у неотточных клиентов\n",
    "\n",
    "Н_1: Среднее количество продуктов у отточных клиентов не равно среднему количеству продуктов у неотточных клиентов"
   ]
  },
  {
   "cell_type": "code",
   "execution_count": 54,
   "metadata": {},
   "outputs": [
    {
     "name": "stdout",
     "output_type": "stream",
     "text": [
      "p-значение: 2.0765646697701624e-207\n",
      "Отвергаем нулевую гипотезу\n"
     ]
    }
   ],
   "source": [
    "results = st.ttest_ind(\n",
    "    data.query('churn == 1')['products'], \n",
    "    data.query('churn == 0')['products'])\n",
    "\n",
    "alpha = 0.05 #критический уровень статистической значимости\n",
    "\n",
    "print('p-значение:', results.pvalue)\n",
    "\n",
    "if results.pvalue < alpha:\n",
    "    print('Отвергаем нулевую гипотезу')\n",
    "else:\n",
    "    print('Не получилось отвергнуть нулевую гипотезу')"
   ]
  },
  {
   "cell_type": "markdown",
   "metadata": {},
   "source": [
    "Отвергаем нулевую гипотезу => среднее количество продуктов не равно у отточных и неотточных клиентов."
   ]
  },
  {
   "cell_type": "markdown",
   "metadata": {},
   "source": [
    "<a id=\"recomendation\"></a> "
   ]
  },
  {
   "cell_type": "markdown",
   "metadata": {},
   "source": [
    "# Выводы"
   ]
  },
  {
   "cell_type": "markdown",
   "metadata": {},
   "source": [
    "**В ходе исследования мы:**\n",
    "\n",
    "1) Провели предобработку данных:\n",
    "   - Изучили общую информацию о полученном датафрейме;\n",
    "   - Обработали пропущенные значения;\n",
    "   - Проверили наличие дубликатов и провели исследование их природы;\n",
    "   - Рассмотрели типы данных в каждом столбце, изменили тип данных там, где это было необходимо;\n",
    "   - Изменили названия некоторых столбцов;\n",
    "   - Проверили кодирование данных.\n",
    "\n",
    "2) Выполнили исследовательский анализ данных:\n",
    "   - Провели анализ распределений;\n",
    "   - Проверили анализ портретов клиентов;\n",
    "   - Выполнили корреляционные анализ;\n",
    "   - Сделали основные выводы из исследовательского анализа.\n",
    "\n",
    "3) Провели сегментацию данные\n",
    "\n",
    "4) Реализовали статистический анализ данных\n",
    "\n",
    "**Основные выводы:**\n",
    "\n",
    "- К расторжению договора с банком больше склонен следующий тип клиентов: мужчина, 5 баллов собственности, 2 продукта, имеет кредитную карту, активный клиент, из города Ярославль;\n",
    "- Наибольшую вероятность оттока имеют клиенты с: баллами кредитного скоринга 840-910; возрастом от 25 до 35 лет и от 50 до 60 лет; балансом выше 800 тыс; зарплатой выше 90 тыс;\n",
    "- Портреты типичных клиентов, которые склонны и не склонны уходить из банка:\n",
    "  - Среднестатистический пользователь, имеющий маленький процент вероятности оттока - женщина, имеющая баллы скоринга 845, 43 года, оценка собственности 2, баланс 475410, 2 продукта, в том числе, кредитная карта, не является активным пользователем и имеет зарплату в 118 227.\n",
    "  - Среднестатистический пользователь имеющий большой процент вероятности оттока - мужчина, имеющий баллы скоринга 863, 41 год, оценка собственности 4, баланс 783908, 2 продукта, в том числе, кредитная карта, является активным пользователем и имеет зарплату в 125 395.\n",
    "- Наибольшее влияние на отточность оказывают количество продуктов и оценка собственности клиента.\n",
    "- 3 наиболее отточных сегмента клиентов на основе признаков, имеющих наибольшее влияние на зависимую переменнную это:\n",
    "  * клиенты, не имеющие кредитную карту и оценку собственности 4 и выше;\n",
    "  * активные клиенты, имеющие баллы кредитного скоринга 840-910;\n",
    "  * клиенты мужского пола, имеющие более 2х продуктов.\n",
    "- Cредняя заработная плата у отточных и неотточных клиентов равна;\n",
    "- Среднее количество продуктов и баллов собственности у отточных и неотточных клиентов различается.\n",
    "\n",
    "\n",
    "# Рекомендации по основным отточным сегментам для маркетинга:\n",
    "\n",
    "1. Клиенты, не имеющие кредитную карту и оценку собственности 4 и выше:\n",
    "\n",
    "Стоит внимательнее относиться к этому сегменту, можно сделать рассылку/смс-уведомления о преимуществах использования банковской карты именно нашего банка и в целом. Поддерживать интерес при помощи бонусов и акций за использование продуктов или бонусы за операции свыше какой-то суммы. Рассказывать о продуктах банка.\n",
    "\n",
    "2. Активные клиенты, имеющие баллы кредитного скоринга 840-910:\n",
    "\n",
    "Этому сегменту однозначно стоит уделять больше внимания, использовать регулярные оповещения, рассылки, смс-уведомления, обязательно вклчать в них предложения дополнительных услуг банка, новых продуктов, можно рассмотреть бонусную программу за использование имеющихся продуктов или накопительные баллы, кэш-бек.\n",
    "\n",
    "3. Клиенты мужского пола, имеющие более 2х продуктов:\n",
    "\n",
    "Здесь стоит подключить персонализированные рекомендации, на основе предпочтений, выгодные предложения на наборы определенных продуктов, подходящих конкретному клиенту. Поддерживать интерес сегмента за счет уведомлений/рассылок о новых продуктах банка и акциях, бонусных программах."
   ]
  },
  {
   "cell_type": "markdown",
   "metadata": {},
   "source": [
    "<a id=\"powerpoint\"></a> "
   ]
  },
  {
   "cell_type": "markdown",
   "metadata": {},
   "source": [
    "# Подготовка презентации и дашборда"
   ]
  },
  {
   "cell_type": "markdown",
   "metadata": {},
   "source": [
    "**Ccылка на презентацию:**\n",
    "\n",
    "https://docs.google.com/presentation/d/1ukshHBK8hK66pLIPVaDXcoYq_bh04UpqS1RSEiazhyE/edit?usp=sharing"
   ]
  },
  {
   "cell_type": "markdown",
   "metadata": {},
   "source": [
    "**Ссылки на дашборд:**\n",
    "\n",
    "https://public.tableau.com/app/profile/sofia.lipskaia/viz/Bank-Customerchurn/sheet1?publish=yes\n",
    "\n",
    "https://public.tableau.com/views/Bank-Customerchurn/sheet1?:language=en-US&publish=yes&:display_count=n&:origin=viz_share_link"
   ]
  }
 ],
 "metadata": {
  "ExecuteTimeLog": [
   {
    "duration": 1461,
    "start_time": "2023-07-14T15:54:01.081Z"
   },
   {
    "duration": 80,
    "start_time": "2023-07-14T15:54:04.805Z"
   },
   {
    "duration": 25,
    "start_time": "2023-07-14T15:54:06.061Z"
   },
   {
    "duration": 13,
    "start_time": "2023-07-14T15:54:08.087Z"
   },
   {
    "duration": 57,
    "start_time": "2023-07-14T15:54:09.051Z"
   },
   {
    "duration": 912,
    "start_time": "2023-07-14T15:54:09.991Z"
   },
   {
    "duration": 5,
    "start_time": "2023-07-14T15:54:34.157Z"
   },
   {
    "duration": 10,
    "start_time": "2023-07-14T16:04:35.900Z"
   },
   {
    "duration": 5,
    "start_time": "2023-07-14T16:29:46.682Z"
   },
   {
    "duration": 4,
    "start_time": "2023-07-14T16:29:58.504Z"
   },
   {
    "duration": 3,
    "start_time": "2023-07-14T16:30:43.285Z"
   },
   {
    "duration": 16,
    "start_time": "2023-07-14T16:30:56.103Z"
   },
   {
    "duration": 10,
    "start_time": "2023-07-14T16:33:12.195Z"
   },
   {
    "duration": 5,
    "start_time": "2023-07-14T16:35:36.448Z"
   },
   {
    "duration": 109,
    "start_time": "2023-07-14T16:35:37.320Z"
   },
   {
    "duration": 4,
    "start_time": "2023-07-14T16:35:50.120Z"
   },
   {
    "duration": 104,
    "start_time": "2023-07-14T16:35:50.752Z"
   },
   {
    "duration": 4,
    "start_time": "2023-07-14T16:35:57.780Z"
   },
   {
    "duration": 96,
    "start_time": "2023-07-14T16:35:58.533Z"
   },
   {
    "duration": 6,
    "start_time": "2023-07-14T16:36:13.620Z"
   },
   {
    "duration": 106,
    "start_time": "2023-07-14T16:36:14.288Z"
   },
   {
    "duration": 4,
    "start_time": "2023-07-14T16:36:21.381Z"
   },
   {
    "duration": 179,
    "start_time": "2023-07-14T16:36:22.133Z"
   },
   {
    "duration": 1129,
    "start_time": "2023-07-14T17:42:47.811Z"
   },
   {
    "duration": 4,
    "start_time": "2023-07-14T17:42:50.995Z"
   },
   {
    "duration": 40,
    "start_time": "2023-07-14T17:42:51.563Z"
   },
   {
    "duration": 17,
    "start_time": "2023-07-14T17:42:52.006Z"
   },
   {
    "duration": 13,
    "start_time": "2023-07-14T17:42:52.324Z"
   },
   {
    "duration": 37,
    "start_time": "2023-07-14T17:42:52.660Z"
   },
   {
    "duration": 967,
    "start_time": "2023-07-14T17:42:53.528Z"
   },
   {
    "duration": 9,
    "start_time": "2023-07-14T17:42:54.497Z"
   },
   {
    "duration": 4,
    "start_time": "2023-07-14T17:42:55.283Z"
   },
   {
    "duration": 4,
    "start_time": "2023-07-14T17:42:55.597Z"
   },
   {
    "duration": 12,
    "start_time": "2023-07-14T17:42:55.975Z"
   },
   {
    "duration": 8,
    "start_time": "2023-07-14T17:42:57.304Z"
   },
   {
    "duration": 4,
    "start_time": "2023-07-14T17:42:57.955Z"
   },
   {
    "duration": 91,
    "start_time": "2023-07-14T17:42:58.392Z"
   },
   {
    "duration": 9,
    "start_time": "2023-07-14T17:42:59.995Z"
   },
   {
    "duration": 9,
    "start_time": "2023-07-14T17:43:23.425Z"
   },
   {
    "duration": 13,
    "start_time": "2023-07-14T17:44:17.895Z"
   },
   {
    "duration": 17,
    "start_time": "2023-07-14T17:44:29.791Z"
   },
   {
    "duration": 21,
    "start_time": "2023-07-14T17:50:42.920Z"
   },
   {
    "duration": 11,
    "start_time": "2023-07-14T17:52:18.338Z"
   },
   {
    "duration": 9,
    "start_time": "2023-07-14T17:53:49.170Z"
   },
   {
    "duration": 9,
    "start_time": "2023-07-14T17:54:21.202Z"
   },
   {
    "duration": 31,
    "start_time": "2023-07-14T17:55:43.970Z"
   },
   {
    "duration": 9,
    "start_time": "2023-07-14T17:56:46.754Z"
   },
   {
    "duration": 10,
    "start_time": "2023-07-14T17:57:01.710Z"
   },
   {
    "duration": 9,
    "start_time": "2023-07-14T17:57:10.853Z"
   },
   {
    "duration": 13,
    "start_time": "2023-07-14T17:58:09.077Z"
   },
   {
    "duration": 10,
    "start_time": "2023-07-14T17:58:27.769Z"
   },
   {
    "duration": 16,
    "start_time": "2023-07-14T17:58:40.517Z"
   },
   {
    "duration": 11,
    "start_time": "2023-07-14T18:05:01.364Z"
   },
   {
    "duration": 15,
    "start_time": "2023-07-14T18:05:23.086Z"
   },
   {
    "duration": 4,
    "start_time": "2023-07-14T18:08:35.280Z"
   },
   {
    "duration": 5,
    "start_time": "2023-07-14T18:08:48.700Z"
   },
   {
    "duration": 6,
    "start_time": "2023-07-14T18:09:24.707Z"
   },
   {
    "duration": 8,
    "start_time": "2023-07-14T18:09:56.164Z"
   },
   {
    "duration": 4,
    "start_time": "2023-07-14T18:12:07.124Z"
   },
   {
    "duration": 5,
    "start_time": "2023-07-14T18:12:11.996Z"
   },
   {
    "duration": 5,
    "start_time": "2023-07-14T18:12:19.260Z"
   },
   {
    "duration": 1447,
    "start_time": "2023-07-14T18:40:23.354Z"
   },
   {
    "duration": 5,
    "start_time": "2023-07-14T18:40:24.803Z"
   },
   {
    "duration": 213,
    "start_time": "2023-07-14T18:40:24.810Z"
   },
   {
    "duration": 15,
    "start_time": "2023-07-14T18:40:25.891Z"
   },
   {
    "duration": 13,
    "start_time": "2023-07-14T18:40:26.086Z"
   },
   {
    "duration": 41,
    "start_time": "2023-07-14T18:40:26.348Z"
   },
   {
    "duration": 953,
    "start_time": "2023-07-14T18:40:27.050Z"
   },
   {
    "duration": 7,
    "start_time": "2023-07-14T18:40:28.005Z"
   },
   {
    "duration": 4,
    "start_time": "2023-07-14T18:40:28.257Z"
   },
   {
    "duration": 3,
    "start_time": "2023-07-14T18:40:28.494Z"
   },
   {
    "duration": 11,
    "start_time": "2023-07-14T18:40:28.713Z"
   },
   {
    "duration": 7,
    "start_time": "2023-07-14T18:40:29.416Z"
   },
   {
    "duration": 4,
    "start_time": "2023-07-14T18:40:29.909Z"
   },
   {
    "duration": 130,
    "start_time": "2023-07-14T18:40:30.150Z"
   },
   {
    "duration": 12,
    "start_time": "2023-07-14T18:40:30.652Z"
   },
   {
    "duration": 19,
    "start_time": "2023-07-14T18:40:31.300Z"
   },
   {
    "duration": 10,
    "start_time": "2023-07-14T18:40:32.080Z"
   },
   {
    "duration": 14,
    "start_time": "2023-07-14T18:40:32.832Z"
   },
   {
    "duration": 9,
    "start_time": "2023-07-14T18:40:33.115Z"
   },
   {
    "duration": 15,
    "start_time": "2023-07-14T18:40:33.390Z"
   },
   {
    "duration": 13,
    "start_time": "2023-07-14T18:40:34.577Z"
   },
   {
    "duration": 15,
    "start_time": "2023-07-14T18:40:34.793Z"
   },
   {
    "duration": 5,
    "start_time": "2023-07-14T18:40:35.647Z"
   },
   {
    "duration": 15,
    "start_time": "2023-07-14T18:40:35.936Z"
   },
   {
    "duration": 3,
    "start_time": "2023-07-14T18:40:37.183Z"
   },
   {
    "duration": 8,
    "start_time": "2023-07-14T18:40:37.920Z"
   },
   {
    "duration": 109,
    "start_time": "2023-07-14T18:40:45.069Z"
   },
   {
    "duration": 14,
    "start_time": "2023-07-14T18:40:56.752Z"
   },
   {
    "duration": 6,
    "start_time": "2023-07-14T18:41:03.580Z"
   },
   {
    "duration": 9,
    "start_time": "2023-07-14T18:41:21.100Z"
   },
   {
    "duration": 1129,
    "start_time": "2023-07-14T19:13:49.860Z"
   },
   {
    "duration": 4,
    "start_time": "2023-07-14T19:13:50.991Z"
   },
   {
    "duration": 59,
    "start_time": "2023-07-14T19:13:51.730Z"
   },
   {
    "duration": 25,
    "start_time": "2023-07-14T19:13:51.925Z"
   },
   {
    "duration": 12,
    "start_time": "2023-07-14T19:13:52.115Z"
   },
   {
    "duration": 52,
    "start_time": "2023-07-14T19:13:52.311Z"
   },
   {
    "duration": 1019,
    "start_time": "2023-07-14T19:13:52.916Z"
   },
   {
    "duration": 21,
    "start_time": "2023-07-14T19:13:53.942Z"
   },
   {
    "duration": 19,
    "start_time": "2023-07-14T19:13:53.966Z"
   },
   {
    "duration": 3,
    "start_time": "2023-07-14T19:13:54.091Z"
   },
   {
    "duration": 12,
    "start_time": "2023-07-14T19:13:54.302Z"
   },
   {
    "duration": 10,
    "start_time": "2023-07-14T19:13:54.896Z"
   },
   {
    "duration": 4,
    "start_time": "2023-07-14T19:13:55.303Z"
   },
   {
    "duration": 103,
    "start_time": "2023-07-14T19:13:55.521Z"
   },
   {
    "duration": 9,
    "start_time": "2023-07-14T19:13:56.058Z"
   },
   {
    "duration": 20,
    "start_time": "2023-07-14T19:13:56.479Z"
   },
   {
    "duration": 10,
    "start_time": "2023-07-14T19:13:57.222Z"
   },
   {
    "duration": 10,
    "start_time": "2023-07-14T19:13:58.017Z"
   },
   {
    "duration": 9,
    "start_time": "2023-07-14T19:13:58.262Z"
   },
   {
    "duration": 35,
    "start_time": "2023-07-14T19:13:58.520Z"
   },
   {
    "duration": 30,
    "start_time": "2023-07-14T19:13:59.633Z"
   },
   {
    "duration": 12,
    "start_time": "2023-07-14T19:13:59.860Z"
   },
   {
    "duration": 4,
    "start_time": "2023-07-14T19:14:00.596Z"
   },
   {
    "duration": 7,
    "start_time": "2023-07-14T19:14:00.960Z"
   },
   {
    "duration": 12,
    "start_time": "2023-07-14T19:14:01.331Z"
   },
   {
    "duration": 6,
    "start_time": "2023-07-14T19:14:01.688Z"
   },
   {
    "duration": 6,
    "start_time": "2023-07-14T19:14:04.565Z"
   },
   {
    "duration": 5,
    "start_time": "2023-07-14T19:14:12.008Z"
   },
   {
    "duration": 7,
    "start_time": "2023-07-14T19:14:15.259Z"
   },
   {
    "duration": 16,
    "start_time": "2023-07-14T19:14:42.533Z"
   },
   {
    "duration": 4,
    "start_time": "2023-07-14T19:15:15.903Z"
   },
   {
    "duration": 17,
    "start_time": "2023-07-14T19:15:24.754Z"
   },
   {
    "duration": 15,
    "start_time": "2023-07-14T19:15:37.681Z"
   },
   {
    "duration": 14,
    "start_time": "2023-07-14T19:21:55.703Z"
   },
   {
    "duration": 6,
    "start_time": "2023-07-14T19:22:07.329Z"
   },
   {
    "duration": 1169,
    "start_time": "2023-07-14T19:22:14.160Z"
   },
   {
    "duration": 3,
    "start_time": "2023-07-14T19:22:16.529Z"
   },
   {
    "duration": 59,
    "start_time": "2023-07-14T19:22:16.692Z"
   },
   {
    "duration": 18,
    "start_time": "2023-07-14T19:22:16.872Z"
   },
   {
    "duration": 13,
    "start_time": "2023-07-14T19:22:17.067Z"
   },
   {
    "duration": 52,
    "start_time": "2023-07-14T19:22:17.228Z"
   },
   {
    "duration": 945,
    "start_time": "2023-07-14T19:22:17.822Z"
   },
   {
    "duration": 7,
    "start_time": "2023-07-14T19:22:18.769Z"
   },
   {
    "duration": 15,
    "start_time": "2023-07-14T19:22:18.830Z"
   },
   {
    "duration": 3,
    "start_time": "2023-07-14T19:22:19.026Z"
   },
   {
    "duration": 11,
    "start_time": "2023-07-14T19:22:19.218Z"
   },
   {
    "duration": 11,
    "start_time": "2023-07-14T19:22:19.853Z"
   },
   {
    "duration": 5,
    "start_time": "2023-07-14T19:22:20.269Z"
   },
   {
    "duration": 109,
    "start_time": "2023-07-14T19:22:20.475Z"
   },
   {
    "duration": 9,
    "start_time": "2023-07-14T19:22:20.870Z"
   },
   {
    "duration": 30,
    "start_time": "2023-07-14T19:22:21.284Z"
   },
   {
    "duration": 15,
    "start_time": "2023-07-14T19:22:22.074Z"
   },
   {
    "duration": 14,
    "start_time": "2023-07-14T19:22:22.752Z"
   },
   {
    "duration": 8,
    "start_time": "2023-07-14T19:22:22.961Z"
   },
   {
    "duration": 22,
    "start_time": "2023-07-14T19:22:23.170Z"
   },
   {
    "duration": 11,
    "start_time": "2023-07-14T19:22:24.065Z"
   },
   {
    "duration": 11,
    "start_time": "2023-07-14T19:22:24.281Z"
   },
   {
    "duration": 15,
    "start_time": "2023-07-14T19:22:24.743Z"
   },
   {
    "duration": 5,
    "start_time": "2023-07-14T19:22:24.961Z"
   },
   {
    "duration": 5,
    "start_time": "2023-07-14T19:22:25.164Z"
   },
   {
    "duration": 5,
    "start_time": "2023-07-14T19:22:25.385Z"
   },
   {
    "duration": 5,
    "start_time": "2023-07-14T19:22:27.288Z"
   },
   {
    "duration": 5,
    "start_time": "2023-07-14T19:22:27.503Z"
   },
   {
    "duration": 18,
    "start_time": "2023-07-14T19:22:27.855Z"
   },
   {
    "duration": 4,
    "start_time": "2023-07-14T19:22:28.059Z"
   },
   {
    "duration": 19,
    "start_time": "2023-07-14T19:22:28.294Z"
   },
   {
    "duration": 1512,
    "start_time": "2023-07-15T14:50:31.185Z"
   },
   {
    "duration": 4,
    "start_time": "2023-07-15T14:50:32.700Z"
   },
   {
    "duration": 115,
    "start_time": "2023-07-15T14:50:32.705Z"
   },
   {
    "duration": 20,
    "start_time": "2023-07-15T14:50:33.179Z"
   },
   {
    "duration": 13,
    "start_time": "2023-07-15T14:50:33.648Z"
   },
   {
    "duration": 55,
    "start_time": "2023-07-15T14:50:33.947Z"
   },
   {
    "duration": 936,
    "start_time": "2023-07-15T14:50:34.918Z"
   },
   {
    "duration": 16,
    "start_time": "2023-07-15T14:50:35.856Z"
   },
   {
    "duration": 5,
    "start_time": "2023-07-15T14:50:36.870Z"
   },
   {
    "duration": 3,
    "start_time": "2023-07-15T14:50:37.143Z"
   },
   {
    "duration": 12,
    "start_time": "2023-07-15T14:50:37.346Z"
   },
   {
    "duration": 9,
    "start_time": "2023-07-15T14:50:38.312Z"
   },
   {
    "duration": 4,
    "start_time": "2023-07-15T14:50:38.715Z"
   },
   {
    "duration": 111,
    "start_time": "2023-07-15T14:50:38.937Z"
   },
   {
    "duration": 8,
    "start_time": "2023-07-15T14:50:39.357Z"
   },
   {
    "duration": 23,
    "start_time": "2023-07-15T14:50:39.818Z"
   },
   {
    "duration": 11,
    "start_time": "2023-07-15T14:50:40.705Z"
   },
   {
    "duration": 9,
    "start_time": "2023-07-15T14:50:41.356Z"
   },
   {
    "duration": 14,
    "start_time": "2023-07-15T14:50:41.568Z"
   },
   {
    "duration": 23,
    "start_time": "2023-07-15T14:50:41.785Z"
   },
   {
    "duration": 15,
    "start_time": "2023-07-15T14:50:42.875Z"
   },
   {
    "duration": 16,
    "start_time": "2023-07-15T14:50:43.076Z"
   },
   {
    "duration": 5,
    "start_time": "2023-07-15T14:50:43.515Z"
   },
   {
    "duration": 5,
    "start_time": "2023-07-15T14:50:43.734Z"
   },
   {
    "duration": 6,
    "start_time": "2023-07-15T14:50:43.955Z"
   },
   {
    "duration": 8,
    "start_time": "2023-07-15T14:50:44.194Z"
   },
   {
    "duration": 7,
    "start_time": "2023-07-15T14:50:46.563Z"
   },
   {
    "duration": 6,
    "start_time": "2023-07-15T14:50:46.824Z"
   },
   {
    "duration": 17,
    "start_time": "2023-07-15T14:50:47.087Z"
   },
   {
    "duration": 5,
    "start_time": "2023-07-15T14:50:47.300Z"
   },
   {
    "duration": 15,
    "start_time": "2023-07-15T14:50:47.722Z"
   },
   {
    "duration": 14,
    "start_time": "2023-07-15T14:50:58.039Z"
   },
   {
    "duration": 119,
    "start_time": "2023-07-15T15:23:06.426Z"
   },
   {
    "duration": 224,
    "start_time": "2023-07-15T15:23:16.916Z"
   },
   {
    "duration": 442,
    "start_time": "2023-07-15T15:23:25.951Z"
   },
   {
    "duration": 375,
    "start_time": "2023-07-15T15:23:40.158Z"
   },
   {
    "duration": 349,
    "start_time": "2023-07-15T15:23:53.000Z"
   },
   {
    "duration": 370,
    "start_time": "2023-07-15T15:24:07.055Z"
   },
   {
    "duration": 328,
    "start_time": "2023-07-15T15:24:23.037Z"
   },
   {
    "duration": 1161,
    "start_time": "2023-07-15T15:25:41.984Z"
   },
   {
    "duration": 3,
    "start_time": "2023-07-15T15:25:43.147Z"
   },
   {
    "duration": 40,
    "start_time": "2023-07-15T15:25:44.408Z"
   },
   {
    "duration": 29,
    "start_time": "2023-07-15T15:25:44.754Z"
   },
   {
    "duration": 12,
    "start_time": "2023-07-15T15:25:45.188Z"
   },
   {
    "duration": 43,
    "start_time": "2023-07-15T15:25:45.755Z"
   },
   {
    "duration": 900,
    "start_time": "2023-07-15T15:25:47.449Z"
   },
   {
    "duration": 10,
    "start_time": "2023-07-15T15:25:53.280Z"
   },
   {
    "duration": 5,
    "start_time": "2023-07-15T15:25:56.291Z"
   },
   {
    "duration": 4,
    "start_time": "2023-07-15T15:25:56.803Z"
   },
   {
    "duration": 11,
    "start_time": "2023-07-15T15:25:57.112Z"
   },
   {
    "duration": 8,
    "start_time": "2023-07-15T15:25:58.256Z"
   },
   {
    "duration": 9,
    "start_time": "2023-07-15T15:25:59.166Z"
   },
   {
    "duration": 109,
    "start_time": "2023-07-15T15:25:59.846Z"
   },
   {
    "duration": 9,
    "start_time": "2023-07-15T15:26:01.193Z"
   },
   {
    "duration": 25,
    "start_time": "2023-07-15T15:26:01.795Z"
   },
   {
    "duration": 10,
    "start_time": "2023-07-15T15:26:03.036Z"
   },
   {
    "duration": 12,
    "start_time": "2023-07-15T15:26:04.133Z"
   },
   {
    "duration": 11,
    "start_time": "2023-07-15T15:26:04.330Z"
   },
   {
    "duration": 17,
    "start_time": "2023-07-15T15:26:04.547Z"
   },
   {
    "duration": 15,
    "start_time": "2023-07-15T15:26:05.664Z"
   },
   {
    "duration": 15,
    "start_time": "2023-07-15T15:26:05.861Z"
   },
   {
    "duration": 4,
    "start_time": "2023-07-15T15:26:06.322Z"
   },
   {
    "duration": 5,
    "start_time": "2023-07-15T15:26:06.544Z"
   },
   {
    "duration": 6,
    "start_time": "2023-07-15T15:26:06.774Z"
   },
   {
    "duration": 6,
    "start_time": "2023-07-15T15:26:06.985Z"
   },
   {
    "duration": 6,
    "start_time": "2023-07-15T15:26:08.491Z"
   },
   {
    "duration": 6,
    "start_time": "2023-07-15T15:26:08.693Z"
   },
   {
    "duration": 13,
    "start_time": "2023-07-15T15:26:08.904Z"
   },
   {
    "duration": 4,
    "start_time": "2023-07-15T15:26:09.120Z"
   },
   {
    "duration": 14,
    "start_time": "2023-07-15T15:26:09.318Z"
   },
   {
    "duration": 13,
    "start_time": "2023-07-15T15:26:09.544Z"
   },
   {
    "duration": 4,
    "start_time": "2023-07-15T15:26:11.279Z"
   },
   {
    "duration": 317,
    "start_time": "2023-07-15T15:26:11.513Z"
   },
   {
    "duration": 4,
    "start_time": "2023-07-15T15:26:35.260Z"
   },
   {
    "duration": 1124,
    "start_time": "2023-07-15T15:26:39.305Z"
   },
   {
    "duration": 332,
    "start_time": "2023-07-15T15:26:47.201Z"
   },
   {
    "duration": 4,
    "start_time": "2023-07-15T15:27:01.883Z"
   },
   {
    "duration": 1372,
    "start_time": "2023-07-15T15:27:06.386Z"
   },
   {
    "duration": 359,
    "start_time": "2023-07-15T15:27:14.741Z"
   },
   {
    "duration": 6,
    "start_time": "2023-07-15T15:27:40.166Z"
   },
   {
    "duration": 1172,
    "start_time": "2023-07-15T15:27:43.819Z"
   },
   {
    "duration": 525,
    "start_time": "2023-07-15T15:27:51.849Z"
   },
   {
    "duration": 3,
    "start_time": "2023-07-15T15:28:06.951Z"
   },
   {
    "duration": 1079,
    "start_time": "2023-07-15T15:28:10.823Z"
   },
   {
    "duration": 349,
    "start_time": "2023-07-15T15:28:17.413Z"
   },
   {
    "duration": 5,
    "start_time": "2023-07-15T15:28:44.163Z"
   },
   {
    "duration": 1168,
    "start_time": "2023-07-15T15:28:48.822Z"
   },
   {
    "duration": 3,
    "start_time": "2023-07-15T15:29:14.723Z"
   },
   {
    "duration": 1090,
    "start_time": "2023-07-15T15:29:18.961Z"
   },
   {
    "duration": 523,
    "start_time": "2023-07-15T15:29:30.397Z"
   },
   {
    "duration": 5,
    "start_time": "2023-07-15T15:30:42.561Z"
   },
   {
    "duration": 1077,
    "start_time": "2023-07-15T15:30:45.995Z"
   },
   {
    "duration": 390,
    "start_time": "2023-07-15T15:30:52.014Z"
   },
   {
    "duration": 3,
    "start_time": "2023-07-15T15:31:12.214Z"
   },
   {
    "duration": 340,
    "start_time": "2023-07-15T15:31:17.691Z"
   },
   {
    "duration": 3,
    "start_time": "2023-07-15T15:31:39.754Z"
   },
   {
    "duration": 1269,
    "start_time": "2023-07-15T15:31:43.452Z"
   },
   {
    "duration": 344,
    "start_time": "2023-07-15T15:31:50.912Z"
   },
   {
    "duration": 4,
    "start_time": "2023-07-15T15:33:08.839Z"
   },
   {
    "duration": 422,
    "start_time": "2023-07-15T15:33:14.261Z"
   },
   {
    "duration": 1280,
    "start_time": "2023-07-15T15:33:59.858Z"
   },
   {
    "duration": 3,
    "start_time": "2023-07-15T15:34:01.140Z"
   },
   {
    "duration": 51,
    "start_time": "2023-07-15T15:34:01.963Z"
   },
   {
    "duration": 18,
    "start_time": "2023-07-15T15:34:02.438Z"
   },
   {
    "duration": 13,
    "start_time": "2023-07-15T15:34:02.854Z"
   },
   {
    "duration": 36,
    "start_time": "2023-07-15T15:34:03.215Z"
   },
   {
    "duration": 1051,
    "start_time": "2023-07-15T15:34:03.811Z"
   },
   {
    "duration": 22,
    "start_time": "2023-07-15T15:34:04.863Z"
   },
   {
    "duration": 4,
    "start_time": "2023-07-15T15:34:08.107Z"
   },
   {
    "duration": 4,
    "start_time": "2023-07-15T15:34:08.311Z"
   },
   {
    "duration": 13,
    "start_time": "2023-07-15T15:34:08.518Z"
   },
   {
    "duration": 11,
    "start_time": "2023-07-15T15:34:09.395Z"
   },
   {
    "duration": 6,
    "start_time": "2023-07-15T15:34:09.848Z"
   },
   {
    "duration": 131,
    "start_time": "2023-07-15T15:34:10.089Z"
   },
   {
    "duration": 9,
    "start_time": "2023-07-15T15:34:10.540Z"
   },
   {
    "duration": 35,
    "start_time": "2023-07-15T15:34:11.056Z"
   },
   {
    "duration": 25,
    "start_time": "2023-07-15T15:34:11.969Z"
   },
   {
    "duration": 9,
    "start_time": "2023-07-15T15:34:12.747Z"
   },
   {
    "duration": 9,
    "start_time": "2023-07-15T15:34:12.930Z"
   },
   {
    "duration": 18,
    "start_time": "2023-07-15T15:34:13.195Z"
   },
   {
    "duration": 18,
    "start_time": "2023-07-15T15:34:14.387Z"
   },
   {
    "duration": 11,
    "start_time": "2023-07-15T15:34:14.925Z"
   },
   {
    "duration": 4,
    "start_time": "2023-07-15T15:34:15.648Z"
   },
   {
    "duration": 12,
    "start_time": "2023-07-15T15:34:15.983Z"
   },
   {
    "duration": 4,
    "start_time": "2023-07-15T15:34:16.338Z"
   },
   {
    "duration": 6,
    "start_time": "2023-07-15T15:34:16.658Z"
   },
   {
    "duration": 6,
    "start_time": "2023-07-15T15:34:18.502Z"
   },
   {
    "duration": 7,
    "start_time": "2023-07-15T15:34:18.700Z"
   },
   {
    "duration": 14,
    "start_time": "2023-07-15T15:34:18.923Z"
   },
   {
    "duration": 4,
    "start_time": "2023-07-15T15:34:19.164Z"
   },
   {
    "duration": 16,
    "start_time": "2023-07-15T15:34:19.385Z"
   },
   {
    "duration": 15,
    "start_time": "2023-07-15T15:34:19.597Z"
   },
   {
    "duration": 356,
    "start_time": "2023-07-15T15:34:21.432Z"
   },
   {
    "duration": 1271,
    "start_time": "2023-07-15T16:34:01.596Z"
   },
   {
    "duration": 10,
    "start_time": "2023-07-15T16:34:02.872Z"
   },
   {
    "duration": 44,
    "start_time": "2023-07-15T16:34:02.887Z"
   },
   {
    "duration": 15,
    "start_time": "2023-07-15T16:34:02.933Z"
   },
   {
    "duration": 16,
    "start_time": "2023-07-15T16:34:03.945Z"
   },
   {
    "duration": 48,
    "start_time": "2023-07-15T16:34:04.182Z"
   },
   {
    "duration": 896,
    "start_time": "2023-07-15T16:34:04.761Z"
   },
   {
    "duration": 16,
    "start_time": "2023-07-15T16:34:05.659Z"
   },
   {
    "duration": 4,
    "start_time": "2023-07-15T16:34:06.460Z"
   },
   {
    "duration": 5,
    "start_time": "2023-07-15T16:34:06.672Z"
   },
   {
    "duration": 11,
    "start_time": "2023-07-15T16:34:06.887Z"
   },
   {
    "duration": 6,
    "start_time": "2023-07-15T16:34:07.714Z"
   },
   {
    "duration": 5,
    "start_time": "2023-07-15T16:34:08.133Z"
   },
   {
    "duration": 112,
    "start_time": "2023-07-15T16:34:08.340Z"
   },
   {
    "duration": 8,
    "start_time": "2023-07-15T16:34:09.160Z"
   },
   {
    "duration": 21,
    "start_time": "2023-07-15T16:34:09.595Z"
   },
   {
    "duration": 10,
    "start_time": "2023-07-15T16:34:10.434Z"
   },
   {
    "duration": 13,
    "start_time": "2023-07-15T16:34:11.084Z"
   },
   {
    "duration": 9,
    "start_time": "2023-07-15T16:34:11.295Z"
   },
   {
    "duration": 15,
    "start_time": "2023-07-15T16:34:11.528Z"
   },
   {
    "duration": 15,
    "start_time": "2023-07-15T16:34:12.585Z"
   },
   {
    "duration": 11,
    "start_time": "2023-07-15T16:34:12.792Z"
   },
   {
    "duration": 4,
    "start_time": "2023-07-15T16:34:13.217Z"
   },
   {
    "duration": 6,
    "start_time": "2023-07-15T16:34:13.429Z"
   },
   {
    "duration": 4,
    "start_time": "2023-07-15T16:34:13.656Z"
   },
   {
    "duration": 11,
    "start_time": "2023-07-15T16:34:13.867Z"
   },
   {
    "duration": 7,
    "start_time": "2023-07-15T16:34:32.296Z"
   },
   {
    "duration": 6,
    "start_time": "2023-07-15T16:34:32.522Z"
   },
   {
    "duration": 21,
    "start_time": "2023-07-15T16:34:32.875Z"
   },
   {
    "duration": 4,
    "start_time": "2023-07-15T16:34:33.096Z"
   },
   {
    "duration": 11,
    "start_time": "2023-07-15T16:34:33.406Z"
   },
   {
    "duration": 13,
    "start_time": "2023-07-15T16:34:33.625Z"
   },
   {
    "duration": 346,
    "start_time": "2023-07-15T16:34:35.557Z"
   },
   {
    "duration": 223,
    "start_time": "2023-07-15T16:34:35.905Z"
   },
   {
    "duration": 229,
    "start_time": "2023-07-15T16:34:38.007Z"
   },
   {
    "duration": 130,
    "start_time": "2023-07-15T16:34:38.426Z"
   },
   {
    "duration": 351,
    "start_time": "2023-07-15T16:34:59.610Z"
   },
   {
    "duration": 6307,
    "start_time": "2023-07-15T16:35:00.831Z"
   },
   {
    "duration": 726,
    "start_time": "2023-07-15T16:35:07.140Z"
   },
   {
    "duration": 5780,
    "start_time": "2023-07-15T16:36:11.561Z"
   },
   {
    "duration": 1010,
    "start_time": "2023-07-15T16:36:23.802Z"
   },
   {
    "duration": 393,
    "start_time": "2023-07-15T16:36:31.091Z"
   },
   {
    "duration": 353,
    "start_time": "2023-07-15T16:36:34.999Z"
   },
   {
    "duration": 129,
    "start_time": "2023-07-15T16:38:39.243Z"
   },
   {
    "duration": 696,
    "start_time": "2023-07-15T16:40:20.297Z"
   },
   {
    "duration": 5994,
    "start_time": "2023-07-15T16:40:36.629Z"
   },
   {
    "duration": 6017,
    "start_time": "2023-07-15T16:40:57.992Z"
   },
   {
    "duration": 344,
    "start_time": "2023-07-15T16:41:45.244Z"
   },
   {
    "duration": 343,
    "start_time": "2023-07-15T16:41:46.643Z"
   },
   {
    "duration": 6016,
    "start_time": "2023-07-15T16:41:47.518Z"
   },
   {
    "duration": 1108,
    "start_time": "2023-07-15T16:41:53.536Z"
   },
   {
    "duration": 559,
    "start_time": "2023-07-15T16:59:42.520Z"
   },
   {
    "duration": 981,
    "start_time": "2023-07-15T16:59:54.051Z"
   },
   {
    "duration": 876,
    "start_time": "2023-07-15T17:00:26.974Z"
   },
   {
    "duration": 797,
    "start_time": "2023-07-15T17:00:58.540Z"
   },
   {
    "duration": 797,
    "start_time": "2023-07-15T17:01:18.585Z"
   },
   {
    "duration": 676,
    "start_time": "2023-07-15T17:01:26.694Z"
   },
   {
    "duration": 762,
    "start_time": "2023-07-15T17:01:32.756Z"
   },
   {
    "duration": 688,
    "start_time": "2023-07-15T17:01:38.333Z"
   },
   {
    "duration": 638,
    "start_time": "2023-07-15T17:01:47.799Z"
   },
   {
    "duration": 785,
    "start_time": "2023-07-15T17:01:54.252Z"
   },
   {
    "duration": 698,
    "start_time": "2023-07-15T17:02:01.535Z"
   },
   {
    "duration": 676,
    "start_time": "2023-07-15T17:04:25.580Z"
   },
   {
    "duration": 1155,
    "start_time": "2023-07-15T17:07:46.360Z"
   },
   {
    "duration": 4,
    "start_time": "2023-07-15T17:07:47.516Z"
   },
   {
    "duration": 44,
    "start_time": "2023-07-15T17:07:47.521Z"
   },
   {
    "duration": 15,
    "start_time": "2023-07-15T17:07:47.567Z"
   },
   {
    "duration": 14,
    "start_time": "2023-07-15T17:07:47.584Z"
   },
   {
    "duration": 37,
    "start_time": "2023-07-15T17:07:47.599Z"
   },
   {
    "duration": 871,
    "start_time": "2023-07-15T17:07:47.970Z"
   },
   {
    "duration": 8,
    "start_time": "2023-07-15T17:07:48.843Z"
   },
   {
    "duration": 4,
    "start_time": "2023-07-15T17:07:49.452Z"
   },
   {
    "duration": 4,
    "start_time": "2023-07-15T17:07:49.663Z"
   },
   {
    "duration": 15,
    "start_time": "2023-07-15T17:07:49.871Z"
   },
   {
    "duration": 7,
    "start_time": "2023-07-15T17:07:50.656Z"
   },
   {
    "duration": 5,
    "start_time": "2023-07-15T17:07:51.069Z"
   },
   {
    "duration": 99,
    "start_time": "2023-07-15T17:07:51.281Z"
   },
   {
    "duration": 9,
    "start_time": "2023-07-15T17:07:51.691Z"
   },
   {
    "duration": 21,
    "start_time": "2023-07-15T17:07:52.096Z"
   },
   {
    "duration": 11,
    "start_time": "2023-07-15T17:07:52.963Z"
   },
   {
    "duration": 13,
    "start_time": "2023-07-15T17:07:53.595Z"
   },
   {
    "duration": 9,
    "start_time": "2023-07-15T17:07:53.814Z"
   },
   {
    "duration": 18,
    "start_time": "2023-07-15T17:07:54.031Z"
   },
   {
    "duration": 13,
    "start_time": "2023-07-15T17:07:55.080Z"
   },
   {
    "duration": 12,
    "start_time": "2023-07-15T17:07:55.290Z"
   },
   {
    "duration": 4,
    "start_time": "2023-07-15T17:07:55.718Z"
   },
   {
    "duration": 5,
    "start_time": "2023-07-15T17:07:55.923Z"
   },
   {
    "duration": 4,
    "start_time": "2023-07-15T17:07:56.165Z"
   },
   {
    "duration": 5,
    "start_time": "2023-07-15T17:07:56.432Z"
   },
   {
    "duration": 5,
    "start_time": "2023-07-15T17:07:57.454Z"
   },
   {
    "duration": 6,
    "start_time": "2023-07-15T17:07:57.660Z"
   },
   {
    "duration": 13,
    "start_time": "2023-07-15T17:07:57.876Z"
   },
   {
    "duration": 4,
    "start_time": "2023-07-15T17:07:58.072Z"
   },
   {
    "duration": 12,
    "start_time": "2023-07-15T17:07:58.277Z"
   },
   {
    "duration": 12,
    "start_time": "2023-07-15T17:07:58.484Z"
   },
   {
    "duration": 783,
    "start_time": "2023-07-15T17:08:21.918Z"
   },
   {
    "duration": 338,
    "start_time": "2023-07-15T17:08:37.190Z"
   },
   {
    "duration": 358,
    "start_time": "2023-07-15T17:08:39.051Z"
   },
   {
    "duration": 5725,
    "start_time": "2023-07-15T17:08:40.220Z"
   },
   {
    "duration": 597,
    "start_time": "2023-07-15T17:08:45.947Z"
   },
   {
    "duration": 1030,
    "start_time": "2023-07-15T17:14:44.420Z"
   },
   {
    "duration": 842,
    "start_time": "2023-07-15T17:14:54.166Z"
   },
   {
    "duration": 722,
    "start_time": "2023-07-15T17:15:15.511Z"
   },
   {
    "duration": 764,
    "start_time": "2023-07-15T17:15:28.437Z"
   },
   {
    "duration": 20,
    "start_time": "2023-07-15T17:26:17.643Z"
   },
   {
    "duration": 17,
    "start_time": "2023-07-15T17:26:40.544Z"
   },
   {
    "duration": 4,
    "start_time": "2023-07-15T17:28:36.136Z"
   },
   {
    "duration": 18,
    "start_time": "2023-07-15T17:28:43.382Z"
   },
   {
    "duration": 16,
    "start_time": "2023-07-15T17:28:49.128Z"
   },
   {
    "duration": 1294,
    "start_time": "2023-07-15T17:29:08.068Z"
   },
   {
    "duration": 3,
    "start_time": "2023-07-15T17:29:09.984Z"
   },
   {
    "duration": 41,
    "start_time": "2023-07-15T17:29:10.162Z"
   },
   {
    "duration": 17,
    "start_time": "2023-07-15T17:29:10.342Z"
   },
   {
    "duration": 14,
    "start_time": "2023-07-15T17:29:10.546Z"
   },
   {
    "duration": 43,
    "start_time": "2023-07-15T17:29:10.751Z"
   },
   {
    "duration": 887,
    "start_time": "2023-07-15T17:29:11.377Z"
   },
   {
    "duration": 8,
    "start_time": "2023-07-15T17:29:12.268Z"
   },
   {
    "duration": 3,
    "start_time": "2023-07-15T17:29:12.806Z"
   },
   {
    "duration": 3,
    "start_time": "2023-07-15T17:29:13.031Z"
   },
   {
    "duration": 11,
    "start_time": "2023-07-15T17:29:13.232Z"
   },
   {
    "duration": 9,
    "start_time": "2023-07-15T17:29:14.079Z"
   },
   {
    "duration": 4,
    "start_time": "2023-07-15T17:29:14.458Z"
   },
   {
    "duration": 91,
    "start_time": "2023-07-15T17:29:14.668Z"
   },
   {
    "duration": 8,
    "start_time": "2023-07-15T17:29:15.097Z"
   },
   {
    "duration": 21,
    "start_time": "2023-07-15T17:29:15.523Z"
   },
   {
    "duration": 9,
    "start_time": "2023-07-15T17:29:16.319Z"
   },
   {
    "duration": 11,
    "start_time": "2023-07-15T17:29:16.977Z"
   },
   {
    "duration": 8,
    "start_time": "2023-07-15T17:29:17.182Z"
   },
   {
    "duration": 16,
    "start_time": "2023-07-15T17:29:17.387Z"
   },
   {
    "duration": 11,
    "start_time": "2023-07-15T17:29:18.415Z"
   },
   {
    "duration": 11,
    "start_time": "2023-07-15T17:29:18.619Z"
   },
   {
    "duration": 4,
    "start_time": "2023-07-15T17:29:19.014Z"
   },
   {
    "duration": 5,
    "start_time": "2023-07-15T17:29:19.217Z"
   },
   {
    "duration": 3,
    "start_time": "2023-07-15T17:29:19.434Z"
   },
   {
    "duration": 5,
    "start_time": "2023-07-15T17:29:19.643Z"
   },
   {
    "duration": 5,
    "start_time": "2023-07-15T17:29:20.695Z"
   },
   {
    "duration": 5,
    "start_time": "2023-07-15T17:29:20.921Z"
   },
   {
    "duration": 12,
    "start_time": "2023-07-15T17:29:21.149Z"
   },
   {
    "duration": 750,
    "start_time": "2023-07-15T17:29:22.801Z"
   },
   {
    "duration": 702,
    "start_time": "2023-07-15T17:29:23.553Z"
   },
   {
    "duration": 308,
    "start_time": "2023-07-15T17:29:24.355Z"
   },
   {
    "duration": 329,
    "start_time": "2023-07-15T17:29:24.799Z"
   },
   {
    "duration": 5264,
    "start_time": "2023-07-15T17:29:25.229Z"
   },
   {
    "duration": 1038,
    "start_time": "2023-07-15T17:29:30.495Z"
   },
   {
    "duration": 125,
    "start_time": "2023-07-15T17:29:31.535Z"
   },
   {
    "duration": 0,
    "start_time": "2023-07-15T17:29:31.662Z"
   },
   {
    "duration": 18,
    "start_time": "2023-07-15T17:30:44.797Z"
   },
   {
    "duration": 16,
    "start_time": "2023-07-15T17:30:54.736Z"
   },
   {
    "duration": 15,
    "start_time": "2023-07-15T17:30:59.624Z"
   },
   {
    "duration": 14,
    "start_time": "2023-07-15T17:31:10.734Z"
   },
   {
    "duration": 14,
    "start_time": "2023-07-15T17:43:31.123Z"
   },
   {
    "duration": 12,
    "start_time": "2023-07-15T17:45:27.736Z"
   },
   {
    "duration": 1073,
    "start_time": "2023-07-15T17:45:37.071Z"
   },
   {
    "duration": 1044,
    "start_time": "2023-07-15T17:45:51.259Z"
   },
   {
    "duration": 10,
    "start_time": "2023-07-15T17:46:23.072Z"
   },
   {
    "duration": 339,
    "start_time": "2023-07-15T17:46:28.137Z"
   },
   {
    "duration": 10,
    "start_time": "2023-07-15T18:13:17.183Z"
   },
   {
    "duration": 140,
    "start_time": "2023-07-15T18:13:23.756Z"
   },
   {
    "duration": 251,
    "start_time": "2023-07-15T18:15:46.608Z"
   },
   {
    "duration": 64,
    "start_time": "2023-07-15T18:17:41.607Z"
   },
   {
    "duration": 132,
    "start_time": "2023-07-15T18:18:16.121Z"
   },
   {
    "duration": 130,
    "start_time": "2023-07-15T18:18:37.058Z"
   },
   {
    "duration": 139,
    "start_time": "2023-07-15T18:19:52.506Z"
   },
   {
    "duration": 158,
    "start_time": "2023-07-15T18:20:19.849Z"
   },
   {
    "duration": 177,
    "start_time": "2023-07-15T18:20:29.992Z"
   },
   {
    "duration": 150,
    "start_time": "2023-07-15T18:21:43.048Z"
   },
   {
    "duration": 140,
    "start_time": "2023-07-15T18:21:49.781Z"
   },
   {
    "duration": 159,
    "start_time": "2023-07-15T18:22:15.503Z"
   },
   {
    "duration": 154,
    "start_time": "2023-07-15T18:25:57.185Z"
   },
   {
    "duration": 168,
    "start_time": "2023-07-15T18:26:21.464Z"
   },
   {
    "duration": 148,
    "start_time": "2023-07-15T18:27:24.910Z"
   },
   {
    "duration": 152,
    "start_time": "2023-07-15T18:28:28.932Z"
   },
   {
    "duration": 136,
    "start_time": "2023-07-15T18:28:35.270Z"
   },
   {
    "duration": 57,
    "start_time": "2023-07-15T18:28:42.873Z"
   },
   {
    "duration": 158,
    "start_time": "2023-07-15T18:28:49.230Z"
   },
   {
    "duration": 138,
    "start_time": "2023-07-15T18:28:56.611Z"
   },
   {
    "duration": 144,
    "start_time": "2023-07-15T18:29:08.980Z"
   },
   {
    "duration": 161,
    "start_time": "2023-07-15T18:29:29.614Z"
   },
   {
    "duration": 260,
    "start_time": "2023-07-15T18:29:46.309Z"
   },
   {
    "duration": 138,
    "start_time": "2023-07-15T18:30:21.555Z"
   },
   {
    "duration": 136,
    "start_time": "2023-07-15T18:32:45.077Z"
   },
   {
    "duration": 13,
    "start_time": "2023-07-15T18:40:37.071Z"
   },
   {
    "duration": 13,
    "start_time": "2023-07-15T18:40:45.085Z"
   },
   {
    "duration": 12,
    "start_time": "2023-07-15T18:40:50.551Z"
   },
   {
    "duration": 110,
    "start_time": "2023-07-15T18:42:40.594Z"
   },
   {
    "duration": 115,
    "start_time": "2023-07-15T18:42:49.964Z"
   },
   {
    "duration": 9,
    "start_time": "2023-07-15T18:54:49.427Z"
   },
   {
    "duration": 13,
    "start_time": "2023-07-15T18:55:03.256Z"
   },
   {
    "duration": 12,
    "start_time": "2023-07-15T18:55:51.873Z"
   },
   {
    "duration": 10,
    "start_time": "2023-07-15T18:57:12.528Z"
   },
   {
    "duration": 10,
    "start_time": "2023-07-15T18:57:15.521Z"
   },
   {
    "duration": 14,
    "start_time": "2023-07-15T18:57:54.119Z"
   },
   {
    "duration": 12,
    "start_time": "2023-07-15T18:58:19.524Z"
   },
   {
    "duration": 14,
    "start_time": "2023-07-15T18:58:25.795Z"
   },
   {
    "duration": 12,
    "start_time": "2023-07-15T18:58:30.875Z"
   },
   {
    "duration": 12,
    "start_time": "2023-07-15T18:58:48.293Z"
   },
   {
    "duration": 11,
    "start_time": "2023-07-15T19:01:58.404Z"
   },
   {
    "duration": 17,
    "start_time": "2023-07-15T19:02:09.569Z"
   },
   {
    "duration": 14,
    "start_time": "2023-07-15T19:02:20.288Z"
   },
   {
    "duration": 11,
    "start_time": "2023-07-15T19:02:27.594Z"
   },
   {
    "duration": 20,
    "start_time": "2023-07-15T19:02:36.762Z"
   },
   {
    "duration": 12,
    "start_time": "2023-07-15T19:02:42.685Z"
   },
   {
    "duration": 12,
    "start_time": "2023-07-15T19:02:55.215Z"
   },
   {
    "duration": 13,
    "start_time": "2023-07-15T19:03:01.764Z"
   },
   {
    "duration": 13,
    "start_time": "2023-07-15T19:03:09.923Z"
   },
   {
    "duration": 13,
    "start_time": "2023-07-15T19:03:20.320Z"
   },
   {
    "duration": 15,
    "start_time": "2023-07-15T19:03:27.467Z"
   },
   {
    "duration": 10,
    "start_time": "2023-07-15T19:03:45.324Z"
   },
   {
    "duration": 11,
    "start_time": "2023-07-15T19:03:52.562Z"
   },
   {
    "duration": 11,
    "start_time": "2023-07-15T19:03:58.600Z"
   },
   {
    "duration": 13,
    "start_time": "2023-07-15T19:04:02.903Z"
   },
   {
    "duration": 10,
    "start_time": "2023-07-15T19:04:06.406Z"
   },
   {
    "duration": 12,
    "start_time": "2023-07-15T19:04:19.124Z"
   },
   {
    "duration": 12,
    "start_time": "2023-07-15T19:04:22.040Z"
   },
   {
    "duration": 1462,
    "start_time": "2023-07-16T14:17:45.922Z"
   },
   {
    "duration": 4,
    "start_time": "2023-07-16T14:17:47.387Z"
   },
   {
    "duration": 165,
    "start_time": "2023-07-16T14:17:48.166Z"
   },
   {
    "duration": 18,
    "start_time": "2023-07-16T14:17:48.817Z"
   },
   {
    "duration": 15,
    "start_time": "2023-07-16T14:17:49.997Z"
   },
   {
    "duration": 41,
    "start_time": "2023-07-16T14:17:50.605Z"
   },
   {
    "duration": 935,
    "start_time": "2023-07-16T14:17:52.349Z"
   },
   {
    "duration": 8,
    "start_time": "2023-07-16T14:17:53.533Z"
   },
   {
    "duration": 4,
    "start_time": "2023-07-16T14:17:57.025Z"
   },
   {
    "duration": 4,
    "start_time": "2023-07-16T14:17:57.588Z"
   },
   {
    "duration": 12,
    "start_time": "2023-07-16T14:17:58.201Z"
   },
   {
    "duration": 8,
    "start_time": "2023-07-16T14:18:00.999Z"
   },
   {
    "duration": 5,
    "start_time": "2023-07-16T14:18:02.364Z"
   },
   {
    "duration": 109,
    "start_time": "2023-07-16T14:18:03.181Z"
   },
   {
    "duration": 9,
    "start_time": "2023-07-16T14:18:05.014Z"
   },
   {
    "duration": 25,
    "start_time": "2023-07-16T14:18:07.219Z"
   },
   {
    "duration": 13,
    "start_time": "2023-07-16T14:18:09.657Z"
   },
   {
    "duration": 10,
    "start_time": "2023-07-16T14:18:11.237Z"
   },
   {
    "duration": 11,
    "start_time": "2023-07-16T14:18:11.934Z"
   },
   {
    "duration": 19,
    "start_time": "2023-07-16T14:18:12.612Z"
   },
   {
    "duration": 13,
    "start_time": "2023-07-16T14:18:15.533Z"
   },
   {
    "duration": 12,
    "start_time": "2023-07-16T14:18:16.155Z"
   },
   {
    "duration": 4,
    "start_time": "2023-07-16T14:18:17.144Z"
   },
   {
    "duration": 6,
    "start_time": "2023-07-16T14:18:17.561Z"
   },
   {
    "duration": 4,
    "start_time": "2023-07-16T14:18:18.005Z"
   },
   {
    "duration": 7,
    "start_time": "2023-07-16T14:18:18.459Z"
   },
   {
    "duration": 6,
    "start_time": "2023-07-16T14:18:20.247Z"
   },
   {
    "duration": 5,
    "start_time": "2023-07-16T14:18:20.478Z"
   },
   {
    "duration": 16,
    "start_time": "2023-07-16T14:18:20.840Z"
   },
   {
    "duration": 879,
    "start_time": "2023-07-16T14:18:23.563Z"
   },
   {
    "duration": 723,
    "start_time": "2023-07-16T14:18:24.717Z"
   },
   {
    "duration": 332,
    "start_time": "2023-07-16T14:18:27.693Z"
   },
   {
    "duration": 359,
    "start_time": "2023-07-16T14:18:28.733Z"
   },
   {
    "duration": 6283,
    "start_time": "2023-07-16T14:18:29.647Z"
   },
   {
    "duration": 1137,
    "start_time": "2023-07-16T14:18:35.932Z"
   },
   {
    "duration": 19,
    "start_time": "2023-07-16T14:18:37.071Z"
   },
   {
    "duration": 27,
    "start_time": "2023-07-16T14:18:37.092Z"
   },
   {
    "duration": 1182,
    "start_time": "2023-07-16T14:18:37.121Z"
   },
   {
    "duration": 341,
    "start_time": "2023-07-16T14:18:38.349Z"
   },
   {
    "duration": 164,
    "start_time": "2023-07-16T14:18:42.121Z"
   },
   {
    "duration": 157,
    "start_time": "2023-07-16T14:18:42.597Z"
   },
   {
    "duration": 162,
    "start_time": "2023-07-16T14:18:43.110Z"
   },
   {
    "duration": 181,
    "start_time": "2023-07-16T14:18:43.681Z"
   },
   {
    "duration": 279,
    "start_time": "2023-07-16T14:18:44.205Z"
   },
   {
    "duration": 158,
    "start_time": "2023-07-16T14:18:44.722Z"
   },
   {
    "duration": 151,
    "start_time": "2023-07-16T14:18:45.233Z"
   },
   {
    "duration": 11,
    "start_time": "2023-07-16T14:18:47.333Z"
   },
   {
    "duration": 12,
    "start_time": "2023-07-16T14:18:48.350Z"
   },
   {
    "duration": 11,
    "start_time": "2023-07-16T14:18:49.400Z"
   },
   {
    "duration": 11,
    "start_time": "2023-07-16T14:26:54.584Z"
   },
   {
    "duration": 13,
    "start_time": "2023-07-16T14:27:01.209Z"
   },
   {
    "duration": 13,
    "start_time": "2023-07-16T14:27:10.139Z"
   },
   {
    "duration": 1238,
    "start_time": "2023-07-16T15:29:31.695Z"
   },
   {
    "duration": 4,
    "start_time": "2023-07-16T15:29:33.700Z"
   },
   {
    "duration": 42,
    "start_time": "2023-07-16T15:29:34.342Z"
   },
   {
    "duration": 17,
    "start_time": "2023-07-16T15:29:34.800Z"
   },
   {
    "duration": 13,
    "start_time": "2023-07-16T15:29:35.103Z"
   },
   {
    "duration": 40,
    "start_time": "2023-07-16T15:29:35.451Z"
   },
   {
    "duration": 1037,
    "start_time": "2023-07-16T15:29:36.447Z"
   },
   {
    "duration": 7,
    "start_time": "2023-07-16T15:29:37.486Z"
   },
   {
    "duration": 3,
    "start_time": "2023-07-16T15:29:38.717Z"
   },
   {
    "duration": 4,
    "start_time": "2023-07-16T15:29:38.932Z"
   },
   {
    "duration": 12,
    "start_time": "2023-07-16T15:29:39.146Z"
   },
   {
    "duration": 8,
    "start_time": "2023-07-16T15:29:39.935Z"
   },
   {
    "duration": 4,
    "start_time": "2023-07-16T15:29:40.349Z"
   },
   {
    "duration": 140,
    "start_time": "2023-07-16T15:29:40.551Z"
   },
   {
    "duration": 11,
    "start_time": "2023-07-16T15:29:40.961Z"
   },
   {
    "duration": 30,
    "start_time": "2023-07-16T15:29:41.396Z"
   },
   {
    "duration": 13,
    "start_time": "2023-07-16T15:29:42.219Z"
   },
   {
    "duration": 10,
    "start_time": "2023-07-16T15:29:42.846Z"
   },
   {
    "duration": 10,
    "start_time": "2023-07-16T15:29:43.101Z"
   },
   {
    "duration": 19,
    "start_time": "2023-07-16T15:29:43.278Z"
   },
   {
    "duration": 14,
    "start_time": "2023-07-16T15:29:44.332Z"
   },
   {
    "duration": 15,
    "start_time": "2023-07-16T15:29:44.551Z"
   },
   {
    "duration": 6,
    "start_time": "2023-07-16T15:29:45.004Z"
   },
   {
    "duration": 7,
    "start_time": "2023-07-16T15:29:45.207Z"
   },
   {
    "duration": 4,
    "start_time": "2023-07-16T15:29:45.413Z"
   },
   {
    "duration": 8,
    "start_time": "2023-07-16T15:29:45.634Z"
   },
   {
    "duration": 5,
    "start_time": "2023-07-16T15:29:46.719Z"
   },
   {
    "duration": 6,
    "start_time": "2023-07-16T15:29:46.936Z"
   },
   {
    "duration": 15,
    "start_time": "2023-07-16T15:29:47.144Z"
   },
   {
    "duration": 911,
    "start_time": "2023-07-16T15:29:48.855Z"
   },
   {
    "duration": 768,
    "start_time": "2023-07-16T15:29:49.769Z"
   },
   {
    "duration": 353,
    "start_time": "2023-07-16T15:29:50.540Z"
   },
   {
    "duration": 378,
    "start_time": "2023-07-16T15:29:50.896Z"
   },
   {
    "duration": 6256,
    "start_time": "2023-07-16T15:29:51.276Z"
   },
   {
    "duration": 1142,
    "start_time": "2023-07-16T15:29:57.535Z"
   },
   {
    "duration": 30,
    "start_time": "2023-07-16T15:29:58.679Z"
   },
   {
    "duration": 15,
    "start_time": "2023-07-16T15:29:58.712Z"
   },
   {
    "duration": 1156,
    "start_time": "2023-07-16T15:29:58.729Z"
   },
   {
    "duration": 388,
    "start_time": "2023-07-16T15:29:59.887Z"
   },
   {
    "duration": 185,
    "start_time": "2023-07-16T15:30:00.278Z"
   },
   {
    "duration": 176,
    "start_time": "2023-07-16T15:30:00.466Z"
   },
   {
    "duration": 221,
    "start_time": "2023-07-16T15:30:00.645Z"
   },
   {
    "duration": 13,
    "start_time": "2023-07-16T15:30:08.142Z"
   },
   {
    "duration": 14,
    "start_time": "2023-07-16T15:30:09.960Z"
   },
   {
    "duration": 12,
    "start_time": "2023-07-16T15:30:11.921Z"
   },
   {
    "duration": 1266,
    "start_time": "2023-07-18T13:20:55.596Z"
   },
   {
    "duration": 3,
    "start_time": "2023-07-18T13:20:56.864Z"
   },
   {
    "duration": 77,
    "start_time": "2023-07-18T13:20:58.000Z"
   },
   {
    "duration": 14,
    "start_time": "2023-07-18T13:20:58.240Z"
   },
   {
    "duration": 10,
    "start_time": "2023-07-18T13:20:58.478Z"
   },
   {
    "duration": 34,
    "start_time": "2023-07-18T13:20:58.680Z"
   },
   {
    "duration": 763,
    "start_time": "2023-07-18T13:20:59.336Z"
   },
   {
    "duration": 9,
    "start_time": "2023-07-18T13:21:00.100Z"
   },
   {
    "duration": 3,
    "start_time": "2023-07-18T13:21:01.007Z"
   },
   {
    "duration": 3,
    "start_time": "2023-07-18T13:21:01.198Z"
   },
   {
    "duration": 10,
    "start_time": "2023-07-18T13:21:01.401Z"
   },
   {
    "duration": 9,
    "start_time": "2023-07-18T13:21:02.421Z"
   },
   {
    "duration": 3,
    "start_time": "2023-07-18T13:21:02.869Z"
   },
   {
    "duration": 84,
    "start_time": "2023-07-18T13:21:03.079Z"
   },
   {
    "duration": 8,
    "start_time": "2023-07-18T13:21:03.717Z"
   },
   {
    "duration": 19,
    "start_time": "2023-07-18T13:21:04.166Z"
   },
   {
    "duration": 13,
    "start_time": "2023-07-18T13:21:05.240Z"
   },
   {
    "duration": 10,
    "start_time": "2023-07-18T13:21:05.864Z"
   },
   {
    "duration": 8,
    "start_time": "2023-07-18T13:21:06.080Z"
   },
   {
    "duration": 14,
    "start_time": "2023-07-18T13:21:06.294Z"
   },
   {
    "duration": 10,
    "start_time": "2023-07-18T13:21:08.160Z"
   },
   {
    "duration": 10,
    "start_time": "2023-07-18T13:21:08.740Z"
   },
   {
    "duration": 4,
    "start_time": "2023-07-18T13:21:10.718Z"
   },
   {
    "duration": 4,
    "start_time": "2023-07-18T13:21:11.721Z"
   },
   {
    "duration": 5,
    "start_time": "2023-07-18T13:21:12.536Z"
   },
   {
    "duration": 4,
    "start_time": "2023-07-18T13:21:13.499Z"
   },
   {
    "duration": 5,
    "start_time": "2023-07-18T13:21:20.425Z"
   },
   {
    "duration": 84,
    "start_time": "2023-07-18T13:21:22.050Z"
   },
   {
    "duration": 8,
    "start_time": "2023-07-18T13:21:32.216Z"
   },
   {
    "duration": 11,
    "start_time": "2023-07-18T13:21:35.248Z"
   },
   {
    "duration": 15,
    "start_time": "2023-07-18T13:22:18.865Z"
   },
   {
    "duration": 11,
    "start_time": "2023-07-18T13:22:57.604Z"
   },
   {
    "duration": 3,
    "start_time": "2023-07-18T13:23:08.380Z"
   },
   {
    "duration": 1029,
    "start_time": "2023-07-18T13:23:19.837Z"
   },
   {
    "duration": 3,
    "start_time": "2023-07-18T13:23:20.868Z"
   },
   {
    "duration": 49,
    "start_time": "2023-07-18T13:23:20.872Z"
   },
   {
    "duration": 14,
    "start_time": "2023-07-18T13:23:20.923Z"
   },
   {
    "duration": 14,
    "start_time": "2023-07-18T13:23:20.938Z"
   },
   {
    "duration": 53,
    "start_time": "2023-07-18T13:23:20.954Z"
   },
   {
    "duration": 750,
    "start_time": "2023-07-18T13:23:21.281Z"
   },
   {
    "duration": 5,
    "start_time": "2023-07-18T13:23:22.033Z"
   },
   {
    "duration": 3,
    "start_time": "2023-07-18T13:23:23.352Z"
   },
   {
    "duration": 4,
    "start_time": "2023-07-18T13:23:24.097Z"
   },
   {
    "duration": 10,
    "start_time": "2023-07-18T13:23:24.281Z"
   },
   {
    "duration": 6,
    "start_time": "2023-07-18T13:23:25.325Z"
   },
   {
    "duration": 4,
    "start_time": "2023-07-18T13:23:25.668Z"
   },
   {
    "duration": 99,
    "start_time": "2023-07-18T13:23:25.824Z"
   },
   {
    "duration": 8,
    "start_time": "2023-07-18T13:23:26.404Z"
   },
   {
    "duration": 21,
    "start_time": "2023-07-18T13:23:26.765Z"
   },
   {
    "duration": 9,
    "start_time": "2023-07-18T13:23:28.417Z"
   },
   {
    "duration": 8,
    "start_time": "2023-07-18T13:23:29.079Z"
   },
   {
    "duration": 7,
    "start_time": "2023-07-18T13:23:29.327Z"
   },
   {
    "duration": 16,
    "start_time": "2023-07-18T13:23:29.539Z"
   },
   {
    "duration": 11,
    "start_time": "2023-07-18T13:23:31.640Z"
   },
   {
    "duration": 10,
    "start_time": "2023-07-18T13:23:31.983Z"
   },
   {
    "duration": 4,
    "start_time": "2023-07-18T13:23:32.679Z"
   },
   {
    "duration": 6,
    "start_time": "2023-07-18T13:23:32.943Z"
   },
   {
    "duration": 5,
    "start_time": "2023-07-18T13:23:33.257Z"
   },
   {
    "duration": 5,
    "start_time": "2023-07-18T13:23:33.566Z"
   },
   {
    "duration": 5,
    "start_time": "2023-07-18T13:23:35.311Z"
   },
   {
    "duration": 9,
    "start_time": "2023-07-18T13:23:35.643Z"
   },
   {
    "duration": 4,
    "start_time": "2023-07-18T13:23:35.854Z"
   },
   {
    "duration": 11,
    "start_time": "2023-07-18T13:23:37.843Z"
   },
   {
    "duration": 897,
    "start_time": "2023-07-18T13:25:23.783Z"
   },
   {
    "duration": 822,
    "start_time": "2023-07-18T13:25:46.245Z"
   },
   {
    "duration": 866,
    "start_time": "2023-07-18T13:26:26.924Z"
   },
   {
    "duration": 352,
    "start_time": "2023-07-18T13:26:47.244Z"
   },
   {
    "duration": 283,
    "start_time": "2023-07-18T13:26:52.931Z"
   },
   {
    "duration": 4991,
    "start_time": "2023-07-18T13:26:54.581Z"
   },
   {
    "duration": 536,
    "start_time": "2023-07-18T13:26:59.574Z"
   },
   {
    "duration": 16,
    "start_time": "2023-07-18T13:30:28.052Z"
   },
   {
    "duration": 5,
    "start_time": "2023-07-18T13:30:35.072Z"
   },
   {
    "duration": 17,
    "start_time": "2023-07-18T13:30:37.003Z"
   },
   {
    "duration": 14,
    "start_time": "2023-07-18T13:30:39.825Z"
   },
   {
    "duration": 1369,
    "start_time": "2023-07-18T13:30:46.920Z"
   },
   {
    "duration": 8,
    "start_time": "2023-07-18T13:41:29.684Z"
   },
   {
    "duration": 11,
    "start_time": "2023-07-18T13:41:58.813Z"
   },
   {
    "duration": 1121,
    "start_time": "2023-07-18T13:42:56.324Z"
   },
   {
    "duration": 3,
    "start_time": "2023-07-18T13:43:08.405Z"
   },
   {
    "duration": 1041,
    "start_time": "2023-07-18T13:43:17.455Z"
   },
   {
    "duration": 4,
    "start_time": "2023-07-18T13:43:19.327Z"
   },
   {
    "duration": 40,
    "start_time": "2023-07-18T13:43:19.520Z"
   },
   {
    "duration": 15,
    "start_time": "2023-07-18T13:43:19.731Z"
   },
   {
    "duration": 14,
    "start_time": "2023-07-18T13:43:19.918Z"
   },
   {
    "duration": 33,
    "start_time": "2023-07-18T13:43:20.135Z"
   },
   {
    "duration": 776,
    "start_time": "2023-07-18T13:43:20.789Z"
   },
   {
    "duration": 6,
    "start_time": "2023-07-18T13:43:21.567Z"
   },
   {
    "duration": 3,
    "start_time": "2023-07-18T13:43:23.479Z"
   },
   {
    "duration": 3,
    "start_time": "2023-07-18T13:43:23.664Z"
   },
   {
    "duration": 12,
    "start_time": "2023-07-18T13:43:23.867Z"
   },
   {
    "duration": 6,
    "start_time": "2023-07-18T13:43:24.936Z"
   },
   {
    "duration": 4,
    "start_time": "2023-07-18T13:43:25.415Z"
   },
   {
    "duration": 107,
    "start_time": "2023-07-18T13:43:25.692Z"
   },
   {
    "duration": 7,
    "start_time": "2023-07-18T13:43:26.446Z"
   },
   {
    "duration": 22,
    "start_time": "2023-07-18T13:43:26.892Z"
   },
   {
    "duration": 9,
    "start_time": "2023-07-18T13:43:28.115Z"
   },
   {
    "duration": 11,
    "start_time": "2023-07-18T13:43:28.824Z"
   },
   {
    "duration": 9,
    "start_time": "2023-07-18T13:43:29.056Z"
   },
   {
    "duration": 14,
    "start_time": "2023-07-18T13:43:29.285Z"
   },
   {
    "duration": 11,
    "start_time": "2023-07-18T13:43:30.462Z"
   },
   {
    "duration": 11,
    "start_time": "2023-07-18T13:43:30.676Z"
   },
   {
    "duration": 3,
    "start_time": "2023-07-18T13:43:31.055Z"
   },
   {
    "duration": 5,
    "start_time": "2023-07-18T13:43:31.262Z"
   },
   {
    "duration": 3,
    "start_time": "2023-07-18T13:43:31.449Z"
   },
   {
    "duration": 4,
    "start_time": "2023-07-18T13:43:31.646Z"
   },
   {
    "duration": 4,
    "start_time": "2023-07-18T13:43:32.806Z"
   },
   {
    "duration": 8,
    "start_time": "2023-07-18T13:43:33.002Z"
   },
   {
    "duration": 3,
    "start_time": "2023-07-18T13:43:33.203Z"
   },
   {
    "duration": 12,
    "start_time": "2023-07-18T13:43:33.387Z"
   },
   {
    "duration": 899,
    "start_time": "2023-07-18T13:43:35.665Z"
   },
   {
    "duration": 732,
    "start_time": "2023-07-18T13:43:36.566Z"
   },
   {
    "duration": 266,
    "start_time": "2023-07-18T13:43:37.591Z"
   },
   {
    "duration": 287,
    "start_time": "2023-07-18T13:43:38.045Z"
   },
   {
    "duration": 4946,
    "start_time": "2023-07-18T13:43:38.475Z"
   },
   {
    "duration": 826,
    "start_time": "2023-07-18T13:43:43.423Z"
   },
   {
    "duration": 5,
    "start_time": "2023-07-18T13:43:44.251Z"
   },
   {
    "duration": 20,
    "start_time": "2023-07-18T13:43:44.258Z"
   },
   {
    "duration": 27,
    "start_time": "2023-07-18T13:43:44.280Z"
   },
   {
    "duration": 85,
    "start_time": "2023-07-18T13:43:44.308Z"
   },
   {
    "duration": 0,
    "start_time": "2023-07-18T13:43:44.395Z"
   },
   {
    "duration": 1081,
    "start_time": "2023-07-18T13:43:49.612Z"
   },
   {
    "duration": 9,
    "start_time": "2023-07-18T13:52:49.740Z"
   },
   {
    "duration": 9,
    "start_time": "2023-07-18T13:54:38.491Z"
   },
   {
    "duration": 8,
    "start_time": "2023-07-18T13:54:52.773Z"
   },
   {
    "duration": 9,
    "start_time": "2023-07-18T13:55:23.216Z"
   },
   {
    "duration": 11,
    "start_time": "2023-07-18T13:55:26.338Z"
   },
   {
    "duration": 11,
    "start_time": "2023-07-18T13:55:31.405Z"
   },
   {
    "duration": 3218,
    "start_time": "2023-07-18T13:59:57.962Z"
   },
   {
    "duration": 17,
    "start_time": "2023-07-18T14:02:44.683Z"
   },
   {
    "duration": 17434,
    "start_time": "2023-07-18T14:03:00.232Z"
   },
   {
    "duration": 11,
    "start_time": "2023-07-18T14:07:23.728Z"
   },
   {
    "duration": 515,
    "start_time": "2023-07-18T14:07:33.493Z"
   },
   {
    "duration": 17566,
    "start_time": "2023-07-18T14:07:34.801Z"
   },
   {
    "duration": 479,
    "start_time": "2023-07-18T14:08:24.525Z"
   },
   {
    "duration": 18185,
    "start_time": "2023-07-18T14:08:25.713Z"
   },
   {
    "duration": 525,
    "start_time": "2023-07-18T14:09:25.249Z"
   },
   {
    "duration": 18573,
    "start_time": "2023-07-18T14:09:27.507Z"
   },
   {
    "duration": 1148,
    "start_time": "2023-07-18T14:10:14.383Z"
   },
   {
    "duration": 3,
    "start_time": "2023-07-18T14:10:15.533Z"
   },
   {
    "duration": 62,
    "start_time": "2023-07-18T14:10:15.538Z"
   },
   {
    "duration": 15,
    "start_time": "2023-07-18T14:10:15.603Z"
   },
   {
    "duration": 24,
    "start_time": "2023-07-18T14:10:15.619Z"
   },
   {
    "duration": 56,
    "start_time": "2023-07-18T14:10:15.644Z"
   },
   {
    "duration": 946,
    "start_time": "2023-07-18T14:10:15.837Z"
   },
   {
    "duration": 8,
    "start_time": "2023-07-18T14:10:16.785Z"
   },
   {
    "duration": 4,
    "start_time": "2023-07-18T14:10:17.399Z"
   },
   {
    "duration": 4,
    "start_time": "2023-07-18T14:10:17.593Z"
   },
   {
    "duration": 14,
    "start_time": "2023-07-18T14:10:17.773Z"
   },
   {
    "duration": 6,
    "start_time": "2023-07-18T14:10:18.745Z"
   },
   {
    "duration": 4,
    "start_time": "2023-07-18T14:10:19.131Z"
   },
   {
    "duration": 93,
    "start_time": "2023-07-18T14:10:19.345Z"
   },
   {
    "duration": 8,
    "start_time": "2023-07-18T14:10:19.945Z"
   },
   {
    "duration": 19,
    "start_time": "2023-07-18T14:10:20.370Z"
   },
   {
    "duration": 10,
    "start_time": "2023-07-18T14:10:21.400Z"
   },
   {
    "duration": 10,
    "start_time": "2023-07-18T14:10:22.023Z"
   },
   {
    "duration": 12,
    "start_time": "2023-07-18T14:10:22.261Z"
   },
   {
    "duration": 20,
    "start_time": "2023-07-18T14:10:22.460Z"
   },
   {
    "duration": 10,
    "start_time": "2023-07-18T14:10:23.773Z"
   },
   {
    "duration": 13,
    "start_time": "2023-07-18T14:10:23.951Z"
   },
   {
    "duration": 4,
    "start_time": "2023-07-18T14:10:24.406Z"
   },
   {
    "duration": 5,
    "start_time": "2023-07-18T14:10:24.624Z"
   },
   {
    "duration": 3,
    "start_time": "2023-07-18T14:10:24.870Z"
   },
   {
    "duration": 5,
    "start_time": "2023-07-18T14:10:25.051Z"
   },
   {
    "duration": 6,
    "start_time": "2023-07-18T14:10:26.379Z"
   },
   {
    "duration": 10,
    "start_time": "2023-07-18T14:10:26.593Z"
   },
   {
    "duration": 3,
    "start_time": "2023-07-18T14:10:26.811Z"
   },
   {
    "duration": 13,
    "start_time": "2023-07-18T14:10:27.023Z"
   },
   {
    "duration": 921,
    "start_time": "2023-07-18T14:10:30.054Z"
   },
   {
    "duration": 848,
    "start_time": "2023-07-18T14:10:32.108Z"
   },
   {
    "duration": 289,
    "start_time": "2023-07-18T14:10:35.520Z"
   },
   {
    "duration": 323,
    "start_time": "2023-07-18T14:10:36.846Z"
   },
   {
    "duration": 5174,
    "start_time": "2023-07-18T14:10:37.933Z"
   },
   {
    "duration": 917,
    "start_time": "2023-07-18T14:11:22.876Z"
   },
   {
    "duration": 6,
    "start_time": "2023-07-18T14:11:24.206Z"
   },
   {
    "duration": 20,
    "start_time": "2023-07-18T14:11:24.430Z"
   },
   {
    "duration": 13,
    "start_time": "2023-07-18T14:11:24.893Z"
   },
   {
    "duration": 2186,
    "start_time": "2023-07-18T14:11:26.205Z"
   },
   {
    "duration": 100,
    "start_time": "2023-07-18T14:11:28.393Z"
   },
   {
    "duration": 595,
    "start_time": "2023-07-18T14:11:35.337Z"
   },
   {
    "duration": 479,
    "start_time": "2023-07-18T14:11:46.973Z"
   },
   {
    "duration": 17095,
    "start_time": "2023-07-18T14:11:52.162Z"
   },
   {
    "duration": 16,
    "start_time": "2023-07-18T14:12:51.718Z"
   },
   {
    "duration": 16,
    "start_time": "2023-07-18T14:13:27.214Z"
   },
   {
    "duration": 16,
    "start_time": "2023-07-18T14:13:34.117Z"
   },
   {
    "duration": 0,
    "start_time": "2023-07-18T14:14:18.484Z"
   },
   {
    "duration": 1759,
    "start_time": "2023-07-18T14:14:53.438Z"
   },
   {
    "duration": 1609,
    "start_time": "2023-07-18T14:15:06.545Z"
   },
   {
    "duration": 1586,
    "start_time": "2023-07-18T14:23:26.416Z"
   },
   {
    "duration": 1046,
    "start_time": "2023-07-18T14:24:34.530Z"
   },
   {
    "duration": 3,
    "start_time": "2023-07-18T14:24:35.578Z"
   },
   {
    "duration": 38,
    "start_time": "2023-07-18T14:24:36.233Z"
   },
   {
    "duration": 14,
    "start_time": "2023-07-18T14:24:36.410Z"
   },
   {
    "duration": 14,
    "start_time": "2023-07-18T14:24:36.581Z"
   },
   {
    "duration": 34,
    "start_time": "2023-07-18T14:24:36.757Z"
   },
   {
    "duration": 774,
    "start_time": "2023-07-18T14:24:37.307Z"
   },
   {
    "duration": 7,
    "start_time": "2023-07-18T14:24:38.082Z"
   },
   {
    "duration": 4,
    "start_time": "2023-07-18T14:24:38.815Z"
   },
   {
    "duration": 3,
    "start_time": "2023-07-18T14:24:39.049Z"
   },
   {
    "duration": 10,
    "start_time": "2023-07-18T14:24:39.208Z"
   },
   {
    "duration": 7,
    "start_time": "2023-07-18T14:24:40.136Z"
   },
   {
    "duration": 4,
    "start_time": "2023-07-18T14:24:40.526Z"
   },
   {
    "duration": 84,
    "start_time": "2023-07-18T14:24:40.725Z"
   },
   {
    "duration": 7,
    "start_time": "2023-07-18T14:24:41.306Z"
   },
   {
    "duration": 20,
    "start_time": "2023-07-18T14:24:41.711Z"
   },
   {
    "duration": 11,
    "start_time": "2023-07-18T14:24:42.705Z"
   },
   {
    "duration": 8,
    "start_time": "2023-07-18T14:24:43.466Z"
   },
   {
    "duration": 7,
    "start_time": "2023-07-18T14:24:43.532Z"
   },
   {
    "duration": 14,
    "start_time": "2023-07-18T14:24:43.734Z"
   },
   {
    "duration": 11,
    "start_time": "2023-07-18T14:24:44.956Z"
   },
   {
    "duration": 11,
    "start_time": "2023-07-18T14:24:45.162Z"
   },
   {
    "duration": 4,
    "start_time": "2023-07-18T14:24:45.578Z"
   },
   {
    "duration": 6,
    "start_time": "2023-07-18T14:24:45.769Z"
   },
   {
    "duration": 3,
    "start_time": "2023-07-18T14:24:45.975Z"
   },
   {
    "duration": 5,
    "start_time": "2023-07-18T14:24:46.180Z"
   },
   {
    "duration": 4,
    "start_time": "2023-07-18T14:24:47.398Z"
   },
   {
    "duration": 8,
    "start_time": "2023-07-18T14:24:47.628Z"
   },
   {
    "duration": 3,
    "start_time": "2023-07-18T14:24:47.840Z"
   },
   {
    "duration": 12,
    "start_time": "2023-07-18T14:24:48.057Z"
   },
   {
    "duration": 883,
    "start_time": "2023-07-18T14:24:50.171Z"
   },
   {
    "duration": 752,
    "start_time": "2023-07-18T14:24:51.056Z"
   },
   {
    "duration": 262,
    "start_time": "2023-07-18T14:24:52.111Z"
   },
   {
    "duration": 308,
    "start_time": "2023-07-18T14:24:52.525Z"
   },
   {
    "duration": 4845,
    "start_time": "2023-07-18T14:24:52.970Z"
   },
   {
    "duration": 813,
    "start_time": "2023-07-18T14:24:57.817Z"
   },
   {
    "duration": 5,
    "start_time": "2023-07-18T14:24:58.632Z"
   },
   {
    "duration": 54,
    "start_time": "2023-07-18T14:24:58.639Z"
   },
   {
    "duration": 16,
    "start_time": "2023-07-18T14:24:58.695Z"
   },
   {
    "duration": 1116,
    "start_time": "2023-07-18T14:25:02.681Z"
   },
   {
    "duration": 1820,
    "start_time": "2023-07-18T14:25:03.877Z"
   },
   {
    "duration": 534,
    "start_time": "2023-07-18T14:25:05.700Z"
   },
   {
    "duration": 487,
    "start_time": "2023-07-18T14:25:07.249Z"
   },
   {
    "duration": 1653,
    "start_time": "2023-07-18T14:25:08.181Z"
   },
   {
    "duration": 852,
    "start_time": "2023-07-18T14:25:11.267Z"
   },
   {
    "duration": 448,
    "start_time": "2023-07-18T14:25:21.097Z"
   },
   {
    "duration": 772,
    "start_time": "2023-07-18T14:31:47.837Z"
   },
   {
    "duration": 215,
    "start_time": "2023-07-18T14:34:03.970Z"
   },
   {
    "duration": 140,
    "start_time": "2023-07-18T14:34:18.444Z"
   },
   {
    "duration": 156,
    "start_time": "2023-07-18T14:34:55.151Z"
   },
   {
    "duration": 127,
    "start_time": "2023-07-18T14:35:20.207Z"
   },
   {
    "duration": 132,
    "start_time": "2023-07-18T14:35:53.250Z"
   },
   {
    "duration": 145,
    "start_time": "2023-07-18T14:36:23.218Z"
   },
   {
    "duration": 132,
    "start_time": "2023-07-18T14:36:41.058Z"
   },
   {
    "duration": 125,
    "start_time": "2023-07-18T14:38:01.461Z"
   },
   {
    "duration": 152,
    "start_time": "2023-07-18T14:38:57.199Z"
   },
   {
    "duration": 144,
    "start_time": "2023-07-18T14:39:15.383Z"
   },
   {
    "duration": 172,
    "start_time": "2023-07-18T14:39:20.111Z"
   },
   {
    "duration": 141,
    "start_time": "2023-07-18T14:39:23.113Z"
   },
   {
    "duration": 134,
    "start_time": "2023-07-18T14:39:34.817Z"
   },
   {
    "duration": 132,
    "start_time": "2023-07-18T14:39:37.059Z"
   },
   {
    "duration": 125,
    "start_time": "2023-07-18T14:39:37.818Z"
   },
   {
    "duration": 277,
    "start_time": "2023-07-18T14:39:41.688Z"
   },
   {
    "duration": 137,
    "start_time": "2023-07-18T14:40:02.996Z"
   },
   {
    "duration": 125,
    "start_time": "2023-07-18T14:40:19.243Z"
   },
   {
    "duration": 129,
    "start_time": "2023-07-18T14:41:05.241Z"
   },
   {
    "duration": 128,
    "start_time": "2023-07-18T14:45:38.655Z"
   },
   {
    "duration": 157,
    "start_time": "2023-07-18T14:45:42.623Z"
   },
   {
    "duration": 150,
    "start_time": "2023-07-18T14:45:46.171Z"
   },
   {
    "duration": 139,
    "start_time": "2023-07-18T14:46:33.822Z"
   },
   {
    "duration": 152,
    "start_time": "2023-07-18T14:46:40.176Z"
   },
   {
    "duration": 134,
    "start_time": "2023-07-18T14:46:45.591Z"
   },
   {
    "duration": 128,
    "start_time": "2023-07-18T14:47:04.629Z"
   },
   {
    "duration": 1433,
    "start_time": "2023-07-18T20:27:39.970Z"
   },
   {
    "duration": 7,
    "start_time": "2023-07-18T20:27:42.143Z"
   },
   {
    "duration": 373,
    "start_time": "2023-07-18T20:27:42.352Z"
   },
   {
    "duration": 25,
    "start_time": "2023-07-18T20:27:42.727Z"
   },
   {
    "duration": 15,
    "start_time": "2023-07-18T20:27:42.825Z"
   },
   {
    "duration": 45,
    "start_time": "2023-07-18T20:27:43.019Z"
   },
   {
    "duration": 946,
    "start_time": "2023-07-18T20:27:43.721Z"
   },
   {
    "duration": 10,
    "start_time": "2023-07-18T20:27:44.669Z"
   },
   {
    "duration": 3,
    "start_time": "2023-07-18T20:27:46.851Z"
   },
   {
    "duration": 3,
    "start_time": "2023-07-18T20:27:47.110Z"
   },
   {
    "duration": 16,
    "start_time": "2023-07-18T20:27:47.330Z"
   },
   {
    "duration": 7,
    "start_time": "2023-07-18T20:27:48.865Z"
   },
   {
    "duration": 4,
    "start_time": "2023-07-18T20:27:49.464Z"
   },
   {
    "duration": 105,
    "start_time": "2023-07-18T20:27:49.693Z"
   },
   {
    "duration": 9,
    "start_time": "2023-07-18T20:27:50.741Z"
   },
   {
    "duration": 29,
    "start_time": "2023-07-18T20:27:51.225Z"
   },
   {
    "duration": 10,
    "start_time": "2023-07-18T20:27:52.404Z"
   },
   {
    "duration": 10,
    "start_time": "2023-07-18T20:27:53.202Z"
   },
   {
    "duration": 8,
    "start_time": "2023-07-18T20:27:53.469Z"
   },
   {
    "duration": 21,
    "start_time": "2023-07-18T20:27:53.717Z"
   },
   {
    "duration": 21,
    "start_time": "2023-07-18T20:27:55.223Z"
   },
   {
    "duration": 15,
    "start_time": "2023-07-18T20:27:55.438Z"
   },
   {
    "duration": 4,
    "start_time": "2023-07-18T20:27:55.904Z"
   },
   {
    "duration": 5,
    "start_time": "2023-07-18T20:27:56.109Z"
   },
   {
    "duration": 5,
    "start_time": "2023-07-18T20:27:56.316Z"
   },
   {
    "duration": 5,
    "start_time": "2023-07-18T20:27:56.552Z"
   },
   {
    "duration": 5,
    "start_time": "2023-07-18T20:27:57.966Z"
   },
   {
    "duration": 9,
    "start_time": "2023-07-18T20:27:58.179Z"
   },
   {
    "duration": 3,
    "start_time": "2023-07-18T20:27:58.420Z"
   },
   {
    "duration": 11,
    "start_time": "2023-07-18T20:27:58.649Z"
   },
   {
    "duration": 1056,
    "start_time": "2023-07-18T20:28:14.828Z"
   },
   {
    "duration": 832,
    "start_time": "2023-07-18T20:28:16.216Z"
   },
   {
    "duration": 306,
    "start_time": "2023-07-18T20:28:19.768Z"
   },
   {
    "duration": 405,
    "start_time": "2023-07-18T20:29:43.348Z"
   },
   {
    "duration": 5618,
    "start_time": "2023-07-18T20:29:44.954Z"
   },
   {
    "duration": 1015,
    "start_time": "2023-07-18T20:29:50.574Z"
   },
   {
    "duration": 5,
    "start_time": "2023-07-18T20:29:51.591Z"
   },
   {
    "duration": 45,
    "start_time": "2023-07-18T20:29:51.598Z"
   },
   {
    "duration": 13,
    "start_time": "2023-07-18T20:29:52.610Z"
   },
   {
    "duration": 1294,
    "start_time": "2023-07-18T20:30:14.966Z"
   },
   {
    "duration": 3415,
    "start_time": "2023-07-18T20:30:16.329Z"
   },
   {
    "duration": 605,
    "start_time": "2023-07-18T20:30:19.746Z"
   },
   {
    "duration": 542,
    "start_time": "2023-07-18T20:30:23.225Z"
   },
   {
    "duration": 2118,
    "start_time": "2023-07-18T20:30:24.090Z"
   },
   {
    "duration": 966,
    "start_time": "2023-07-18T20:30:39.775Z"
   },
   {
    "duration": 474,
    "start_time": "2023-07-18T20:30:42.408Z"
   },
   {
    "duration": 151,
    "start_time": "2023-07-18T20:30:46.991Z"
   },
   {
    "duration": 147,
    "start_time": "2023-07-18T20:30:47.925Z"
   },
   {
    "duration": 141,
    "start_time": "2023-07-18T20:30:48.274Z"
   },
   {
    "duration": 157,
    "start_time": "2023-07-18T20:30:49.016Z"
   },
   {
    "duration": 147,
    "start_time": "2023-07-18T20:30:49.361Z"
   },
   {
    "duration": 15,
    "start_time": "2023-07-18T20:30:55.420Z"
   },
   {
    "duration": 11,
    "start_time": "2023-07-18T20:30:57.558Z"
   },
   {
    "duration": 14,
    "start_time": "2023-07-18T20:30:59.228Z"
   }
  ],
  "kernelspec": {
   "display_name": "Python 3 (ipykernel)",
   "language": "python",
   "name": "python3"
  },
  "language_info": {
   "codemirror_mode": {
    "name": "ipython",
    "version": 3
   },
   "file_extension": ".py",
   "mimetype": "text/x-python",
   "name": "python",
   "nbconvert_exporter": "python",
   "pygments_lexer": "ipython3",
   "version": "3.10.9"
  },
  "toc": {
   "base_numbering": 1,
   "nav_menu": {},
   "number_sections": true,
   "sideBar": true,
   "skip_h1_title": true,
   "title_cell": "Table of Contents",
   "title_sidebar": "Contents",
   "toc_cell": false,
   "toc_position": {},
   "toc_section_display": true,
   "toc_window_display": false
  }
 },
 "nbformat": 4,
 "nbformat_minor": 2
}

{
 "cells": [
  {
   "cell_type": "markdown",
   "id": "33e64455",
   "metadata": {},
   "source": [
    "# Создание дашборда пользовательских событий для агрегатора новостей"
   ]
  },
  {
   "cell_type": "markdown",
   "id": "8e15cc49",
   "metadata": {},
   "source": [
    "# Описание проекта \n",
    "\n",
    "Необходимо автоматизировать рабочий процесс, который состоит в анализе пользовательского взаимодействия с карточками статей и еженедельный отчет по проведенному анализу.\n",
    "\n",
    "Описание:\n",
    "\n",
    "Каждую карточку статей Яндек.Дзен определяют её тема и источник (у него тоже есть тема). \n",
    "Примеры тем: «Красота и здоровье», «Россия», «Путешествия». \n",
    "Пользователей системы характеризует возрастная категория. Скажем, «26-30» или «45+».\n",
    "\n",
    "Есть три способа взаимодействия пользователей с системой:\n",
    "- Карточка отображена для пользователя (show);\n",
    "- Пользователь кликнул на карточку (click);\n",
    "- Пользователь просмотрел статью карточки (view).\n",
    "\n",
    "**Цель:**\n",
    "\n",
    "Анализ взаимодействия пользователей с карточками Яндекс.Дзен.\n",
    "\n",
    "**Задача:**\n",
    "\n",
    "Сделать дашборд, основанный на пайплайне, который берёт данные из сырой таблицы, трансформирует их и укладывает в агрегирующую таблицу."
   ]
  },
  {
   "cell_type": "markdown",
   "id": "d8bccf1f",
   "metadata": {},
   "source": [
    "# Начало работы"
   ]
  },
  {
   "cell_type": "markdown",
   "id": "ea58ac61",
   "metadata": {},
   "source": [
    "Создадим коннекцию к базе:"
   ]
  },
  {
   "cell_type": "code",
   "execution_count": 1,
   "id": "a1ad9cbc",
   "metadata": {},
   "outputs": [
    {
     "name": "stdout",
     "output_type": "stream",
     "text": [
      "Requirement already satisfied: psycopg2 in c:\\users\\lipsc\\anacondaa\\lib\\site-packages (2.9.6)\n",
      "Requirement already satisfied: psycopg2-binary in c:\\users\\lipsc\\anacondaa\\lib\\site-packages (2.9.6)\n"
     ]
    }
   ],
   "source": [
    "!pip3 install psycopg2\n",
    "!pip install psycopg2-binary"
   ]
  },
  {
   "cell_type": "code",
   "execution_count": 2,
   "id": "12941917",
   "metadata": {},
   "outputs": [],
   "source": [
    "# импортируем библиотеки\n",
    "import pandas as pd\n",
    "from sqlalchemy import create_engine\n",
    "\n",
    "db_config = {'user': 'praktikum_student', # имя пользователя\n",
    "            'pwd': 'Sdf4$2;d-d30pp', # пароль\n",
    "            'host': 'rc1b-wcoijxj3yxfsf3fs.mdb.yandexcloud.net',\n",
    "            'port': 6432, # порт подключения\n",
    "            'db': 'data-analyst-zen-project-db'} # название базы данных\n",
    "\n",
    "connection_string = 'postgresql://{}:{}@{}:{}/{}'.format(db_config['user'],\n",
    "                                                db_config['pwd'],\n",
    "                                                db_config['host'],\n",
    "                                                db_config['port'],\n",
    "                                                db_config['db'])\n",
    "\n",
    "engine = create_engine(connection_string)"
   ]
  },
  {
   "cell_type": "markdown",
   "id": "ec990004",
   "metadata": {},
   "source": [
    "Выгрузим данные из таблицы dash_visits в файл dash_visits.csv"
   ]
  },
  {
   "cell_type": "code",
   "execution_count": 3,
   "id": "661fc8b1",
   "metadata": {},
   "outputs": [],
   "source": [
    "dash_visits = pd.io.sql.read_sql('''\n",
    "                                    SELECT *\n",
    "                                    FROM dash_visits\n",
    "                                 ''',\n",
    "                                    con = engine)"
   ]
  },
  {
   "cell_type": "code",
   "execution_count": 4,
   "id": "9bb103dd",
   "metadata": {},
   "outputs": [
    {
     "data": {
      "text/html": [
       "<div>\n",
       "<style scoped>\n",
       "    .dataframe tbody tr th:only-of-type {\n",
       "        vertical-align: middle;\n",
       "    }\n",
       "\n",
       "    .dataframe tbody tr th {\n",
       "        vertical-align: top;\n",
       "    }\n",
       "\n",
       "    .dataframe thead th {\n",
       "        text-align: right;\n",
       "    }\n",
       "</style>\n",
       "<table border=\"1\" class=\"dataframe\">\n",
       "  <thead>\n",
       "    <tr style=\"text-align: right;\">\n",
       "      <th></th>\n",
       "      <th>record_id</th>\n",
       "      <th>item_topic</th>\n",
       "      <th>source_topic</th>\n",
       "      <th>age_segment</th>\n",
       "      <th>dt</th>\n",
       "      <th>visits</th>\n",
       "    </tr>\n",
       "  </thead>\n",
       "  <tbody>\n",
       "    <tr>\n",
       "      <th>0</th>\n",
       "      <td>1040597</td>\n",
       "      <td>Деньги</td>\n",
       "      <td>Авто</td>\n",
       "      <td>18-25</td>\n",
       "      <td>2019-09-24 18:32:00</td>\n",
       "      <td>3</td>\n",
       "    </tr>\n",
       "    <tr>\n",
       "      <th>1</th>\n",
       "      <td>1040598</td>\n",
       "      <td>Деньги</td>\n",
       "      <td>Авто</td>\n",
       "      <td>18-25</td>\n",
       "      <td>2019-09-24 18:35:00</td>\n",
       "      <td>1</td>\n",
       "    </tr>\n",
       "    <tr>\n",
       "      <th>2</th>\n",
       "      <td>1040599</td>\n",
       "      <td>Деньги</td>\n",
       "      <td>Авто</td>\n",
       "      <td>18-25</td>\n",
       "      <td>2019-09-24 18:54:00</td>\n",
       "      <td>4</td>\n",
       "    </tr>\n",
       "    <tr>\n",
       "      <th>3</th>\n",
       "      <td>1040600</td>\n",
       "      <td>Деньги</td>\n",
       "      <td>Авто</td>\n",
       "      <td>18-25</td>\n",
       "      <td>2019-09-24 18:55:00</td>\n",
       "      <td>17</td>\n",
       "    </tr>\n",
       "    <tr>\n",
       "      <th>4</th>\n",
       "      <td>1040601</td>\n",
       "      <td>Деньги</td>\n",
       "      <td>Авто</td>\n",
       "      <td>18-25</td>\n",
       "      <td>2019-09-24 18:56:00</td>\n",
       "      <td>27</td>\n",
       "    </tr>\n",
       "  </tbody>\n",
       "</table>\n",
       "</div>"
      ],
      "text/plain": [
       "   record_id item_topic source_topic age_segment                  dt  visits\n",
       "0    1040597     Деньги         Авто       18-25 2019-09-24 18:32:00       3\n",
       "1    1040598     Деньги         Авто       18-25 2019-09-24 18:35:00       1\n",
       "2    1040599     Деньги         Авто       18-25 2019-09-24 18:54:00       4\n",
       "3    1040600     Деньги         Авто       18-25 2019-09-24 18:55:00      17\n",
       "4    1040601     Деньги         Авто       18-25 2019-09-24 18:56:00      27"
      ]
     },
     "execution_count": 4,
     "metadata": {},
     "output_type": "execute_result"
    }
   ],
   "source": [
    "dash_visits.to_csv('dash_visits.csv', index=False)\n",
    "\n",
    "dash_visits.head(5)"
   ]
  },
  {
   "cell_type": "code",
   "execution_count": 5,
   "id": "6edc8065",
   "metadata": {},
   "outputs": [
    {
     "data": {
      "text/plain": [
       "Timestamp('2019-09-24 18:28:00')"
      ]
     },
     "execution_count": 5,
     "metadata": {},
     "output_type": "execute_result"
    }
   ],
   "source": [
    "dash_visits['dt'].min()"
   ]
  },
  {
   "cell_type": "code",
   "execution_count": 6,
   "id": "1491093e",
   "metadata": {},
   "outputs": [
    {
     "data": {
      "text/plain": [
       "Timestamp('2019-09-24 19:00:00')"
      ]
     },
     "execution_count": 6,
     "metadata": {},
     "output_type": "execute_result"
    }
   ],
   "source": [
    "dash_visits['dt'].max()"
   ]
  },
  {
   "cell_type": "markdown",
   "id": "4d481638",
   "metadata": {},
   "source": [
    "В Tableau на основе файла dash_visits.csv сформирован дашборд для анализа взаимодействия пользователей с карточками Яндекс.Дзен."
   ]
  },
  {
   "cell_type": "markdown",
   "id": "2bb4a031",
   "metadata": {},
   "source": [
    "**Ссылки на дашборд:**\n",
    "\n",
    "https://public.tableau.com/app/profile/sofia.lipskaia/viz/Yandex_dzen_16882513543020/_?publish=yes\n",
    "\n",
    "\n",
    "https://public.tableau.com/views/Yandex_dzen_16882513543020/_?:language=en-US&publish=yes&:display_count=n&:origin=viz_share_link"
   ]
  },
  {
   "cell_type": "markdown",
   "id": "e8731a21",
   "metadata": {},
   "source": [
    "# Выводы\n",
    "\n",
    "- Наибольшее количество взаимодействий пользователя с карточками приходится на тему \"Наука\", второе место занимает \"Отношения\" и третье \"Интересные факты\";\n",
    "- Пик взаимодействий с карточками приходится на 18:58;\n",
    "- Взаимодействий с карточками на тему \"Наука\" в это время достигает 4372;\n",
    "- Наименее популярными карточками в это время являются карточки на тему \"Знаменитости\";\n",
    "- В 18:58 количество взаимодействий пользователей с карточками на разные темы превышает 60 тысяч."
   ]
  },
  {
   "cell_type": "markdown",
   "id": "30a815c9",
   "metadata": {},
   "source": [
    "Самые популярные темы карточек (по количеству взаимодействий):\n",
    "- Наука;\n",
    "- Отношения;\n",
    "- интересные факты;\n",
    "- Общество;\n",
    "- Подборки;\n",
    "- Россия;\n",
    "- Полезные советы;\n",
    "- История.\n",
    "\n",
    "Наука занимает чуть больше 8% от общего числа событий."
   ]
  },
  {
   "cell_type": "markdown",
   "id": "9d86bb88",
   "metadata": {},
   "source": [
    "Больше всего карточек генерируют источники в темах:\n",
    "- Семейные отношения;\n",
    "- Россия;\n",
    "- Полезные советы;\n",
    "- Путешествия;\n",
    "- Знаменитости.  \n",
    "\n",
    "На тему источника «Семейные отношения» приходится 33309 событий, что составляет почти 11%."
   ]
  },
  {
   "cell_type": "markdown",
   "id": "c64eb837",
   "metadata": {},
   "source": [
    "Чаще всего пользователи переходят из темы:\n",
    "- \"Путешествия\" в тему \"Рассказы\";\n",
    "- \"Кино\" в тему \"Наука\";\n",
    "- \"Россия\" в тему \"Общество\"."
   ]
  }
 ],
 "metadata": {
  "kernelspec": {
   "display_name": "Python 3 (ipykernel)",
   "language": "python",
   "name": "python3"
  },
  "language_info": {
   "codemirror_mode": {
    "name": "ipython",
    "version": 3
   },
   "file_extension": ".py",
   "mimetype": "text/x-python",
   "name": "python",
   "nbconvert_exporter": "python",
   "pygments_lexer": "ipython3",
   "version": "3.10.9"
  }
 },
 "nbformat": 4,
 "nbformat_minor": 5
}

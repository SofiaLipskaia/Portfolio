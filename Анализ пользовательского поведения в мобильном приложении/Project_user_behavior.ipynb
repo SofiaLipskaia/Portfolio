{
  "cells": [
    {
      "cell_type": "markdown",
      "metadata": {
        "id": "X_Im_GOVcX_A"
      },
      "source": [
        "# Анализ пользовательского поведения в мобильном приложении"
      ]
    },
    {
      "cell_type": "markdown",
      "metadata": {
        "id": "OYO7k-QAcX_B"
      },
      "source": [
        "## Оглавление\n",
        "\n",
        "**Для удобства можете воспользоваться ссылками для перемещения на основные части проекта**\n",
        "\n",
        "1. [Обзор данных](#start)\n",
        "2. [Предобработка данных](#preprocessing)\n",
        "\n",
        "    * [Работа с названиями столбцов](#name)\n",
        "    * [Обработка пропущенных значений](#null)\n",
        "    * [Обработка дубликатов](#duplicates)\n",
        "    * [Работа с типами данных](#type)\n",
        "    * [Добавление нового столбца](#new_column)\n",
        "    \n",
        "    \n",
        "3. [Исследовательский анализ данных](#data_science)\n",
        "\n",
        "    * [Количество событий в логе](#events)\n",
        "    * [Количество пользователей в логе](#user)\n",
        "    * [События на пользователя](#events-user)\n",
        "    * [Период данных](#data-time)\n",
        "    * [Корректность разбиения на группы](#groups)\n",
        "    \n",
        "\n",
        "4. [Изучение воронки продаж](#voronka)\n",
        "\n",
        "    * [События в логах и их частота](#events-col)\n",
        "    * [Количество пользователей, совершавших событие](#user-per-events)\n",
        "    * [Воронка](#voronkaind)\n",
        "    \n",
        "    \n",
        "5. [Статистический анализ данных](#stat)\n",
        "\n",
        "    * [Пользователи в каждой экспериментальной группе](#user-per-group)\n",
        "    * [А/А-тест](#AA)\n",
        "    * [Сравнение результатов](#resres)\n",
        "    \n",
        "    \n",
        "6. [Выводы и рекомендации](#recomendation)\n",
        "\n",
        "## Описание проекта\n",
        "\n",
        "**Цель исследования:**\n",
        "\n",
        "Нам необходимо разобраться, как ведут себя пользователи мобильного приложения для продажи продуктов питания.\n",
        "\n",
        "**В ходе исследования нам предстоит:**\n",
        "\n",
        "1) Изучить воронку продаж;\n",
        "\n",
        "2) Исследовать, как пользователи доходят до покупки;\n",
        "\n",
        "3) Найти количество пользователей, которые доходят до покупки и сколько «застревают» на предыдущих шагах;\n",
        "\n",
        "4) Определить на каких именно шагах \"застревают\" пользователи;\n",
        "\n",
        "5) Исследовать результаты A/A/B-эксперимента для определения лучшего шрифта."
      ]
    },
    {
      "cell_type": "markdown",
      "metadata": {
        "id": "Vcp3M2S4cX_B"
      },
      "source": [
        "## Описание данных\n",
        "\n",
        "**Файл /datasets/logs_exp.csv.**\n",
        "\n",
        "* EventName — название события;\n",
        "* DeviceIDHash — уникальный идентификатор пользователя;\n",
        "* EventTimestamp — время события;\n",
        "* ExpId — номер эксперимента: 246 и 247 — контрольные группы, а 248 — экспериментальная.\n"
      ]
    },
    {
      "cell_type": "markdown",
      "metadata": {
        "id": "Yfe6zH5bcX_C"
      },
      "source": [
        "<a id=\"start\"></a>"
      ]
    },
    {
      "cell_type": "markdown",
      "metadata": {
        "id": "jIqeuAvVcX_C"
      },
      "source": [
        "# Обзор данных"
      ]
    },
    {
      "cell_type": "code",
      "execution_count": 1,
      "metadata": {
        "id": "xII5nlxTcX_C"
      },
      "outputs": [],
      "source": [
        "#импорт библиотек\n",
        "\n",
        "import pandas as pd\n",
        "import numpy as np\n",
        "import seaborn as sns\n",
        "import matplotlib.pyplot as plt\n",
        "import datetime as dt\n",
        "import math as mth\n",
        "from scipy import stats as st\n",
        "from datetime import datetime, timedelta\n"
      ]
    },
    {
      "cell_type": "code",
      "execution_count": 2,
      "metadata": {
        "id": "vacNCMI-cX_C"
      },
      "outputs": [],
      "source": [
        "#установка цветовой палитры\n",
        "\n",
        "sns.set_palette('Set2')"
      ]
    },
    {
      "cell_type": "code",
      "execution_count": 3,
      "metadata": {
        "id": "5AHRCtbtcX_D"
      },
      "outputs": [],
      "source": [
        "#импорт данных\n",
        "\n",
        "try:\n",
        "    data = pd.read_csv('/datasets/logs_exp.csv', sep = '\\t')\n",
        "except:\n",
        "    data = pd.read_csv('logs_exp.csv', sep = '\\t')\n"
      ]
    },
    {
      "cell_type": "markdown",
      "metadata": {
        "id": "XLBRLfnPcX_D"
      },
      "source": [
        "Ознакомимся с данными"
      ]
    },
    {
      "cell_type": "code",
      "execution_count": 4,
      "metadata": {
        "colab": {
          "base_uri": "https://localhost:8080/",
          "height": 206
        },
        "id": "964CJrIncX_D",
        "outputId": "8623d78e-8071-4d2b-f8f7-1f5415ed55fd"
      },
      "outputs": [
        {
          "output_type": "execute_result",
          "data": {
            "text/plain": [
              "                 EventName         DeviceIDHash  EventTimestamp  ExpId\n",
              "0         MainScreenAppear  4575588528974610257      1564029816    246\n",
              "1         MainScreenAppear  7416695313311560658      1564053102    246\n",
              "2  PaymentScreenSuccessful  3518123091307005509      1564054127    248\n",
              "3         CartScreenAppear  3518123091307005509      1564054127    248\n",
              "4  PaymentScreenSuccessful  6217807653094995999      1564055322    248"
            ],
            "text/html": [
              "\n",
              "  <div id=\"df-b39b46fb-448e-4c63-895d-5948e6dc91c2\" class=\"colab-df-container\">\n",
              "    <div>\n",
              "<style scoped>\n",
              "    .dataframe tbody tr th:only-of-type {\n",
              "        vertical-align: middle;\n",
              "    }\n",
              "\n",
              "    .dataframe tbody tr th {\n",
              "        vertical-align: top;\n",
              "    }\n",
              "\n",
              "    .dataframe thead th {\n",
              "        text-align: right;\n",
              "    }\n",
              "</style>\n",
              "<table border=\"1\" class=\"dataframe\">\n",
              "  <thead>\n",
              "    <tr style=\"text-align: right;\">\n",
              "      <th></th>\n",
              "      <th>EventName</th>\n",
              "      <th>DeviceIDHash</th>\n",
              "      <th>EventTimestamp</th>\n",
              "      <th>ExpId</th>\n",
              "    </tr>\n",
              "  </thead>\n",
              "  <tbody>\n",
              "    <tr>\n",
              "      <th>0</th>\n",
              "      <td>MainScreenAppear</td>\n",
              "      <td>4575588528974610257</td>\n",
              "      <td>1564029816</td>\n",
              "      <td>246</td>\n",
              "    </tr>\n",
              "    <tr>\n",
              "      <th>1</th>\n",
              "      <td>MainScreenAppear</td>\n",
              "      <td>7416695313311560658</td>\n",
              "      <td>1564053102</td>\n",
              "      <td>246</td>\n",
              "    </tr>\n",
              "    <tr>\n",
              "      <th>2</th>\n",
              "      <td>PaymentScreenSuccessful</td>\n",
              "      <td>3518123091307005509</td>\n",
              "      <td>1564054127</td>\n",
              "      <td>248</td>\n",
              "    </tr>\n",
              "    <tr>\n",
              "      <th>3</th>\n",
              "      <td>CartScreenAppear</td>\n",
              "      <td>3518123091307005509</td>\n",
              "      <td>1564054127</td>\n",
              "      <td>248</td>\n",
              "    </tr>\n",
              "    <tr>\n",
              "      <th>4</th>\n",
              "      <td>PaymentScreenSuccessful</td>\n",
              "      <td>6217807653094995999</td>\n",
              "      <td>1564055322</td>\n",
              "      <td>248</td>\n",
              "    </tr>\n",
              "  </tbody>\n",
              "</table>\n",
              "</div>\n",
              "    <div class=\"colab-df-buttons\">\n",
              "\n",
              "  <div class=\"colab-df-container\">\n",
              "    <button class=\"colab-df-convert\" onclick=\"convertToInteractive('df-b39b46fb-448e-4c63-895d-5948e6dc91c2')\"\n",
              "            title=\"Convert this dataframe to an interactive table.\"\n",
              "            style=\"display:none;\">\n",
              "\n",
              "  <svg xmlns=\"http://www.w3.org/2000/svg\" height=\"24px\" viewBox=\"0 -960 960 960\">\n",
              "    <path d=\"M120-120v-720h720v720H120Zm60-500h600v-160H180v160Zm220 220h160v-160H400v160Zm0 220h160v-160H400v160ZM180-400h160v-160H180v160Zm440 0h160v-160H620v160ZM180-180h160v-160H180v160Zm440 0h160v-160H620v160Z\"/>\n",
              "  </svg>\n",
              "    </button>\n",
              "\n",
              "  <style>\n",
              "    .colab-df-container {\n",
              "      display:flex;\n",
              "      gap: 12px;\n",
              "    }\n",
              "\n",
              "    .colab-df-convert {\n",
              "      background-color: #E8F0FE;\n",
              "      border: none;\n",
              "      border-radius: 50%;\n",
              "      cursor: pointer;\n",
              "      display: none;\n",
              "      fill: #1967D2;\n",
              "      height: 32px;\n",
              "      padding: 0 0 0 0;\n",
              "      width: 32px;\n",
              "    }\n",
              "\n",
              "    .colab-df-convert:hover {\n",
              "      background-color: #E2EBFA;\n",
              "      box-shadow: 0px 1px 2px rgba(60, 64, 67, 0.3), 0px 1px 3px 1px rgba(60, 64, 67, 0.15);\n",
              "      fill: #174EA6;\n",
              "    }\n",
              "\n",
              "    .colab-df-buttons div {\n",
              "      margin-bottom: 4px;\n",
              "    }\n",
              "\n",
              "    [theme=dark] .colab-df-convert {\n",
              "      background-color: #3B4455;\n",
              "      fill: #D2E3FC;\n",
              "    }\n",
              "\n",
              "    [theme=dark] .colab-df-convert:hover {\n",
              "      background-color: #434B5C;\n",
              "      box-shadow: 0px 1px 3px 1px rgba(0, 0, 0, 0.15);\n",
              "      filter: drop-shadow(0px 1px 2px rgba(0, 0, 0, 0.3));\n",
              "      fill: #FFFFFF;\n",
              "    }\n",
              "  </style>\n",
              "\n",
              "    <script>\n",
              "      const buttonEl =\n",
              "        document.querySelector('#df-b39b46fb-448e-4c63-895d-5948e6dc91c2 button.colab-df-convert');\n",
              "      buttonEl.style.display =\n",
              "        google.colab.kernel.accessAllowed ? 'block' : 'none';\n",
              "\n",
              "      async function convertToInteractive(key) {\n",
              "        const element = document.querySelector('#df-b39b46fb-448e-4c63-895d-5948e6dc91c2');\n",
              "        const dataTable =\n",
              "          await google.colab.kernel.invokeFunction('convertToInteractive',\n",
              "                                                    [key], {});\n",
              "        if (!dataTable) return;\n",
              "\n",
              "        const docLinkHtml = 'Like what you see? Visit the ' +\n",
              "          '<a target=\"_blank\" href=https://colab.research.google.com/notebooks/data_table.ipynb>data table notebook</a>'\n",
              "          + ' to learn more about interactive tables.';\n",
              "        element.innerHTML = '';\n",
              "        dataTable['output_type'] = 'display_data';\n",
              "        await google.colab.output.renderOutput(dataTable, element);\n",
              "        const docLink = document.createElement('div');\n",
              "        docLink.innerHTML = docLinkHtml;\n",
              "        element.appendChild(docLink);\n",
              "      }\n",
              "    </script>\n",
              "  </div>\n",
              "\n",
              "\n",
              "<div id=\"df-18b67049-79d0-4c66-95fb-34ed7c3df1e5\">\n",
              "  <button class=\"colab-df-quickchart\" onclick=\"quickchart('df-18b67049-79d0-4c66-95fb-34ed7c3df1e5')\"\n",
              "            title=\"Suggest charts\"\n",
              "            style=\"display:none;\">\n",
              "\n",
              "<svg xmlns=\"http://www.w3.org/2000/svg\" height=\"24px\"viewBox=\"0 0 24 24\"\n",
              "     width=\"24px\">\n",
              "    <g>\n",
              "        <path d=\"M19 3H5c-1.1 0-2 .9-2 2v14c0 1.1.9 2 2 2h14c1.1 0 2-.9 2-2V5c0-1.1-.9-2-2-2zM9 17H7v-7h2v7zm4 0h-2V7h2v10zm4 0h-2v-4h2v4z\"/>\n",
              "    </g>\n",
              "</svg>\n",
              "  </button>\n",
              "\n",
              "<style>\n",
              "  .colab-df-quickchart {\n",
              "      --bg-color: #E8F0FE;\n",
              "      --fill-color: #1967D2;\n",
              "      --hover-bg-color: #E2EBFA;\n",
              "      --hover-fill-color: #174EA6;\n",
              "      --disabled-fill-color: #AAA;\n",
              "      --disabled-bg-color: #DDD;\n",
              "  }\n",
              "\n",
              "  [theme=dark] .colab-df-quickchart {\n",
              "      --bg-color: #3B4455;\n",
              "      --fill-color: #D2E3FC;\n",
              "      --hover-bg-color: #434B5C;\n",
              "      --hover-fill-color: #FFFFFF;\n",
              "      --disabled-bg-color: #3B4455;\n",
              "      --disabled-fill-color: #666;\n",
              "  }\n",
              "\n",
              "  .colab-df-quickchart {\n",
              "    background-color: var(--bg-color);\n",
              "    border: none;\n",
              "    border-radius: 50%;\n",
              "    cursor: pointer;\n",
              "    display: none;\n",
              "    fill: var(--fill-color);\n",
              "    height: 32px;\n",
              "    padding: 0;\n",
              "    width: 32px;\n",
              "  }\n",
              "\n",
              "  .colab-df-quickchart:hover {\n",
              "    background-color: var(--hover-bg-color);\n",
              "    box-shadow: 0 1px 2px rgba(60, 64, 67, 0.3), 0 1px 3px 1px rgba(60, 64, 67, 0.15);\n",
              "    fill: var(--button-hover-fill-color);\n",
              "  }\n",
              "\n",
              "  .colab-df-quickchart-complete:disabled,\n",
              "  .colab-df-quickchart-complete:disabled:hover {\n",
              "    background-color: var(--disabled-bg-color);\n",
              "    fill: var(--disabled-fill-color);\n",
              "    box-shadow: none;\n",
              "  }\n",
              "\n",
              "  .colab-df-spinner {\n",
              "    border: 2px solid var(--fill-color);\n",
              "    border-color: transparent;\n",
              "    border-bottom-color: var(--fill-color);\n",
              "    animation:\n",
              "      spin 1s steps(1) infinite;\n",
              "  }\n",
              "\n",
              "  @keyframes spin {\n",
              "    0% {\n",
              "      border-color: transparent;\n",
              "      border-bottom-color: var(--fill-color);\n",
              "      border-left-color: var(--fill-color);\n",
              "    }\n",
              "    20% {\n",
              "      border-color: transparent;\n",
              "      border-left-color: var(--fill-color);\n",
              "      border-top-color: var(--fill-color);\n",
              "    }\n",
              "    30% {\n",
              "      border-color: transparent;\n",
              "      border-left-color: var(--fill-color);\n",
              "      border-top-color: var(--fill-color);\n",
              "      border-right-color: var(--fill-color);\n",
              "    }\n",
              "    40% {\n",
              "      border-color: transparent;\n",
              "      border-right-color: var(--fill-color);\n",
              "      border-top-color: var(--fill-color);\n",
              "    }\n",
              "    60% {\n",
              "      border-color: transparent;\n",
              "      border-right-color: var(--fill-color);\n",
              "    }\n",
              "    80% {\n",
              "      border-color: transparent;\n",
              "      border-right-color: var(--fill-color);\n",
              "      border-bottom-color: var(--fill-color);\n",
              "    }\n",
              "    90% {\n",
              "      border-color: transparent;\n",
              "      border-bottom-color: var(--fill-color);\n",
              "    }\n",
              "  }\n",
              "</style>\n",
              "\n",
              "  <script>\n",
              "    async function quickchart(key) {\n",
              "      const quickchartButtonEl =\n",
              "        document.querySelector('#' + key + ' button');\n",
              "      quickchartButtonEl.disabled = true;  // To prevent multiple clicks.\n",
              "      quickchartButtonEl.classList.add('colab-df-spinner');\n",
              "      try {\n",
              "        const charts = await google.colab.kernel.invokeFunction(\n",
              "            'suggestCharts', [key], {});\n",
              "      } catch (error) {\n",
              "        console.error('Error during call to suggestCharts:', error);\n",
              "      }\n",
              "      quickchartButtonEl.classList.remove('colab-df-spinner');\n",
              "      quickchartButtonEl.classList.add('colab-df-quickchart-complete');\n",
              "    }\n",
              "    (() => {\n",
              "      let quickchartButtonEl =\n",
              "        document.querySelector('#df-18b67049-79d0-4c66-95fb-34ed7c3df1e5 button');\n",
              "      quickchartButtonEl.style.display =\n",
              "        google.colab.kernel.accessAllowed ? 'block' : 'none';\n",
              "    })();\n",
              "  </script>\n",
              "</div>\n",
              "    </div>\n",
              "  </div>\n"
            ]
          },
          "metadata": {},
          "execution_count": 4
        }
      ],
      "source": [
        "#просмотр первых 5ти строк\n",
        "\n",
        "data.head(5)"
      ]
    },
    {
      "cell_type": "markdown",
      "metadata": {
        "id": "nbc_tAi3cX_E"
      },
      "source": [
        "Исследуем общую информацию"
      ]
    },
    {
      "cell_type": "code",
      "execution_count": 5,
      "metadata": {
        "colab": {
          "base_uri": "https://localhost:8080/"
        },
        "id": "I4GPWZQacX_E",
        "outputId": "54f0de2c-f1e2-48f4-b401-0c3078834125"
      },
      "outputs": [
        {
          "output_type": "stream",
          "name": "stdout",
          "text": [
            "<class 'pandas.core.frame.DataFrame'>\n",
            "RangeIndex: 244126 entries, 0 to 244125\n",
            "Data columns (total 4 columns):\n",
            " #   Column          Non-Null Count   Dtype \n",
            "---  ------          --------------   ----- \n",
            " 0   EventName       244126 non-null  object\n",
            " 1   DeviceIDHash    244126 non-null  int64 \n",
            " 2   EventTimestamp  244126 non-null  int64 \n",
            " 3   ExpId           244126 non-null  int64 \n",
            "dtypes: int64(3), object(1)\n",
            "memory usage: 7.5+ MB\n"
          ]
        }
      ],
      "source": [
        "#просмотр основной информации о датасете\n",
        "\n",
        "data.info()"
      ]
    },
    {
      "cell_type": "markdown",
      "metadata": {
        "id": "w7LvSo6NcX_E"
      },
      "source": [
        "Посмотрим распределение"
      ]
    },
    {
      "cell_type": "code",
      "execution_count": 6,
      "metadata": {
        "colab": {
          "base_uri": "https://localhost:8080/",
          "height": 300
        },
        "id": "yNEZ-4WvcX_E",
        "outputId": "65950054-3524-4fb4-df7d-0939eb03d9a1"
      },
      "outputs": [
        {
          "output_type": "execute_result",
          "data": {
            "text/plain": [
              "       DeviceIDHash  EventTimestamp          ExpId\n",
              "count  2.441260e+05    2.441260e+05  244126.000000\n",
              "mean   4.627568e+18    1.564914e+09     247.022296\n",
              "std    2.642425e+18    1.771343e+05       0.824434\n",
              "min    6.888747e+15    1.564030e+09     246.000000\n",
              "25%    2.372212e+18    1.564757e+09     246.000000\n",
              "50%    4.623192e+18    1.564919e+09     247.000000\n",
              "75%    6.932517e+18    1.565075e+09     248.000000\n",
              "max    9.222603e+18    1.565213e+09     248.000000"
            ],
            "text/html": [
              "\n",
              "  <div id=\"df-243fef2f-b328-4a96-a8ca-b8a2b753129a\" class=\"colab-df-container\">\n",
              "    <div>\n",
              "<style scoped>\n",
              "    .dataframe tbody tr th:only-of-type {\n",
              "        vertical-align: middle;\n",
              "    }\n",
              "\n",
              "    .dataframe tbody tr th {\n",
              "        vertical-align: top;\n",
              "    }\n",
              "\n",
              "    .dataframe thead th {\n",
              "        text-align: right;\n",
              "    }\n",
              "</style>\n",
              "<table border=\"1\" class=\"dataframe\">\n",
              "  <thead>\n",
              "    <tr style=\"text-align: right;\">\n",
              "      <th></th>\n",
              "      <th>DeviceIDHash</th>\n",
              "      <th>EventTimestamp</th>\n",
              "      <th>ExpId</th>\n",
              "    </tr>\n",
              "  </thead>\n",
              "  <tbody>\n",
              "    <tr>\n",
              "      <th>count</th>\n",
              "      <td>2.441260e+05</td>\n",
              "      <td>2.441260e+05</td>\n",
              "      <td>244126.000000</td>\n",
              "    </tr>\n",
              "    <tr>\n",
              "      <th>mean</th>\n",
              "      <td>4.627568e+18</td>\n",
              "      <td>1.564914e+09</td>\n",
              "      <td>247.022296</td>\n",
              "    </tr>\n",
              "    <tr>\n",
              "      <th>std</th>\n",
              "      <td>2.642425e+18</td>\n",
              "      <td>1.771343e+05</td>\n",
              "      <td>0.824434</td>\n",
              "    </tr>\n",
              "    <tr>\n",
              "      <th>min</th>\n",
              "      <td>6.888747e+15</td>\n",
              "      <td>1.564030e+09</td>\n",
              "      <td>246.000000</td>\n",
              "    </tr>\n",
              "    <tr>\n",
              "      <th>25%</th>\n",
              "      <td>2.372212e+18</td>\n",
              "      <td>1.564757e+09</td>\n",
              "      <td>246.000000</td>\n",
              "    </tr>\n",
              "    <tr>\n",
              "      <th>50%</th>\n",
              "      <td>4.623192e+18</td>\n",
              "      <td>1.564919e+09</td>\n",
              "      <td>247.000000</td>\n",
              "    </tr>\n",
              "    <tr>\n",
              "      <th>75%</th>\n",
              "      <td>6.932517e+18</td>\n",
              "      <td>1.565075e+09</td>\n",
              "      <td>248.000000</td>\n",
              "    </tr>\n",
              "    <tr>\n",
              "      <th>max</th>\n",
              "      <td>9.222603e+18</td>\n",
              "      <td>1.565213e+09</td>\n",
              "      <td>248.000000</td>\n",
              "    </tr>\n",
              "  </tbody>\n",
              "</table>\n",
              "</div>\n",
              "    <div class=\"colab-df-buttons\">\n",
              "\n",
              "  <div class=\"colab-df-container\">\n",
              "    <button class=\"colab-df-convert\" onclick=\"convertToInteractive('df-243fef2f-b328-4a96-a8ca-b8a2b753129a')\"\n",
              "            title=\"Convert this dataframe to an interactive table.\"\n",
              "            style=\"display:none;\">\n",
              "\n",
              "  <svg xmlns=\"http://www.w3.org/2000/svg\" height=\"24px\" viewBox=\"0 -960 960 960\">\n",
              "    <path d=\"M120-120v-720h720v720H120Zm60-500h600v-160H180v160Zm220 220h160v-160H400v160Zm0 220h160v-160H400v160ZM180-400h160v-160H180v160Zm440 0h160v-160H620v160ZM180-180h160v-160H180v160Zm440 0h160v-160H620v160Z\"/>\n",
              "  </svg>\n",
              "    </button>\n",
              "\n",
              "  <style>\n",
              "    .colab-df-container {\n",
              "      display:flex;\n",
              "      gap: 12px;\n",
              "    }\n",
              "\n",
              "    .colab-df-convert {\n",
              "      background-color: #E8F0FE;\n",
              "      border: none;\n",
              "      border-radius: 50%;\n",
              "      cursor: pointer;\n",
              "      display: none;\n",
              "      fill: #1967D2;\n",
              "      height: 32px;\n",
              "      padding: 0 0 0 0;\n",
              "      width: 32px;\n",
              "    }\n",
              "\n",
              "    .colab-df-convert:hover {\n",
              "      background-color: #E2EBFA;\n",
              "      box-shadow: 0px 1px 2px rgba(60, 64, 67, 0.3), 0px 1px 3px 1px rgba(60, 64, 67, 0.15);\n",
              "      fill: #174EA6;\n",
              "    }\n",
              "\n",
              "    .colab-df-buttons div {\n",
              "      margin-bottom: 4px;\n",
              "    }\n",
              "\n",
              "    [theme=dark] .colab-df-convert {\n",
              "      background-color: #3B4455;\n",
              "      fill: #D2E3FC;\n",
              "    }\n",
              "\n",
              "    [theme=dark] .colab-df-convert:hover {\n",
              "      background-color: #434B5C;\n",
              "      box-shadow: 0px 1px 3px 1px rgba(0, 0, 0, 0.15);\n",
              "      filter: drop-shadow(0px 1px 2px rgba(0, 0, 0, 0.3));\n",
              "      fill: #FFFFFF;\n",
              "    }\n",
              "  </style>\n",
              "\n",
              "    <script>\n",
              "      const buttonEl =\n",
              "        document.querySelector('#df-243fef2f-b328-4a96-a8ca-b8a2b753129a button.colab-df-convert');\n",
              "      buttonEl.style.display =\n",
              "        google.colab.kernel.accessAllowed ? 'block' : 'none';\n",
              "\n",
              "      async function convertToInteractive(key) {\n",
              "        const element = document.querySelector('#df-243fef2f-b328-4a96-a8ca-b8a2b753129a');\n",
              "        const dataTable =\n",
              "          await google.colab.kernel.invokeFunction('convertToInteractive',\n",
              "                                                    [key], {});\n",
              "        if (!dataTable) return;\n",
              "\n",
              "        const docLinkHtml = 'Like what you see? Visit the ' +\n",
              "          '<a target=\"_blank\" href=https://colab.research.google.com/notebooks/data_table.ipynb>data table notebook</a>'\n",
              "          + ' to learn more about interactive tables.';\n",
              "        element.innerHTML = '';\n",
              "        dataTable['output_type'] = 'display_data';\n",
              "        await google.colab.output.renderOutput(dataTable, element);\n",
              "        const docLink = document.createElement('div');\n",
              "        docLink.innerHTML = docLinkHtml;\n",
              "        element.appendChild(docLink);\n",
              "      }\n",
              "    </script>\n",
              "  </div>\n",
              "\n",
              "\n",
              "<div id=\"df-c96dea90-fa7a-4f63-add0-d215bf05aaea\">\n",
              "  <button class=\"colab-df-quickchart\" onclick=\"quickchart('df-c96dea90-fa7a-4f63-add0-d215bf05aaea')\"\n",
              "            title=\"Suggest charts\"\n",
              "            style=\"display:none;\">\n",
              "\n",
              "<svg xmlns=\"http://www.w3.org/2000/svg\" height=\"24px\"viewBox=\"0 0 24 24\"\n",
              "     width=\"24px\">\n",
              "    <g>\n",
              "        <path d=\"M19 3H5c-1.1 0-2 .9-2 2v14c0 1.1.9 2 2 2h14c1.1 0 2-.9 2-2V5c0-1.1-.9-2-2-2zM9 17H7v-7h2v7zm4 0h-2V7h2v10zm4 0h-2v-4h2v4z\"/>\n",
              "    </g>\n",
              "</svg>\n",
              "  </button>\n",
              "\n",
              "<style>\n",
              "  .colab-df-quickchart {\n",
              "      --bg-color: #E8F0FE;\n",
              "      --fill-color: #1967D2;\n",
              "      --hover-bg-color: #E2EBFA;\n",
              "      --hover-fill-color: #174EA6;\n",
              "      --disabled-fill-color: #AAA;\n",
              "      --disabled-bg-color: #DDD;\n",
              "  }\n",
              "\n",
              "  [theme=dark] .colab-df-quickchart {\n",
              "      --bg-color: #3B4455;\n",
              "      --fill-color: #D2E3FC;\n",
              "      --hover-bg-color: #434B5C;\n",
              "      --hover-fill-color: #FFFFFF;\n",
              "      --disabled-bg-color: #3B4455;\n",
              "      --disabled-fill-color: #666;\n",
              "  }\n",
              "\n",
              "  .colab-df-quickchart {\n",
              "    background-color: var(--bg-color);\n",
              "    border: none;\n",
              "    border-radius: 50%;\n",
              "    cursor: pointer;\n",
              "    display: none;\n",
              "    fill: var(--fill-color);\n",
              "    height: 32px;\n",
              "    padding: 0;\n",
              "    width: 32px;\n",
              "  }\n",
              "\n",
              "  .colab-df-quickchart:hover {\n",
              "    background-color: var(--hover-bg-color);\n",
              "    box-shadow: 0 1px 2px rgba(60, 64, 67, 0.3), 0 1px 3px 1px rgba(60, 64, 67, 0.15);\n",
              "    fill: var(--button-hover-fill-color);\n",
              "  }\n",
              "\n",
              "  .colab-df-quickchart-complete:disabled,\n",
              "  .colab-df-quickchart-complete:disabled:hover {\n",
              "    background-color: var(--disabled-bg-color);\n",
              "    fill: var(--disabled-fill-color);\n",
              "    box-shadow: none;\n",
              "  }\n",
              "\n",
              "  .colab-df-spinner {\n",
              "    border: 2px solid var(--fill-color);\n",
              "    border-color: transparent;\n",
              "    border-bottom-color: var(--fill-color);\n",
              "    animation:\n",
              "      spin 1s steps(1) infinite;\n",
              "  }\n",
              "\n",
              "  @keyframes spin {\n",
              "    0% {\n",
              "      border-color: transparent;\n",
              "      border-bottom-color: var(--fill-color);\n",
              "      border-left-color: var(--fill-color);\n",
              "    }\n",
              "    20% {\n",
              "      border-color: transparent;\n",
              "      border-left-color: var(--fill-color);\n",
              "      border-top-color: var(--fill-color);\n",
              "    }\n",
              "    30% {\n",
              "      border-color: transparent;\n",
              "      border-left-color: var(--fill-color);\n",
              "      border-top-color: var(--fill-color);\n",
              "      border-right-color: var(--fill-color);\n",
              "    }\n",
              "    40% {\n",
              "      border-color: transparent;\n",
              "      border-right-color: var(--fill-color);\n",
              "      border-top-color: var(--fill-color);\n",
              "    }\n",
              "    60% {\n",
              "      border-color: transparent;\n",
              "      border-right-color: var(--fill-color);\n",
              "    }\n",
              "    80% {\n",
              "      border-color: transparent;\n",
              "      border-right-color: var(--fill-color);\n",
              "      border-bottom-color: var(--fill-color);\n",
              "    }\n",
              "    90% {\n",
              "      border-color: transparent;\n",
              "      border-bottom-color: var(--fill-color);\n",
              "    }\n",
              "  }\n",
              "</style>\n",
              "\n",
              "  <script>\n",
              "    async function quickchart(key) {\n",
              "      const quickchartButtonEl =\n",
              "        document.querySelector('#' + key + ' button');\n",
              "      quickchartButtonEl.disabled = true;  // To prevent multiple clicks.\n",
              "      quickchartButtonEl.classList.add('colab-df-spinner');\n",
              "      try {\n",
              "        const charts = await google.colab.kernel.invokeFunction(\n",
              "            'suggestCharts', [key], {});\n",
              "      } catch (error) {\n",
              "        console.error('Error during call to suggestCharts:', error);\n",
              "      }\n",
              "      quickchartButtonEl.classList.remove('colab-df-spinner');\n",
              "      quickchartButtonEl.classList.add('colab-df-quickchart-complete');\n",
              "    }\n",
              "    (() => {\n",
              "      let quickchartButtonEl =\n",
              "        document.querySelector('#df-c96dea90-fa7a-4f63-add0-d215bf05aaea button');\n",
              "      quickchartButtonEl.style.display =\n",
              "        google.colab.kernel.accessAllowed ? 'block' : 'none';\n",
              "    })();\n",
              "  </script>\n",
              "</div>\n",
              "    </div>\n",
              "  </div>\n"
            ]
          },
          "metadata": {},
          "execution_count": 6
        }
      ],
      "source": [
        "#просмотр основной информации о датасете\n",
        "\n",
        "data.describe()"
      ]
    },
    {
      "cell_type": "markdown",
      "metadata": {
        "id": "gcSzIO5ecX_E"
      },
      "source": [
        "Теперь перед глазами краткая сводка о наших данных. Можно посмотреть, какие есть колонки, какой тип данных в них содержится и где есть пропуски."
      ]
    },
    {
      "cell_type": "markdown",
      "metadata": {
        "id": "DRFyYzJCcX_E"
      },
      "source": [
        "Oбщая гистограмма для всех числовых столбцов таблицы:"
      ]
    },
    {
      "cell_type": "code",
      "execution_count": 7,
      "metadata": {
        "colab": {
          "base_uri": "https://localhost:8080/",
          "height": 853
        },
        "id": "iH6M6-XTcX_E",
        "outputId": "0a894472-9fab-4c53-e9cd-12d130745aaf"
      },
      "outputs": [
        {
          "output_type": "display_data",
          "data": {
            "text/plain": [
              "<Figure size 1000x1000 with 4 Axes>"
            ],
            "image/png": "[encoded data removed]"
          },
          "metadata": {}
        }
      ],
      "source": [
        "#построение гистограмм для числовых столбцов\n",
        "\n",
        "data.hist(figsize=(10, 10));"
      ]
    },
    {
      "cell_type": "code",
      "execution_count": 8,
      "metadata": {
        "colab": {
          "base_uri": "https://localhost:8080/"
        },
        "id": "NZ6uU2wdcX_F",
        "outputId": "6bd86d7a-9a39-4900-ea6c-33a07736845d"
      },
      "outputs": [
        {
          "output_type": "execute_result",
          "data": {
            "text/plain": [
              "EventName         0\n",
              "DeviceIDHash      0\n",
              "EventTimestamp    0\n",
              "ExpId             0\n",
              "dtype: int64"
            ]
          },
          "metadata": {},
          "execution_count": 8
        }
      ],
      "source": [
        "#проверка наличия пропусков\n",
        "\n",
        "data.isna().sum()"
      ]
    },
    {
      "cell_type": "markdown",
      "metadata": {
        "id": "tBL53UgacX_F"
      },
      "source": [
        "Выводы из первичного анализа данных:\n",
        "\n",
        "* Всего в файле с данными 244126 строк;\n",
        "* Следует заменить названия столбцов;\n",
        "* Есть несоответствия в типах данных;\n",
        "* Пропуски не обнаружены."
      ]
    },
    {
      "cell_type": "markdown",
      "metadata": {
        "id": "cG7xpyPVcX_F"
      },
      "source": [
        "<a id=\"preprocessing\"></a>"
      ]
    },
    {
      "cell_type": "markdown",
      "metadata": {
        "id": "GpmELgIwcX_F"
      },
      "source": [
        "# Предобработка данных\n",
        "\n",
        "Исследуем данные в различных аспектах:\n",
        "\n",
        "* Названия столбцов\n",
        "* Пропущенные значения\n",
        "* Дубликаты и аномалии\n",
        "* Типы данных"
      ]
    },
    {
      "cell_type": "markdown",
      "metadata": {
        "id": "wDaMkWOFcX_F"
      },
      "source": [
        "<a id=\"name\"></a>"
      ]
    },
    {
      "cell_type": "markdown",
      "metadata": {
        "id": "KxGCH90ucX_F"
      },
      "source": [
        "### Работа с названиями столбцов"
      ]
    },
    {
      "cell_type": "markdown",
      "metadata": {
        "id": "455jJ-djcX_F"
      },
      "source": [
        "Для начала приведем название столбцов к правильному формату"
      ]
    },
    {
      "cell_type": "code",
      "execution_count": 9,
      "metadata": {
        "id": "Zio3IqKWcX_F"
      },
      "outputs": [],
      "source": [
        "#переименуем некоторые столбцы\n",
        "\n",
        "data.rename(columns={'EventName':'event_name', 'DeviceIDHash':'device_id_hash', 'EventTimestamp':'event_timestamp', 'ExpId':'exp_id'}, inplace=True)"
      ]
    },
    {
      "cell_type": "code",
      "execution_count": 10,
      "metadata": {
        "colab": {
          "base_uri": "https://localhost:8080/",
          "height": 112
        },
        "id": "vXFoSSO6cX_F",
        "outputId": "bfe8d130-8e34-46db-d95e-e3be1cc7cbca"
      },
      "outputs": [
        {
          "output_type": "execute_result",
          "data": {
            "text/plain": [
              "         event_name       device_id_hash  event_timestamp  exp_id\n",
              "0  MainScreenAppear  4575588528974610257       1564029816     246\n",
              "1  MainScreenAppear  7416695313311560658       1564053102     246"
            ],
            "text/html": [
              "\n",
              "  <div id=\"df-c53da0ac-cc02-4c5d-a27d-0f4d5b768e40\" class=\"colab-df-container\">\n",
              "    <div>\n",
              "<style scoped>\n",
              "    .dataframe tbody tr th:only-of-type {\n",
              "        vertical-align: middle;\n",
              "    }\n",
              "\n",
              "    .dataframe tbody tr th {\n",
              "        vertical-align: top;\n",
              "    }\n",
              "\n",
              "    .dataframe thead th {\n",
              "        text-align: right;\n",
              "    }\n",
              "</style>\n",
              "<table border=\"1\" class=\"dataframe\">\n",
              "  <thead>\n",
              "    <tr style=\"text-align: right;\">\n",
              "      <th></th>\n",
              "      <th>event_name</th>\n",
              "      <th>device_id_hash</th>\n",
              "      <th>event_timestamp</th>\n",
              "      <th>exp_id</th>\n",
              "    </tr>\n",
              "  </thead>\n",
              "  <tbody>\n",
              "    <tr>\n",
              "      <th>0</th>\n",
              "      <td>MainScreenAppear</td>\n",
              "      <td>4575588528974610257</td>\n",
              "      <td>1564029816</td>\n",
              "      <td>246</td>\n",
              "    </tr>\n",
              "    <tr>\n",
              "      <th>1</th>\n",
              "      <td>MainScreenAppear</td>\n",
              "      <td>7416695313311560658</td>\n",
              "      <td>1564053102</td>\n",
              "      <td>246</td>\n",
              "    </tr>\n",
              "  </tbody>\n",
              "</table>\n",
              "</div>\n",
              "    <div class=\"colab-df-buttons\">\n",
              "\n",
              "  <div class=\"colab-df-container\">\n",
              "    <button class=\"colab-df-convert\" onclick=\"convertToInteractive('df-c53da0ac-cc02-4c5d-a27d-0f4d5b768e40')\"\n",
              "            title=\"Convert this dataframe to an interactive table.\"\n",
              "            style=\"display:none;\">\n",
              "\n",
              "  <svg xmlns=\"http://www.w3.org/2000/svg\" height=\"24px\" viewBox=\"0 -960 960 960\">\n",
              "    <path d=\"M120-120v-720h720v720H120Zm60-500h600v-160H180v160Zm220 220h160v-160H400v160Zm0 220h160v-160H400v160ZM180-400h160v-160H180v160Zm440 0h160v-160H620v160ZM180-180h160v-160H180v160Zm440 0h160v-160H620v160Z\"/>\n",
              "  </svg>\n",
              "    </button>\n",
              "\n",
              "  <style>\n",
              "    .colab-df-container {\n",
              "      display:flex;\n",
              "      gap: 12px;\n",
              "    }\n",
              "\n",
              "    .colab-df-convert {\n",
              "      background-color: #E8F0FE;\n",
              "      border: none;\n",
              "      border-radius: 50%;\n",
              "      cursor: pointer;\n",
              "      display: none;\n",
              "      fill: #1967D2;\n",
              "      height: 32px;\n",
              "      padding: 0 0 0 0;\n",
              "      width: 32px;\n",
              "    }\n",
              "\n",
              "    .colab-df-convert:hover {\n",
              "      background-color: #E2EBFA;\n",
              "      box-shadow: 0px 1px 2px rgba(60, 64, 67, 0.3), 0px 1px 3px 1px rgba(60, 64, 67, 0.15);\n",
              "      fill: #174EA6;\n",
              "    }\n",
              "\n",
              "    .colab-df-buttons div {\n",
              "      margin-bottom: 4px;\n",
              "    }\n",
              "\n",
              "    [theme=dark] .colab-df-convert {\n",
              "      background-color: #3B4455;\n",
              "      fill: #D2E3FC;\n",
              "    }\n",
              "\n",
              "    [theme=dark] .colab-df-convert:hover {\n",
              "      background-color: #434B5C;\n",
              "      box-shadow: 0px 1px 3px 1px rgba(0, 0, 0, 0.15);\n",
              "      filter: drop-shadow(0px 1px 2px rgba(0, 0, 0, 0.3));\n",
              "      fill: #FFFFFF;\n",
              "    }\n",
              "  </style>\n",
              "\n",
              "    <script>\n",
              "      const buttonEl =\n",
              "        document.querySelector('#df-c53da0ac-cc02-4c5d-a27d-0f4d5b768e40 button.colab-df-convert');\n",
              "      buttonEl.style.display =\n",
              "        google.colab.kernel.accessAllowed ? 'block' : 'none';\n",
              "\n",
              "      async function convertToInteractive(key) {\n",
              "        const element = document.querySelector('#df-c53da0ac-cc02-4c5d-a27d-0f4d5b768e40');\n",
              "        const dataTable =\n",
              "          await google.colab.kernel.invokeFunction('convertToInteractive',\n",
              "                                                    [key], {});\n",
              "        if (!dataTable) return;\n",
              "\n",
              "        const docLinkHtml = 'Like what you see? Visit the ' +\n",
              "          '<a target=\"_blank\" href=https://colab.research.google.com/notebooks/data_table.ipynb>data table notebook</a>'\n",
              "          + ' to learn more about interactive tables.';\n",
              "        element.innerHTML = '';\n",
              "        dataTable['output_type'] = 'display_data';\n",
              "        await google.colab.output.renderOutput(dataTable, element);\n",
              "        const docLink = document.createElement('div');\n",
              "        docLink.innerHTML = docLinkHtml;\n",
              "        element.appendChild(docLink);\n",
              "      }\n",
              "    </script>\n",
              "  </div>\n",
              "\n",
              "\n",
              "<div id=\"df-fc8ac3e8-c5bc-4822-badb-037496d130e2\">\n",
              "  <button class=\"colab-df-quickchart\" onclick=\"quickchart('df-fc8ac3e8-c5bc-4822-badb-037496d130e2')\"\n",
              "            title=\"Suggest charts\"\n",
              "            style=\"display:none;\">\n",
              "\n",
              "<svg xmlns=\"http://www.w3.org/2000/svg\" height=\"24px\"viewBox=\"0 0 24 24\"\n",
              "     width=\"24px\">\n",
              "    <g>\n",
              "        <path d=\"M19 3H5c-1.1 0-2 .9-2 2v14c0 1.1.9 2 2 2h14c1.1 0 2-.9 2-2V5c0-1.1-.9-2-2-2zM9 17H7v-7h2v7zm4 0h-2V7h2v10zm4 0h-2v-4h2v4z\"/>\n",
              "    </g>\n",
              "</svg>\n",
              "  </button>\n",
              "\n",
              "<style>\n",
              "  .colab-df-quickchart {\n",
              "      --bg-color: #E8F0FE;\n",
              "      --fill-color: #1967D2;\n",
              "      --hover-bg-color: #E2EBFA;\n",
              "      --hover-fill-color: #174EA6;\n",
              "      --disabled-fill-color: #AAA;\n",
              "      --disabled-bg-color: #DDD;\n",
              "  }\n",
              "\n",
              "  [theme=dark] .colab-df-quickchart {\n",
              "      --bg-color: #3B4455;\n",
              "      --fill-color: #D2E3FC;\n",
              "      --hover-bg-color: #434B5C;\n",
              "      --hover-fill-color: #FFFFFF;\n",
              "      --disabled-bg-color: #3B4455;\n",
              "      --disabled-fill-color: #666;\n",
              "  }\n",
              "\n",
              "  .colab-df-quickchart {\n",
              "    background-color: var(--bg-color);\n",
              "    border: none;\n",
              "    border-radius: 50%;\n",
              "    cursor: pointer;\n",
              "    display: none;\n",
              "    fill: var(--fill-color);\n",
              "    height: 32px;\n",
              "    padding: 0;\n",
              "    width: 32px;\n",
              "  }\n",
              "\n",
              "  .colab-df-quickchart:hover {\n",
              "    background-color: var(--hover-bg-color);\n",
              "    box-shadow: 0 1px 2px rgba(60, 64, 67, 0.3), 0 1px 3px 1px rgba(60, 64, 67, 0.15);\n",
              "    fill: var(--button-hover-fill-color);\n",
              "  }\n",
              "\n",
              "  .colab-df-quickchart-complete:disabled,\n",
              "  .colab-df-quickchart-complete:disabled:hover {\n",
              "    background-color: var(--disabled-bg-color);\n",
              "    fill: var(--disabled-fill-color);\n",
              "    box-shadow: none;\n",
              "  }\n",
              "\n",
              "  .colab-df-spinner {\n",
              "    border: 2px solid var(--fill-color);\n",
              "    border-color: transparent;\n",
              "    border-bottom-color: var(--fill-color);\n",
              "    animation:\n",
              "      spin 1s steps(1) infinite;\n",
              "  }\n",
              "\n",
              "  @keyframes spin {\n",
              "    0% {\n",
              "      border-color: transparent;\n",
              "      border-bottom-color: var(--fill-color);\n",
              "      border-left-color: var(--fill-color);\n",
              "    }\n",
              "    20% {\n",
              "      border-color: transparent;\n",
              "      border-left-color: var(--fill-color);\n",
              "      border-top-color: var(--fill-color);\n",
              "    }\n",
              "    30% {\n",
              "      border-color: transparent;\n",
              "      border-left-color: var(--fill-color);\n",
              "      border-top-color: var(--fill-color);\n",
              "      border-right-color: var(--fill-color);\n",
              "    }\n",
              "    40% {\n",
              "      border-color: transparent;\n",
              "      border-right-color: var(--fill-color);\n",
              "      border-top-color: var(--fill-color);\n",
              "    }\n",
              "    60% {\n",
              "      border-color: transparent;\n",
              "      border-right-color: var(--fill-color);\n",
              "    }\n",
              "    80% {\n",
              "      border-color: transparent;\n",
              "      border-right-color: var(--fill-color);\n",
              "      border-bottom-color: var(--fill-color);\n",
              "    }\n",
              "    90% {\n",
              "      border-color: transparent;\n",
              "      border-bottom-color: var(--fill-color);\n",
              "    }\n",
              "  }\n",
              "</style>\n",
              "\n",
              "  <script>\n",
              "    async function quickchart(key) {\n",
              "      const quickchartButtonEl =\n",
              "        document.querySelector('#' + key + ' button');\n",
              "      quickchartButtonEl.disabled = true;  // To prevent multiple clicks.\n",
              "      quickchartButtonEl.classList.add('colab-df-spinner');\n",
              "      try {\n",
              "        const charts = await google.colab.kernel.invokeFunction(\n",
              "            'suggestCharts', [key], {});\n",
              "      } catch (error) {\n",
              "        console.error('Error during call to suggestCharts:', error);\n",
              "      }\n",
              "      quickchartButtonEl.classList.remove('colab-df-spinner');\n",
              "      quickchartButtonEl.classList.add('colab-df-quickchart-complete');\n",
              "    }\n",
              "    (() => {\n",
              "      let quickchartButtonEl =\n",
              "        document.querySelector('#df-fc8ac3e8-c5bc-4822-badb-037496d130e2 button');\n",
              "      quickchartButtonEl.style.display =\n",
              "        google.colab.kernel.accessAllowed ? 'block' : 'none';\n",
              "    })();\n",
              "  </script>\n",
              "</div>\n",
              "    </div>\n",
              "  </div>\n"
            ]
          },
          "metadata": {},
          "execution_count": 10
        }
      ],
      "source": [
        "#проверка после переименования\n",
        "\n",
        "data.head(2)"
      ]
    },
    {
      "cell_type": "markdown",
      "metadata": {
        "id": "0zceuDk2cX_G"
      },
      "source": [
        "Теперь названия столбцов в правильном формате"
      ]
    },
    {
      "cell_type": "markdown",
      "metadata": {
        "id": "tAkXdRJNcX_G"
      },
      "source": [
        "<a id=\"null\"></a>"
      ]
    },
    {
      "cell_type": "markdown",
      "metadata": {
        "id": "sWV-qeq1cX_G"
      },
      "source": [
        "### Обработка пропущенных значений"
      ]
    },
    {
      "cell_type": "markdown",
      "metadata": {
        "id": "OUU0UCg2cX_G"
      },
      "source": [
        "Проверим наличие пропусков в данных"
      ]
    },
    {
      "cell_type": "code",
      "execution_count": 11,
      "metadata": {
        "colab": {
          "base_uri": "https://localhost:8080/"
        },
        "id": "CuokFtYZcX_G",
        "outputId": "5b5abe49-22bb-411d-adde-75b3d540b3bc"
      },
      "outputs": [
        {
          "output_type": "execute_result",
          "data": {
            "text/plain": [
              "event_name         0\n",
              "device_id_hash     0\n",
              "event_timestamp    0\n",
              "exp_id             0\n",
              "dtype: int64"
            ]
          },
          "metadata": {},
          "execution_count": 11
        }
      ],
      "source": [
        "#проверка наличия пропусков\n",
        "\n",
        "data.isna().sum()"
      ]
    },
    {
      "cell_type": "markdown",
      "metadata": {
        "id": "qsM1QweLcX_G"
      },
      "source": [
        "Пропуски не обнаружены"
      ]
    },
    {
      "cell_type": "markdown",
      "metadata": {
        "id": "SkO6ZG00cX_G"
      },
      "source": [
        "<a id=\"type\"></a>"
      ]
    },
    {
      "cell_type": "markdown",
      "metadata": {
        "id": "hk8FMFGYcX_G"
      },
      "source": [
        "### Работа с типами данных"
      ]
    },
    {
      "cell_type": "markdown",
      "metadata": {
        "id": "OAQX_2w3cX_G"
      },
      "source": [
        "Преобразуем данные в нужные типы"
      ]
    },
    {
      "cell_type": "code",
      "execution_count": 12,
      "metadata": {
        "colab": {
          "base_uri": "https://localhost:8080/"
        },
        "id": "qHGSO_sBcX_H",
        "outputId": "f07a6306-dea0-46c7-e065-c1b4941971d7"
      },
      "outputs": [
        {
          "output_type": "stream",
          "name": "stdout",
          "text": [
            "<class 'pandas.core.frame.DataFrame'>\n",
            "RangeIndex: 244126 entries, 0 to 244125\n",
            "Data columns (total 4 columns):\n",
            " #   Column           Non-Null Count   Dtype \n",
            "---  ------           --------------   ----- \n",
            " 0   event_name       244126 non-null  object\n",
            " 1   device_id_hash   244126 non-null  int64 \n",
            " 2   event_timestamp  244126 non-null  int64 \n",
            " 3   exp_id           244126 non-null  int64 \n",
            "dtypes: int64(3), object(1)\n",
            "memory usage: 7.5+ MB\n"
          ]
        }
      ],
      "source": [
        "#основная информация о нашем датасете\n",
        "\n",
        "data.info()"
      ]
    },
    {
      "cell_type": "markdown",
      "metadata": {
        "id": "fkxu7ItFcX_H"
      },
      "source": [
        "Изменим тип данных в data['event_timestamp'] — c object на datetime"
      ]
    },
    {
      "cell_type": "code",
      "execution_count": 13,
      "metadata": {
        "id": "fTUBr9--cX_H"
      },
      "outputs": [],
      "source": [
        "#изменение типа данных\n",
        "\n",
        "data['event_timestamp'] = pd.to_datetime(data['event_timestamp'], unit = 's')"
      ]
    },
    {
      "cell_type": "code",
      "execution_count": 14,
      "metadata": {
        "colab": {
          "base_uri": "https://localhost:8080/"
        },
        "id": "p3V9ahvPcX_H",
        "outputId": "dba1d4ae-eb36-4049-9789-c0f0beee1058"
      },
      "outputs": [
        {
          "output_type": "stream",
          "name": "stdout",
          "text": [
            "<class 'pandas.core.frame.DataFrame'>\n",
            "RangeIndex: 244126 entries, 0 to 244125\n",
            "Data columns (total 4 columns):\n",
            " #   Column           Non-Null Count   Dtype         \n",
            "---  ------           --------------   -----         \n",
            " 0   event_name       244126 non-null  object        \n",
            " 1   device_id_hash   244126 non-null  int64         \n",
            " 2   event_timestamp  244126 non-null  datetime64[ns]\n",
            " 3   exp_id           244126 non-null  int64         \n",
            "dtypes: datetime64[ns](1), int64(2), object(1)\n",
            "memory usage: 7.5+ MB\n"
          ]
        }
      ],
      "source": [
        "#проверка данных после изменения типа\n",
        "\n",
        "data.info()"
      ]
    },
    {
      "cell_type": "markdown",
      "metadata": {
        "id": "Opp2VEuOcX_L"
      },
      "source": [
        "<a id=\"duplicates\"></a>"
      ]
    },
    {
      "cell_type": "markdown",
      "metadata": {
        "id": "eVEMtshFcX_M"
      },
      "source": [
        "### Обработка дубликатов"
      ]
    },
    {
      "cell_type": "markdown",
      "metadata": {
        "id": "LQlVPcKwcX_M"
      },
      "source": [
        "Проверим данные на наличие дубликатов и аномалий, для этого рассмотрим уникальные значения в данных"
      ]
    },
    {
      "cell_type": "code",
      "execution_count": 15,
      "metadata": {
        "colab": {
          "base_uri": "https://localhost:8080/"
        },
        "id": "Ym9IxiVtcX_M",
        "outputId": "2b905354-0734-4d69-e651-edfa7f2f88cc"
      },
      "outputs": [
        {
          "output_type": "execute_result",
          "data": {
            "text/plain": [
              "413"
            ]
          },
          "metadata": {},
          "execution_count": 15
        }
      ],
      "source": [
        "#проверка явных дубликатов\n",
        "\n",
        "data.duplicated().sum()"
      ]
    },
    {
      "cell_type": "markdown",
      "metadata": {
        "id": "-GGh10pucX_M"
      },
      "source": [
        "В данных обнаружено 413 явных дубликатов, удалим их."
      ]
    },
    {
      "cell_type": "code",
      "execution_count": 16,
      "metadata": {
        "id": "UzCggnZkcX_M"
      },
      "outputs": [],
      "source": [
        "#удаление явных дубликатов\n",
        "\n",
        "data.drop_duplicates(inplace = True)\n",
        "data.reset_index(drop=True, inplace = True)"
      ]
    },
    {
      "cell_type": "code",
      "execution_count": 17,
      "metadata": {
        "colab": {
          "base_uri": "https://localhost:8080/"
        },
        "id": "4Msr_U7RcX_M",
        "outputId": "b012dfa7-9bcf-4019-8a4f-59ce032f3672"
      },
      "outputs": [
        {
          "output_type": "execute_result",
          "data": {
            "text/plain": [
              "0"
            ]
          },
          "metadata": {},
          "execution_count": 17
        }
      ],
      "source": [
        "#проверка явных дубликатов\n",
        "\n",
        "data.duplicated().sum()"
      ]
    },
    {
      "cell_type": "markdown",
      "metadata": {
        "id": "L9sQDyvycX_N"
      },
      "source": [
        "Явные дубликаты не обнаружены"
      ]
    },
    {
      "cell_type": "markdown",
      "metadata": {
        "id": "iNycOeTecX_N"
      },
      "source": [
        "Проверим наличие неявных дубликатов и аномалий"
      ]
    },
    {
      "cell_type": "code",
      "execution_count": 18,
      "metadata": {
        "colab": {
          "base_uri": "https://localhost:8080/"
        },
        "id": "Nd7xFGN4cX_N",
        "outputId": "1006c684-3f7e-40da-8883-0f0e8726038c"
      },
      "outputs": [
        {
          "output_type": "execute_result",
          "data": {
            "text/plain": [
              "array(['CartScreenAppear', 'MainScreenAppear', 'OffersScreenAppear',\n",
              "       'PaymentScreenSuccessful', 'Tutorial'], dtype=object)"
            ]
          },
          "metadata": {},
          "execution_count": 18
        }
      ],
      "source": [
        "#просмотр уникальных значений в столбце 'event_name'\n",
        "\n",
        "data['event_name'].sort_values().unique()"
      ]
    },
    {
      "cell_type": "code",
      "execution_count": 19,
      "metadata": {
        "colab": {
          "base_uri": "https://localhost:8080/"
        },
        "id": "MM4PUKhgcX_N",
        "outputId": "a769b204-333a-40b4-ad60-29b975a68a5a"
      },
      "outputs": [
        {
          "output_type": "execute_result",
          "data": {
            "text/plain": [
              "array([   6888746892508752,    6909561520679493,    6922444491712477, ...,\n",
              "       9220879493065341500, 9221926045299980007, 9222603179720523844])"
            ]
          },
          "metadata": {},
          "execution_count": 19
        }
      ],
      "source": [
        "#просмотр уникальных значений в столбце 'device_id_hash'\n",
        "\n",
        "data['device_id_hash'].sort_values().unique()"
      ]
    },
    {
      "cell_type": "code",
      "execution_count": 20,
      "metadata": {
        "colab": {
          "base_uri": "https://localhost:8080/"
        },
        "id": "3ao582_ScX_N",
        "outputId": "95d4d583-e134-4bc4-9eb2-6f254fcb5714"
      },
      "outputs": [
        {
          "output_type": "execute_result",
          "data": {
            "text/plain": [
              "Timestamp('2019-07-25 04:43:36')"
            ]
          },
          "metadata": {},
          "execution_count": 20
        }
      ],
      "source": [
        "#просмотр уникальных значений в столбце 'event_timestamp'\n",
        "\n",
        "data['event_timestamp'].min()"
      ]
    },
    {
      "cell_type": "code",
      "execution_count": 21,
      "metadata": {
        "colab": {
          "base_uri": "https://localhost:8080/"
        },
        "id": "tSklTfSucX_N",
        "outputId": "509ce414-d6a8-478d-f06a-0ed22ffeadd6"
      },
      "outputs": [
        {
          "output_type": "execute_result",
          "data": {
            "text/plain": [
              "Timestamp('2019-08-07 21:15:17')"
            ]
          },
          "metadata": {},
          "execution_count": 21
        }
      ],
      "source": [
        "#просмотр уникальных значений в столбце 'event_timestamp'\n",
        "\n",
        "data['event_timestamp'].max()"
      ]
    },
    {
      "cell_type": "code",
      "execution_count": 22,
      "metadata": {
        "colab": {
          "base_uri": "https://localhost:8080/"
        },
        "id": "u-fpK318cX_N",
        "outputId": "41f7e3d6-5a8e-4061-8139-63a7273f8334"
      },
      "outputs": [
        {
          "output_type": "execute_result",
          "data": {
            "text/plain": [
              "array([246, 247, 248])"
            ]
          },
          "metadata": {},
          "execution_count": 22
        }
      ],
      "source": [
        "#просмотр уникальных значений в столбце 'exp_id'\n",
        "\n",
        "data['exp_id'].sort_values().unique()"
      ]
    },
    {
      "cell_type": "markdown",
      "metadata": {
        "id": "Ag82H6jgcX_O"
      },
      "source": [
        "Аномалии не обнаружены"
      ]
    },
    {
      "cell_type": "markdown",
      "metadata": {
        "id": "_KWrBuEFcX_O"
      },
      "source": [
        "<a id=\"new_column\"></a>"
      ]
    },
    {
      "cell_type": "markdown",
      "metadata": {
        "id": "s1o3fMYvcX_O"
      },
      "source": [
        "### Добавление нового столбца"
      ]
    },
    {
      "cell_type": "markdown",
      "metadata": {
        "id": "-mKaUuvUcX_O"
      },
      "source": [
        "Для дальнейшей работы добавим новый столбец только с датой 'date'"
      ]
    },
    {
      "cell_type": "code",
      "execution_count": 23,
      "metadata": {
        "id": "3wwFlDZUcX_O"
      },
      "outputs": [],
      "source": [
        "#создание столбца \"date\"\n",
        "\n",
        "data['date'] = pd.to_datetime(data['event_timestamp']).dt.date"
      ]
    },
    {
      "cell_type": "code",
      "execution_count": 24,
      "metadata": {
        "colab": {
          "base_uri": "https://localhost:8080/",
          "height": 206
        },
        "id": "tItY2UyicX_O",
        "outputId": "0f47b0bd-8426-4f2f-c691-00df428b306d"
      },
      "outputs": [
        {
          "output_type": "execute_result",
          "data": {
            "text/plain": [
              "                event_name       device_id_hash     event_timestamp  exp_id  \\\n",
              "0         MainScreenAppear  4575588528974610257 2019-07-25 04:43:36     246   \n",
              "1         MainScreenAppear  7416695313311560658 2019-07-25 11:11:42     246   \n",
              "2  PaymentScreenSuccessful  3518123091307005509 2019-07-25 11:28:47     248   \n",
              "3         CartScreenAppear  3518123091307005509 2019-07-25 11:28:47     248   \n",
              "4  PaymentScreenSuccessful  6217807653094995999 2019-07-25 11:48:42     248   \n",
              "\n",
              "         date  \n",
              "0  2019-07-25  \n",
              "1  2019-07-25  \n",
              "2  2019-07-25  \n",
              "3  2019-07-25  \n",
              "4  2019-07-25  "
            ],
            "text/html": [
              "\n",
              "  <div id=\"df-4d2f74a7-0b47-42d3-9219-6dec815b2443\" class=\"colab-df-container\">\n",
              "    <div>\n",
              "<style scoped>\n",
              "    .dataframe tbody tr th:only-of-type {\n",
              "        vertical-align: middle;\n",
              "    }\n",
              "\n",
              "    .dataframe tbody tr th {\n",
              "        vertical-align: top;\n",
              "    }\n",
              "\n",
              "    .dataframe thead th {\n",
              "        text-align: right;\n",
              "    }\n",
              "</style>\n",
              "<table border=\"1\" class=\"dataframe\">\n",
              "  <thead>\n",
              "    <tr style=\"text-align: right;\">\n",
              "      <th></th>\n",
              "      <th>event_name</th>\n",
              "      <th>device_id_hash</th>\n",
              "      <th>event_timestamp</th>\n",
              "      <th>exp_id</th>\n",
              "      <th>date</th>\n",
              "    </tr>\n",
              "  </thead>\n",
              "  <tbody>\n",
              "    <tr>\n",
              "      <th>0</th>\n",
              "      <td>MainScreenAppear</td>\n",
              "      <td>4575588528974610257</td>\n",
              "      <td>2019-07-25 04:43:36</td>\n",
              "      <td>246</td>\n",
              "      <td>2019-07-25</td>\n",
              "    </tr>\n",
              "    <tr>\n",
              "      <th>1</th>\n",
              "      <td>MainScreenAppear</td>\n",
              "      <td>7416695313311560658</td>\n",
              "      <td>2019-07-25 11:11:42</td>\n",
              "      <td>246</td>\n",
              "      <td>2019-07-25</td>\n",
              "    </tr>\n",
              "    <tr>\n",
              "      <th>2</th>\n",
              "      <td>PaymentScreenSuccessful</td>\n",
              "      <td>3518123091307005509</td>\n",
              "      <td>2019-07-25 11:28:47</td>\n",
              "      <td>248</td>\n",
              "      <td>2019-07-25</td>\n",
              "    </tr>\n",
              "    <tr>\n",
              "      <th>3</th>\n",
              "      <td>CartScreenAppear</td>\n",
              "      <td>3518123091307005509</td>\n",
              "      <td>2019-07-25 11:28:47</td>\n",
              "      <td>248</td>\n",
              "      <td>2019-07-25</td>\n",
              "    </tr>\n",
              "    <tr>\n",
              "      <th>4</th>\n",
              "      <td>PaymentScreenSuccessful</td>\n",
              "      <td>6217807653094995999</td>\n",
              "      <td>2019-07-25 11:48:42</td>\n",
              "      <td>248</td>\n",
              "      <td>2019-07-25</td>\n",
              "    </tr>\n",
              "  </tbody>\n",
              "</table>\n",
              "</div>\n",
              "    <div class=\"colab-df-buttons\">\n",
              "\n",
              "  <div class=\"colab-df-container\">\n",
              "    <button class=\"colab-df-convert\" onclick=\"convertToInteractive('df-4d2f74a7-0b47-42d3-9219-6dec815b2443')\"\n",
              "            title=\"Convert this dataframe to an interactive table.\"\n",
              "            style=\"display:none;\">\n",
              "\n",
              "  <svg xmlns=\"http://www.w3.org/2000/svg\" height=\"24px\" viewBox=\"0 -960 960 960\">\n",
              "    <path d=\"M120-120v-720h720v720H120Zm60-500h600v-160H180v160Zm220 220h160v-160H400v160Zm0 220h160v-160H400v160ZM180-400h160v-160H180v160Zm440 0h160v-160H620v160ZM180-180h160v-160H180v160Zm440 0h160v-160H620v160Z\"/>\n",
              "  </svg>\n",
              "    </button>\n",
              "\n",
              "  <style>\n",
              "    .colab-df-container {\n",
              "      display:flex;\n",
              "      gap: 12px;\n",
              "    }\n",
              "\n",
              "    .colab-df-convert {\n",
              "      background-color: #E8F0FE;\n",
              "      border: none;\n",
              "      border-radius: 50%;\n",
              "      cursor: pointer;\n",
              "      display: none;\n",
              "      fill: #1967D2;\n",
              "      height: 32px;\n",
              "      padding: 0 0 0 0;\n",
              "      width: 32px;\n",
              "    }\n",
              "\n",
              "    .colab-df-convert:hover {\n",
              "      background-color: #E2EBFA;\n",
              "      box-shadow: 0px 1px 2px rgba(60, 64, 67, 0.3), 0px 1px 3px 1px rgba(60, 64, 67, 0.15);\n",
              "      fill: #174EA6;\n",
              "    }\n",
              "\n",
              "    .colab-df-buttons div {\n",
              "      margin-bottom: 4px;\n",
              "    }\n",
              "\n",
              "    [theme=dark] .colab-df-convert {\n",
              "      background-color: #3B4455;\n",
              "      fill: #D2E3FC;\n",
              "    }\n",
              "\n",
              "    [theme=dark] .colab-df-convert:hover {\n",
              "      background-color: #434B5C;\n",
              "      box-shadow: 0px 1px 3px 1px rgba(0, 0, 0, 0.15);\n",
              "      filter: drop-shadow(0px 1px 2px rgba(0, 0, 0, 0.3));\n",
              "      fill: #FFFFFF;\n",
              "    }\n",
              "  </style>\n",
              "\n",
              "    <script>\n",
              "      const buttonEl =\n",
              "        document.querySelector('#df-4d2f74a7-0b47-42d3-9219-6dec815b2443 button.colab-df-convert');\n",
              "      buttonEl.style.display =\n",
              "        google.colab.kernel.accessAllowed ? 'block' : 'none';\n",
              "\n",
              "      async function convertToInteractive(key) {\n",
              "        const element = document.querySelector('#df-4d2f74a7-0b47-42d3-9219-6dec815b2443');\n",
              "        const dataTable =\n",
              "          await google.colab.kernel.invokeFunction('convertToInteractive',\n",
              "                                                    [key], {});\n",
              "        if (!dataTable) return;\n",
              "\n",
              "        const docLinkHtml = 'Like what you see? Visit the ' +\n",
              "          '<a target=\"_blank\" href=https://colab.research.google.com/notebooks/data_table.ipynb>data table notebook</a>'\n",
              "          + ' to learn more about interactive tables.';\n",
              "        element.innerHTML = '';\n",
              "        dataTable['output_type'] = 'display_data';\n",
              "        await google.colab.output.renderOutput(dataTable, element);\n",
              "        const docLink = document.createElement('div');\n",
              "        docLink.innerHTML = docLinkHtml;\n",
              "        element.appendChild(docLink);\n",
              "      }\n",
              "    </script>\n",
              "  </div>\n",
              "\n",
              "\n",
              "<div id=\"df-998a2fa9-e7ef-4ac0-b791-10a0234cb83b\">\n",
              "  <button class=\"colab-df-quickchart\" onclick=\"quickchart('df-998a2fa9-e7ef-4ac0-b791-10a0234cb83b')\"\n",
              "            title=\"Suggest charts\"\n",
              "            style=\"display:none;\">\n",
              "\n",
              "<svg xmlns=\"http://www.w3.org/2000/svg\" height=\"24px\"viewBox=\"0 0 24 24\"\n",
              "     width=\"24px\">\n",
              "    <g>\n",
              "        <path d=\"M19 3H5c-1.1 0-2 .9-2 2v14c0 1.1.9 2 2 2h14c1.1 0 2-.9 2-2V5c0-1.1-.9-2-2-2zM9 17H7v-7h2v7zm4 0h-2V7h2v10zm4 0h-2v-4h2v4z\"/>\n",
              "    </g>\n",
              "</svg>\n",
              "  </button>\n",
              "\n",
              "<style>\n",
              "  .colab-df-quickchart {\n",
              "      --bg-color: #E8F0FE;\n",
              "      --fill-color: #1967D2;\n",
              "      --hover-bg-color: #E2EBFA;\n",
              "      --hover-fill-color: #174EA6;\n",
              "      --disabled-fill-color: #AAA;\n",
              "      --disabled-bg-color: #DDD;\n",
              "  }\n",
              "\n",
              "  [theme=dark] .colab-df-quickchart {\n",
              "      --bg-color: #3B4455;\n",
              "      --fill-color: #D2E3FC;\n",
              "      --hover-bg-color: #434B5C;\n",
              "      --hover-fill-color: #FFFFFF;\n",
              "      --disabled-bg-color: #3B4455;\n",
              "      --disabled-fill-color: #666;\n",
              "  }\n",
              "\n",
              "  .colab-df-quickchart {\n",
              "    background-color: var(--bg-color);\n",
              "    border: none;\n",
              "    border-radius: 50%;\n",
              "    cursor: pointer;\n",
              "    display: none;\n",
              "    fill: var(--fill-color);\n",
              "    height: 32px;\n",
              "    padding: 0;\n",
              "    width: 32px;\n",
              "  }\n",
              "\n",
              "  .colab-df-quickchart:hover {\n",
              "    background-color: var(--hover-bg-color);\n",
              "    box-shadow: 0 1px 2px rgba(60, 64, 67, 0.3), 0 1px 3px 1px rgba(60, 64, 67, 0.15);\n",
              "    fill: var(--button-hover-fill-color);\n",
              "  }\n",
              "\n",
              "  .colab-df-quickchart-complete:disabled,\n",
              "  .colab-df-quickchart-complete:disabled:hover {\n",
              "    background-color: var(--disabled-bg-color);\n",
              "    fill: var(--disabled-fill-color);\n",
              "    box-shadow: none;\n",
              "  }\n",
              "\n",
              "  .colab-df-spinner {\n",
              "    border: 2px solid var(--fill-color);\n",
              "    border-color: transparent;\n",
              "    border-bottom-color: var(--fill-color);\n",
              "    animation:\n",
              "      spin 1s steps(1) infinite;\n",
              "  }\n",
              "\n",
              "  @keyframes spin {\n",
              "    0% {\n",
              "      border-color: transparent;\n",
              "      border-bottom-color: var(--fill-color);\n",
              "      border-left-color: var(--fill-color);\n",
              "    }\n",
              "    20% {\n",
              "      border-color: transparent;\n",
              "      border-left-color: var(--fill-color);\n",
              "      border-top-color: var(--fill-color);\n",
              "    }\n",
              "    30% {\n",
              "      border-color: transparent;\n",
              "      border-left-color: var(--fill-color);\n",
              "      border-top-color: var(--fill-color);\n",
              "      border-right-color: var(--fill-color);\n",
              "    }\n",
              "    40% {\n",
              "      border-color: transparent;\n",
              "      border-right-color: var(--fill-color);\n",
              "      border-top-color: var(--fill-color);\n",
              "    }\n",
              "    60% {\n",
              "      border-color: transparent;\n",
              "      border-right-color: var(--fill-color);\n",
              "    }\n",
              "    80% {\n",
              "      border-color: transparent;\n",
              "      border-right-color: var(--fill-color);\n",
              "      border-bottom-color: var(--fill-color);\n",
              "    }\n",
              "    90% {\n",
              "      border-color: transparent;\n",
              "      border-bottom-color: var(--fill-color);\n",
              "    }\n",
              "  }\n",
              "</style>\n",
              "\n",
              "  <script>\n",
              "    async function quickchart(key) {\n",
              "      const quickchartButtonEl =\n",
              "        document.querySelector('#' + key + ' button');\n",
              "      quickchartButtonEl.disabled = true;  // To prevent multiple clicks.\n",
              "      quickchartButtonEl.classList.add('colab-df-spinner');\n",
              "      try {\n",
              "        const charts = await google.colab.kernel.invokeFunction(\n",
              "            'suggestCharts', [key], {});\n",
              "      } catch (error) {\n",
              "        console.error('Error during call to suggestCharts:', error);\n",
              "      }\n",
              "      quickchartButtonEl.classList.remove('colab-df-spinner');\n",
              "      quickchartButtonEl.classList.add('colab-df-quickchart-complete');\n",
              "    }\n",
              "    (() => {\n",
              "      let quickchartButtonEl =\n",
              "        document.querySelector('#df-998a2fa9-e7ef-4ac0-b791-10a0234cb83b button');\n",
              "      quickchartButtonEl.style.display =\n",
              "        google.colab.kernel.accessAllowed ? 'block' : 'none';\n",
              "    })();\n",
              "  </script>\n",
              "</div>\n",
              "    </div>\n",
              "  </div>\n"
            ]
          },
          "metadata": {},
          "execution_count": 24
        }
      ],
      "source": [
        "#проверка наличия новых столбцов\n",
        "\n",
        "data.head()"
      ]
    },
    {
      "cell_type": "markdown",
      "metadata": {
        "id": "Z_GTm2MncX_O"
      },
      "source": [
        "На данном этапе предобработка данных завершается"
      ]
    },
    {
      "cell_type": "markdown",
      "metadata": {
        "id": "ziAZU1wicX_O"
      },
      "source": [
        "В ходе предобработки данных:\n",
        "\n",
        "* Названия столбцов приведены к правильному формату;\n",
        "* Проверено наличие пропусков;\n",
        "* Проверено наличие явных и неявных дубликатов;\n",
        "* Заменен тип данных в столбце 'event_timestamp';\n",
        "* Добавлен столбец с датой 'date'."
      ]
    },
    {
      "cell_type": "markdown",
      "metadata": {
        "id": "88FJmVMzcX_O"
      },
      "source": [
        "<a id=\"data_science\"></a>"
      ]
    },
    {
      "cell_type": "markdown",
      "metadata": {
        "id": "YTpcCLTucX_P"
      },
      "source": [
        "# Исследовательский анализ данных"
      ]
    },
    {
      "cell_type": "markdown",
      "metadata": {
        "id": "iF16pTUhcX_P"
      },
      "source": [
        "<a id=\"events\"></a>"
      ]
    },
    {
      "cell_type": "markdown",
      "metadata": {
        "id": "zOG5n3b4cX_P"
      },
      "source": [
        "### Количество событий в логе"
      ]
    },
    {
      "cell_type": "markdown",
      "metadata": {
        "id": "zBOfn8JJcX_P"
      },
      "source": [
        "Для начала посмотрим cколько всего событий в логе"
      ]
    },
    {
      "cell_type": "code",
      "execution_count": 25,
      "metadata": {
        "colab": {
          "base_uri": "https://localhost:8080/"
        },
        "id": "g6oMUK1ucX_P",
        "outputId": "2088a093-1148-4228-b033-48ab7e6a93e5"
      },
      "outputs": [
        {
          "output_type": "stream",
          "name": "stdout",
          "text": [
            "243713\n"
          ]
        }
      ],
      "source": [
        "print(format(data['event_name'].count()))"
      ]
    },
    {
      "cell_type": "markdown",
      "metadata": {
        "id": "xDdnzYVycX_P"
      },
      "source": [
        "В логе 243 713 событий."
      ]
    },
    {
      "cell_type": "markdown",
      "metadata": {
        "id": "QtovtH7scX_P"
      },
      "source": [
        "Посмотрим, сколько событий соответствуют каждому типу действий пользователей мобильного приложения:"
      ]
    },
    {
      "cell_type": "code",
      "execution_count": 26,
      "metadata": {
        "colab": {
          "base_uri": "https://localhost:8080/"
        },
        "id": "9FmUckVjcX_P",
        "outputId": "93b0bf9d-bfc1-4569-9ed9-746727dc6093"
      },
      "outputs": [
        {
          "output_type": "execute_result",
          "data": {
            "text/plain": [
              "MainScreenAppear           119101\n",
              "OffersScreenAppear          46808\n",
              "CartScreenAppear            42668\n",
              "PaymentScreenSuccessful     34118\n",
              "Tutorial                     1018\n",
              "Name: event_name, dtype: int64"
            ]
          },
          "metadata": {},
          "execution_count": 26
        }
      ],
      "source": [
        "data['event_name'].value_counts()"
      ]
    },
    {
      "cell_type": "markdown",
      "metadata": {
        "id": "YXTTsT7hcX_P"
      },
      "source": [
        "Чаще всего пользователи открывают главный экран (заглавную страницу) и реже всего открывают обучение, что совсем неудивительно."
      ]
    },
    {
      "cell_type": "markdown",
      "metadata": {
        "id": "uSEnQPfwcX_Q"
      },
      "source": [
        "<a id=\"user\"></a>"
      ]
    },
    {
      "cell_type": "markdown",
      "metadata": {
        "id": "tio5LRBicX_Q"
      },
      "source": [
        "### Количество пользователей в логе"
      ]
    },
    {
      "cell_type": "markdown",
      "metadata": {
        "id": "oWk7MVfhcX_Q"
      },
      "source": [
        "Теперь посмотрим сколько всего пользователей в логе"
      ]
    },
    {
      "cell_type": "code",
      "execution_count": 27,
      "metadata": {
        "colab": {
          "base_uri": "https://localhost:8080/"
        },
        "id": "Mva38Gv6cX_Q",
        "outputId": "9227eed0-7e4d-4a68-80e4-d102f7889527"
      },
      "outputs": [
        {
          "output_type": "stream",
          "name": "stdout",
          "text": [
            "7551\n"
          ]
        }
      ],
      "source": [
        "print(format(data['device_id_hash'].nunique()))"
      ]
    },
    {
      "cell_type": "markdown",
      "metadata": {
        "id": "BXswQvKWcX_Q"
      },
      "source": [
        "В логе 7 551 пользователь."
      ]
    },
    {
      "cell_type": "markdown",
      "metadata": {
        "id": "ndcLZtNmcX_Q"
      },
      "source": [
        "<a id=\"events-user\"></a>"
      ]
    },
    {
      "cell_type": "markdown",
      "metadata": {
        "id": "pkMe99-VcX_Q"
      },
      "source": [
        "### События на пользователя"
      ]
    },
    {
      "cell_type": "markdown",
      "metadata": {
        "id": "3c4qQI40cX_Q"
      },
      "source": [
        "Посмотрим сколько в среднем событий приходится на пользователя"
      ]
    },
    {
      "cell_type": "code",
      "execution_count": 28,
      "metadata": {
        "colab": {
          "base_uri": "https://localhost:8080/"
        },
        "id": "lK5OLUtWcX_Q",
        "outputId": "49154dd1-7162-4c69-c3ae-ad249d75a9d4"
      },
      "outputs": [
        {
          "output_type": "stream",
          "name": "stdout",
          "text": [
            "32\n"
          ]
        }
      ],
      "source": [
        "print(format(round(data['event_name'].count()/data['device_id_hash'].nunique())))"
      ]
    },
    {
      "cell_type": "markdown",
      "metadata": {
        "id": "-1NZ7E8HcX_R"
      },
      "source": [
        "В среднем на пользователя приходится 32 события."
      ]
    },
    {
      "cell_type": "markdown",
      "metadata": {
        "id": "PbWVz_u2cX_R"
      },
      "source": [
        "Проверим адекватность данной цифры при помощи гистограммы распределения. Построим гистограмму распределения количества событий на пользователя."
      ]
    },
    {
      "cell_type": "code",
      "execution_count": 29,
      "metadata": {
        "id": "eWj5fCtCcX_R"
      },
      "outputs": [],
      "source": [
        "event_per_user = data.pivot_table(index = 'device_id_hash', values = 'event_name', aggfunc='count')"
      ]
    },
    {
      "cell_type": "code",
      "execution_count": 30,
      "metadata": {
        "colab": {
          "base_uri": "https://localhost:8080/",
          "height": 470
        },
        "id": "darxGOSRcX_R",
        "outputId": "a1a36d94-702a-400f-92a9-492d9b30394d"
      },
      "outputs": [
        {
          "output_type": "display_data",
          "data": {
            "text/plain": [
              "<Figure size 1000x500 with 1 Axes>"
            ],
            "image/png": "[encoded data removed]"
          },
          "metadata": {}
        }
      ],
      "source": [
        "#построение графика распределения количества событий на пользователя\n",
        "\n",
        "fig, ax = plt.subplots()\n",
        "fig.set_figwidth(10)\n",
        "fig.set_figheight(5)\n",
        "event_per_user.query('event_name < 150').hist(bins = 50, ax=ax)\n",
        "plt.title('Распределение количества событий на пользователя', fontsize=15);"
      ]
    },
    {
      "cell_type": "markdown",
      "metadata": {
        "id": "j2etqBDPcX_R"
      },
      "source": [
        "Распределение не нормальное, имеется длинный хвост справа, из-за этого среднее значение сдвинуто вправо. Наибольшее количество заказов приходится на 1-20 событий."
      ]
    },
    {
      "cell_type": "markdown",
      "metadata": {
        "id": "9K4uy7SQcX_R"
      },
      "source": [
        "Рассчитаем медианное значение количества событий на пользователя."
      ]
    },
    {
      "cell_type": "code",
      "execution_count": 31,
      "metadata": {
        "colab": {
          "base_uri": "https://localhost:8080/"
        },
        "id": "zKYSzY-JcX_R",
        "outputId": "b879f14b-51ef-490a-bac8-3c5ef98b19bd"
      },
      "outputs": [
        {
          "output_type": "execute_result",
          "data": {
            "text/plain": [
              "20.0"
            ]
          },
          "metadata": {},
          "execution_count": 31
        }
      ],
      "source": [
        "data.groupby('device_id_hash')['event_name'].agg('count').median()"
      ]
    },
    {
      "cell_type": "markdown",
      "metadata": {
        "id": "iXZQF6TdcX_R"
      },
      "source": [
        "Половине соотвествует количество событий меньше 20, второй половине 20 или больше."
      ]
    },
    {
      "cell_type": "markdown",
      "metadata": {
        "id": "NwchyVYicX_S"
      },
      "source": [
        "<a id=\"data-time\"></a>"
      ]
    },
    {
      "cell_type": "markdown",
      "metadata": {
        "id": "HxuLW3qjcX_S"
      },
      "source": [
        "### Период данных"
      ]
    },
    {
      "cell_type": "markdown",
      "metadata": {
        "id": "lTICMY-jcX_S"
      },
      "source": [
        "Определим период наших данных. Найдем максимальную и минимальную даты:"
      ]
    },
    {
      "cell_type": "code",
      "execution_count": 32,
      "metadata": {
        "colab": {
          "base_uri": "https://localhost:8080/"
        },
        "id": "oTzKal5TcX_S",
        "outputId": "eb9faed1-ecc9-4c3c-87a0-f6122fc03ee4"
      },
      "outputs": [
        {
          "output_type": "stream",
          "name": "stdout",
          "text": [
            "2019-07-25\n",
            "2019-08-07\n"
          ]
        }
      ],
      "source": [
        "print (data['date'].min())\n",
        "print (data['date'].max())"
      ]
    },
    {
      "cell_type": "markdown",
      "metadata": {
        "id": "ZrzN0XmbcX_S"
      },
      "source": [
        "Построим гистограмму по дате и времени:"
      ]
    },
    {
      "cell_type": "markdown",
      "metadata": {
        "id": "mNRrkNCZcX_S"
      },
      "source": [
        "Возьмем количество бинов - 14 * 24, чтобы каждый бин соответствовал одному часу"
      ]
    },
    {
      "cell_type": "code",
      "execution_count": 33,
      "metadata": {
        "colab": {
          "base_uri": "https://localhost:8080/",
          "height": 508
        },
        "id": "En7e6Ma-cX_S",
        "outputId": "2d6998ff-1ecf-484d-eecc-b8a6cfee4cce"
      },
      "outputs": [
        {
          "output_type": "display_data",
          "data": {
            "text/plain": [
              "<Figure size 1000x500 with 1 Axes>"
            ],
            "image/png": "[encoded data removed]"
          },
          "metadata": {}
        }
      ],
      "source": [
        "#гистограмма по дате и времени\n",
        "\n",
        "fig, ax = plt.subplots()\n",
        "fig.set_figwidth(10)\n",
        "fig.set_figheight(5)\n",
        "data['event_timestamp'].hist(bins = 14*24, ax=ax)\n",
        "plt.xticks(rotation = 30)\n",
        "plt.ylabel('Количество событий')\n",
        "plt.title('Гистограмма по дате и времени', fontsize=15);"
      ]
    },
    {
      "cell_type": "markdown",
      "metadata": {
        "id": "xI8-LQ-8cX_S"
      },
      "source": [
        "Основная часть данных приходится на 01-08-2019 - 08-08-2019. Данных до 1го августа очень мало, скорее всего это события, которые \"доехали\" из прошлого, они могут негативно влиять на данные, \"перекашивая\" их. Найдем, какую долю они составляют от общего числа, чтобы понять можно ли их отсечь."
      ]
    },
    {
      "cell_type": "markdown",
      "metadata": {
        "id": "mimrsiaTcX_S"
      },
      "source": [
        "Посмотрим на количество таких данных:"
      ]
    },
    {
      "cell_type": "code",
      "execution_count": 34,
      "metadata": {
        "colab": {
          "base_uri": "https://localhost:8080/"
        },
        "id": "rHWmd2bQcX_T",
        "outputId": "83ef9e56-3852-4b69-fd09-9892557a4cd3"
      },
      "outputs": [
        {
          "output_type": "execute_result",
          "data": {
            "text/plain": [
              "2826"
            ]
          },
          "metadata": {},
          "execution_count": 34
        }
      ],
      "source": [
        "#количество событий, которые относятся к \"старым данным\"\n",
        "\n",
        "date_to_cut = pd.to_datetime(\"2019-8-1\").date()\n",
        "data.query('date < @date_to_cut')['event_name'].count()"
      ]
    },
    {
      "cell_type": "markdown",
      "metadata": {
        "id": "Y8ju4eSecX_T"
      },
      "source": [
        "Количество событий, которые приходятся на даты раньше 1 августа 2019 - 2826, это чуть больше 1% от всех данных. Приемлемое количество для удаления. Отбросим данные за этот период."
      ]
    },
    {
      "cell_type": "markdown",
      "metadata": {
        "id": "AGFhXNmbcX_T"
      },
      "source": [
        "Посмотрим, сколько пользователей относятся к этим данным"
      ]
    },
    {
      "cell_type": "code",
      "execution_count": 35,
      "metadata": {
        "colab": {
          "base_uri": "https://localhost:8080/"
        },
        "id": "X6mYBJ1AcX_T",
        "outputId": "5c2c26cd-1c5a-4d9e-b4ba-a16f5584113d"
      },
      "outputs": [
        {
          "output_type": "execute_result",
          "data": {
            "text/plain": [
              "17"
            ]
          },
          "metadata": {},
          "execution_count": 35
        }
      ],
      "source": [
        "#количество пользователей, которые относятся к старым данным\n",
        "\n",
        "data['device_id_hash'].nunique() - data.query('date >= @date_to_cut')['device_id_hash'].nunique()"
      ]
    },
    {
      "cell_type": "markdown",
      "metadata": {
        "id": "G5pEutNHcX_T"
      },
      "source": [
        "Посмотрим, какую долю составляют пользователи относящиеся к данным до 1 августа"
      ]
    },
    {
      "cell_type": "code",
      "execution_count": 36,
      "metadata": {
        "colab": {
          "base_uri": "https://localhost:8080/"
        },
        "id": "8t-Wt3pkcX_T",
        "outputId": "5ad55404-4273-45ce-f8dd-ce200e2b67e7"
      },
      "outputs": [
        {
          "output_type": "execute_result",
          "data": {
            "text/plain": [
              "0.0023"
            ]
          },
          "metadata": {},
          "execution_count": 36
        }
      ],
      "source": [
        "#доля пользователей старых данных относительно всех\n",
        "\n",
        "round((data['device_id_hash'].nunique() - data.query('date >= @date_to_cut')['device_id_hash'].nunique()) / data['device_id_hash'].nunique(), 4)"
      ]
    },
    {
      "cell_type": "markdown",
      "metadata": {
        "id": "6rzWcM_ScX_V"
      },
      "source": [
        "Итог:\n",
        "- Количество событий, которые приходятся на даты раньше 1 августа 2019 - 2826, это чуть больше 1% от всех данных;\n",
        "- Количество пользователей, которые относятся этим событиям - 17, это всего 0,23% от общего числа всех пользователей;\n",
        "\n",
        "=> Данные за этот период можно и нужно удалить, потеря такого количества информации не скажется негативно на нашем исследовании"
      ]
    },
    {
      "cell_type": "code",
      "execution_count": 37,
      "metadata": {
        "id": "ioReYXNLcX_V"
      },
      "outputs": [],
      "source": [
        "data = data.query('date >= @date_to_cut')"
      ]
    },
    {
      "cell_type": "markdown",
      "metadata": {
        "id": "I18zWKPycX_V"
      },
      "source": [
        "Определим реальный период наших данных. Найдем максимальную и минимальную даты:"
      ]
    },
    {
      "cell_type": "code",
      "execution_count": 38,
      "metadata": {
        "scrolled": true,
        "colab": {
          "base_uri": "https://localhost:8080/"
        },
        "id": "caVy3FBtcX_V",
        "outputId": "8c4ddf18-7614-4737-b786-cbaf1c7cff38"
      },
      "outputs": [
        {
          "output_type": "stream",
          "name": "stdout",
          "text": [
            "2019-08-01\n",
            "2019-08-07\n"
          ]
        }
      ],
      "source": [
        "print (data['date'].min())\n",
        "print (data['date'].max())"
      ]
    },
    {
      "cell_type": "markdown",
      "metadata": {
        "id": "jbPesSjdcX_W"
      },
      "source": [
        "<a id=\"groups\"></a>"
      ]
    },
    {
      "cell_type": "markdown",
      "metadata": {
        "id": "FeXjs6aJcX_W"
      },
      "source": [
        "### Корректность разбиения на группы"
      ]
    },
    {
      "cell_type": "markdown",
      "metadata": {
        "id": "KwaRCuI6cX_W"
      },
      "source": [
        "Посмотрим, сколько пользователей в каждой экспериментальной группе"
      ]
    },
    {
      "cell_type": "code",
      "execution_count": 39,
      "metadata": {
        "colab": {
          "base_uri": "https://localhost:8080/",
          "height": 175
        },
        "id": "SD0Fsb1_cX_W",
        "outputId": "01847afc-fe89-43d7-f1a9-8b1046154ae3"
      },
      "outputs": [
        {
          "output_type": "execute_result",
          "data": {
            "text/plain": [
              "        device_id_hash\n",
              "exp_id                \n",
              "246               2484\n",
              "247               2513\n",
              "248               2537"
            ],
            "text/html": [
              "\n",
              "  <div id=\"df-50d679ef-a103-496d-a939-8c239d0077f2\" class=\"colab-df-container\">\n",
              "    <div>\n",
              "<style scoped>\n",
              "    .dataframe tbody tr th:only-of-type {\n",
              "        vertical-align: middle;\n",
              "    }\n",
              "\n",
              "    .dataframe tbody tr th {\n",
              "        vertical-align: top;\n",
              "    }\n",
              "\n",
              "    .dataframe thead th {\n",
              "        text-align: right;\n",
              "    }\n",
              "</style>\n",
              "<table border=\"1\" class=\"dataframe\">\n",
              "  <thead>\n",
              "    <tr style=\"text-align: right;\">\n",
              "      <th></th>\n",
              "      <th>device_id_hash</th>\n",
              "    </tr>\n",
              "    <tr>\n",
              "      <th>exp_id</th>\n",
              "      <th></th>\n",
              "    </tr>\n",
              "  </thead>\n",
              "  <tbody>\n",
              "    <tr>\n",
              "      <th>246</th>\n",
              "      <td>2484</td>\n",
              "    </tr>\n",
              "    <tr>\n",
              "      <th>247</th>\n",
              "      <td>2513</td>\n",
              "    </tr>\n",
              "    <tr>\n",
              "      <th>248</th>\n",
              "      <td>2537</td>\n",
              "    </tr>\n",
              "  </tbody>\n",
              "</table>\n",
              "</div>\n",
              "    <div class=\"colab-df-buttons\">\n",
              "\n",
              "  <div class=\"colab-df-container\">\n",
              "    <button class=\"colab-df-convert\" onclick=\"convertToInteractive('df-50d679ef-a103-496d-a939-8c239d0077f2')\"\n",
              "            title=\"Convert this dataframe to an interactive table.\"\n",
              "            style=\"display:none;\">\n",
              "\n",
              "  <svg xmlns=\"http://www.w3.org/2000/svg\" height=\"24px\" viewBox=\"0 -960 960 960\">\n",
              "    <path d=\"M120-120v-720h720v720H120Zm60-500h600v-160H180v160Zm220 220h160v-160H400v160Zm0 220h160v-160H400v160ZM180-400h160v-160H180v160Zm440 0h160v-160H620v160ZM180-180h160v-160H180v160Zm440 0h160v-160H620v160Z\"/>\n",
              "  </svg>\n",
              "    </button>\n",
              "\n",
              "  <style>\n",
              "    .colab-df-container {\n",
              "      display:flex;\n",
              "      gap: 12px;\n",
              "    }\n",
              "\n",
              "    .colab-df-convert {\n",
              "      background-color: #E8F0FE;\n",
              "      border: none;\n",
              "      border-radius: 50%;\n",
              "      cursor: pointer;\n",
              "      display: none;\n",
              "      fill: #1967D2;\n",
              "      height: 32px;\n",
              "      padding: 0 0 0 0;\n",
              "      width: 32px;\n",
              "    }\n",
              "\n",
              "    .colab-df-convert:hover {\n",
              "      background-color: #E2EBFA;\n",
              "      box-shadow: 0px 1px 2px rgba(60, 64, 67, 0.3), 0px 1px 3px 1px rgba(60, 64, 67, 0.15);\n",
              "      fill: #174EA6;\n",
              "    }\n",
              "\n",
              "    .colab-df-buttons div {\n",
              "      margin-bottom: 4px;\n",
              "    }\n",
              "\n",
              "    [theme=dark] .colab-df-convert {\n",
              "      background-color: #3B4455;\n",
              "      fill: #D2E3FC;\n",
              "    }\n",
              "\n",
              "    [theme=dark] .colab-df-convert:hover {\n",
              "      background-color: #434B5C;\n",
              "      box-shadow: 0px 1px 3px 1px rgba(0, 0, 0, 0.15);\n",
              "      filter: drop-shadow(0px 1px 2px rgba(0, 0, 0, 0.3));\n",
              "      fill: #FFFFFF;\n",
              "    }\n",
              "  </style>\n",
              "\n",
              "    <script>\n",
              "      const buttonEl =\n",
              "        document.querySelector('#df-50d679ef-a103-496d-a939-8c239d0077f2 button.colab-df-convert');\n",
              "      buttonEl.style.display =\n",
              "        google.colab.kernel.accessAllowed ? 'block' : 'none';\n",
              "\n",
              "      async function convertToInteractive(key) {\n",
              "        const element = document.querySelector('#df-50d679ef-a103-496d-a939-8c239d0077f2');\n",
              "        const dataTable =\n",
              "          await google.colab.kernel.invokeFunction('convertToInteractive',\n",
              "                                                    [key], {});\n",
              "        if (!dataTable) return;\n",
              "\n",
              "        const docLinkHtml = 'Like what you see? Visit the ' +\n",
              "          '<a target=\"_blank\" href=https://colab.research.google.com/notebooks/data_table.ipynb>data table notebook</a>'\n",
              "          + ' to learn more about interactive tables.';\n",
              "        element.innerHTML = '';\n",
              "        dataTable['output_type'] = 'display_data';\n",
              "        await google.colab.output.renderOutput(dataTable, element);\n",
              "        const docLink = document.createElement('div');\n",
              "        docLink.innerHTML = docLinkHtml;\n",
              "        element.appendChild(docLink);\n",
              "      }\n",
              "    </script>\n",
              "  </div>\n",
              "\n",
              "\n",
              "<div id=\"df-2600e25b-2a99-40de-b8a9-fde78b1e8f64\">\n",
              "  <button class=\"colab-df-quickchart\" onclick=\"quickchart('df-2600e25b-2a99-40de-b8a9-fde78b1e8f64')\"\n",
              "            title=\"Suggest charts\"\n",
              "            style=\"display:none;\">\n",
              "\n",
              "<svg xmlns=\"http://www.w3.org/2000/svg\" height=\"24px\"viewBox=\"0 0 24 24\"\n",
              "     width=\"24px\">\n",
              "    <g>\n",
              "        <path d=\"M19 3H5c-1.1 0-2 .9-2 2v14c0 1.1.9 2 2 2h14c1.1 0 2-.9 2-2V5c0-1.1-.9-2-2-2zM9 17H7v-7h2v7zm4 0h-2V7h2v10zm4 0h-2v-4h2v4z\"/>\n",
              "    </g>\n",
              "</svg>\n",
              "  </button>\n",
              "\n",
              "<style>\n",
              "  .colab-df-quickchart {\n",
              "      --bg-color: #E8F0FE;\n",
              "      --fill-color: #1967D2;\n",
              "      --hover-bg-color: #E2EBFA;\n",
              "      --hover-fill-color: #174EA6;\n",
              "      --disabled-fill-color: #AAA;\n",
              "      --disabled-bg-color: #DDD;\n",
              "  }\n",
              "\n",
              "  [theme=dark] .colab-df-quickchart {\n",
              "      --bg-color: #3B4455;\n",
              "      --fill-color: #D2E3FC;\n",
              "      --hover-bg-color: #434B5C;\n",
              "      --hover-fill-color: #FFFFFF;\n",
              "      --disabled-bg-color: #3B4455;\n",
              "      --disabled-fill-color: #666;\n",
              "  }\n",
              "\n",
              "  .colab-df-quickchart {\n",
              "    background-color: var(--bg-color);\n",
              "    border: none;\n",
              "    border-radius: 50%;\n",
              "    cursor: pointer;\n",
              "    display: none;\n",
              "    fill: var(--fill-color);\n",
              "    height: 32px;\n",
              "    padding: 0;\n",
              "    width: 32px;\n",
              "  }\n",
              "\n",
              "  .colab-df-quickchart:hover {\n",
              "    background-color: var(--hover-bg-color);\n",
              "    box-shadow: 0 1px 2px rgba(60, 64, 67, 0.3), 0 1px 3px 1px rgba(60, 64, 67, 0.15);\n",
              "    fill: var(--button-hover-fill-color);\n",
              "  }\n",
              "\n",
              "  .colab-df-quickchart-complete:disabled,\n",
              "  .colab-df-quickchart-complete:disabled:hover {\n",
              "    background-color: var(--disabled-bg-color);\n",
              "    fill: var(--disabled-fill-color);\n",
              "    box-shadow: none;\n",
              "  }\n",
              "\n",
              "  .colab-df-spinner {\n",
              "    border: 2px solid var(--fill-color);\n",
              "    border-color: transparent;\n",
              "    border-bottom-color: var(--fill-color);\n",
              "    animation:\n",
              "      spin 1s steps(1) infinite;\n",
              "  }\n",
              "\n",
              "  @keyframes spin {\n",
              "    0% {\n",
              "      border-color: transparent;\n",
              "      border-bottom-color: var(--fill-color);\n",
              "      border-left-color: var(--fill-color);\n",
              "    }\n",
              "    20% {\n",
              "      border-color: transparent;\n",
              "      border-left-color: var(--fill-color);\n",
              "      border-top-color: var(--fill-color);\n",
              "    }\n",
              "    30% {\n",
              "      border-color: transparent;\n",
              "      border-left-color: var(--fill-color);\n",
              "      border-top-color: var(--fill-color);\n",
              "      border-right-color: var(--fill-color);\n",
              "    }\n",
              "    40% {\n",
              "      border-color: transparent;\n",
              "      border-right-color: var(--fill-color);\n",
              "      border-top-color: var(--fill-color);\n",
              "    }\n",
              "    60% {\n",
              "      border-color: transparent;\n",
              "      border-right-color: var(--fill-color);\n",
              "    }\n",
              "    80% {\n",
              "      border-color: transparent;\n",
              "      border-right-color: var(--fill-color);\n",
              "      border-bottom-color: var(--fill-color);\n",
              "    }\n",
              "    90% {\n",
              "      border-color: transparent;\n",
              "      border-bottom-color: var(--fill-color);\n",
              "    }\n",
              "  }\n",
              "</style>\n",
              "\n",
              "  <script>\n",
              "    async function quickchart(key) {\n",
              "      const quickchartButtonEl =\n",
              "        document.querySelector('#' + key + ' button');\n",
              "      quickchartButtonEl.disabled = true;  // To prevent multiple clicks.\n",
              "      quickchartButtonEl.classList.add('colab-df-spinner');\n",
              "      try {\n",
              "        const charts = await google.colab.kernel.invokeFunction(\n",
              "            'suggestCharts', [key], {});\n",
              "      } catch (error) {\n",
              "        console.error('Error during call to suggestCharts:', error);\n",
              "      }\n",
              "      quickchartButtonEl.classList.remove('colab-df-spinner');\n",
              "      quickchartButtonEl.classList.add('colab-df-quickchart-complete');\n",
              "    }\n",
              "    (() => {\n",
              "      let quickchartButtonEl =\n",
              "        document.querySelector('#df-2600e25b-2a99-40de-b8a9-fde78b1e8f64 button');\n",
              "      quickchartButtonEl.style.display =\n",
              "        google.colab.kernel.accessAllowed ? 'block' : 'none';\n",
              "    })();\n",
              "  </script>\n",
              "</div>\n",
              "    </div>\n",
              "  </div>\n"
            ]
          },
          "metadata": {},
          "execution_count": 39
        }
      ],
      "source": [
        "data.groupby('exp_id').agg({'device_id_hash' : 'nunique'})"
      ]
    },
    {
      "cell_type": "markdown",
      "metadata": {
        "id": "C3Ler4j0cX_W"
      },
      "source": [
        "Во все три группы входит примерно одинаковые количество пользователей"
      ]
    },
    {
      "cell_type": "markdown",
      "metadata": {
        "id": "hMLxOKVEcX_W"
      },
      "source": [
        "Посмотрим процент пользователей, которые входят в обе группы"
      ]
    },
    {
      "cell_type": "code",
      "execution_count": 40,
      "metadata": {
        "colab": {
          "base_uri": "https://localhost:8080/"
        },
        "id": "iy7rrUR0cX_W",
        "outputId": "2d767220-8017-4d07-da32-f1c087ef50e3"
      },
      "outputs": [
        {
          "output_type": "execute_result",
          "data": {
            "text/plain": [
              "0.0"
            ]
          },
          "metadata": {},
          "execution_count": 40
        }
      ],
      "source": [
        "round(((data[['device_id_hash', 'exp_id']].drop_duplicates().drop(columns='exp_id').duplicated().sum())/data['device_id_hash'].nunique())*100, 2)"
      ]
    },
    {
      "cell_type": "markdown",
      "metadata": {
        "id": "l7DRsbQ5cX_X"
      },
      "source": [
        "Отлично, таких пользователей нет!\n",
        "\n",
        "Количество пользователей в группах приблизительно одинаковое, пользователи, состоящие в сразу нескольких группах, отсутсвуют, следовательно, разбиение на группы работает корректно."
      ]
    },
    {
      "cell_type": "markdown",
      "metadata": {
        "id": "tqZ6xKeEcX_X"
      },
      "source": [
        "**Выводы исследовательского анализа данных:**\n",
        "\n",
        "- Всего в логе 243 713 событий;\n",
        "- Чаще всего пользователи открывают главный экран и реже всего открывают обучение;\n",
        "- Всего в логе 7 551 пользователь;\n",
        "- В среднем на пользователя приходится 32 события;\n",
        "- Распределение не нормальное, имеется длинный хвост справа, медиана 20;\n",
        "- Наибольшее количество заказов приходится на 1-20 событий;\n",
        "- Количество событий, которые приходятся на даты раньше 1 августа 2019 чуть больше 1%;\n",
        "- Реальный период наших данных (после очистки) - c 2019-08-01 по 2019-08-07;\n",
        "- Пользователи, входящие в обе группы, отсутствуют;\n",
        "- Количество пользователей в группах приблизительно одинаковое;\n",
        "- Разбиение на группы работает корректно.."
      ]
    },
    {
      "cell_type": "markdown",
      "metadata": {
        "id": "8MWJOeIWcX_X"
      },
      "source": [
        "<a id=\"voronka\"></a>"
      ]
    },
    {
      "cell_type": "markdown",
      "metadata": {
        "id": "xHhIKDgmcX_X"
      },
      "source": [
        "# Изучение воронки продаж"
      ]
    },
    {
      "cell_type": "markdown",
      "metadata": {
        "id": "AmvU1bTfcX_X"
      },
      "source": [
        "<a id=\"events-col\"></a>"
      ]
    },
    {
      "cell_type": "markdown",
      "metadata": {
        "id": "wyUqWEp9cX_X"
      },
      "source": [
        "### События в логах и их частота"
      ]
    },
    {
      "cell_type": "markdown",
      "metadata": {
        "id": "Z-CWeFktcX_X"
      },
      "source": [
        "Для начала посмотрим какие события есть в логах и как часто они встречаются"
      ]
    },
    {
      "cell_type": "code",
      "execution_count": 41,
      "metadata": {
        "colab": {
          "base_uri": "https://localhost:8080/"
        },
        "id": "MN0K9mkCcX_X",
        "outputId": "2bc61b5c-8125-4171-97d7-581e3e453826"
      },
      "outputs": [
        {
          "output_type": "execute_result",
          "data": {
            "text/plain": [
              "array(['Tutorial', 'MainScreenAppear', 'OffersScreenAppear',\n",
              "       'CartScreenAppear', 'PaymentScreenSuccessful'], dtype=object)"
            ]
          },
          "metadata": {},
          "execution_count": 41
        }
      ],
      "source": [
        "data['event_name'].unique()"
      ]
    },
    {
      "cell_type": "code",
      "execution_count": 42,
      "metadata": {
        "colab": {
          "base_uri": "https://localhost:8080/"
        },
        "id": "9zIopYD1cX_X",
        "outputId": "08dd6462-7df3-4954-d83b-792c0b589e06"
      },
      "outputs": [
        {
          "output_type": "execute_result",
          "data": {
            "text/plain": [
              "MainScreenAppear           117328\n",
              "OffersScreenAppear          46333\n",
              "CartScreenAppear            42303\n",
              "PaymentScreenSuccessful     33918\n",
              "Tutorial                     1005\n",
              "Name: event_name, dtype: int64"
            ]
          },
          "metadata": {},
          "execution_count": 42
        }
      ],
      "source": [
        "#количество раз, когда каждое из событий встречается в логах\n",
        "\n",
        "data['event_name'].value_counts()"
      ]
    },
    {
      "cell_type": "markdown",
      "metadata": {
        "id": "WRBBXDRecX_Y"
      },
      "source": [
        "В данных содержится информация о следующих действиях пользователей мобильного приложения:\n",
        "\n",
        "- Появление главного экрана;\n",
        "- Появление экрана предложений;\n",
        "- Появление экрана корзины;\n",
        "- Появления экрана с успешной оплатой;\n",
        "- Обучение."
      ]
    },
    {
      "cell_type": "markdown",
      "metadata": {
        "id": "YqrItkBecX_Y"
      },
      "source": [
        "Чаще всего пользователи открывают главный экран (заглавную страницу) и реже всего открывают обучение, что совсем неудивительно."
      ]
    },
    {
      "cell_type": "markdown",
      "metadata": {
        "id": "z8eRBrTucX_Y"
      },
      "source": [
        "<a id=\"user-per-events\"></a>"
      ]
    },
    {
      "cell_type": "markdown",
      "metadata": {
        "id": "7UXe_WTEcX_Y"
      },
      "source": [
        "### Количество пользователей, совершавших событие"
      ]
    },
    {
      "cell_type": "markdown",
      "metadata": {
        "id": "qq9fO37NcX_Y"
      },
      "source": [
        "Посчитаем сколько пользователей совершали каждое из этих событий и долю пользователей, которые хоть раз совершали событие"
      ]
    },
    {
      "cell_type": "code",
      "execution_count": 43,
      "metadata": {
        "colab": {
          "base_uri": "https://localhost:8080/",
          "height": 237
        },
        "id": "IbnN-zlZcX_Y",
        "outputId": "5629f818-5ed5-4da5-dae5-f4fc8c89c7eb"
      },
      "outputs": [
        {
          "output_type": "execute_result",
          "data": {
            "text/plain": [
              "                         device_id_hash  percentage\n",
              "event_name                                         \n",
              "MainScreenAppear                   7419        98.5\n",
              "OffersScreenAppear                 4593        61.0\n",
              "CartScreenAppear                   3734        49.6\n",
              "PaymentScreenSuccessful            3539        47.0\n",
              "Tutorial                            840        11.1"
            ],
            "text/html": [
              "\n",
              "  <div id=\"df-282bcabd-340b-4c91-9020-96776685c637\" class=\"colab-df-container\">\n",
              "    <div>\n",
              "<style scoped>\n",
              "    .dataframe tbody tr th:only-of-type {\n",
              "        vertical-align: middle;\n",
              "    }\n",
              "\n",
              "    .dataframe tbody tr th {\n",
              "        vertical-align: top;\n",
              "    }\n",
              "\n",
              "    .dataframe thead th {\n",
              "        text-align: right;\n",
              "    }\n",
              "</style>\n",
              "<table border=\"1\" class=\"dataframe\">\n",
              "  <thead>\n",
              "    <tr style=\"text-align: right;\">\n",
              "      <th></th>\n",
              "      <th>device_id_hash</th>\n",
              "      <th>percentage</th>\n",
              "    </tr>\n",
              "    <tr>\n",
              "      <th>event_name</th>\n",
              "      <th></th>\n",
              "      <th></th>\n",
              "    </tr>\n",
              "  </thead>\n",
              "  <tbody>\n",
              "    <tr>\n",
              "      <th>MainScreenAppear</th>\n",
              "      <td>7419</td>\n",
              "      <td>98.5</td>\n",
              "    </tr>\n",
              "    <tr>\n",
              "      <th>OffersScreenAppear</th>\n",
              "      <td>4593</td>\n",
              "      <td>61.0</td>\n",
              "    </tr>\n",
              "    <tr>\n",
              "      <th>CartScreenAppear</th>\n",
              "      <td>3734</td>\n",
              "      <td>49.6</td>\n",
              "    </tr>\n",
              "    <tr>\n",
              "      <th>PaymentScreenSuccessful</th>\n",
              "      <td>3539</td>\n",
              "      <td>47.0</td>\n",
              "    </tr>\n",
              "    <tr>\n",
              "      <th>Tutorial</th>\n",
              "      <td>840</td>\n",
              "      <td>11.1</td>\n",
              "    </tr>\n",
              "  </tbody>\n",
              "</table>\n",
              "</div>\n",
              "    <div class=\"colab-df-buttons\">\n",
              "\n",
              "  <div class=\"colab-df-container\">\n",
              "    <button class=\"colab-df-convert\" onclick=\"convertToInteractive('df-282bcabd-340b-4c91-9020-96776685c637')\"\n",
              "            title=\"Convert this dataframe to an interactive table.\"\n",
              "            style=\"display:none;\">\n",
              "\n",
              "  <svg xmlns=\"http://www.w3.org/2000/svg\" height=\"24px\" viewBox=\"0 -960 960 960\">\n",
              "    <path d=\"M120-120v-720h720v720H120Zm60-500h600v-160H180v160Zm220 220h160v-160H400v160Zm0 220h160v-160H400v160ZM180-400h160v-160H180v160Zm440 0h160v-160H620v160ZM180-180h160v-160H180v160Zm440 0h160v-160H620v160Z\"/>\n",
              "  </svg>\n",
              "    </button>\n",
              "\n",
              "  <style>\n",
              "    .colab-df-container {\n",
              "      display:flex;\n",
              "      gap: 12px;\n",
              "    }\n",
              "\n",
              "    .colab-df-convert {\n",
              "      background-color: #E8F0FE;\n",
              "      border: none;\n",
              "      border-radius: 50%;\n",
              "      cursor: pointer;\n",
              "      display: none;\n",
              "      fill: #1967D2;\n",
              "      height: 32px;\n",
              "      padding: 0 0 0 0;\n",
              "      width: 32px;\n",
              "    }\n",
              "\n",
              "    .colab-df-convert:hover {\n",
              "      background-color: #E2EBFA;\n",
              "      box-shadow: 0px 1px 2px rgba(60, 64, 67, 0.3), 0px 1px 3px 1px rgba(60, 64, 67, 0.15);\n",
              "      fill: #174EA6;\n",
              "    }\n",
              "\n",
              "    .colab-df-buttons div {\n",
              "      margin-bottom: 4px;\n",
              "    }\n",
              "\n",
              "    [theme=dark] .colab-df-convert {\n",
              "      background-color: #3B4455;\n",
              "      fill: #D2E3FC;\n",
              "    }\n",
              "\n",
              "    [theme=dark] .colab-df-convert:hover {\n",
              "      background-color: #434B5C;\n",
              "      box-shadow: 0px 1px 3px 1px rgba(0, 0, 0, 0.15);\n",
              "      filter: drop-shadow(0px 1px 2px rgba(0, 0, 0, 0.3));\n",
              "      fill: #FFFFFF;\n",
              "    }\n",
              "  </style>\n",
              "\n",
              "    <script>\n",
              "      const buttonEl =\n",
              "        document.querySelector('#df-282bcabd-340b-4c91-9020-96776685c637 button.colab-df-convert');\n",
              "      buttonEl.style.display =\n",
              "        google.colab.kernel.accessAllowed ? 'block' : 'none';\n",
              "\n",
              "      async function convertToInteractive(key) {\n",
              "        const element = document.querySelector('#df-282bcabd-340b-4c91-9020-96776685c637');\n",
              "        const dataTable =\n",
              "          await google.colab.kernel.invokeFunction('convertToInteractive',\n",
              "                                                    [key], {});\n",
              "        if (!dataTable) return;\n",
              "\n",
              "        const docLinkHtml = 'Like what you see? Visit the ' +\n",
              "          '<a target=\"_blank\" href=https://colab.research.google.com/notebooks/data_table.ipynb>data table notebook</a>'\n",
              "          + ' to learn more about interactive tables.';\n",
              "        element.innerHTML = '';\n",
              "        dataTable['output_type'] = 'display_data';\n",
              "        await google.colab.output.renderOutput(dataTable, element);\n",
              "        const docLink = document.createElement('div');\n",
              "        docLink.innerHTML = docLinkHtml;\n",
              "        element.appendChild(docLink);\n",
              "      }\n",
              "    </script>\n",
              "  </div>\n",
              "\n",
              "\n",
              "<div id=\"df-7a0481f9-edf7-4e6e-8867-69ca747e7cb0\">\n",
              "  <button class=\"colab-df-quickchart\" onclick=\"quickchart('df-7a0481f9-edf7-4e6e-8867-69ca747e7cb0')\"\n",
              "            title=\"Suggest charts\"\n",
              "            style=\"display:none;\">\n",
              "\n",
              "<svg xmlns=\"http://www.w3.org/2000/svg\" height=\"24px\"viewBox=\"0 0 24 24\"\n",
              "     width=\"24px\">\n",
              "    <g>\n",
              "        <path d=\"M19 3H5c-1.1 0-2 .9-2 2v14c0 1.1.9 2 2 2h14c1.1 0 2-.9 2-2V5c0-1.1-.9-2-2-2zM9 17H7v-7h2v7zm4 0h-2V7h2v10zm4 0h-2v-4h2v4z\"/>\n",
              "    </g>\n",
              "</svg>\n",
              "  </button>\n",
              "\n",
              "<style>\n",
              "  .colab-df-quickchart {\n",
              "      --bg-color: #E8F0FE;\n",
              "      --fill-color: #1967D2;\n",
              "      --hover-bg-color: #E2EBFA;\n",
              "      --hover-fill-color: #174EA6;\n",
              "      --disabled-fill-color: #AAA;\n",
              "      --disabled-bg-color: #DDD;\n",
              "  }\n",
              "\n",
              "  [theme=dark] .colab-df-quickchart {\n",
              "      --bg-color: #3B4455;\n",
              "      --fill-color: #D2E3FC;\n",
              "      --hover-bg-color: #434B5C;\n",
              "      --hover-fill-color: #FFFFFF;\n",
              "      --disabled-bg-color: #3B4455;\n",
              "      --disabled-fill-color: #666;\n",
              "  }\n",
              "\n",
              "  .colab-df-quickchart {\n",
              "    background-color: var(--bg-color);\n",
              "    border: none;\n",
              "    border-radius: 50%;\n",
              "    cursor: pointer;\n",
              "    display: none;\n",
              "    fill: var(--fill-color);\n",
              "    height: 32px;\n",
              "    padding: 0;\n",
              "    width: 32px;\n",
              "  }\n",
              "\n",
              "  .colab-df-quickchart:hover {\n",
              "    background-color: var(--hover-bg-color);\n",
              "    box-shadow: 0 1px 2px rgba(60, 64, 67, 0.3), 0 1px 3px 1px rgba(60, 64, 67, 0.15);\n",
              "    fill: var(--button-hover-fill-color);\n",
              "  }\n",
              "\n",
              "  .colab-df-quickchart-complete:disabled,\n",
              "  .colab-df-quickchart-complete:disabled:hover {\n",
              "    background-color: var(--disabled-bg-color);\n",
              "    fill: var(--disabled-fill-color);\n",
              "    box-shadow: none;\n",
              "  }\n",
              "\n",
              "  .colab-df-spinner {\n",
              "    border: 2px solid var(--fill-color);\n",
              "    border-color: transparent;\n",
              "    border-bottom-color: var(--fill-color);\n",
              "    animation:\n",
              "      spin 1s steps(1) infinite;\n",
              "  }\n",
              "\n",
              "  @keyframes spin {\n",
              "    0% {\n",
              "      border-color: transparent;\n",
              "      border-bottom-color: var(--fill-color);\n",
              "      border-left-color: var(--fill-color);\n",
              "    }\n",
              "    20% {\n",
              "      border-color: transparent;\n",
              "      border-left-color: var(--fill-color);\n",
              "      border-top-color: var(--fill-color);\n",
              "    }\n",
              "    30% {\n",
              "      border-color: transparent;\n",
              "      border-left-color: var(--fill-color);\n",
              "      border-top-color: var(--fill-color);\n",
              "      border-right-color: var(--fill-color);\n",
              "    }\n",
              "    40% {\n",
              "      border-color: transparent;\n",
              "      border-right-color: var(--fill-color);\n",
              "      border-top-color: var(--fill-color);\n",
              "    }\n",
              "    60% {\n",
              "      border-color: transparent;\n",
              "      border-right-color: var(--fill-color);\n",
              "    }\n",
              "    80% {\n",
              "      border-color: transparent;\n",
              "      border-right-color: var(--fill-color);\n",
              "      border-bottom-color: var(--fill-color);\n",
              "    }\n",
              "    90% {\n",
              "      border-color: transparent;\n",
              "      border-bottom-color: var(--fill-color);\n",
              "    }\n",
              "  }\n",
              "</style>\n",
              "\n",
              "  <script>\n",
              "    async function quickchart(key) {\n",
              "      const quickchartButtonEl =\n",
              "        document.querySelector('#' + key + ' button');\n",
              "      quickchartButtonEl.disabled = true;  // To prevent multiple clicks.\n",
              "      quickchartButtonEl.classList.add('colab-df-spinner');\n",
              "      try {\n",
              "        const charts = await google.colab.kernel.invokeFunction(\n",
              "            'suggestCharts', [key], {});\n",
              "      } catch (error) {\n",
              "        console.error('Error during call to suggestCharts:', error);\n",
              "      }\n",
              "      quickchartButtonEl.classList.remove('colab-df-spinner');\n",
              "      quickchartButtonEl.classList.add('colab-df-quickchart-complete');\n",
              "    }\n",
              "    (() => {\n",
              "      let quickchartButtonEl =\n",
              "        document.querySelector('#df-7a0481f9-edf7-4e6e-8867-69ca747e7cb0 button');\n",
              "      quickchartButtonEl.style.display =\n",
              "        google.colab.kernel.accessAllowed ? 'block' : 'none';\n",
              "    })();\n",
              "  </script>\n",
              "</div>\n",
              "    </div>\n",
              "  </div>\n"
            ]
          },
          "metadata": {},
          "execution_count": 43
        }
      ],
      "source": [
        "event_stat = data.groupby('event_name').agg({'device_id_hash' : 'nunique'}).sort_values(by = 'device_id_hash', ascending = False)\n",
        "event_stat['percentage'] = round(event_stat['device_id_hash'] / data['device_id_hash'].nunique() * 100, 1)\n",
        "event_stat"
      ]
    },
    {
      "cell_type": "markdown",
      "metadata": {
        "id": "u3zEeC38cX_Y"
      },
      "source": [
        "Выводы:\n",
        "- Чуть больше 98% пользователей открывали главный экран;\n",
        "- 61% пользователей переходили на экран предложений;\n",
        "- Почти 50% пользователей открывали корзину;\n",
        "- 47% пользователей оплачивали заказ;\n",
        "- Только 11% пользователей переходили на обучение."
      ]
    },
    {
      "cell_type": "markdown",
      "metadata": {
        "id": "NJ7k9pBmcX_Z"
      },
      "source": [
        "<a id=\"voronkaind\"></a>"
      ]
    },
    {
      "cell_type": "markdown",
      "metadata": {
        "id": "_WcS_92ocX_Z"
      },
      "source": [
        "### Воронка"
      ]
    },
    {
      "cell_type": "markdown",
      "metadata": {
        "id": "hznd4aadcX_Z"
      },
      "source": [
        "Посмотрим в каком порядке происходят события"
      ]
    },
    {
      "cell_type": "markdown",
      "metadata": {
        "id": "miPKxk0icX_Z"
      },
      "source": [
        "Порядок событий:\n",
        "\n",
        "1) Появление главного экрана;\n",
        "\n",
        "2) Появление экрана предложений;\n",
        "\n",
        "3) Появление экрана корзины;\n",
        "\n",
        "4) Появления экрана с успешной оплатой.\n",
        "\n",
        "Прохождение обучения не входит в цепочку действий пользователей приложения для совершения покупки, поэтому при расчете воронки событий \"Обучение\" учитывать не будем."
      ]
    },
    {
      "cell_type": "markdown",
      "metadata": {
        "id": "n0qLfu7jcX_Z"
      },
      "source": [
        "Исключим обучение:"
      ]
    },
    {
      "cell_type": "code",
      "execution_count": 44,
      "metadata": {
        "id": "TlzGplqqcX_Z"
      },
      "outputs": [],
      "source": [
        "#исключение обучения из таблицы\n",
        "\n",
        "event_stat.drop('Tutorial', axis = 0, inplace = True)"
      ]
    },
    {
      "cell_type": "markdown",
      "metadata": {
        "id": "cBqNQW4KcX_a"
      },
      "source": [
        "Посчитаем какая доля пользователей проходит на следующий шаг воронки (от числа пользователей на предыдущем)"
      ]
    },
    {
      "cell_type": "code",
      "execution_count": 45,
      "metadata": {
        "colab": {
          "base_uri": "https://localhost:8080/",
          "height": 206
        },
        "id": "40E6lx1JcX_a",
        "outputId": "30e2e589-baec-4a2c-b433-34419b83ad69"
      },
      "outputs": [
        {
          "output_type": "execute_result",
          "data": {
            "text/plain": [
              "                         device_id_hash  percentage  conversion\n",
              "event_name                                                     \n",
              "MainScreenAppear                   7419        98.5         inf\n",
              "OffersScreenAppear                 4593        61.0        61.9\n",
              "CartScreenAppear                   3734        49.6        81.3\n",
              "PaymentScreenSuccessful            3539        47.0        94.8"
            ],
            "text/html": [
              "\n",
              "  <div id=\"df-581c9864-9ac3-4b6f-9352-bbc306eae7e0\" class=\"colab-df-container\">\n",
              "    <div>\n",
              "<style scoped>\n",
              "    .dataframe tbody tr th:only-of-type {\n",
              "        vertical-align: middle;\n",
              "    }\n",
              "\n",
              "    .dataframe tbody tr th {\n",
              "        vertical-align: top;\n",
              "    }\n",
              "\n",
              "    .dataframe thead th {\n",
              "        text-align: right;\n",
              "    }\n",
              "</style>\n",
              "<table border=\"1\" class=\"dataframe\">\n",
              "  <thead>\n",
              "    <tr style=\"text-align: right;\">\n",
              "      <th></th>\n",
              "      <th>device_id_hash</th>\n",
              "      <th>percentage</th>\n",
              "      <th>conversion</th>\n",
              "    </tr>\n",
              "    <tr>\n",
              "      <th>event_name</th>\n",
              "      <th></th>\n",
              "      <th></th>\n",
              "      <th></th>\n",
              "    </tr>\n",
              "  </thead>\n",
              "  <tbody>\n",
              "    <tr>\n",
              "      <th>MainScreenAppear</th>\n",
              "      <td>7419</td>\n",
              "      <td>98.5</td>\n",
              "      <td>inf</td>\n",
              "    </tr>\n",
              "    <tr>\n",
              "      <th>OffersScreenAppear</th>\n",
              "      <td>4593</td>\n",
              "      <td>61.0</td>\n",
              "      <td>61.9</td>\n",
              "    </tr>\n",
              "    <tr>\n",
              "      <th>CartScreenAppear</th>\n",
              "      <td>3734</td>\n",
              "      <td>49.6</td>\n",
              "      <td>81.3</td>\n",
              "    </tr>\n",
              "    <tr>\n",
              "      <th>PaymentScreenSuccessful</th>\n",
              "      <td>3539</td>\n",
              "      <td>47.0</td>\n",
              "      <td>94.8</td>\n",
              "    </tr>\n",
              "  </tbody>\n",
              "</table>\n",
              "</div>\n",
              "    <div class=\"colab-df-buttons\">\n",
              "\n",
              "  <div class=\"colab-df-container\">\n",
              "    <button class=\"colab-df-convert\" onclick=\"convertToInteractive('df-581c9864-9ac3-4b6f-9352-bbc306eae7e0')\"\n",
              "            title=\"Convert this dataframe to an interactive table.\"\n",
              "            style=\"display:none;\">\n",
              "\n",
              "  <svg xmlns=\"http://www.w3.org/2000/svg\" height=\"24px\" viewBox=\"0 -960 960 960\">\n",
              "    <path d=\"M120-120v-720h720v720H120Zm60-500h600v-160H180v160Zm220 220h160v-160H400v160Zm0 220h160v-160H400v160ZM180-400h160v-160H180v160Zm440 0h160v-160H620v160ZM180-180h160v-160H180v160Zm440 0h160v-160H620v160Z\"/>\n",
              "  </svg>\n",
              "    </button>\n",
              "\n",
              "  <style>\n",
              "    .colab-df-container {\n",
              "      display:flex;\n",
              "      gap: 12px;\n",
              "    }\n",
              "\n",
              "    .colab-df-convert {\n",
              "      background-color: #E8F0FE;\n",
              "      border: none;\n",
              "      border-radius: 50%;\n",
              "      cursor: pointer;\n",
              "      display: none;\n",
              "      fill: #1967D2;\n",
              "      height: 32px;\n",
              "      padding: 0 0 0 0;\n",
              "      width: 32px;\n",
              "    }\n",
              "\n",
              "    .colab-df-convert:hover {\n",
              "      background-color: #E2EBFA;\n",
              "      box-shadow: 0px 1px 2px rgba(60, 64, 67, 0.3), 0px 1px 3px 1px rgba(60, 64, 67, 0.15);\n",
              "      fill: #174EA6;\n",
              "    }\n",
              "\n",
              "    .colab-df-buttons div {\n",
              "      margin-bottom: 4px;\n",
              "    }\n",
              "\n",
              "    [theme=dark] .colab-df-convert {\n",
              "      background-color: #3B4455;\n",
              "      fill: #D2E3FC;\n",
              "    }\n",
              "\n",
              "    [theme=dark] .colab-df-convert:hover {\n",
              "      background-color: #434B5C;\n",
              "      box-shadow: 0px 1px 3px 1px rgba(0, 0, 0, 0.15);\n",
              "      filter: drop-shadow(0px 1px 2px rgba(0, 0, 0, 0.3));\n",
              "      fill: #FFFFFF;\n",
              "    }\n",
              "  </style>\n",
              "\n",
              "    <script>\n",
              "      const buttonEl =\n",
              "        document.querySelector('#df-581c9864-9ac3-4b6f-9352-bbc306eae7e0 button.colab-df-convert');\n",
              "      buttonEl.style.display =\n",
              "        google.colab.kernel.accessAllowed ? 'block' : 'none';\n",
              "\n",
              "      async function convertToInteractive(key) {\n",
              "        const element = document.querySelector('#df-581c9864-9ac3-4b6f-9352-bbc306eae7e0');\n",
              "        const dataTable =\n",
              "          await google.colab.kernel.invokeFunction('convertToInteractive',\n",
              "                                                    [key], {});\n",
              "        if (!dataTable) return;\n",
              "\n",
              "        const docLinkHtml = 'Like what you see? Visit the ' +\n",
              "          '<a target=\"_blank\" href=https://colab.research.google.com/notebooks/data_table.ipynb>data table notebook</a>'\n",
              "          + ' to learn more about interactive tables.';\n",
              "        element.innerHTML = '';\n",
              "        dataTable['output_type'] = 'display_data';\n",
              "        await google.colab.output.renderOutput(dataTable, element);\n",
              "        const docLink = document.createElement('div');\n",
              "        docLink.innerHTML = docLinkHtml;\n",
              "        element.appendChild(docLink);\n",
              "      }\n",
              "    </script>\n",
              "  </div>\n",
              "\n",
              "\n",
              "<div id=\"df-2c9e0dbc-31fc-4132-b8c1-baa4a4f23697\">\n",
              "  <button class=\"colab-df-quickchart\" onclick=\"quickchart('df-2c9e0dbc-31fc-4132-b8c1-baa4a4f23697')\"\n",
              "            title=\"Suggest charts\"\n",
              "            style=\"display:none;\">\n",
              "\n",
              "<svg xmlns=\"http://www.w3.org/2000/svg\" height=\"24px\"viewBox=\"0 0 24 24\"\n",
              "     width=\"24px\">\n",
              "    <g>\n",
              "        <path d=\"M19 3H5c-1.1 0-2 .9-2 2v14c0 1.1.9 2 2 2h14c1.1 0 2-.9 2-2V5c0-1.1-.9-2-2-2zM9 17H7v-7h2v7zm4 0h-2V7h2v10zm4 0h-2v-4h2v4z\"/>\n",
              "    </g>\n",
              "</svg>\n",
              "  </button>\n",
              "\n",
              "<style>\n",
              "  .colab-df-quickchart {\n",
              "      --bg-color: #E8F0FE;\n",
              "      --fill-color: #1967D2;\n",
              "      --hover-bg-color: #E2EBFA;\n",
              "      --hover-fill-color: #174EA6;\n",
              "      --disabled-fill-color: #AAA;\n",
              "      --disabled-bg-color: #DDD;\n",
              "  }\n",
              "\n",
              "  [theme=dark] .colab-df-quickchart {\n",
              "      --bg-color: #3B4455;\n",
              "      --fill-color: #D2E3FC;\n",
              "      --hover-bg-color: #434B5C;\n",
              "      --hover-fill-color: #FFFFFF;\n",
              "      --disabled-bg-color: #3B4455;\n",
              "      --disabled-fill-color: #666;\n",
              "  }\n",
              "\n",
              "  .colab-df-quickchart {\n",
              "    background-color: var(--bg-color);\n",
              "    border: none;\n",
              "    border-radius: 50%;\n",
              "    cursor: pointer;\n",
              "    display: none;\n",
              "    fill: var(--fill-color);\n",
              "    height: 32px;\n",
              "    padding: 0;\n",
              "    width: 32px;\n",
              "  }\n",
              "\n",
              "  .colab-df-quickchart:hover {\n",
              "    background-color: var(--hover-bg-color);\n",
              "    box-shadow: 0 1px 2px rgba(60, 64, 67, 0.3), 0 1px 3px 1px rgba(60, 64, 67, 0.15);\n",
              "    fill: var(--button-hover-fill-color);\n",
              "  }\n",
              "\n",
              "  .colab-df-quickchart-complete:disabled,\n",
              "  .colab-df-quickchart-complete:disabled:hover {\n",
              "    background-color: var(--disabled-bg-color);\n",
              "    fill: var(--disabled-fill-color);\n",
              "    box-shadow: none;\n",
              "  }\n",
              "\n",
              "  .colab-df-spinner {\n",
              "    border: 2px solid var(--fill-color);\n",
              "    border-color: transparent;\n",
              "    border-bottom-color: var(--fill-color);\n",
              "    animation:\n",
              "      spin 1s steps(1) infinite;\n",
              "  }\n",
              "\n",
              "  @keyframes spin {\n",
              "    0% {\n",
              "      border-color: transparent;\n",
              "      border-bottom-color: var(--fill-color);\n",
              "      border-left-color: var(--fill-color);\n",
              "    }\n",
              "    20% {\n",
              "      border-color: transparent;\n",
              "      border-left-color: var(--fill-color);\n",
              "      border-top-color: var(--fill-color);\n",
              "    }\n",
              "    30% {\n",
              "      border-color: transparent;\n",
              "      border-left-color: var(--fill-color);\n",
              "      border-top-color: var(--fill-color);\n",
              "      border-right-color: var(--fill-color);\n",
              "    }\n",
              "    40% {\n",
              "      border-color: transparent;\n",
              "      border-right-color: var(--fill-color);\n",
              "      border-top-color: var(--fill-color);\n",
              "    }\n",
              "    60% {\n",
              "      border-color: transparent;\n",
              "      border-right-color: var(--fill-color);\n",
              "    }\n",
              "    80% {\n",
              "      border-color: transparent;\n",
              "      border-right-color: var(--fill-color);\n",
              "      border-bottom-color: var(--fill-color);\n",
              "    }\n",
              "    90% {\n",
              "      border-color: transparent;\n",
              "      border-bottom-color: var(--fill-color);\n",
              "    }\n",
              "  }\n",
              "</style>\n",
              "\n",
              "  <script>\n",
              "    async function quickchart(key) {\n",
              "      const quickchartButtonEl =\n",
              "        document.querySelector('#' + key + ' button');\n",
              "      quickchartButtonEl.disabled = true;  // To prevent multiple clicks.\n",
              "      quickchartButtonEl.classList.add('colab-df-spinner');\n",
              "      try {\n",
              "        const charts = await google.colab.kernel.invokeFunction(\n",
              "            'suggestCharts', [key], {});\n",
              "      } catch (error) {\n",
              "        console.error('Error during call to suggestCharts:', error);\n",
              "      }\n",
              "      quickchartButtonEl.classList.remove('colab-df-spinner');\n",
              "      quickchartButtonEl.classList.add('colab-df-quickchart-complete');\n",
              "    }\n",
              "    (() => {\n",
              "      let quickchartButtonEl =\n",
              "        document.querySelector('#df-2c9e0dbc-31fc-4132-b8c1-baa4a4f23697 button');\n",
              "      quickchartButtonEl.style.display =\n",
              "        google.colab.kernel.accessAllowed ? 'block' : 'none';\n",
              "    })();\n",
              "  </script>\n",
              "</div>\n",
              "    </div>\n",
              "  </div>\n"
            ]
          },
          "metadata": {},
          "execution_count": 45
        }
      ],
      "source": [
        "event_stat['conversion'] = round(event_stat['device_id_hash'] / event_stat['device_id_hash'].shift(fill_value=0) * 100, 1)\n",
        "event_stat"
      ]
    },
    {
      "cell_type": "markdown",
      "metadata": {
        "id": "oREoOKqqcX_a"
      },
      "source": [
        "Больше всего пользователей теряется при переходе с главного экрана на экран предложений."
      ]
    },
    {
      "cell_type": "markdown",
      "metadata": {
        "id": "RBmSb9vacX_a"
      },
      "source": [
        "Выводы:\n",
        "- С главного экрана на экран предложений переходит почти 62% пользователей;\n",
        "- С экрана предложений на экран корзины переходит чуть больше 81% пользователей;\n",
        "- С экрана корзины на экран успешной оплаты переходит почти 95% пользователей."
      ]
    },
    {
      "cell_type": "markdown",
      "metadata": {
        "id": "__MwkAe3cX_a"
      },
      "source": [
        "Посмотрим какая доля пользователей доходит от первого события до оплаты"
      ]
    },
    {
      "cell_type": "code",
      "execution_count": 46,
      "metadata": {
        "colab": {
          "base_uri": "https://localhost:8080/"
        },
        "id": "QluWOKY8cX_a",
        "outputId": "fb37c3c5-abb6-42e6-f73c-8046c33efc4b"
      },
      "outputs": [
        {
          "output_type": "stream",
          "name": "stdout",
          "text": [
            "От первого события до оплаты доходят 48% пользователей\n"
          ]
        }
      ],
      "source": [
        "print('От первого события до оплаты доходят {0}% пользователей'.format(round(event_stat['device_id_hash'][3] / event_stat['device_id_hash'][0] * 100)))"
      ]
    },
    {
      "cell_type": "markdown",
      "metadata": {
        "id": "vd7og494cX_b"
      },
      "source": [
        "Добавим визуализацию воронки"
      ]
    },
    {
      "cell_type": "code",
      "execution_count": 47,
      "metadata": {
        "colab": {
          "base_uri": "https://localhost:8080/",
          "height": 542
        },
        "id": "7QGPupskcX_b",
        "outputId": "d157ccf7-1bb7-4a1a-b96a-4dc8f559248d"
      },
      "outputs": [
        {
          "output_type": "display_data",
          "data": {
            "text/html": [
              "<html>\n",
              "<head><meta charset=\"utf-8\" /></head>\n",
              "<body>\n",
              "    <div>            <script src=\"https://cdnjs.cloudflare.com/ajax/libs/mathjax/2.7.5/MathJax.js?config=TeX-AMS-MML_SVG\"></script><script type=\"text/javascript\">if (window.MathJax && window.MathJax.Hub && window.MathJax.Hub.Config) {window.MathJax.Hub.Config({SVG: {font: \"STIX-Web\"}});}</script>                <script type=\"text/javascript\">window.PlotlyConfig = {MathJaxConfig: 'local'};</script>\n",
              "        <script charset=\"utf-8\" src=\"https://cdn.plot.ly/plotly-2.24.1.min.js\"></script>                <div id=\"715b9843-e06f-4c45-b5db-c9c486aaef87\" class=\"plotly-graph-div\" style=\"height:525px; width:100%;\"></div>            <script type=\"text/javascript\">                                    window.PLOTLYENV=window.PLOTLYENV || {};                                    if (document.getElementById(\"715b9843-e06f-4c45-b5db-c9c486aaef87\")) {                    Plotly.newPlot(                        \"715b9843-e06f-4c45-b5db-c9c486aaef87\",                        [{\"hovertemplate\":\"number=%{x}\\u003cbr\\u003estage=%{y}\\u003cextra\\u003e\\u003c\\u002fextra\\u003e\",\"legendgroup\":\"\",\"marker\":{\"color\":\"#636efa\"},\"name\":\"\",\"orientation\":\"h\",\"showlegend\":false,\"x\":[7419,4593,3734,3539],\"xaxis\":\"x\",\"y\":[\"MainScreenAppear\",\"OffersScreenAppear\",\"CartScreenAppear\",\"PaymentScreenSuccessful\"],\"yaxis\":\"y\",\"type\":\"funnel\"}],                        {\"template\":{\"data\":{\"histogram2dcontour\":[{\"type\":\"histogram2dcontour\",\"colorbar\":{\"outlinewidth\":0,\"ticks\":\"\"},\"colorscale\":[[0.0,\"#0d0887\"],[0.1111111111111111,\"#46039f\"],[0.2222222222222222,\"#7201a8\"],[0.3333333333333333,\"#9c179e\"],[0.4444444444444444,\"#bd3786\"],[0.5555555555555556,\"#d8576b\"],[0.6666666666666666,\"#ed7953\"],[0.7777777777777778,\"#fb9f3a\"],[0.8888888888888888,\"#fdca26\"],[1.0,\"#f0f921\"]]}],\"choropleth\":[{\"type\":\"choropleth\",\"colorbar\":{\"outlinewidth\":0,\"ticks\":\"\"}}],\"histogram2d\":[{\"type\":\"histogram2d\",\"colorbar\":{\"outlinewidth\":0,\"ticks\":\"\"},\"colorscale\":[[0.0,\"#0d0887\"],[0.1111111111111111,\"#46039f\"],[0.2222222222222222,\"#7201a8\"],[0.3333333333333333,\"#9c179e\"],[0.4444444444444444,\"#bd3786\"],[0.5555555555555556,\"#d8576b\"],[0.6666666666666666,\"#ed7953\"],[0.7777777777777778,\"#fb9f3a\"],[0.8888888888888888,\"#fdca26\"],[1.0,\"#f0f921\"]]}],\"heatmap\":[{\"type\":\"heatmap\",\"colorbar\":{\"outlinewidth\":0,\"ticks\":\"\"},\"colorscale\":[[0.0,\"#0d0887\"],[0.1111111111111111,\"#46039f\"],[0.2222222222222222,\"#7201a8\"],[0.3333333333333333,\"#9c179e\"],[0.4444444444444444,\"#bd3786\"],[0.5555555555555556,\"#d8576b\"],[0.6666666666666666,\"#ed7953\"],[0.7777777777777778,\"#fb9f3a\"],[0.8888888888888888,\"#fdca26\"],[1.0,\"#f0f921\"]]}],\"heatmapgl\":[{\"type\":\"heatmapgl\",\"colorbar\":{\"outlinewidth\":0,\"ticks\":\"\"},\"colorscale\":[[0.0,\"#0d0887\"],[0.1111111111111111,\"#46039f\"],[0.2222222222222222,\"#7201a8\"],[0.3333333333333333,\"#9c179e\"],[0.4444444444444444,\"#bd3786\"],[0.5555555555555556,\"#d8576b\"],[0.6666666666666666,\"#ed7953\"],[0.7777777777777778,\"#fb9f3a\"],[0.8888888888888888,\"#fdca26\"],[1.0,\"#f0f921\"]]}],\"contourcarpet\":[{\"type\":\"contourcarpet\",\"colorbar\":{\"outlinewidth\":0,\"ticks\":\"\"}}],\"contour\":[{\"type\":\"contour\",\"colorbar\":{\"outlinewidth\":0,\"ticks\":\"\"},\"colorscale\":[[0.0,\"#0d0887\"],[0.1111111111111111,\"#46039f\"],[0.2222222222222222,\"#7201a8\"],[0.3333333333333333,\"#9c179e\"],[0.4444444444444444,\"#bd3786\"],[0.5555555555555556,\"#d8576b\"],[0.6666666666666666,\"#ed7953\"],[0.7777777777777778,\"#fb9f3a\"],[0.8888888888888888,\"#fdca26\"],[1.0,\"#f0f921\"]]}],\"surface\":[{\"type\":\"surface\",\"colorbar\":{\"outlinewidth\":0,\"ticks\":\"\"},\"colorscale\":[[0.0,\"#0d0887\"],[0.1111111111111111,\"#46039f\"],[0.2222222222222222,\"#7201a8\"],[0.3333333333333333,\"#9c179e\"],[0.4444444444444444,\"#bd3786\"],[0.5555555555555556,\"#d8576b\"],[0.6666666666666666,\"#ed7953\"],[0.7777777777777778,\"#fb9f3a\"],[0.8888888888888888,\"#fdca26\"],[1.0,\"#f0f921\"]]}],\"mesh3d\":[{\"type\":\"mesh3d\",\"colorbar\":{\"outlinewidth\":0,\"ticks\":\"\"}}],\"scatter\":[{\"fillpattern\":{\"fillmode\":\"overlay\",\"size\":10,\"solidity\":0.2},\"type\":\"scatter\"}],\"parcoords\":[{\"type\":\"parcoords\",\"line\":{\"colorbar\":{\"outlinewidth\":0,\"ticks\":\"\"}}}],\"scatterpolargl\":[{\"type\":\"scatterpolargl\",\"marker\":{\"colorbar\":{\"outlinewidth\":0,\"ticks\":\"\"}}}],\"bar\":[{\"error_x\":{\"color\":\"#2a3f5f\"},\"error_y\":{\"color\":\"#2a3f5f\"},\"marker\":{\"line\":{\"color\":\"#E5ECF6\",\"width\":0.5},\"pattern\":{\"fillmode\":\"overlay\",\"size\":10,\"solidity\":0.2}},\"type\":\"bar\"}],\"scattergeo\":[{\"type\":\"scattergeo\",\"marker\":{\"colorbar\":{\"outlinewidth\":0,\"ticks\":\"\"}}}],\"scatterpolar\":[{\"type\":\"scatterpolar\",\"marker\":{\"colorbar\":{\"outlinewidth\":0,\"ticks\":\"\"}}}],\"histogram\":[{\"marker\":{\"pattern\":{\"fillmode\":\"overlay\",\"size\":10,\"solidity\":0.2}},\"type\":\"histogram\"}],\"scattergl\":[{\"type\":\"scattergl\",\"marker\":{\"colorbar\":{\"outlinewidth\":0,\"ticks\":\"\"}}}],\"scatter3d\":[{\"type\":\"scatter3d\",\"line\":{\"colorbar\":{\"outlinewidth\":0,\"ticks\":\"\"}},\"marker\":{\"colorbar\":{\"outlinewidth\":0,\"ticks\":\"\"}}}],\"scattermapbox\":[{\"type\":\"scattermapbox\",\"marker\":{\"colorbar\":{\"outlinewidth\":0,\"ticks\":\"\"}}}],\"scatterternary\":[{\"type\":\"scatterternary\",\"marker\":{\"colorbar\":{\"outlinewidth\":0,\"ticks\":\"\"}}}],\"scattercarpet\":[{\"type\":\"scattercarpet\",\"marker\":{\"colorbar\":{\"outlinewidth\":0,\"ticks\":\"\"}}}],\"carpet\":[{\"aaxis\":{\"endlinecolor\":\"#2a3f5f\",\"gridcolor\":\"white\",\"linecolor\":\"white\",\"minorgridcolor\":\"white\",\"startlinecolor\":\"#2a3f5f\"},\"baxis\":{\"endlinecolor\":\"#2a3f5f\",\"gridcolor\":\"white\",\"linecolor\":\"white\",\"minorgridcolor\":\"white\",\"startlinecolor\":\"#2a3f5f\"},\"type\":\"carpet\"}],\"table\":[{\"cells\":{\"fill\":{\"color\":\"#EBF0F8\"},\"line\":{\"color\":\"white\"}},\"header\":{\"fill\":{\"color\":\"#C8D4E3\"},\"line\":{\"color\":\"white\"}},\"type\":\"table\"}],\"barpolar\":[{\"marker\":{\"line\":{\"color\":\"#E5ECF6\",\"width\":0.5},\"pattern\":{\"fillmode\":\"overlay\",\"size\":10,\"solidity\":0.2}},\"type\":\"barpolar\"}],\"pie\":[{\"automargin\":true,\"type\":\"pie\"}]},\"layout\":{\"autotypenumbers\":\"strict\",\"colorway\":[\"#636efa\",\"#EF553B\",\"#00cc96\",\"#ab63fa\",\"#FFA15A\",\"#19d3f3\",\"#FF6692\",\"#B6E880\",\"#FF97FF\",\"#FECB52\"],\"font\":{\"color\":\"#2a3f5f\"},\"hovermode\":\"closest\",\"hoverlabel\":{\"align\":\"left\"},\"paper_bgcolor\":\"white\",\"plot_bgcolor\":\"#E5ECF6\",\"polar\":{\"bgcolor\":\"#E5ECF6\",\"angularaxis\":{\"gridcolor\":\"white\",\"linecolor\":\"white\",\"ticks\":\"\"},\"radialaxis\":{\"gridcolor\":\"white\",\"linecolor\":\"white\",\"ticks\":\"\"}},\"ternary\":{\"bgcolor\":\"#E5ECF6\",\"aaxis\":{\"gridcolor\":\"white\",\"linecolor\":\"white\",\"ticks\":\"\"},\"baxis\":{\"gridcolor\":\"white\",\"linecolor\":\"white\",\"ticks\":\"\"},\"caxis\":{\"gridcolor\":\"white\",\"linecolor\":\"white\",\"ticks\":\"\"}},\"coloraxis\":{\"colorbar\":{\"outlinewidth\":0,\"ticks\":\"\"}},\"colorscale\":{\"sequential\":[[0.0,\"#0d0887\"],[0.1111111111111111,\"#46039f\"],[0.2222222222222222,\"#7201a8\"],[0.3333333333333333,\"#9c179e\"],[0.4444444444444444,\"#bd3786\"],[0.5555555555555556,\"#d8576b\"],[0.6666666666666666,\"#ed7953\"],[0.7777777777777778,\"#fb9f3a\"],[0.8888888888888888,\"#fdca26\"],[1.0,\"#f0f921\"]],\"sequentialminus\":[[0.0,\"#0d0887\"],[0.1111111111111111,\"#46039f\"],[0.2222222222222222,\"#7201a8\"],[0.3333333333333333,\"#9c179e\"],[0.4444444444444444,\"#bd3786\"],[0.5555555555555556,\"#d8576b\"],[0.6666666666666666,\"#ed7953\"],[0.7777777777777778,\"#fb9f3a\"],[0.8888888888888888,\"#fdca26\"],[1.0,\"#f0f921\"]],\"diverging\":[[0,\"#8e0152\"],[0.1,\"#c51b7d\"],[0.2,\"#de77ae\"],[0.3,\"#f1b6da\"],[0.4,\"#fde0ef\"],[0.5,\"#f7f7f7\"],[0.6,\"#e6f5d0\"],[0.7,\"#b8e186\"],[0.8,\"#7fbc41\"],[0.9,\"#4d9221\"],[1,\"#276419\"]]},\"xaxis\":{\"gridcolor\":\"white\",\"linecolor\":\"white\",\"ticks\":\"\",\"title\":{\"standoff\":15},\"zerolinecolor\":\"white\",\"automargin\":true,\"zerolinewidth\":2},\"yaxis\":{\"gridcolor\":\"white\",\"linecolor\":\"white\",\"ticks\":\"\",\"title\":{\"standoff\":15},\"zerolinecolor\":\"white\",\"automargin\":true,\"zerolinewidth\":2},\"scene\":{\"xaxis\":{\"backgroundcolor\":\"#E5ECF6\",\"gridcolor\":\"white\",\"linecolor\":\"white\",\"showbackground\":true,\"ticks\":\"\",\"zerolinecolor\":\"white\",\"gridwidth\":2},\"yaxis\":{\"backgroundcolor\":\"#E5ECF6\",\"gridcolor\":\"white\",\"linecolor\":\"white\",\"showbackground\":true,\"ticks\":\"\",\"zerolinecolor\":\"white\",\"gridwidth\":2},\"zaxis\":{\"backgroundcolor\":\"#E5ECF6\",\"gridcolor\":\"white\",\"linecolor\":\"white\",\"showbackground\":true,\"ticks\":\"\",\"zerolinecolor\":\"white\",\"gridwidth\":2}},\"shapedefaults\":{\"line\":{\"color\":\"#2a3f5f\"}},\"annotationdefaults\":{\"arrowcolor\":\"#2a3f5f\",\"arrowhead\":0,\"arrowwidth\":1},\"geo\":{\"bgcolor\":\"white\",\"landcolor\":\"#E5ECF6\",\"subunitcolor\":\"white\",\"showland\":true,\"showlakes\":true,\"lakecolor\":\"white\"},\"title\":{\"x\":0.05},\"mapbox\":{\"style\":\"light\"}}},\"xaxis\":{\"anchor\":\"y\",\"domain\":[0.0,1.0],\"title\":{\"text\":\"number\"}},\"yaxis\":{\"anchor\":\"x\",\"domain\":[0.0,1.0],\"title\":{\"text\":\"stage\"}},\"legend\":{\"tracegroupgap\":0},\"margin\":{\"t\":60}},                        {\"responsive\": true}                    ).then(function(){\n",
              "                            \n",
              "var gd = document.getElementById('715b9843-e06f-4c45-b5db-c9c486aaef87');\n",
              "var x = new MutationObserver(function (mutations, observer) {{\n",
              "        var display = window.getComputedStyle(gd).display;\n",
              "        if (!display || display === 'none') {{\n",
              "            console.log([gd, 'removed!']);\n",
              "            Plotly.purge(gd);\n",
              "            observer.disconnect();\n",
              "        }}\n",
              "}});\n",
              "\n",
              "// Listen for the removal of the full notebook cells\n",
              "var notebookContainer = gd.closest('#notebook-container');\n",
              "if (notebookContainer) {{\n",
              "    x.observe(notebookContainer, {childList: true});\n",
              "}}\n",
              "\n",
              "// Listen for the clearing of the current output cell\n",
              "var outputEl = gd.closest('.output');\n",
              "if (outputEl) {{\n",
              "    x.observe(outputEl, {childList: true});\n",
              "}}\n",
              "\n",
              "                        })                };                            </script>        </div>\n",
              "</body>\n",
              "</html>"
            ]
          },
          "metadata": {}
        }
      ],
      "source": [
        "#визуализация воронки событий\n",
        "\n",
        "import plotly.express as px\n",
        "data_plot = dict(\n",
        "    number=event_stat['device_id_hash'],\n",
        "    stage=[\"MainScreenAppear\", \"OffersScreenAppear\", \"CartScreenAppear\", \"PaymentScreenSuccessful\"])\n",
        "fig = px.funnel(data_plot, x='number', y='stage')\n",
        "fig.show()"
      ]
    },
    {
      "cell_type": "markdown",
      "metadata": {
        "id": "sKZFPQ9rcX_b"
      },
      "source": [
        "<a id=\"stat\"></a>"
      ]
    },
    {
      "cell_type": "markdown",
      "metadata": {
        "id": "xly-mqtVcX_b"
      },
      "source": [
        "# Статистический анализ данных"
      ]
    },
    {
      "cell_type": "markdown",
      "metadata": {
        "id": "UMMder9tcX_b"
      },
      "source": [
        "<a id=\"user-per-group\"></a>"
      ]
    },
    {
      "cell_type": "markdown",
      "metadata": {
        "id": "rtV-1LqvcX_c"
      },
      "source": [
        "### Пользователи в каждой экспериментальной группе"
      ]
    },
    {
      "cell_type": "markdown",
      "metadata": {
        "id": "lkvjamF3cX_c"
      },
      "source": [
        "Посмотрим сколько пользователей в каждой экспериментальной группе"
      ]
    },
    {
      "cell_type": "code",
      "execution_count": 48,
      "metadata": {
        "colab": {
          "base_uri": "https://localhost:8080/",
          "height": 175
        },
        "id": "5C2gg6UmcX_c",
        "outputId": "7417f8a2-4022-43e6-ca99-f96f4b43bcaa"
      },
      "outputs": [
        {
          "output_type": "execute_result",
          "data": {
            "text/plain": [
              "        device_id_hash\n",
              "exp_id                \n",
              "246               2484\n",
              "247               2513\n",
              "248               2537"
            ],
            "text/html": [
              "\n",
              "  <div id=\"df-d6381028-9e5f-4806-aaf9-9ea23768df74\" class=\"colab-df-container\">\n",
              "    <div>\n",
              "<style scoped>\n",
              "    .dataframe tbody tr th:only-of-type {\n",
              "        vertical-align: middle;\n",
              "    }\n",
              "\n",
              "    .dataframe tbody tr th {\n",
              "        vertical-align: top;\n",
              "    }\n",
              "\n",
              "    .dataframe thead th {\n",
              "        text-align: right;\n",
              "    }\n",
              "</style>\n",
              "<table border=\"1\" class=\"dataframe\">\n",
              "  <thead>\n",
              "    <tr style=\"text-align: right;\">\n",
              "      <th></th>\n",
              "      <th>device_id_hash</th>\n",
              "    </tr>\n",
              "    <tr>\n",
              "      <th>exp_id</th>\n",
              "      <th></th>\n",
              "    </tr>\n",
              "  </thead>\n",
              "  <tbody>\n",
              "    <tr>\n",
              "      <th>246</th>\n",
              "      <td>2484</td>\n",
              "    </tr>\n",
              "    <tr>\n",
              "      <th>247</th>\n",
              "      <td>2513</td>\n",
              "    </tr>\n",
              "    <tr>\n",
              "      <th>248</th>\n",
              "      <td>2537</td>\n",
              "    </tr>\n",
              "  </tbody>\n",
              "</table>\n",
              "</div>\n",
              "    <div class=\"colab-df-buttons\">\n",
              "\n",
              "  <div class=\"colab-df-container\">\n",
              "    <button class=\"colab-df-convert\" onclick=\"convertToInteractive('df-d6381028-9e5f-4806-aaf9-9ea23768df74')\"\n",
              "            title=\"Convert this dataframe to an interactive table.\"\n",
              "            style=\"display:none;\">\n",
              "\n",
              "  <svg xmlns=\"http://www.w3.org/2000/svg\" height=\"24px\" viewBox=\"0 -960 960 960\">\n",
              "    <path d=\"M120-120v-720h720v720H120Zm60-500h600v-160H180v160Zm220 220h160v-160H400v160Zm0 220h160v-160H400v160ZM180-400h160v-160H180v160Zm440 0h160v-160H620v160ZM180-180h160v-160H180v160Zm440 0h160v-160H620v160Z\"/>\n",
              "  </svg>\n",
              "    </button>\n",
              "\n",
              "  <style>\n",
              "    .colab-df-container {\n",
              "      display:flex;\n",
              "      gap: 12px;\n",
              "    }\n",
              "\n",
              "    .colab-df-convert {\n",
              "      background-color: #E8F0FE;\n",
              "      border: none;\n",
              "      border-radius: 50%;\n",
              "      cursor: pointer;\n",
              "      display: none;\n",
              "      fill: #1967D2;\n",
              "      height: 32px;\n",
              "      padding: 0 0 0 0;\n",
              "      width: 32px;\n",
              "    }\n",
              "\n",
              "    .colab-df-convert:hover {\n",
              "      background-color: #E2EBFA;\n",
              "      box-shadow: 0px 1px 2px rgba(60, 64, 67, 0.3), 0px 1px 3px 1px rgba(60, 64, 67, 0.15);\n",
              "      fill: #174EA6;\n",
              "    }\n",
              "\n",
              "    .colab-df-buttons div {\n",
              "      margin-bottom: 4px;\n",
              "    }\n",
              "\n",
              "    [theme=dark] .colab-df-convert {\n",
              "      background-color: #3B4455;\n",
              "      fill: #D2E3FC;\n",
              "    }\n",
              "\n",
              "    [theme=dark] .colab-df-convert:hover {\n",
              "      background-color: #434B5C;\n",
              "      box-shadow: 0px 1px 3px 1px rgba(0, 0, 0, 0.15);\n",
              "      filter: drop-shadow(0px 1px 2px rgba(0, 0, 0, 0.3));\n",
              "      fill: #FFFFFF;\n",
              "    }\n",
              "  </style>\n",
              "\n",
              "    <script>\n",
              "      const buttonEl =\n",
              "        document.querySelector('#df-d6381028-9e5f-4806-aaf9-9ea23768df74 button.colab-df-convert');\n",
              "      buttonEl.style.display =\n",
              "        google.colab.kernel.accessAllowed ? 'block' : 'none';\n",
              "\n",
              "      async function convertToInteractive(key) {\n",
              "        const element = document.querySelector('#df-d6381028-9e5f-4806-aaf9-9ea23768df74');\n",
              "        const dataTable =\n",
              "          await google.colab.kernel.invokeFunction('convertToInteractive',\n",
              "                                                    [key], {});\n",
              "        if (!dataTable) return;\n",
              "\n",
              "        const docLinkHtml = 'Like what you see? Visit the ' +\n",
              "          '<a target=\"_blank\" href=https://colab.research.google.com/notebooks/data_table.ipynb>data table notebook</a>'\n",
              "          + ' to learn more about interactive tables.';\n",
              "        element.innerHTML = '';\n",
              "        dataTable['output_type'] = 'display_data';\n",
              "        await google.colab.output.renderOutput(dataTable, element);\n",
              "        const docLink = document.createElement('div');\n",
              "        docLink.innerHTML = docLinkHtml;\n",
              "        element.appendChild(docLink);\n",
              "      }\n",
              "    </script>\n",
              "  </div>\n",
              "\n",
              "\n",
              "<div id=\"df-35627ab3-b644-4e6a-a7af-396dd621522b\">\n",
              "  <button class=\"colab-df-quickchart\" onclick=\"quickchart('df-35627ab3-b644-4e6a-a7af-396dd621522b')\"\n",
              "            title=\"Suggest charts\"\n",
              "            style=\"display:none;\">\n",
              "\n",
              "<svg xmlns=\"http://www.w3.org/2000/svg\" height=\"24px\"viewBox=\"0 0 24 24\"\n",
              "     width=\"24px\">\n",
              "    <g>\n",
              "        <path d=\"M19 3H5c-1.1 0-2 .9-2 2v14c0 1.1.9 2 2 2h14c1.1 0 2-.9 2-2V5c0-1.1-.9-2-2-2zM9 17H7v-7h2v7zm4 0h-2V7h2v10zm4 0h-2v-4h2v4z\"/>\n",
              "    </g>\n",
              "</svg>\n",
              "  </button>\n",
              "\n",
              "<style>\n",
              "  .colab-df-quickchart {\n",
              "      --bg-color: #E8F0FE;\n",
              "      --fill-color: #1967D2;\n",
              "      --hover-bg-color: #E2EBFA;\n",
              "      --hover-fill-color: #174EA6;\n",
              "      --disabled-fill-color: #AAA;\n",
              "      --disabled-bg-color: #DDD;\n",
              "  }\n",
              "\n",
              "  [theme=dark] .colab-df-quickchart {\n",
              "      --bg-color: #3B4455;\n",
              "      --fill-color: #D2E3FC;\n",
              "      --hover-bg-color: #434B5C;\n",
              "      --hover-fill-color: #FFFFFF;\n",
              "      --disabled-bg-color: #3B4455;\n",
              "      --disabled-fill-color: #666;\n",
              "  }\n",
              "\n",
              "  .colab-df-quickchart {\n",
              "    background-color: var(--bg-color);\n",
              "    border: none;\n",
              "    border-radius: 50%;\n",
              "    cursor: pointer;\n",
              "    display: none;\n",
              "    fill: var(--fill-color);\n",
              "    height: 32px;\n",
              "    padding: 0;\n",
              "    width: 32px;\n",
              "  }\n",
              "\n",
              "  .colab-df-quickchart:hover {\n",
              "    background-color: var(--hover-bg-color);\n",
              "    box-shadow: 0 1px 2px rgba(60, 64, 67, 0.3), 0 1px 3px 1px rgba(60, 64, 67, 0.15);\n",
              "    fill: var(--button-hover-fill-color);\n",
              "  }\n",
              "\n",
              "  .colab-df-quickchart-complete:disabled,\n",
              "  .colab-df-quickchart-complete:disabled:hover {\n",
              "    background-color: var(--disabled-bg-color);\n",
              "    fill: var(--disabled-fill-color);\n",
              "    box-shadow: none;\n",
              "  }\n",
              "\n",
              "  .colab-df-spinner {\n",
              "    border: 2px solid var(--fill-color);\n",
              "    border-color: transparent;\n",
              "    border-bottom-color: var(--fill-color);\n",
              "    animation:\n",
              "      spin 1s steps(1) infinite;\n",
              "  }\n",
              "\n",
              "  @keyframes spin {\n",
              "    0% {\n",
              "      border-color: transparent;\n",
              "      border-bottom-color: var(--fill-color);\n",
              "      border-left-color: var(--fill-color);\n",
              "    }\n",
              "    20% {\n",
              "      border-color: transparent;\n",
              "      border-left-color: var(--fill-color);\n",
              "      border-top-color: var(--fill-color);\n",
              "    }\n",
              "    30% {\n",
              "      border-color: transparent;\n",
              "      border-left-color: var(--fill-color);\n",
              "      border-top-color: var(--fill-color);\n",
              "      border-right-color: var(--fill-color);\n",
              "    }\n",
              "    40% {\n",
              "      border-color: transparent;\n",
              "      border-right-color: var(--fill-color);\n",
              "      border-top-color: var(--fill-color);\n",
              "    }\n",
              "    60% {\n",
              "      border-color: transparent;\n",
              "      border-right-color: var(--fill-color);\n",
              "    }\n",
              "    80% {\n",
              "      border-color: transparent;\n",
              "      border-right-color: var(--fill-color);\n",
              "      border-bottom-color: var(--fill-color);\n",
              "    }\n",
              "    90% {\n",
              "      border-color: transparent;\n",
              "      border-bottom-color: var(--fill-color);\n",
              "    }\n",
              "  }\n",
              "</style>\n",
              "\n",
              "  <script>\n",
              "    async function quickchart(key) {\n",
              "      const quickchartButtonEl =\n",
              "        document.querySelector('#' + key + ' button');\n",
              "      quickchartButtonEl.disabled = true;  // To prevent multiple clicks.\n",
              "      quickchartButtonEl.classList.add('colab-df-spinner');\n",
              "      try {\n",
              "        const charts = await google.colab.kernel.invokeFunction(\n",
              "            'suggestCharts', [key], {});\n",
              "      } catch (error) {\n",
              "        console.error('Error during call to suggestCharts:', error);\n",
              "      }\n",
              "      quickchartButtonEl.classList.remove('colab-df-spinner');\n",
              "      quickchartButtonEl.classList.add('colab-df-quickchart-complete');\n",
              "    }\n",
              "    (() => {\n",
              "      let quickchartButtonEl =\n",
              "        document.querySelector('#df-35627ab3-b644-4e6a-a7af-396dd621522b button');\n",
              "      quickchartButtonEl.style.display =\n",
              "        google.colab.kernel.accessAllowed ? 'block' : 'none';\n",
              "    })();\n",
              "  </script>\n",
              "</div>\n",
              "    </div>\n",
              "  </div>\n"
            ]
          },
          "metadata": {},
          "execution_count": 48
        }
      ],
      "source": [
        "data.groupby('exp_id').agg({'device_id_hash' : 'nunique'})"
      ]
    },
    {
      "cell_type": "markdown",
      "metadata": {
        "id": "BTIPlueocX_c"
      },
      "source": [
        "- В группе 246 находится 2484 пользователя;\n",
        "- В группе 247 находится 2513 пользователей;\n",
        "- В группе 248 находится 2537 пользователй."
      ]
    },
    {
      "cell_type": "markdown",
      "metadata": {
        "id": "SmYyur9UcX_c"
      },
      "source": [
        "<a id=\"AA\"></a>"
      ]
    },
    {
      "cell_type": "markdown",
      "metadata": {
        "id": "wOwY0ZffcX_c"
      },
      "source": [
        "### А/А-тест"
      ]
    },
    {
      "cell_type": "markdown",
      "metadata": {
        "id": "i4BnkphccX_c"
      },
      "source": [
        "У нас есть 2 контрольные группы для А/А-эксперимента, чтобы проверить корректность всех механизмов и расчётов, нужно посмотреть находят ли статистические критерии разницу между выборками 246 и 247"
      ]
    },
    {
      "cell_type": "markdown",
      "metadata": {
        "id": "Rt8Psmd1cX_c"
      },
      "source": [
        "Посчитаем количество пользователей в группе"
      ]
    },
    {
      "cell_type": "code",
      "execution_count": 49,
      "metadata": {
        "colab": {
          "base_uri": "https://localhost:8080/",
          "height": 206
        },
        "id": "-slzzcyRcX_d",
        "outputId": "4c6d309a-aead-44cf-a4b0-07e6ea13d6f7"
      },
      "outputs": [
        {
          "output_type": "execute_result",
          "data": {
            "text/plain": [
              "exp_id                    246   247   248  combined\n",
              "event_name                                         \n",
              "CartScreenAppear         1266  1238  1230      2504\n",
              "MainScreenAppear         2450  2476  2493      4926\n",
              "OffersScreenAppear       1542  1520  1531      3062\n",
              "PaymentScreenSuccessful  1200  1158  1181      2358"
            ],
            "text/html": [
              "\n",
              "  <div id=\"df-6093aa40-fc66-4e46-a07e-3f80a95a4f14\" class=\"colab-df-container\">\n",
              "    <div>\n",
              "<style scoped>\n",
              "    .dataframe tbody tr th:only-of-type {\n",
              "        vertical-align: middle;\n",
              "    }\n",
              "\n",
              "    .dataframe tbody tr th {\n",
              "        vertical-align: top;\n",
              "    }\n",
              "\n",
              "    .dataframe thead th {\n",
              "        text-align: right;\n",
              "    }\n",
              "</style>\n",
              "<table border=\"1\" class=\"dataframe\">\n",
              "  <thead>\n",
              "    <tr style=\"text-align: right;\">\n",
              "      <th>exp_id</th>\n",
              "      <th>246</th>\n",
              "      <th>247</th>\n",
              "      <th>248</th>\n",
              "      <th>combined</th>\n",
              "    </tr>\n",
              "    <tr>\n",
              "      <th>event_name</th>\n",
              "      <th></th>\n",
              "      <th></th>\n",
              "      <th></th>\n",
              "      <th></th>\n",
              "    </tr>\n",
              "  </thead>\n",
              "  <tbody>\n",
              "    <tr>\n",
              "      <th>CartScreenAppear</th>\n",
              "      <td>1266</td>\n",
              "      <td>1238</td>\n",
              "      <td>1230</td>\n",
              "      <td>2504</td>\n",
              "    </tr>\n",
              "    <tr>\n",
              "      <th>MainScreenAppear</th>\n",
              "      <td>2450</td>\n",
              "      <td>2476</td>\n",
              "      <td>2493</td>\n",
              "      <td>4926</td>\n",
              "    </tr>\n",
              "    <tr>\n",
              "      <th>OffersScreenAppear</th>\n",
              "      <td>1542</td>\n",
              "      <td>1520</td>\n",
              "      <td>1531</td>\n",
              "      <td>3062</td>\n",
              "    </tr>\n",
              "    <tr>\n",
              "      <th>PaymentScreenSuccessful</th>\n",
              "      <td>1200</td>\n",
              "      <td>1158</td>\n",
              "      <td>1181</td>\n",
              "      <td>2358</td>\n",
              "    </tr>\n",
              "  </tbody>\n",
              "</table>\n",
              "</div>\n",
              "    <div class=\"colab-df-buttons\">\n",
              "\n",
              "  <div class=\"colab-df-container\">\n",
              "    <button class=\"colab-df-convert\" onclick=\"convertToInteractive('df-6093aa40-fc66-4e46-a07e-3f80a95a4f14')\"\n",
              "            title=\"Convert this dataframe to an interactive table.\"\n",
              "            style=\"display:none;\">\n",
              "\n",
              "  <svg xmlns=\"http://www.w3.org/2000/svg\" height=\"24px\" viewBox=\"0 -960 960 960\">\n",
              "    <path d=\"M120-120v-720h720v720H120Zm60-500h600v-160H180v160Zm220 220h160v-160H400v160Zm0 220h160v-160H400v160ZM180-400h160v-160H180v160Zm440 0h160v-160H620v160ZM180-180h160v-160H180v160Zm440 0h160v-160H620v160Z\"/>\n",
              "  </svg>\n",
              "    </button>\n",
              "\n",
              "  <style>\n",
              "    .colab-df-container {\n",
              "      display:flex;\n",
              "      gap: 12px;\n",
              "    }\n",
              "\n",
              "    .colab-df-convert {\n",
              "      background-color: #E8F0FE;\n",
              "      border: none;\n",
              "      border-radius: 50%;\n",
              "      cursor: pointer;\n",
              "      display: none;\n",
              "      fill: #1967D2;\n",
              "      height: 32px;\n",
              "      padding: 0 0 0 0;\n",
              "      width: 32px;\n",
              "    }\n",
              "\n",
              "    .colab-df-convert:hover {\n",
              "      background-color: #E2EBFA;\n",
              "      box-shadow: 0px 1px 2px rgba(60, 64, 67, 0.3), 0px 1px 3px 1px rgba(60, 64, 67, 0.15);\n",
              "      fill: #174EA6;\n",
              "    }\n",
              "\n",
              "    .colab-df-buttons div {\n",
              "      margin-bottom: 4px;\n",
              "    }\n",
              "\n",
              "    [theme=dark] .colab-df-convert {\n",
              "      background-color: #3B4455;\n",
              "      fill: #D2E3FC;\n",
              "    }\n",
              "\n",
              "    [theme=dark] .colab-df-convert:hover {\n",
              "      background-color: #434B5C;\n",
              "      box-shadow: 0px 1px 3px 1px rgba(0, 0, 0, 0.15);\n",
              "      filter: drop-shadow(0px 1px 2px rgba(0, 0, 0, 0.3));\n",
              "      fill: #FFFFFF;\n",
              "    }\n",
              "  </style>\n",
              "\n",
              "    <script>\n",
              "      const buttonEl =\n",
              "        document.querySelector('#df-6093aa40-fc66-4e46-a07e-3f80a95a4f14 button.colab-df-convert');\n",
              "      buttonEl.style.display =\n",
              "        google.colab.kernel.accessAllowed ? 'block' : 'none';\n",
              "\n",
              "      async function convertToInteractive(key) {\n",
              "        const element = document.querySelector('#df-6093aa40-fc66-4e46-a07e-3f80a95a4f14');\n",
              "        const dataTable =\n",
              "          await google.colab.kernel.invokeFunction('convertToInteractive',\n",
              "                                                    [key], {});\n",
              "        if (!dataTable) return;\n",
              "\n",
              "        const docLinkHtml = 'Like what you see? Visit the ' +\n",
              "          '<a target=\"_blank\" href=https://colab.research.google.com/notebooks/data_table.ipynb>data table notebook</a>'\n",
              "          + ' to learn more about interactive tables.';\n",
              "        element.innerHTML = '';\n",
              "        dataTable['output_type'] = 'display_data';\n",
              "        await google.colab.output.renderOutput(dataTable, element);\n",
              "        const docLink = document.createElement('div');\n",
              "        docLink.innerHTML = docLinkHtml;\n",
              "        element.appendChild(docLink);\n",
              "      }\n",
              "    </script>\n",
              "  </div>\n",
              "\n",
              "\n",
              "<div id=\"df-69a93d8d-efbe-48c3-944f-1cdaf09af762\">\n",
              "  <button class=\"colab-df-quickchart\" onclick=\"quickchart('df-69a93d8d-efbe-48c3-944f-1cdaf09af762')\"\n",
              "            title=\"Suggest charts\"\n",
              "            style=\"display:none;\">\n",
              "\n",
              "<svg xmlns=\"http://www.w3.org/2000/svg\" height=\"24px\"viewBox=\"0 0 24 24\"\n",
              "     width=\"24px\">\n",
              "    <g>\n",
              "        <path d=\"M19 3H5c-1.1 0-2 .9-2 2v14c0 1.1.9 2 2 2h14c1.1 0 2-.9 2-2V5c0-1.1-.9-2-2-2zM9 17H7v-7h2v7zm4 0h-2V7h2v10zm4 0h-2v-4h2v4z\"/>\n",
              "    </g>\n",
              "</svg>\n",
              "  </button>\n",
              "\n",
              "<style>\n",
              "  .colab-df-quickchart {\n",
              "      --bg-color: #E8F0FE;\n",
              "      --fill-color: #1967D2;\n",
              "      --hover-bg-color: #E2EBFA;\n",
              "      --hover-fill-color: #174EA6;\n",
              "      --disabled-fill-color: #AAA;\n",
              "      --disabled-bg-color: #DDD;\n",
              "  }\n",
              "\n",
              "  [theme=dark] .colab-df-quickchart {\n",
              "      --bg-color: #3B4455;\n",
              "      --fill-color: #D2E3FC;\n",
              "      --hover-bg-color: #434B5C;\n",
              "      --hover-fill-color: #FFFFFF;\n",
              "      --disabled-bg-color: #3B4455;\n",
              "      --disabled-fill-color: #666;\n",
              "  }\n",
              "\n",
              "  .colab-df-quickchart {\n",
              "    background-color: var(--bg-color);\n",
              "    border: none;\n",
              "    border-radius: 50%;\n",
              "    cursor: pointer;\n",
              "    display: none;\n",
              "    fill: var(--fill-color);\n",
              "    height: 32px;\n",
              "    padding: 0;\n",
              "    width: 32px;\n",
              "  }\n",
              "\n",
              "  .colab-df-quickchart:hover {\n",
              "    background-color: var(--hover-bg-color);\n",
              "    box-shadow: 0 1px 2px rgba(60, 64, 67, 0.3), 0 1px 3px 1px rgba(60, 64, 67, 0.15);\n",
              "    fill: var(--button-hover-fill-color);\n",
              "  }\n",
              "\n",
              "  .colab-df-quickchart-complete:disabled,\n",
              "  .colab-df-quickchart-complete:disabled:hover {\n",
              "    background-color: var(--disabled-bg-color);\n",
              "    fill: var(--disabled-fill-color);\n",
              "    box-shadow: none;\n",
              "  }\n",
              "\n",
              "  .colab-df-spinner {\n",
              "    border: 2px solid var(--fill-color);\n",
              "    border-color: transparent;\n",
              "    border-bottom-color: var(--fill-color);\n",
              "    animation:\n",
              "      spin 1s steps(1) infinite;\n",
              "  }\n",
              "\n",
              "  @keyframes spin {\n",
              "    0% {\n",
              "      border-color: transparent;\n",
              "      border-bottom-color: var(--fill-color);\n",
              "      border-left-color: var(--fill-color);\n",
              "    }\n",
              "    20% {\n",
              "      border-color: transparent;\n",
              "      border-left-color: var(--fill-color);\n",
              "      border-top-color: var(--fill-color);\n",
              "    }\n",
              "    30% {\n",
              "      border-color: transparent;\n",
              "      border-left-color: var(--fill-color);\n",
              "      border-top-color: var(--fill-color);\n",
              "      border-right-color: var(--fill-color);\n",
              "    }\n",
              "    40% {\n",
              "      border-color: transparent;\n",
              "      border-right-color: var(--fill-color);\n",
              "      border-top-color: var(--fill-color);\n",
              "    }\n",
              "    60% {\n",
              "      border-color: transparent;\n",
              "      border-right-color: var(--fill-color);\n",
              "    }\n",
              "    80% {\n",
              "      border-color: transparent;\n",
              "      border-right-color: var(--fill-color);\n",
              "      border-bottom-color: var(--fill-color);\n",
              "    }\n",
              "    90% {\n",
              "      border-color: transparent;\n",
              "      border-bottom-color: var(--fill-color);\n",
              "    }\n",
              "  }\n",
              "</style>\n",
              "\n",
              "  <script>\n",
              "    async function quickchart(key) {\n",
              "      const quickchartButtonEl =\n",
              "        document.querySelector('#' + key + ' button');\n",
              "      quickchartButtonEl.disabled = true;  // To prevent multiple clicks.\n",
              "      quickchartButtonEl.classList.add('colab-df-spinner');\n",
              "      try {\n",
              "        const charts = await google.colab.kernel.invokeFunction(\n",
              "            'suggestCharts', [key], {});\n",
              "      } catch (error) {\n",
              "        console.error('Error during call to suggestCharts:', error);\n",
              "      }\n",
              "      quickchartButtonEl.classList.remove('colab-df-spinner');\n",
              "      quickchartButtonEl.classList.add('colab-df-quickchart-complete');\n",
              "    }\n",
              "    (() => {\n",
              "      let quickchartButtonEl =\n",
              "        document.querySelector('#df-69a93d8d-efbe-48c3-944f-1cdaf09af762 button');\n",
              "      quickchartButtonEl.style.display =\n",
              "        google.colab.kernel.accessAllowed ? 'block' : 'none';\n",
              "    })();\n",
              "  </script>\n",
              "</div>\n",
              "    </div>\n",
              "  </div>\n"
            ]
          },
          "metadata": {},
          "execution_count": 49
        }
      ],
      "source": [
        "event_test = data.pivot_table(index = 'event_name', columns = 'exp_id', values = 'device_id_hash', aggfunc = 'nunique')\n",
        "event_test['combined'] = event_test[246] + event_test[247]\n",
        "event_test.drop('Tutorial', axis = 0, inplace=True)\n",
        "event_test"
      ]
    },
    {
      "cell_type": "markdown",
      "metadata": {
        "id": "DLsFr_KgcX_d"
      },
      "source": [
        "Посчитайте долю пользователей, совершивших событие. Проверим, будет ли отличие между группами статистически достоверным."
      ]
    },
    {
      "cell_type": "markdown",
      "metadata": {
        "id": "jWWxkcKWcX_d"
      },
      "source": [
        "Сформулируем гипотезы:\n",
        "\n",
        "Н0: Доли пользователей по событиям в воронке одинаковы.\n",
        "\n",
        "Н1: Есть различие между долями пользователей по событиям в воронке.\n",
        "\n",
        "alpha = 0.05"
      ]
    },
    {
      "cell_type": "code",
      "execution_count": 50,
      "metadata": {
        "id": "fV9sHKdCcX_d"
      },
      "outputs": [],
      "source": [
        "groups = data.groupby('exp_id')['device_id_hash'].agg('nunique')"
      ]
    },
    {
      "cell_type": "code",
      "execution_count": 51,
      "metadata": {
        "id": "dt7PE15PcX_d"
      },
      "outputs": [],
      "source": [
        "#функция для z-теста\n",
        "\n",
        "def for_test(successes, trials, alpha):\n",
        "    p1 = successes[0]/trials[0]\n",
        "    p2 = successes[1]/trials[1]\n",
        "    p_combined = (successes[0] + successes[1]) / (trials[0] + trials[1])\n",
        "    difference = p1 - p2\n",
        "\n",
        "    z_value = difference / mth.sqrt(p_combined * (1-p_combined)*(1/trials[0] + 1/trials[1]))\n",
        "\n",
        "\n",
        "    distr = st.norm(0, 1)\n",
        "    p_value = (1 - distr.cdf(abs(z_value))) * 2\n",
        "\n",
        "    print('p-значение: ', p_value)\n",
        "\n",
        "    if p_value < alpha:\n",
        "        print('Отвергаем нулевую гипотезу')\n",
        "    else:\n",
        "        print('Не получилось отвергнуть нулевую гипотезу')"
      ]
    },
    {
      "cell_type": "code",
      "execution_count": 52,
      "metadata": {
        "id": "r77FNOEacX_d"
      },
      "outputs": [],
      "source": [
        "#функция для тестирования\n",
        "def test(group1, group2, alpha):\n",
        "\n",
        "    trials = ([groups[group1], groups[group2]])\n",
        "\n",
        "    Main = ([event_test.query('event_name == \"MainScreenAppear\"')[group1],\n",
        "             event_test.query('event_name == \"MainScreenAppear\"')[group2]])\n",
        "\n",
        "    Offers = ([event_test.query('event_name == \"OffersScreenAppear\"')[group1],\n",
        "               event_test.query('event_name == \"OffersScreenAppear\"')[group2]])\n",
        "\n",
        "    Cart = ([event_test.query('event_name == \"CartScreenAppear\"')[group1],\n",
        "             event_test.query('event_name == \"CartScreenAppear\"')[group2]])\n",
        "\n",
        "    Payment = ([event_test.query('event_name == \"PaymentScreenSuccessful\"')[group1],\n",
        "                event_test.query('event_name == \"PaymentScreenSuccessful\"')[group2]])\n",
        "\n",
        "    print('Гипотеза о равенстве долей для групп, событие - появление главного экрана:')\n",
        "    for_test(Main, trials, alpha)\n",
        "\n",
        "    print('Гипотеза о равенстве долей для групп, событие - появление экрана предложений:')\n",
        "    for_test(Offers, trials, alpha)\n",
        "\n",
        "    print('Гипотеза о равенстве долей для групп, событие - появление экрана корзины:')\n",
        "    for_test(Cart, trials, alpha)\n",
        "\n",
        "    print('Гипотеза о равенстве долей для групп, событие - появление экрана успешной оплаты:')\n",
        "    for_test(Payment, trials, alpha)"
      ]
    },
    {
      "cell_type": "markdown",
      "metadata": {
        "id": "-FiGcmsPcX_d"
      },
      "source": [
        "Проведем сравнение двух контрольных групп"
      ]
    },
    {
      "cell_type": "code",
      "execution_count": 53,
      "metadata": {
        "colab": {
          "base_uri": "https://localhost:8080/"
        },
        "id": "yPbhz5n3cX_d",
        "outputId": "47d905a1-1dd0-4217-8091-10c49a9ac79b"
      },
      "outputs": [
        {
          "output_type": "stream",
          "name": "stdout",
          "text": [
            "Гипотеза о равенстве долей для групп, событие - появление главного экрана:\n",
            "p-значение:  [0.75705972]\n",
            "Не получилось отвергнуть нулевую гипотезу\n",
            "Гипотеза о равенстве долей для групп, событие - появление экрана предложений:\n",
            "p-значение:  [0.24809546]\n",
            "Не получилось отвергнуть нулевую гипотезу\n",
            "Гипотеза о равенстве долей для групп, событие - появление экрана корзины:\n",
            "p-значение:  [0.22883372]\n",
            "Не получилось отвергнуть нулевую гипотезу\n",
            "Гипотеза о равенстве долей для групп, событие - появление экрана успешной оплаты:\n",
            "p-значение:  [0.11456679]\n",
            "Не получилось отвергнуть нулевую гипотезу\n"
          ]
        }
      ],
      "source": [
        "test(246, 247, 0.05)"
      ]
    },
    {
      "cell_type": "markdown",
      "metadata": {
        "id": "TQh7rmKXcX_e"
      },
      "source": [
        "Отличия между двумя группами по всем четырем событиям не обнаружены => разбиение на группы работает корректно."
      ]
    },
    {
      "cell_type": "markdown",
      "metadata": {
        "id": "EA3t2y7vcX_e"
      },
      "source": [
        "<a id=\"resres\"></a>"
      ]
    },
    {
      "cell_type": "markdown",
      "metadata": {
        "id": "olnXDmVKcX_e"
      },
      "source": [
        "### Сравнение результатов"
      ]
    },
    {
      "cell_type": "markdown",
      "metadata": {
        "id": "Jv1sv7pLcX_e"
      },
      "source": [
        "Сравним результаты с каждой из контрольных групп в отдельности по каждому событию. Сравним результаты с объединённой контрольной группой"
      ]
    },
    {
      "cell_type": "markdown",
      "metadata": {
        "id": "5LyxnBRRcX_e"
      },
      "source": [
        "Группа 246 с экспериментальной:"
      ]
    },
    {
      "cell_type": "code",
      "execution_count": 54,
      "metadata": {
        "colab": {
          "base_uri": "https://localhost:8080/"
        },
        "id": "g7dUc6dAcX_e",
        "outputId": "6163a5ba-f60c-4f3e-9990-33611ef63fbf"
      },
      "outputs": [
        {
          "output_type": "stream",
          "name": "stdout",
          "text": [
            "Гипотеза о равенстве долей для групп, событие - появление главного экрана:\n",
            "p-значение:  [0.29497219]\n",
            "Не получилось отвергнуть нулевую гипотезу\n",
            "Гипотеза о равенстве долей для групп, событие - появление экрана предложений:\n",
            "p-значение:  [0.20836205]\n",
            "Не получилось отвергнуть нулевую гипотезу\n",
            "Гипотеза о равенстве долей для групп, событие - появление экрана корзины:\n",
            "p-значение:  [0.07842923]\n",
            "Не получилось отвергнуть нулевую гипотезу\n",
            "Гипотеза о равенстве долей для групп, событие - появление экрана успешной оплаты:\n",
            "p-значение:  [0.21225533]\n",
            "Не получилось отвергнуть нулевую гипотезу\n"
          ]
        }
      ],
      "source": [
        "test(246, 248, 0.05)"
      ]
    },
    {
      "cell_type": "markdown",
      "metadata": {
        "id": "qexQyrFqcX_e"
      },
      "source": [
        "Группа 247 с экспериментальной:"
      ]
    },
    {
      "cell_type": "code",
      "execution_count": 55,
      "metadata": {
        "colab": {
          "base_uri": "https://localhost:8080/"
        },
        "id": "R0ezSDRKcX_f",
        "outputId": "7b884641-25eb-464e-bba8-319004ab97b4"
      },
      "outputs": [
        {
          "output_type": "stream",
          "name": "stdout",
          "text": [
            "Гипотеза о равенстве долей для групп, событие - появление главного экрана:\n",
            "p-значение:  [0.45870536]\n",
            "Не получилось отвергнуть нулевую гипотезу\n",
            "Гипотеза о равенстве долей для групп, событие - появление экрана предложений:\n",
            "p-значение:  [0.91978178]\n",
            "Не получилось отвергнуть нулевую гипотезу\n",
            "Гипотеза о равенстве долей для групп, событие - появление экрана корзины:\n",
            "p-значение:  [0.57861979]\n",
            "Не получилось отвергнуть нулевую гипотезу\n",
            "Гипотеза о равенстве долей для групп, событие - появление экрана успешной оплаты:\n",
            "p-значение:  [0.73734151]\n",
            "Не получилось отвергнуть нулевую гипотезу\n"
          ]
        }
      ],
      "source": [
        "test(247, 248, 0.05)"
      ]
    },
    {
      "cell_type": "markdown",
      "metadata": {
        "id": "G2J16uLqcX_f"
      },
      "source": [
        "Экспериментальная группа с объединенной контрольной"
      ]
    },
    {
      "cell_type": "code",
      "execution_count": 56,
      "metadata": {
        "id": "ZWmqBivVcX_f"
      },
      "outputs": [],
      "source": [
        "groups['combined'] = groups[246] + groups[247]"
      ]
    },
    {
      "cell_type": "code",
      "execution_count": null,
      "metadata": {
        "id": "M4KlXIXacX_f",
        "outputId": "3c76e6a4-3500-413b-8036-c9483b216ab2"
      },
      "outputs": [
        {
          "name": "stdout",
          "output_type": "stream",
          "text": [
            "Гипотеза о равенстве долей для групп, событие - появление главного экрана:\n",
            "p-значение:  [0.29424527]\n",
            "Не получилось отвергнуть нулевую гипотезу\n",
            "Гипотеза о равенстве долей для групп, событие - появление экрана предложений:\n",
            "p-значение:  [0.4342555]\n",
            "Не получилось отвергнуть нулевую гипотезу\n",
            "Гипотеза о равенстве долей для групп, событие - появление экрана корзины:\n",
            "p-значение:  [0.18175875]\n",
            "Не получилось отвергнуть нулевую гипотезу\n",
            "Гипотеза о равенстве долей для групп, событие - появление экрана успешной оплаты:\n",
            "p-значение:  [0.60042943]\n",
            "Не получилось отвергнуть нулевую гипотезу\n"
          ]
        }
      ],
      "source": [
        "test('combined', 248, 0.05)"
      ]
    },
    {
      "cell_type": "markdown",
      "metadata": {
        "id": "WCCq6Yd6cX_f"
      },
      "source": [
        "Отличия между двумя группами по всем четырем событиям не обнаружены => разбиение на группы работает корректно."
      ]
    },
    {
      "cell_type": "markdown",
      "metadata": {
        "id": "8cfmr0WocX_f"
      },
      "source": [
        "Мы выбрали уровень значимости 0,05. При этом уровне значимости все нулевые гипотезы не были отвергнуты. При увеличении уровня статистической значимости растет вероятность ошибки первого рода. При уровне значимости 0,1 каждый десятый раз можно получать ошибочный результат. В нашем исследовании уровень 0,05 можно считать оптимальным, т.к. вероятность получить ложный результат 1 к 20. Учитывая, что у нас 16 проверок гипотез, этого достаточно."
      ]
    },
    {
      "cell_type": "markdown",
      "metadata": {
        "id": "GlgaTz1ZcX_f"
      },
      "source": [
        "**Выводы из результатов эксперимента:**\n",
        "\n",
        "1) Между:\n",
        "\n",
        "     - контрольными группами;\n",
        "     - контрольной группой 246 и экспериментальной;\n",
        "     - контрольной группой 247 и экспериментальной;\n",
        "     - объединенной контрольной группой и экспериментальной.\n",
        "   \n",
        "    нет статистически значимых различий между долями пользователей, совершивших событие.\n",
        "\n",
        "2) Изменение шрифта не отразилось на поведении пользователей."
      ]
    },
    {
      "cell_type": "markdown",
      "metadata": {
        "id": "df8y2baWcX_f"
      },
      "source": [
        "<a id=\"recomendation\"></a>"
      ]
    },
    {
      "cell_type": "markdown",
      "metadata": {
        "id": "dci9ZGqmcX_g"
      },
      "source": [
        "# Общий вывод"
      ]
    },
    {
      "cell_type": "markdown",
      "metadata": {
        "id": "5qimgX3rcX_g"
      },
      "source": [
        "- В ходе анализа стартапа по продаже продуктов питания был опреден период времени: с 1 по 7 августа 2019 года. Все старые данные были отброшены. Потеряно было 1,16% от всех событий и 0,23% от всех пользователей, что является допустимым;\n",
        "- Количество пользователей в группах приблизительно одинаковое;\n",
        "- Воронка событий для пользователей имеет следующий вид:\n",
        "\n",
        "    1. Появление главного экрана - 98,5% пользователей;\n",
        "    2. Появление экрана предложений - 61% пользователей;\n",
        "    3. Появление экрана корзины - 49,6% пользователей;\n",
        "    4. Появление экрана успещной оплаты - 47% пользователей.\n",
        "    \n",
        "    \n",
        "- Больше всего пользователей теряется на втором шаге - переход на экран предложений;\n",
        "- При анализе А/А/В-тестов статистически значимые различия между долями пользователей, совершивших событие, не были выявлены (при уровне значимости, равном 0,05). Изменение шрифтов не оказало влияния на поведение пользователя."
      ]
    }
  ],
  "metadata": {
    "ExecuteTimeLog": [
      {
        "duration": 1136,
        "start_time": "2023-05-19T17:42:26.486Z"
      },
      {
        "duration": 679,
        "start_time": "2023-05-19T17:42:28.803Z"
      },
      {
        "duration": 14,
        "start_time": "2023-05-19T17:44:30.034Z"
      },
      {
        "duration": 18,
        "start_time": "2023-05-19T17:44:32.885Z"
      },
      {
        "duration": 42,
        "start_time": "2023-05-19T17:44:33.993Z"
      },
      {
        "duration": 492,
        "start_time": "2023-05-19T17:45:53.105Z"
      },
      {
        "duration": 330,
        "start_time": "2023-05-19T17:46:04.748Z"
      },
      {
        "duration": 270,
        "start_time": "2023-05-19T17:46:52.990Z"
      },
      {
        "duration": 402,
        "start_time": "2023-05-19T17:47:02.808Z"
      },
      {
        "duration": 363,
        "start_time": "2023-05-19T17:48:47.885Z"
      },
      {
        "duration": 343,
        "start_time": "2023-05-19T17:48:57.081Z"
      },
      {
        "duration": 1181,
        "start_time": "2023-05-19T17:49:46.240Z"
      },
      {
        "duration": 153,
        "start_time": "2023-05-19T17:49:48.561Z"
      },
      {
        "duration": 11,
        "start_time": "2023-05-19T17:49:49.728Z"
      },
      {
        "duration": 16,
        "start_time": "2023-05-19T17:49:57.290Z"
      },
      {
        "duration": 41,
        "start_time": "2023-05-19T17:49:58.709Z"
      },
      {
        "duration": 352,
        "start_time": "2023-05-19T17:50:01.285Z"
      },
      {
        "duration": 1020,
        "start_time": "2023-05-19T17:55:47.353Z"
      },
      {
        "duration": 147,
        "start_time": "2023-05-19T17:55:49.241Z"
      },
      {
        "duration": 11,
        "start_time": "2023-05-19T17:55:50.241Z"
      },
      {
        "duration": 22,
        "start_time": "2023-05-19T17:55:51.553Z"
      },
      {
        "duration": 42,
        "start_time": "2023-05-19T17:55:53.048Z"
      },
      {
        "duration": 351,
        "start_time": "2023-05-19T17:55:56.241Z"
      },
      {
        "duration": 18,
        "start_time": "2023-05-19T17:56:31.864Z"
      },
      {
        "duration": 86,
        "start_time": "2023-05-19T18:00:05.431Z"
      },
      {
        "duration": 3,
        "start_time": "2023-05-19T18:00:13.728Z"
      },
      {
        "duration": 4,
        "start_time": "2023-05-19T18:03:42.125Z"
      },
      {
        "duration": 7,
        "start_time": "2023-05-19T18:04:09.273Z"
      },
      {
        "duration": 12,
        "start_time": "2023-05-19T18:04:46.322Z"
      },
      {
        "duration": 49,
        "start_time": "2023-05-19T18:05:28.207Z"
      },
      {
        "duration": 17,
        "start_time": "2023-05-19T18:05:53.166Z"
      },
      {
        "duration": 30,
        "start_time": "2023-05-19T18:08:00.086Z"
      },
      {
        "duration": 16,
        "start_time": "2023-05-19T18:08:01.871Z"
      },
      {
        "duration": 54,
        "start_time": "2023-05-19T18:10:08.919Z"
      },
      {
        "duration": 49,
        "start_time": "2023-05-19T18:10:15.366Z"
      },
      {
        "duration": 691,
        "start_time": "2023-05-19T18:11:32.628Z"
      },
      {
        "duration": 63,
        "start_time": "2023-05-19T18:12:08.757Z"
      },
      {
        "duration": 8,
        "start_time": "2023-05-19T18:12:18.688Z"
      },
      {
        "duration": 1087,
        "start_time": "2023-05-19T18:12:35.921Z"
      },
      {
        "duration": 138,
        "start_time": "2023-05-19T18:12:37.874Z"
      },
      {
        "duration": 12,
        "start_time": "2023-05-19T18:12:38.954Z"
      },
      {
        "duration": 17,
        "start_time": "2023-05-19T18:12:40.033Z"
      },
      {
        "duration": 41,
        "start_time": "2023-05-19T18:12:41.474Z"
      },
      {
        "duration": 347,
        "start_time": "2023-05-19T18:12:48.665Z"
      },
      {
        "duration": 16,
        "start_time": "2023-05-19T18:12:54.670Z"
      },
      {
        "duration": 4,
        "start_time": "2023-05-19T18:13:00.689Z"
      },
      {
        "duration": 3,
        "start_time": "2023-05-19T18:13:03.403Z"
      },
      {
        "duration": 7,
        "start_time": "2023-05-19T18:13:05.351Z"
      },
      {
        "duration": 14,
        "start_time": "2023-05-19T18:13:12.110Z"
      },
      {
        "duration": 48,
        "start_time": "2023-05-19T18:13:14.520Z"
      },
      {
        "duration": 54,
        "start_time": "2023-05-19T18:13:19.152Z"
      },
      {
        "duration": 49,
        "start_time": "2023-05-19T18:13:20.129Z"
      },
      {
        "duration": 16,
        "start_time": "2023-05-19T18:13:22.326Z"
      },
      {
        "duration": 32,
        "start_time": "2023-05-19T18:13:25.667Z"
      },
      {
        "duration": 18,
        "start_time": "2023-05-19T18:13:27.407Z"
      },
      {
        "duration": 63,
        "start_time": "2023-05-19T18:13:29.862Z"
      },
      {
        "duration": 8,
        "start_time": "2023-05-19T18:14:01.162Z"
      },
      {
        "duration": 9,
        "start_time": "2023-05-19T18:18:11.602Z"
      },
      {
        "duration": 18,
        "start_time": "2023-05-19T18:18:59.281Z"
      },
      {
        "duration": 44,
        "start_time": "2023-05-19T18:19:28.543Z"
      },
      {
        "duration": 13,
        "start_time": "2023-05-19T18:19:33.930Z"
      },
      {
        "duration": 779,
        "start_time": "2023-05-19T18:25:39.359Z"
      },
      {
        "duration": 7,
        "start_time": "2023-05-19T18:26:00.832Z"
      },
      {
        "duration": 709,
        "start_time": "2023-05-19T18:27:06.730Z"
      },
      {
        "duration": 13,
        "start_time": "2023-05-19T18:27:17.992Z"
      },
      {
        "duration": 29,
        "start_time": "2023-05-19T18:29:45.043Z"
      },
      {
        "duration": 162,
        "start_time": "2023-05-19T18:30:07.565Z"
      },
      {
        "duration": 190,
        "start_time": "2023-05-19T18:30:15.745Z"
      },
      {
        "duration": 165,
        "start_time": "2023-05-19T18:30:26.451Z"
      },
      {
        "duration": 181,
        "start_time": "2023-05-19T18:34:00.645Z"
      },
      {
        "duration": 294,
        "start_time": "2023-05-19T18:34:11.371Z"
      },
      {
        "duration": 174,
        "start_time": "2023-05-19T18:34:18.440Z"
      },
      {
        "duration": 12,
        "start_time": "2023-05-19T18:38:27.069Z"
      },
      {
        "duration": 16,
        "start_time": "2023-05-19T18:38:38.113Z"
      },
      {
        "duration": 21,
        "start_time": "2023-05-19T18:43:40.241Z"
      },
      {
        "duration": 22,
        "start_time": "2023-05-19T18:44:07.636Z"
      },
      {
        "duration": 21,
        "start_time": "2023-05-19T18:44:36.383Z"
      },
      {
        "duration": 1029,
        "start_time": "2023-05-19T18:45:26.033Z"
      },
      {
        "duration": 136,
        "start_time": "2023-05-19T18:45:28.150Z"
      },
      {
        "duration": 11,
        "start_time": "2023-05-19T18:45:30.813Z"
      },
      {
        "duration": 16,
        "start_time": "2023-05-19T18:45:34.466Z"
      },
      {
        "duration": 41,
        "start_time": "2023-05-19T18:45:36.134Z"
      },
      {
        "duration": 352,
        "start_time": "2023-05-19T18:45:40.448Z"
      },
      {
        "duration": 17,
        "start_time": "2023-05-19T18:45:44.873Z"
      },
      {
        "duration": 3,
        "start_time": "2023-05-19T18:45:48.042Z"
      },
      {
        "duration": 3,
        "start_time": "2023-05-19T18:45:49.324Z"
      },
      {
        "duration": 6,
        "start_time": "2023-05-19T18:45:53.166Z"
      },
      {
        "duration": 12,
        "start_time": "2023-05-19T18:45:59.330Z"
      },
      {
        "duration": 55,
        "start_time": "2023-05-19T18:46:03.346Z"
      },
      {
        "duration": 57,
        "start_time": "2023-05-19T18:46:05.348Z"
      },
      {
        "duration": 51,
        "start_time": "2023-05-19T18:46:06.811Z"
      },
      {
        "duration": 21,
        "start_time": "2023-05-19T18:46:08.637Z"
      },
      {
        "duration": 34,
        "start_time": "2023-05-19T18:46:16.054Z"
      },
      {
        "duration": 15,
        "start_time": "2023-05-19T18:46:17.086Z"
      },
      {
        "duration": 979,
        "start_time": "2023-05-19T18:47:40.559Z"
      },
      {
        "duration": 136,
        "start_time": "2023-05-19T18:47:41.540Z"
      },
      {
        "duration": 10,
        "start_time": "2023-05-19T18:47:41.772Z"
      },
      {
        "duration": 18,
        "start_time": "2023-05-19T18:47:42.236Z"
      },
      {
        "duration": 43,
        "start_time": "2023-05-19T18:47:42.768Z"
      },
      {
        "duration": 353,
        "start_time": "2023-05-19T18:47:43.992Z"
      },
      {
        "duration": 16,
        "start_time": "2023-05-19T18:47:44.752Z"
      },
      {
        "duration": 3,
        "start_time": "2023-05-19T18:47:46.201Z"
      },
      {
        "duration": 3,
        "start_time": "2023-05-19T18:47:46.881Z"
      },
      {
        "duration": 7,
        "start_time": "2023-05-19T18:47:48.063Z"
      },
      {
        "duration": 12,
        "start_time": "2023-05-19T18:47:49.648Z"
      },
      {
        "duration": 56,
        "start_time": "2023-05-19T18:47:51.267Z"
      },
      {
        "duration": 68,
        "start_time": "2023-05-19T18:47:52.368Z"
      },
      {
        "duration": 55,
        "start_time": "2023-05-19T18:47:52.903Z"
      },
      {
        "duration": 19,
        "start_time": "2023-05-19T18:47:54.266Z"
      },
      {
        "duration": 8,
        "start_time": "2023-05-19T18:47:55.151Z"
      },
      {
        "duration": 16,
        "start_time": "2023-05-19T18:47:56.154Z"
      },
      {
        "duration": 66,
        "start_time": "2023-05-19T18:47:57.644Z"
      },
      {
        "duration": 8,
        "start_time": "2023-05-19T18:47:58.793Z"
      },
      {
        "duration": 11,
        "start_time": "2023-05-19T18:48:02.921Z"
      },
      {
        "duration": 19,
        "start_time": "2023-05-19T18:48:04.154Z"
      },
      {
        "duration": 7,
        "start_time": "2023-05-19T18:48:05.760Z"
      },
      {
        "duration": 12,
        "start_time": "2023-05-19T18:48:07.488Z"
      },
      {
        "duration": 30,
        "start_time": "2023-05-19T18:48:09.349Z"
      },
      {
        "duration": 174,
        "start_time": "2023-05-19T18:48:10.880Z"
      },
      {
        "duration": 17,
        "start_time": "2023-05-19T18:48:13.802Z"
      },
      {
        "duration": 22,
        "start_time": "2023-05-19T18:48:20.801Z"
      },
      {
        "duration": 22,
        "start_time": "2023-05-19T18:48:26.438Z"
      },
      {
        "duration": 932,
        "start_time": "2023-05-19T18:50:14.171Z"
      },
      {
        "duration": 607,
        "start_time": "2023-05-19T18:50:33.441Z"
      },
      {
        "duration": 354,
        "start_time": "2023-05-19T18:50:43.585Z"
      },
      {
        "duration": 22,
        "start_time": "2023-05-19T18:55:51.471Z"
      },
      {
        "duration": 16,
        "start_time": "2023-05-19T18:57:08.926Z"
      },
      {
        "duration": 710,
        "start_time": "2023-05-19T18:57:26.152Z"
      },
      {
        "duration": 824,
        "start_time": "2023-05-19T18:58:00.948Z"
      },
      {
        "duration": 46,
        "start_time": "2023-05-19T18:58:11.527Z"
      },
      {
        "duration": 25,
        "start_time": "2023-05-19T18:58:59.914Z"
      },
      {
        "duration": 18,
        "start_time": "2023-05-19T18:59:30.995Z"
      },
      {
        "duration": 23,
        "start_time": "2023-05-19T18:59:52.713Z"
      },
      {
        "duration": 22,
        "start_time": "2023-05-19T19:05:55.049Z"
      },
      {
        "duration": 23,
        "start_time": "2023-05-19T19:07:03.887Z"
      },
      {
        "duration": 23,
        "start_time": "2023-05-19T19:07:05.332Z"
      },
      {
        "duration": 1033,
        "start_time": "2023-05-19T19:07:24.456Z"
      },
      {
        "duration": 136,
        "start_time": "2023-05-19T19:07:25.491Z"
      },
      {
        "duration": 10,
        "start_time": "2023-05-19T19:07:26.478Z"
      },
      {
        "duration": 17,
        "start_time": "2023-05-19T19:07:27.111Z"
      },
      {
        "duration": 40,
        "start_time": "2023-05-19T19:07:27.637Z"
      },
      {
        "duration": 347,
        "start_time": "2023-05-19T19:07:29.272Z"
      },
      {
        "duration": 17,
        "start_time": "2023-05-19T19:07:30.286Z"
      },
      {
        "duration": 3,
        "start_time": "2023-05-19T19:07:32.252Z"
      },
      {
        "duration": 4,
        "start_time": "2023-05-19T19:07:32.714Z"
      },
      {
        "duration": 7,
        "start_time": "2023-05-19T19:07:33.338Z"
      },
      {
        "duration": 12,
        "start_time": "2023-05-19T19:07:35.400Z"
      },
      {
        "duration": 61,
        "start_time": "2023-05-19T19:07:37.246Z"
      },
      {
        "duration": 54,
        "start_time": "2023-05-19T19:07:38.655Z"
      },
      {
        "duration": 51,
        "start_time": "2023-05-19T19:07:39.335Z"
      },
      {
        "duration": 18,
        "start_time": "2023-05-19T19:07:40.591Z"
      },
      {
        "duration": 8,
        "start_time": "2023-05-19T19:07:41.869Z"
      },
      {
        "duration": 21,
        "start_time": "2023-05-19T19:07:42.399Z"
      },
      {
        "duration": 66,
        "start_time": "2023-05-19T19:07:43.707Z"
      },
      {
        "duration": 9,
        "start_time": "2023-05-19T19:07:44.309Z"
      },
      {
        "duration": 10,
        "start_time": "2023-05-19T19:07:46.313Z"
      },
      {
        "duration": 19,
        "start_time": "2023-05-19T19:07:47.655Z"
      },
      {
        "duration": 7,
        "start_time": "2023-05-19T19:07:49.635Z"
      },
      {
        "duration": 15,
        "start_time": "2023-05-19T19:07:51.126Z"
      },
      {
        "duration": 35,
        "start_time": "2023-05-19T19:07:52.612Z"
      },
      {
        "duration": 183,
        "start_time": "2023-05-19T19:07:53.095Z"
      },
      {
        "duration": 25,
        "start_time": "2023-05-19T19:07:55.033Z"
      },
      {
        "duration": 26,
        "start_time": "2023-05-19T19:07:57.283Z"
      },
      {
        "duration": 415,
        "start_time": "2023-05-19T19:07:58.483Z"
      },
      {
        "duration": 13,
        "start_time": "2023-05-19T19:08:00.050Z"
      },
      {
        "duration": 20,
        "start_time": "2023-05-19T19:08:01.205Z"
      },
      {
        "duration": 31,
        "start_time": "2023-05-19T19:08:02.478Z"
      },
      {
        "duration": 89,
        "start_time": "2023-05-19T19:08:49.763Z"
      },
      {
        "duration": 29,
        "start_time": "2023-05-19T19:09:06.200Z"
      },
      {
        "duration": 31,
        "start_time": "2023-05-19T19:10:07.895Z"
      },
      {
        "duration": 37,
        "start_time": "2023-05-19T19:38:50.233Z"
      },
      {
        "duration": 41,
        "start_time": "2023-05-19T19:39:52.128Z"
      },
      {
        "duration": 30,
        "start_time": "2023-05-19T19:41:38.974Z"
      },
      {
        "duration": 26,
        "start_time": "2023-05-19T19:41:58.953Z"
      },
      {
        "duration": 21,
        "start_time": "2023-05-19T19:58:58.912Z"
      },
      {
        "duration": 688,
        "start_time": "2023-05-19T20:02:48.584Z"
      },
      {
        "duration": 17,
        "start_time": "2023-05-19T20:03:00.364Z"
      },
      {
        "duration": 17,
        "start_time": "2023-05-19T20:03:26.088Z"
      },
      {
        "duration": 56,
        "start_time": "2023-05-19T20:05:22.040Z"
      },
      {
        "duration": 46,
        "start_time": "2023-05-19T20:05:35.412Z"
      },
      {
        "duration": 4,
        "start_time": "2023-05-19T20:05:38.670Z"
      },
      {
        "duration": 50,
        "start_time": "2023-05-19T20:05:49.147Z"
      },
      {
        "duration": 53,
        "start_time": "2023-05-19T20:05:58.792Z"
      },
      {
        "duration": 4,
        "start_time": "2023-05-19T20:18:55.827Z"
      },
      {
        "duration": 960,
        "start_time": "2023-05-19T20:19:04.414Z"
      },
      {
        "duration": 10,
        "start_time": "2023-05-19T20:19:19.076Z"
      },
      {
        "duration": 10,
        "start_time": "2023-05-19T20:19:42.949Z"
      },
      {
        "duration": 18,
        "start_time": "2023-05-19T20:20:14.203Z"
      },
      {
        "duration": 10,
        "start_time": "2023-05-19T20:27:47.386Z"
      },
      {
        "duration": 86,
        "start_time": "2023-05-19T20:28:49.771Z"
      },
      {
        "duration": 731,
        "start_time": "2023-05-19T20:31:08.352Z"
      },
      {
        "duration": 3,
        "start_time": "2023-05-19T20:31:20.364Z"
      },
      {
        "duration": 387,
        "start_time": "2023-05-19T20:31:41.888Z"
      },
      {
        "duration": 57,
        "start_time": "2023-05-19T20:36:30.475Z"
      },
      {
        "duration": 34,
        "start_time": "2023-05-19T20:36:40.590Z"
      },
      {
        "duration": 30,
        "start_time": "2023-05-19T20:36:43.613Z"
      },
      {
        "duration": 12,
        "start_time": "2023-05-19T20:39:45.130Z"
      },
      {
        "duration": 69,
        "start_time": "2023-05-19T20:39:55.736Z"
      },
      {
        "duration": 4,
        "start_time": "2023-05-19T20:44:23.035Z"
      },
      {
        "duration": 4,
        "start_time": "2023-05-19T20:46:04.450Z"
      },
      {
        "duration": 25,
        "start_time": "2023-05-19T20:46:43.552Z"
      },
      {
        "duration": 22,
        "start_time": "2023-05-19T20:47:27.576Z"
      },
      {
        "duration": 23,
        "start_time": "2023-05-19T20:47:50.324Z"
      },
      {
        "duration": 23,
        "start_time": "2023-05-19T20:48:28.480Z"
      },
      {
        "duration": 1134,
        "start_time": "2023-05-19T22:56:48.837Z"
      },
      {
        "duration": 162,
        "start_time": "2023-05-19T22:56:49.973Z"
      },
      {
        "duration": 12,
        "start_time": "2023-05-19T22:56:53.334Z"
      },
      {
        "duration": 19,
        "start_time": "2023-05-19T22:56:54.471Z"
      },
      {
        "duration": 44,
        "start_time": "2023-05-19T22:56:55.778Z"
      },
      {
        "duration": 382,
        "start_time": "2023-05-19T22:56:58.873Z"
      },
      {
        "duration": 3,
        "start_time": "2023-05-19T22:57:01.546Z"
      },
      {
        "duration": 3,
        "start_time": "2023-05-19T22:57:01.659Z"
      },
      {
        "duration": 8,
        "start_time": "2023-05-19T22:57:02.506Z"
      },
      {
        "duration": 12,
        "start_time": "2023-05-19T22:57:03.794Z"
      },
      {
        "duration": 52,
        "start_time": "2023-05-19T22:57:05.430Z"
      },
      {
        "duration": 55,
        "start_time": "2023-05-19T22:57:06.536Z"
      },
      {
        "duration": 57,
        "start_time": "2023-05-19T22:57:07.102Z"
      },
      {
        "duration": 16,
        "start_time": "2023-05-19T22:57:08.111Z"
      },
      {
        "duration": 8,
        "start_time": "2023-05-19T22:57:09.300Z"
      },
      {
        "duration": 16,
        "start_time": "2023-05-19T22:57:09.866Z"
      },
      {
        "duration": 64,
        "start_time": "2023-05-19T22:57:11.153Z"
      },
      {
        "duration": 8,
        "start_time": "2023-05-19T22:57:11.771Z"
      },
      {
        "duration": 9,
        "start_time": "2023-05-19T22:57:14.183Z"
      },
      {
        "duration": 19,
        "start_time": "2023-05-19T22:57:15.873Z"
      },
      {
        "duration": 7,
        "start_time": "2023-05-19T22:57:17.341Z"
      },
      {
        "duration": 13,
        "start_time": "2023-05-19T22:57:19.174Z"
      },
      {
        "duration": 32,
        "start_time": "2023-05-19T22:57:20.949Z"
      },
      {
        "duration": 181,
        "start_time": "2023-05-19T22:57:21.614Z"
      },
      {
        "duration": 16,
        "start_time": "2023-05-19T22:57:24.180Z"
      },
      {
        "duration": 23,
        "start_time": "2023-05-19T22:57:26.396Z"
      },
      {
        "duration": 402,
        "start_time": "2023-05-19T22:57:27.636Z"
      },
      {
        "duration": 12,
        "start_time": "2023-05-19T22:57:29.857Z"
      },
      {
        "duration": 23,
        "start_time": "2023-05-19T22:57:31.733Z"
      },
      {
        "duration": 22,
        "start_time": "2023-05-19T22:57:33.593Z"
      },
      {
        "duration": 31,
        "start_time": "2023-05-19T22:57:35.984Z"
      },
      {
        "duration": 21,
        "start_time": "2023-05-19T22:57:37.822Z"
      },
      {
        "duration": 16,
        "start_time": "2023-05-19T22:57:44.940Z"
      },
      {
        "duration": 19,
        "start_time": "2023-05-19T22:57:46.709Z"
      },
      {
        "duration": 51,
        "start_time": "2023-05-19T22:57:48.956Z"
      },
      {
        "duration": 4,
        "start_time": "2023-05-19T22:57:53.334Z"
      },
      {
        "duration": 9,
        "start_time": "2023-05-19T22:57:57.410Z"
      },
      {
        "duration": 3,
        "start_time": "2023-05-19T22:58:04.865Z"
      },
      {
        "duration": 30,
        "start_time": "2023-05-19T22:58:08.493Z"
      },
      {
        "duration": 154,
        "start_time": "2023-05-19T22:58:12.316Z"
      },
      {
        "duration": 4,
        "start_time": "2023-05-19T22:58:22.572Z"
      },
      {
        "duration": 5,
        "start_time": "2023-05-19T22:58:24.696Z"
      },
      {
        "duration": 92,
        "start_time": "2023-05-19T22:58:40.187Z"
      },
      {
        "duration": 5,
        "start_time": "2023-05-19T23:00:14.395Z"
      },
      {
        "duration": 11,
        "start_time": "2023-05-19T23:00:17.432Z"
      },
      {
        "duration": 4,
        "start_time": "2023-05-19T23:00:50.756Z"
      },
      {
        "duration": 6,
        "start_time": "2023-05-19T23:00:51.786Z"
      },
      {
        "duration": 13,
        "start_time": "2023-05-19T23:00:53.056Z"
      },
      {
        "duration": 11,
        "start_time": "2023-05-19T23:01:57.691Z"
      },
      {
        "duration": 25,
        "start_time": "2023-05-19T23:02:15.104Z"
      },
      {
        "duration": 4,
        "start_time": "2023-05-19T23:02:17.675Z"
      },
      {
        "duration": 5,
        "start_time": "2023-05-19T23:02:18.815Z"
      },
      {
        "duration": 25,
        "start_time": "2023-05-19T23:02:20.492Z"
      },
      {
        "duration": 26,
        "start_time": "2023-05-19T23:04:02.170Z"
      },
      {
        "duration": 4,
        "start_time": "2023-05-19T23:04:03.309Z"
      },
      {
        "duration": 5,
        "start_time": "2023-05-19T23:04:05.294Z"
      },
      {
        "duration": 24,
        "start_time": "2023-05-19T23:04:06.369Z"
      },
      {
        "duration": 26,
        "start_time": "2023-05-19T23:12:15.422Z"
      },
      {
        "duration": 5,
        "start_time": "2023-05-19T23:12:16.307Z"
      },
      {
        "duration": 4,
        "start_time": "2023-05-19T23:12:17.195Z"
      },
      {
        "duration": 26,
        "start_time": "2023-05-19T23:12:18.109Z"
      },
      {
        "duration": 24,
        "start_time": "2023-05-19T23:12:21.995Z"
      },
      {
        "duration": 24,
        "start_time": "2023-05-19T23:12:24.622Z"
      },
      {
        "duration": 501,
        "start_time": "2023-05-19T23:12:27.871Z"
      },
      {
        "duration": 4,
        "start_time": "2023-05-19T23:13:02.146Z"
      },
      {
        "duration": 3,
        "start_time": "2023-05-19T23:13:04.811Z"
      },
      {
        "duration": 26,
        "start_time": "2023-05-19T23:13:05.517Z"
      },
      {
        "duration": 1120,
        "start_time": "2023-05-19T23:26:51.033Z"
      },
      {
        "duration": 145,
        "start_time": "2023-05-19T23:26:54.919Z"
      },
      {
        "duration": 10,
        "start_time": "2023-05-19T23:26:55.877Z"
      },
      {
        "duration": 18,
        "start_time": "2023-05-19T23:26:56.918Z"
      },
      {
        "duration": 59,
        "start_time": "2023-05-19T23:26:57.875Z"
      },
      {
        "duration": 385,
        "start_time": "2023-05-19T23:27:00.156Z"
      },
      {
        "duration": 3,
        "start_time": "2023-05-19T23:27:03.019Z"
      },
      {
        "duration": 3,
        "start_time": "2023-05-19T23:27:03.576Z"
      },
      {
        "duration": 8,
        "start_time": "2023-05-19T23:27:04.024Z"
      },
      {
        "duration": 13,
        "start_time": "2023-05-19T23:27:06.130Z"
      },
      {
        "duration": 57,
        "start_time": "2023-05-19T23:27:08.473Z"
      },
      {
        "duration": 59,
        "start_time": "2023-05-19T23:27:09.856Z"
      },
      {
        "duration": 53,
        "start_time": "2023-05-19T23:27:10.519Z"
      },
      {
        "duration": 16,
        "start_time": "2023-05-19T23:27:11.931Z"
      },
      {
        "duration": 7,
        "start_time": "2023-05-19T23:27:13.266Z"
      },
      {
        "duration": 15,
        "start_time": "2023-05-19T23:27:15.177Z"
      },
      {
        "duration": 79,
        "start_time": "2023-05-19T23:27:16.259Z"
      },
      {
        "duration": 14,
        "start_time": "2023-05-19T23:27:17.106Z"
      },
      {
        "duration": 10,
        "start_time": "2023-05-19T23:27:20.734Z"
      },
      {
        "duration": 18,
        "start_time": "2023-05-19T23:27:24.742Z"
      },
      {
        "duration": 8,
        "start_time": "2023-05-19T23:27:30.936Z"
      },
      {
        "duration": 12,
        "start_time": "2023-05-19T23:27:38.698Z"
      },
      {
        "duration": 30,
        "start_time": "2023-05-19T23:27:46.917Z"
      },
      {
        "duration": 180,
        "start_time": "2023-05-19T23:27:48.495Z"
      },
      {
        "duration": 15,
        "start_time": "2023-05-19T23:27:54.549Z"
      },
      {
        "duration": 23,
        "start_time": "2023-05-19T23:28:14.503Z"
      },
      {
        "duration": 427,
        "start_time": "2023-05-19T23:28:16.393Z"
      },
      {
        "duration": 14,
        "start_time": "2023-05-19T23:28:20.063Z"
      },
      {
        "duration": 23,
        "start_time": "2023-05-19T23:28:22.513Z"
      },
      {
        "duration": 21,
        "start_time": "2023-05-19T23:28:24.513Z"
      },
      {
        "duration": 31,
        "start_time": "2023-05-19T23:28:29.915Z"
      },
      {
        "duration": 21,
        "start_time": "2023-05-19T23:28:37.386Z"
      },
      {
        "duration": 16,
        "start_time": "2023-05-19T23:28:44.353Z"
      },
      {
        "duration": 18,
        "start_time": "2023-05-19T23:28:45.816Z"
      },
      {
        "duration": 49,
        "start_time": "2023-05-19T23:28:48.510Z"
      },
      {
        "duration": 3,
        "start_time": "2023-05-19T23:28:58.133Z"
      },
      {
        "duration": 9,
        "start_time": "2023-05-19T23:28:59.824Z"
      },
      {
        "duration": 3,
        "start_time": "2023-05-19T23:29:06.786Z"
      },
      {
        "duration": 32,
        "start_time": "2023-05-19T23:29:10.590Z"
      },
      {
        "duration": 31,
        "start_time": "2023-05-19T23:30:47.294Z"
      },
      {
        "duration": 75,
        "start_time": "2023-05-19T23:30:52.619Z"
      },
      {
        "duration": 5,
        "start_time": "2023-05-19T23:30:54.624Z"
      },
      {
        "duration": 91,
        "start_time": "2023-05-19T23:30:58.427Z"
      },
      {
        "duration": 68,
        "start_time": "2023-05-19T23:31:57.174Z"
      },
      {
        "duration": 25,
        "start_time": "2023-05-19T23:31:59.857Z"
      },
      {
        "duration": 4,
        "start_time": "2023-05-19T23:32:01.378Z"
      },
      {
        "duration": 6,
        "start_time": "2023-05-19T23:32:02.314Z"
      },
      {
        "duration": 25,
        "start_time": "2023-05-19T23:32:04.184Z"
      },
      {
        "duration": 4,
        "start_time": "2023-05-19T23:32:21.462Z"
      },
      {
        "duration": 5,
        "start_time": "2023-05-19T23:32:22.264Z"
      },
      {
        "duration": 25,
        "start_time": "2023-05-19T23:32:23.783Z"
      },
      {
        "duration": 24,
        "start_time": "2023-05-19T23:32:29.453Z"
      },
      {
        "duration": 24,
        "start_time": "2023-05-19T23:32:31.458Z"
      },
      {
        "duration": 4,
        "start_time": "2023-05-19T23:32:33.612Z"
      },
      {
        "duration": 24,
        "start_time": "2023-05-19T23:32:34.622Z"
      },
      {
        "duration": 1011,
        "start_time": "2023-05-19T23:34:24.275Z"
      },
      {
        "duration": 136,
        "start_time": "2023-05-19T23:34:25.288Z"
      },
      {
        "duration": 11,
        "start_time": "2023-05-19T23:34:27.982Z"
      },
      {
        "duration": 17,
        "start_time": "2023-05-19T23:34:28.391Z"
      },
      {
        "duration": 41,
        "start_time": "2023-05-19T23:34:31.517Z"
      },
      {
        "duration": 347,
        "start_time": "2023-05-19T23:34:33.716Z"
      },
      {
        "duration": 3,
        "start_time": "2023-05-19T23:34:36.108Z"
      },
      {
        "duration": 3,
        "start_time": "2023-05-19T23:34:36.617Z"
      },
      {
        "duration": 6,
        "start_time": "2023-05-19T23:34:36.911Z"
      },
      {
        "duration": 11,
        "start_time": "2023-05-19T23:34:38.341Z"
      },
      {
        "duration": 52,
        "start_time": "2023-05-19T23:34:39.542Z"
      },
      {
        "duration": 77,
        "start_time": "2023-05-19T23:34:40.036Z"
      },
      {
        "duration": 52,
        "start_time": "2023-05-19T23:34:40.589Z"
      },
      {
        "duration": 24,
        "start_time": "2023-05-19T23:34:41.338Z"
      },
      {
        "duration": 7,
        "start_time": "2023-05-19T23:34:42.096Z"
      },
      {
        "duration": 19,
        "start_time": "2023-05-19T23:34:42.494Z"
      },
      {
        "duration": 68,
        "start_time": "2023-05-19T23:34:43.020Z"
      },
      {
        "duration": 8,
        "start_time": "2023-05-19T23:34:43.257Z"
      },
      {
        "duration": 9,
        "start_time": "2023-05-19T23:34:44.357Z"
      },
      {
        "duration": 17,
        "start_time": "2023-05-19T23:34:45.384Z"
      },
      {
        "duration": 7,
        "start_time": "2023-05-19T23:34:45.991Z"
      },
      {
        "duration": 13,
        "start_time": "2023-05-19T23:34:46.869Z"
      },
      {
        "duration": 30,
        "start_time": "2023-05-19T23:34:47.715Z"
      },
      {
        "duration": 182,
        "start_time": "2023-05-19T23:34:48.094Z"
      },
      {
        "duration": 16,
        "start_time": "2023-05-19T23:34:48.736Z"
      },
      {
        "duration": 22,
        "start_time": "2023-05-19T23:34:49.936Z"
      },
      {
        "duration": 422,
        "start_time": "2023-05-19T23:34:50.417Z"
      },
      {
        "duration": 15,
        "start_time": "2023-05-19T23:34:51.129Z"
      },
      {
        "duration": 22,
        "start_time": "2023-05-19T23:34:51.693Z"
      },
      {
        "duration": 23,
        "start_time": "2023-05-19T23:34:52.957Z"
      },
      {
        "duration": 36,
        "start_time": "2023-05-19T23:34:54.215Z"
      },
      {
        "duration": 22,
        "start_time": "2023-05-19T23:34:54.813Z"
      },
      {
        "duration": 17,
        "start_time": "2023-05-19T23:34:56.536Z"
      },
      {
        "duration": 18,
        "start_time": "2023-05-19T23:34:57.894Z"
      },
      {
        "duration": 51,
        "start_time": "2023-05-19T23:34:58.335Z"
      },
      {
        "duration": 4,
        "start_time": "2023-05-19T23:34:59.752Z"
      },
      {
        "duration": 9,
        "start_time": "2023-05-19T23:35:00.785Z"
      },
      {
        "duration": 4,
        "start_time": "2023-05-19T23:35:03.230Z"
      },
      {
        "duration": 31,
        "start_time": "2023-05-19T23:35:05.792Z"
      },
      {
        "duration": 135,
        "start_time": "2023-05-19T23:35:07.799Z"
      },
      {
        "duration": 25,
        "start_time": "2023-05-19T23:35:09.275Z"
      },
      {
        "duration": 4,
        "start_time": "2023-05-19T23:35:09.746Z"
      },
      {
        "duration": 4,
        "start_time": "2023-05-19T23:35:10.415Z"
      },
      {
        "duration": 24,
        "start_time": "2023-05-19T23:35:11.636Z"
      },
      {
        "duration": 36,
        "start_time": "2023-05-19T23:35:14.669Z"
      },
      {
        "duration": 24,
        "start_time": "2023-05-19T23:35:15.813Z"
      },
      {
        "duration": 1246,
        "start_time": "2023-05-20T13:49:59.895Z"
      },
      {
        "duration": 185,
        "start_time": "2023-05-20T13:50:01.143Z"
      },
      {
        "duration": 12,
        "start_time": "2023-05-20T13:50:01.330Z"
      },
      {
        "duration": 42,
        "start_time": "2023-05-20T13:50:01.343Z"
      },
      {
        "duration": 65,
        "start_time": "2023-05-20T13:50:01.387Z"
      },
      {
        "duration": 469,
        "start_time": "2023-05-20T13:50:01.453Z"
      },
      {
        "duration": 3,
        "start_time": "2023-05-20T13:50:01.926Z"
      },
      {
        "duration": 35,
        "start_time": "2023-05-20T13:50:01.931Z"
      },
      {
        "duration": 96,
        "start_time": "2023-05-20T13:50:01.968Z"
      },
      {
        "duration": 70,
        "start_time": "2023-05-20T13:50:02.067Z"
      },
      {
        "duration": 93,
        "start_time": "2023-05-20T13:50:02.139Z"
      },
      {
        "duration": 57,
        "start_time": "2023-05-20T13:50:02.234Z"
      },
      {
        "duration": 77,
        "start_time": "2023-05-20T13:50:02.292Z"
      },
      {
        "duration": 29,
        "start_time": "2023-05-20T13:50:02.371Z"
      },
      {
        "duration": 25,
        "start_time": "2023-05-20T13:50:02.403Z"
      },
      {
        "duration": 43,
        "start_time": "2023-05-20T13:50:02.429Z"
      },
      {
        "duration": 120,
        "start_time": "2023-05-20T13:50:02.474Z"
      },
      {
        "duration": 13,
        "start_time": "2023-05-20T13:50:02.595Z"
      },
      {
        "duration": 70,
        "start_time": "2023-05-20T13:50:02.610Z"
      },
      {
        "duration": 63,
        "start_time": "2023-05-20T13:50:02.682Z"
      },
      {
        "duration": 25,
        "start_time": "2023-05-20T13:50:02.747Z"
      },
      {
        "duration": 63,
        "start_time": "2023-05-20T13:50:02.774Z"
      },
      {
        "duration": 79,
        "start_time": "2023-05-20T13:50:02.839Z"
      },
      {
        "duration": 226,
        "start_time": "2023-05-20T13:50:02.920Z"
      },
      {
        "duration": 19,
        "start_time": "2023-05-20T13:50:03.148Z"
      },
      {
        "duration": 62,
        "start_time": "2023-05-20T13:50:03.168Z"
      },
      {
        "duration": 562,
        "start_time": "2023-05-20T13:50:03.232Z"
      },
      {
        "duration": 30,
        "start_time": "2023-05-20T13:50:03.801Z"
      },
      {
        "duration": 42,
        "start_time": "2023-05-20T13:50:03.833Z"
      },
      {
        "duration": 54,
        "start_time": "2023-05-20T13:50:03.877Z"
      },
      {
        "duration": 57,
        "start_time": "2023-05-20T13:50:03.933Z"
      },
      {
        "duration": 31,
        "start_time": "2023-05-20T13:50:03.992Z"
      },
      {
        "duration": 56,
        "start_time": "2023-05-20T13:50:04.024Z"
      },
      {
        "duration": 62,
        "start_time": "2023-05-20T13:50:04.081Z"
      },
      {
        "duration": 101,
        "start_time": "2023-05-20T13:50:04.145Z"
      },
      {
        "duration": 4,
        "start_time": "2023-05-20T13:50:04.248Z"
      },
      {
        "duration": 41,
        "start_time": "2023-05-20T13:50:04.253Z"
      },
      {
        "duration": 53,
        "start_time": "2023-05-20T13:50:04.295Z"
      },
      {
        "duration": 46,
        "start_time": "2023-05-20T13:50:04.349Z"
      },
      {
        "duration": 183,
        "start_time": "2023-05-20T13:50:04.397Z"
      },
      {
        "duration": 47,
        "start_time": "2023-05-20T13:50:04.582Z"
      },
      {
        "duration": 11,
        "start_time": "2023-05-20T13:50:04.630Z"
      },
      {
        "duration": 33,
        "start_time": "2023-05-20T13:50:04.642Z"
      },
      {
        "duration": 83,
        "start_time": "2023-05-20T13:50:04.677Z"
      },
      {
        "duration": 65,
        "start_time": "2023-05-20T13:50:04.762Z"
      },
      {
        "duration": 26,
        "start_time": "2023-05-20T13:50:04.829Z"
      },
      {
        "duration": 80,
        "start_time": "2023-05-20T15:17:36.438Z"
      },
      {
        "duration": 1559,
        "start_time": "2023-05-20T15:18:31.941Z"
      },
      {
        "duration": 544,
        "start_time": "2023-05-20T15:18:35.880Z"
      },
      {
        "duration": 14,
        "start_time": "2023-05-20T15:18:36.581Z"
      },
      {
        "duration": 24,
        "start_time": "2023-05-20T15:18:37.194Z"
      },
      {
        "duration": 57,
        "start_time": "2023-05-20T15:18:37.710Z"
      },
      {
        "duration": 454,
        "start_time": "2023-05-20T15:18:39.335Z"
      },
      {
        "duration": 2,
        "start_time": "2023-05-20T15:18:41.304Z"
      },
      {
        "duration": 4,
        "start_time": "2023-05-20T15:18:42.268Z"
      },
      {
        "duration": 9,
        "start_time": "2023-05-20T15:18:44.158Z"
      },
      {
        "duration": 1333,
        "start_time": "2023-05-20T15:19:45.458Z"
      },
      {
        "duration": 176,
        "start_time": "2023-05-20T15:19:48.077Z"
      },
      {
        "duration": 15,
        "start_time": "2023-05-20T15:19:49.025Z"
      },
      {
        "duration": 22,
        "start_time": "2023-05-20T15:19:49.778Z"
      },
      {
        "duration": 60,
        "start_time": "2023-05-20T15:19:50.313Z"
      },
      {
        "duration": 461,
        "start_time": "2023-05-20T15:19:52.231Z"
      },
      {
        "duration": 3,
        "start_time": "2023-05-20T15:19:54.896Z"
      },
      {
        "duration": 4,
        "start_time": "2023-05-20T15:19:55.630Z"
      },
      {
        "duration": 8,
        "start_time": "2023-05-20T15:19:58.391Z"
      },
      {
        "duration": 15,
        "start_time": "2023-05-20T15:20:03.812Z"
      },
      {
        "duration": 70,
        "start_time": "2023-05-20T15:20:05.509Z"
      },
      {
        "duration": 75,
        "start_time": "2023-05-20T15:20:06.804Z"
      },
      {
        "duration": 72,
        "start_time": "2023-05-20T15:20:07.556Z"
      },
      {
        "duration": 21,
        "start_time": "2023-05-20T15:20:08.675Z"
      },
      {
        "duration": 10,
        "start_time": "2023-05-20T15:20:09.877Z"
      },
      {
        "duration": 20,
        "start_time": "2023-05-20T15:20:10.509Z"
      },
      {
        "duration": 82,
        "start_time": "2023-05-20T15:20:11.739Z"
      },
      {
        "duration": 11,
        "start_time": "2023-05-20T15:20:12.300Z"
      },
      {
        "duration": 12,
        "start_time": "2023-05-20T15:20:15.265Z"
      },
      {
        "duration": 25,
        "start_time": "2023-05-20T15:20:17.479Z"
      },
      {
        "duration": 8,
        "start_time": "2023-05-20T15:20:19.895Z"
      },
      {
        "duration": 16,
        "start_time": "2023-05-20T15:20:22.560Z"
      },
      {
        "duration": 42,
        "start_time": "2023-05-20T15:20:26.549Z"
      },
      {
        "duration": 255,
        "start_time": "2023-05-20T15:20:27.662Z"
      },
      {
        "duration": 23,
        "start_time": "2023-05-20T15:20:32.075Z"
      },
      {
        "duration": 29,
        "start_time": "2023-05-20T15:20:37.111Z"
      },
      {
        "duration": 538,
        "start_time": "2023-05-20T15:20:38.797Z"
      },
      {
        "duration": 18,
        "start_time": "2023-05-20T15:20:44.462Z"
      },
      {
        "duration": 36,
        "start_time": "2023-05-20T15:20:47.502Z"
      },
      {
        "duration": 39,
        "start_time": "2023-05-20T15:20:49.513Z"
      },
      {
        "duration": 25,
        "start_time": "2023-05-20T15:24:25.498Z"
      },
      {
        "duration": 32,
        "start_time": "2023-05-20T15:24:30.709Z"
      },
      {
        "duration": 47,
        "start_time": "2023-05-20T15:24:33.029Z"
      },
      {
        "duration": 38,
        "start_time": "2023-05-20T15:24:35.478Z"
      },
      {
        "duration": 20,
        "start_time": "2023-05-20T15:24:41.902Z"
      },
      {
        "duration": 23,
        "start_time": "2023-05-20T15:24:43.431Z"
      },
      {
        "duration": 68,
        "start_time": "2023-05-20T15:24:45.549Z"
      },
      {
        "duration": 4,
        "start_time": "2023-05-20T15:24:55.640Z"
      },
      {
        "duration": 14,
        "start_time": "2023-05-20T15:25:01.198Z"
      },
      {
        "duration": 4,
        "start_time": "2023-05-20T15:25:11.549Z"
      },
      {
        "duration": 5,
        "start_time": "2023-05-20T15:25:57.355Z"
      },
      {
        "duration": 605,
        "start_time": "2023-05-20T15:26:51.389Z"
      },
      {
        "duration": 1556,
        "start_time": "2023-05-20T16:15:35.565Z"
      },
      {
        "duration": 665,
        "start_time": "2023-05-20T16:15:39.097Z"
      },
      {
        "duration": 20,
        "start_time": "2023-05-20T16:15:39.858Z"
      },
      {
        "duration": 34,
        "start_time": "2023-05-20T16:15:40.565Z"
      },
      {
        "duration": 80,
        "start_time": "2023-05-20T16:15:41.358Z"
      },
      {
        "duration": 533,
        "start_time": "2023-05-20T16:15:43.191Z"
      },
      {
        "duration": 4,
        "start_time": "2023-05-20T16:15:45.290Z"
      },
      {
        "duration": 7,
        "start_time": "2023-05-20T16:15:46.002Z"
      },
      {
        "duration": 18,
        "start_time": "2023-05-20T16:15:48.477Z"
      },
      {
        "duration": 17,
        "start_time": "2023-05-20T16:15:51.106Z"
      },
      {
        "duration": 90,
        "start_time": "2023-05-20T16:15:52.765Z"
      },
      {
        "duration": 93,
        "start_time": "2023-05-20T16:15:54.104Z"
      },
      {
        "duration": 112,
        "start_time": "2023-05-20T16:15:54.717Z"
      },
      {
        "duration": 26,
        "start_time": "2023-05-20T16:15:55.757Z"
      },
      {
        "duration": 12,
        "start_time": "2023-05-20T16:15:57.966Z"
      },
      {
        "duration": 76,
        "start_time": "2023-05-20T16:15:57.982Z"
      },
      {
        "duration": 106,
        "start_time": "2023-05-20T16:16:00.290Z"
      },
      {
        "duration": 15,
        "start_time": "2023-05-20T16:16:01.247Z"
      },
      {
        "duration": 13,
        "start_time": "2023-05-20T16:16:05.194Z"
      },
      {
        "duration": 38,
        "start_time": "2023-05-20T16:16:06.820Z"
      },
      {
        "duration": 12,
        "start_time": "2023-05-20T16:16:09.911Z"
      },
      {
        "duration": 26,
        "start_time": "2023-05-20T16:16:10.197Z"
      },
      {
        "duration": 74,
        "start_time": "2023-05-20T16:16:11.518Z"
      },
      {
        "duration": 280,
        "start_time": "2023-05-20T16:16:11.966Z"
      },
      {
        "duration": 32,
        "start_time": "2023-05-20T16:16:15.073Z"
      },
      {
        "duration": 47,
        "start_time": "2023-05-20T16:16:18.054Z"
      },
      {
        "duration": 661,
        "start_time": "2023-05-20T16:16:19.198Z"
      },
      {
        "duration": 19,
        "start_time": "2023-05-20T16:16:23.630Z"
      },
      {
        "duration": 44,
        "start_time": "2023-05-20T16:16:25.121Z"
      },
      {
        "duration": 65,
        "start_time": "2023-05-20T16:16:26.477Z"
      },
      {
        "duration": 26,
        "start_time": "2023-05-20T16:16:30.633Z"
      },
      {
        "duration": 41,
        "start_time": "2023-05-20T16:16:31.708Z"
      },
      {
        "duration": 62,
        "start_time": "2023-05-20T16:16:33.558Z"
      },
      {
        "duration": 47,
        "start_time": "2023-05-20T16:16:35.491Z"
      },
      {
        "duration": 35,
        "start_time": "2023-05-20T16:16:41.566Z"
      },
      {
        "duration": 25,
        "start_time": "2023-05-20T16:16:42.918Z"
      },
      {
        "duration": 82,
        "start_time": "2023-05-20T16:16:44.666Z"
      },
      {
        "duration": 6,
        "start_time": "2023-05-20T16:16:47.872Z"
      },
      {
        "duration": 24,
        "start_time": "2023-05-20T16:16:49.069Z"
      },
      {
        "duration": 6,
        "start_time": "2023-05-20T16:16:53.291Z"
      },
      {
        "duration": 2583,
        "start_time": "2023-05-20T16:16:54.770Z"
      },
      {
        "duration": 65,
        "start_time": "2023-05-20T16:17:58.262Z"
      },
      {
        "duration": 137,
        "start_time": "2023-05-20T16:18:00.451Z"
      },
      {
        "duration": 41,
        "start_time": "2023-05-20T16:18:04.952Z"
      },
      {
        "duration": 6,
        "start_time": "2023-05-20T16:18:05.589Z"
      },
      {
        "duration": 8,
        "start_time": "2023-05-20T16:18:06.989Z"
      },
      {
        "duration": 35,
        "start_time": "2023-05-20T16:18:09.106Z"
      },
      {
        "duration": 35,
        "start_time": "2023-05-20T16:18:11.198Z"
      },
      {
        "duration": 38,
        "start_time": "2023-05-20T16:18:13.403Z"
      },
      {
        "duration": 6,
        "start_time": "2023-05-20T16:18:14.767Z"
      },
      {
        "duration": 51,
        "start_time": "2023-05-20T16:18:16.193Z"
      },
      {
        "duration": 3,
        "start_time": "2023-12-05T16:09:30.443Z"
      },
      {
        "duration": 1712,
        "start_time": "2023-12-05T16:24:19.303Z"
      },
      {
        "duration": 3,
        "start_time": "2023-12-05T16:24:22.290Z"
      },
      {
        "duration": 504,
        "start_time": "2023-12-05T16:24:24.370Z"
      },
      {
        "duration": 10,
        "start_time": "2023-12-05T16:24:56.248Z"
      },
      {
        "duration": 23,
        "start_time": "2023-12-05T16:25:27.126Z"
      },
      {
        "duration": 48,
        "start_time": "2023-12-05T16:25:48.759Z"
      },
      {
        "duration": 39,
        "start_time": "2023-12-05T16:25:51.794Z"
      },
      {
        "duration": 414,
        "start_time": "2023-12-05T16:26:21.694Z"
      },
      {
        "duration": 16,
        "start_time": "2023-12-05T16:26:40.926Z"
      },
      {
        "duration": 8,
        "start_time": "2023-12-05T16:29:25.404Z"
      },
      {
        "duration": 58,
        "start_time": "2023-12-05T16:30:39.370Z"
      },
      {
        "duration": 1156,
        "start_time": "2023-12-05T16:32:01.844Z"
      },
      {
        "duration": 4,
        "start_time": "2023-12-05T16:32:03.001Z"
      },
      {
        "duration": 183,
        "start_time": "2023-12-05T16:32:04.007Z"
      },
      {
        "duration": 11,
        "start_time": "2023-12-05T16:32:04.388Z"
      },
      {
        "duration": 24,
        "start_time": "2023-12-05T16:32:04.745Z"
      },
      {
        "duration": 46,
        "start_time": "2023-12-05T16:32:05.157Z"
      },
      {
        "duration": 436,
        "start_time": "2023-12-05T16:32:05.722Z"
      },
      {
        "duration": 17,
        "start_time": "2023-12-05T16:32:06.160Z"
      },
      {
        "duration": 3,
        "start_time": "2023-12-05T16:32:07.293Z"
      },
      {
        "duration": 8,
        "start_time": "2023-12-05T16:32:08.139Z"
      },
      {
        "duration": 17,
        "start_time": "2023-12-05T16:32:09.202Z"
      },
      {
        "duration": 61,
        "start_time": "2023-12-05T16:32:10.269Z"
      },
      {
        "duration": 59,
        "start_time": "2023-12-05T16:32:10.722Z"
      },
      {
        "duration": 58,
        "start_time": "2023-12-05T16:32:10.933Z"
      },
      {
        "duration": 219,
        "start_time": "2023-12-05T16:32:11.616Z"
      },
      {
        "duration": 29,
        "start_time": "2023-12-05T16:32:11.889Z"
      },
      {
        "duration": 18,
        "start_time": "2023-12-05T16:32:12.090Z"
      },
      {
        "duration": 15,
        "start_time": "2023-12-05T16:32:12.304Z"
      },
      {
        "duration": 4,
        "start_time": "2023-12-05T16:33:31.041Z"
      },
      {
        "duration": 5,
        "start_time": "2023-12-05T16:33:44.422Z"
      },
      {
        "duration": 23,
        "start_time": "2023-12-05T16:34:04.418Z"
      },
      {
        "duration": 7,
        "start_time": "2023-12-05T16:34:05.997Z"
      },
      {
        "duration": 22,
        "start_time": "2023-12-05T16:34:06.982Z"
      },
      {
        "duration": 5,
        "start_time": "2023-12-05T16:34:25.429Z"
      },
      {
        "duration": 6,
        "start_time": "2023-12-05T16:34:27.750Z"
      },
      {
        "duration": 21,
        "start_time": "2023-12-05T16:34:40.821Z"
      },
      {
        "duration": 1132,
        "start_time": "2023-12-05T16:38:16.363Z"
      },
      {
        "duration": 3,
        "start_time": "2023-12-05T16:38:17.497Z"
      },
      {
        "duration": 177,
        "start_time": "2023-12-05T16:38:17.502Z"
      },
      {
        "duration": 10,
        "start_time": "2023-12-05T16:38:17.681Z"
      },
      {
        "duration": 21,
        "start_time": "2023-12-05T16:38:17.693Z"
      },
      {
        "duration": 49,
        "start_time": "2023-12-05T16:38:18.547Z"
      },
      {
        "duration": 418,
        "start_time": "2023-12-05T16:38:19.100Z"
      },
      {
        "duration": 22,
        "start_time": "2023-12-05T16:38:19.520Z"
      },
      {
        "duration": 4,
        "start_time": "2023-12-05T16:38:20.694Z"
      },
      {
        "duration": 6,
        "start_time": "2023-12-05T16:38:21.524Z"
      },
      {
        "duration": 16,
        "start_time": "2023-12-05T16:38:22.536Z"
      },
      {
        "duration": 21,
        "start_time": "2023-12-05T16:38:25.523Z"
      },
      {
        "duration": 8,
        "start_time": "2023-12-05T16:38:26.797Z"
      },
      {
        "duration": 22,
        "start_time": "2023-12-05T16:38:27.578Z"
      },
      {
        "duration": 63,
        "start_time": "2023-12-05T16:38:31.189Z"
      },
      {
        "duration": 63,
        "start_time": "2023-12-05T16:38:33.136Z"
      },
      {
        "duration": 57,
        "start_time": "2023-12-05T16:38:34.091Z"
      },
      {
        "duration": 191,
        "start_time": "2023-12-05T16:38:36.999Z"
      },
      {
        "duration": 29,
        "start_time": "2023-12-05T16:38:39.583Z"
      },
      {
        "duration": 5,
        "start_time": "2023-12-05T16:38:47.585Z"
      },
      {
        "duration": 5,
        "start_time": "2023-12-05T16:38:48.738Z"
      },
      {
        "duration": 15,
        "start_time": "2023-12-05T16:38:50.269Z"
      },
      {
        "duration": 47,
        "start_time": "2023-12-05T16:39:54.070Z"
      },
      {
        "duration": 30,
        "start_time": "2023-12-05T16:40:50.081Z"
      },
      {
        "duration": 54,
        "start_time": "2023-12-05T16:41:00.158Z"
      },
      {
        "duration": 1157,
        "start_time": "2023-12-05T17:45:23.445Z"
      },
      {
        "duration": 3,
        "start_time": "2023-12-05T17:45:24.604Z"
      },
      {
        "duration": 184,
        "start_time": "2023-12-05T17:45:24.609Z"
      },
      {
        "duration": 11,
        "start_time": "2023-12-05T17:45:24.795Z"
      },
      {
        "duration": 22,
        "start_time": "2023-12-05T17:45:24.862Z"
      },
      {
        "duration": 49,
        "start_time": "2023-12-05T17:45:25.751Z"
      },
      {
        "duration": 396,
        "start_time": "2023-12-05T17:45:26.365Z"
      },
      {
        "duration": 16,
        "start_time": "2023-12-05T17:45:26.763Z"
      },
      {
        "duration": 3,
        "start_time": "2023-12-05T17:45:28.328Z"
      },
      {
        "duration": 7,
        "start_time": "2023-12-05T17:45:29.407Z"
      },
      {
        "duration": 16,
        "start_time": "2023-12-05T17:45:42.508Z"
      },
      {
        "duration": 21,
        "start_time": "2023-12-05T17:45:44.207Z"
      },
      {
        "duration": 9,
        "start_time": "2023-12-05T17:45:44.597Z"
      },
      {
        "duration": 21,
        "start_time": "2023-12-05T17:45:44.775Z"
      },
      {
        "duration": 58,
        "start_time": "2023-12-05T17:45:45.557Z"
      },
      {
        "duration": 78,
        "start_time": "2023-12-05T17:45:45.938Z"
      },
      {
        "duration": 56,
        "start_time": "2023-12-05T17:45:46.123Z"
      },
      {
        "duration": 180,
        "start_time": "2023-12-05T17:45:46.715Z"
      },
      {
        "duration": 28,
        "start_time": "2023-12-05T17:45:46.914Z"
      },
      {
        "duration": 6,
        "start_time": "2023-12-05T17:45:47.115Z"
      },
      {
        "duration": 5,
        "start_time": "2023-12-05T17:45:47.317Z"
      },
      {
        "duration": 16,
        "start_time": "2023-12-05T17:45:47.518Z"
      },
      {
        "duration": 77,
        "start_time": "2023-12-05T17:45:48.332Z"
      },
      {
        "duration": 9,
        "start_time": "2023-12-05T17:45:48.530Z"
      },
      {
        "duration": 14,
        "start_time": "2023-12-05T17:45:50.583Z"
      },
      {
        "duration": 26,
        "start_time": "2023-12-05T17:45:51.235Z"
      },
      {
        "duration": 6,
        "start_time": "2023-12-05T17:45:52.482Z"
      },
      {
        "duration": 16,
        "start_time": "2023-12-05T17:45:53.390Z"
      },
      {
        "duration": 32,
        "start_time": "2023-12-05T17:45:53.994Z"
      },
      {
        "duration": 214,
        "start_time": "2023-12-05T17:45:54.214Z"
      },
      {
        "duration": 20,
        "start_time": "2023-12-05T17:45:54.873Z"
      },
      {
        "duration": 38,
        "start_time": "2023-12-05T17:45:56.006Z"
      },
      {
        "duration": 458,
        "start_time": "2023-12-05T17:45:56.455Z"
      },
      {
        "duration": 21,
        "start_time": "2023-12-05T17:46:02.907Z"
      },
      {
        "duration": 33,
        "start_time": "2023-12-05T17:46:03.549Z"
      },
      {
        "duration": 32,
        "start_time": "2023-12-05T17:46:04.109Z"
      },
      {
        "duration": 24,
        "start_time": "2023-12-05T17:46:05.464Z"
      },
      {
        "duration": 34,
        "start_time": "2023-12-05T17:46:05.916Z"
      },
      {
        "duration": 34,
        "start_time": "2023-12-05T17:46:06.602Z"
      },
      {
        "duration": 20,
        "start_time": "2023-12-05T17:46:07.269Z"
      },
      {
        "duration": 21,
        "start_time": "2023-12-05T17:46:09.835Z"
      },
      {
        "duration": 27,
        "start_time": "2023-12-05T17:46:10.072Z"
      },
      {
        "duration": 62,
        "start_time": "2023-12-05T17:46:11.732Z"
      },
      {
        "duration": 3,
        "start_time": "2023-12-05T17:46:18.234Z"
      },
      {
        "duration": 10,
        "start_time": "2023-12-05T17:46:18.702Z"
      },
      {
        "duration": 4,
        "start_time": "2023-12-05T17:46:19.799Z"
      },
      {
        "duration": 515,
        "start_time": "2023-12-05T17:46:20.237Z"
      },
      {
        "duration": 39,
        "start_time": "2023-12-05T17:46:22.066Z"
      },
      {
        "duration": 77,
        "start_time": "2023-12-05T17:46:23.144Z"
      },
      {
        "duration": 29,
        "start_time": "2023-12-05T17:46:24.900Z"
      },
      {
        "duration": 5,
        "start_time": "2023-12-05T17:46:25.124Z"
      },
      {
        "duration": 5,
        "start_time": "2023-12-05T17:46:25.573Z"
      },
      {
        "duration": 28,
        "start_time": "2023-12-05T17:46:26.260Z"
      },
      {
        "duration": 27,
        "start_time": "2023-12-05T17:46:27.397Z"
      },
      {
        "duration": 27,
        "start_time": "2023-12-05T17:46:27.827Z"
      },
      {
        "duration": 4,
        "start_time": "2023-12-05T17:46:28.286Z"
      },
      {
        "duration": 26,
        "start_time": "2023-12-05T17:46:28.525Z"
      },
      {
        "duration": 670,
        "start_time": "2023-12-05T17:52:15.389Z"
      },
      {
        "duration": 1355,
        "start_time": "2023-12-05T17:57:43.698Z"
      },
      {
        "duration": 404,
        "start_time": "2023-12-05T17:57:58.306Z"
      },
      {
        "duration": 415,
        "start_time": "2023-12-05T17:58:24.201Z"
      },
      {
        "duration": 457,
        "start_time": "2023-12-05T17:58:32.543Z"
      },
      {
        "duration": 579,
        "start_time": "2023-12-05T17:58:40.810Z"
      },
      {
        "duration": 1143,
        "start_time": "2023-12-05T17:59:06.158Z"
      },
      {
        "duration": 4,
        "start_time": "2023-12-05T17:59:07.303Z"
      },
      {
        "duration": 195,
        "start_time": "2023-12-05T17:59:07.308Z"
      },
      {
        "duration": 11,
        "start_time": "2023-12-05T17:59:07.505Z"
      },
      {
        "duration": 48,
        "start_time": "2023-12-05T17:59:07.517Z"
      },
      {
        "duration": 48,
        "start_time": "2023-12-05T17:59:07.894Z"
      },
      {
        "duration": 383,
        "start_time": "2023-12-05T17:59:08.480Z"
      },
      {
        "duration": 16,
        "start_time": "2023-12-05T17:59:08.865Z"
      },
      {
        "duration": 3,
        "start_time": "2023-12-05T17:59:10.097Z"
      },
      {
        "duration": 7,
        "start_time": "2023-12-05T17:59:10.910Z"
      },
      {
        "duration": 16,
        "start_time": "2023-12-05T17:59:11.943Z"
      },
      {
        "duration": 21,
        "start_time": "2023-12-05T17:59:12.989Z"
      },
      {
        "duration": 8,
        "start_time": "2023-12-05T17:59:13.395Z"
      },
      {
        "duration": 20,
        "start_time": "2023-12-05T17:59:13.604Z"
      },
      {
        "duration": 60,
        "start_time": "2023-12-05T17:59:14.453Z"
      },
      {
        "duration": 65,
        "start_time": "2023-12-05T17:59:14.888Z"
      },
      {
        "duration": 54,
        "start_time": "2023-12-05T17:59:15.076Z"
      },
      {
        "duration": 184,
        "start_time": "2023-12-05T17:59:15.704Z"
      },
      {
        "duration": 28,
        "start_time": "2023-12-05T17:59:15.901Z"
      },
      {
        "duration": 5,
        "start_time": "2023-12-05T17:59:16.087Z"
      },
      {
        "duration": 5,
        "start_time": "2023-12-05T17:59:16.322Z"
      },
      {
        "duration": 14,
        "start_time": "2023-12-05T17:59:16.505Z"
      },
      {
        "duration": 78,
        "start_time": "2023-12-05T17:59:17.544Z"
      },
      {
        "duration": 9,
        "start_time": "2023-12-05T17:59:17.759Z"
      },
      {
        "duration": 13,
        "start_time": "2023-12-05T17:59:20.037Z"
      },
      {
        "duration": 27,
        "start_time": "2023-12-05T17:59:20.688Z"
      },
      {
        "duration": 6,
        "start_time": "2023-12-05T17:59:24.543Z"
      },
      {
        "duration": 17,
        "start_time": "2023-12-05T17:59:25.355Z"
      },
      {
        "duration": 34,
        "start_time": "2023-12-05T17:59:25.964Z"
      },
      {
        "duration": 213,
        "start_time": "2023-12-05T17:59:26.176Z"
      },
      {
        "duration": 20,
        "start_time": "2023-12-05T17:59:27.232Z"
      },
      {
        "duration": 35,
        "start_time": "2023-12-05T17:59:28.585Z"
      },
      {
        "duration": 475,
        "start_time": "2023-12-05T17:59:29.728Z"
      },
      {
        "duration": 622,
        "start_time": "2023-12-05T17:59:34.143Z"
      },
      {
        "duration": 577,
        "start_time": "2023-12-05T18:00:16.209Z"
      },
      {
        "duration": 197,
        "start_time": "2023-12-05T19:09:36.033Z"
      },
      {
        "duration": 1185,
        "start_time": "2023-12-05T19:10:42.815Z"
      },
      {
        "duration": 3,
        "start_time": "2023-12-05T19:10:44.002Z"
      },
      {
        "duration": 180,
        "start_time": "2023-12-05T19:10:44.006Z"
      },
      {
        "duration": 11,
        "start_time": "2023-12-05T19:10:44.188Z"
      },
      {
        "duration": 21,
        "start_time": "2023-12-05T19:10:44.201Z"
      },
      {
        "duration": 48,
        "start_time": "2023-12-05T19:10:45.146Z"
      },
      {
        "duration": 405,
        "start_time": "2023-12-05T19:10:45.195Z"
      },
      {
        "duration": 19,
        "start_time": "2023-12-05T19:10:45.602Z"
      },
      {
        "duration": 3,
        "start_time": "2023-12-05T19:10:47.418Z"
      },
      {
        "duration": 7,
        "start_time": "2023-12-05T19:10:48.234Z"
      },
      {
        "duration": 16,
        "start_time": "2023-12-05T19:10:49.250Z"
      },
      {
        "duration": 21,
        "start_time": "2023-12-05T19:10:50.297Z"
      },
      {
        "duration": 9,
        "start_time": "2023-12-05T19:10:50.697Z"
      },
      {
        "duration": 22,
        "start_time": "2023-12-05T19:10:50.899Z"
      },
      {
        "duration": 70,
        "start_time": "2023-12-05T19:10:51.748Z"
      },
      {
        "duration": 64,
        "start_time": "2023-12-05T19:10:52.138Z"
      },
      {
        "duration": 59,
        "start_time": "2023-12-05T19:10:52.350Z"
      },
      {
        "duration": 188,
        "start_time": "2023-12-05T19:10:52.985Z"
      },
      {
        "duration": 28,
        "start_time": "2023-12-05T19:10:53.193Z"
      },
      {
        "duration": 5,
        "start_time": "2023-12-05T19:10:53.393Z"
      },
      {
        "duration": 6,
        "start_time": "2023-12-05T19:10:53.617Z"
      },
      {
        "duration": 16,
        "start_time": "2023-12-05T19:10:53.815Z"
      },
      {
        "duration": 81,
        "start_time": "2023-12-05T19:10:54.871Z"
      },
      {
        "duration": 8,
        "start_time": "2023-12-05T19:10:55.078Z"
      },
      {
        "duration": 13,
        "start_time": "2023-12-05T19:10:57.448Z"
      },
      {
        "duration": 25,
        "start_time": "2023-12-05T19:10:58.093Z"
      },
      {
        "duration": 8,
        "start_time": "2023-12-05T19:10:59.175Z"
      },
      {
        "duration": 17,
        "start_time": "2023-12-05T19:11:00.273Z"
      },
      {
        "duration": 37,
        "start_time": "2023-12-05T19:11:00.903Z"
      },
      {
        "duration": 227,
        "start_time": "2023-12-05T19:11:01.129Z"
      },
      {
        "duration": 21,
        "start_time": "2023-12-05T19:11:01.803Z"
      },
      {
        "duration": 35,
        "start_time": "2023-12-05T19:11:03.388Z"
      },
      {
        "duration": 722,
        "start_time": "2023-12-05T19:11:03.991Z"
      },
      {
        "duration": 18,
        "start_time": "2023-12-05T19:11:05.570Z"
      },
      {
        "duration": 32,
        "start_time": "2023-12-05T19:11:06.203Z"
      },
      {
        "duration": 35,
        "start_time": "2023-12-05T19:11:06.646Z"
      },
      {
        "duration": 24,
        "start_time": "2023-12-05T19:11:07.749Z"
      },
      {
        "duration": 35,
        "start_time": "2023-12-05T19:11:08.210Z"
      },
      {
        "duration": 35,
        "start_time": "2023-12-05T19:11:09.248Z"
      },
      {
        "duration": 23,
        "start_time": "2023-12-05T19:11:09.987Z"
      },
      {
        "duration": 21,
        "start_time": "2023-12-05T19:11:12.574Z"
      },
      {
        "duration": 29,
        "start_time": "2023-12-05T19:11:12.794Z"
      },
      {
        "duration": 64,
        "start_time": "2023-12-05T19:11:14.162Z"
      },
      {
        "duration": 4,
        "start_time": "2023-12-05T19:11:15.985Z"
      },
      {
        "duration": 10,
        "start_time": "2023-12-05T19:11:16.469Z"
      },
      {
        "duration": 4,
        "start_time": "2023-12-05T19:11:17.661Z"
      },
      {
        "duration": 434,
        "start_time": "2023-12-05T19:11:18.113Z"
      },
      {
        "duration": 37,
        "start_time": "2023-12-05T19:11:24.264Z"
      },
      {
        "duration": 92,
        "start_time": "2023-12-05T19:11:25.746Z"
      },
      {
        "duration": 32,
        "start_time": "2023-12-05T19:11:27.876Z"
      },
      {
        "duration": 4,
        "start_time": "2023-12-05T19:11:28.070Z"
      },
      {
        "duration": 5,
        "start_time": "2023-12-05T19:11:28.506Z"
      },
      {
        "duration": 28,
        "start_time": "2023-12-05T19:11:29.144Z"
      },
      {
        "duration": 26,
        "start_time": "2023-12-05T19:11:30.489Z"
      },
      {
        "duration": 26,
        "start_time": "2023-12-05T19:11:31.075Z"
      },
      {
        "duration": 4,
        "start_time": "2023-12-05T19:11:31.527Z"
      },
      {
        "duration": 29,
        "start_time": "2023-12-05T19:11:31.750Z"
      }
    ],
    "kernelspec": {
      "display_name": "Python 3 (ipykernel)",
      "language": "python",
      "name": "python3"
    },
    "language_info": {
      "codemirror_mode": {
        "name": "ipython",
        "version": 3
      },
      "file_extension": ".py",
      "mimetype": "text/x-python",
      "name": "python",
      "nbconvert_exporter": "python",
      "pygments_lexer": "ipython3",
      "version": "3.10.9"
    },
    "toc": {
      "base_numbering": 1,
      "nav_menu": {},
      "number_sections": false,
      "sideBar": true,
      "skip_h1_title": false,
      "title_cell": "Table of Contents",
      "title_sidebar": "Contents",
      "toc_cell": false,
      "toc_position": {
        "height": "calc(100% - 180px)",
        "left": "10px",
        "top": "150px",
        "width": "165px"
      },
      "toc_section_display": true,
      "toc_window_display": true
    },
    "colab": {
      "provenance": []
    }
  },
  "nbformat": 4,
  "nbformat_minor": 0
}